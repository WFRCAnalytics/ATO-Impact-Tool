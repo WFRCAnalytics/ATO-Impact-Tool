{
 "cells": [
  {
   "cell_type": "markdown",
   "metadata": {},
   "source": [
    "# Network Modifications - Roadways\n",
    "\n",
    "In this notebook a copy of our baseline NetworkDataset is made to be modified reflecting the candidate improvement"
   ]
  },
  {
   "cell_type": "code",
   "execution_count": null,
   "metadata": {},
   "outputs": [],
   "source": [
    "import arcpy\n",
    "import os\n",
    "import shutil\n",
    "from arcgis.features import SpatialDataFrame\n",
    "import pandas as pd\n",
    "\n",
    "arcpy.CheckOutExtension(\"network\")\n",
    "\n",
    "base_path = os.path.abspath(\".\")\n",
    "base_gdb = os.path.join(base_path, \"nd.gdb\")\n",
    "\n",
    "target_gdb =  os.path.join(base_path, \"mod_drive.gdb\")\n",
    "\n",
    "# if mod_drive.gdb exists, delete it\n",
    "if os.path.isdir(target_gdb):\n",
    "    shutil.rmtree(target_gdb)\n",
    "\n",
    "arcpy.management.CreateFileGDB(base_path, \"mod_drive\")\n",
    "\n",
    "arcpy.env.workspace = target_gdb"
   ]
  },
  {
   "cell_type": "code",
   "execution_count": null,
   "metadata": {},
   "outputs": [],
   "source": [
    "# Copy our baseline network dataset to our dataset for modification\n",
    "arcpy.management.Copy(\n",
    "    os.path.join(base_gdb, r\"NetworkDataset\"), \n",
    "    os.path.join(target_gdb, \"NetworkDataset\")\n",
    ")"
   ]
  },
  {
   "cell_type": "code",
   "execution_count": null,
   "metadata": {},
   "outputs": [],
   "source": [
    "# if open in ArcGIS Pro, remove all layers\n",
    "try:\n",
    "    aprx = arcpy.mp.ArcGISProject(\"CURRENT\")\n",
    "    mp = aprx.listMaps(\"Map\")[0]\n",
    "    for rmlyr in mp.listLayers():    \n",
    "        if rmlyr.name not in ['World Topographic Map', 'World Hillshade']:        \n",
    "            mp.removeLayer(rmlyr)\n",
    "except OSError:\n",
    "    pass"
   ]
  },
  {
   "cell_type": "code",
   "execution_count": null,
   "metadata": {},
   "outputs": [],
   "source": [
    "# delete existing network\n",
    "arcpy.management.Delete(os.path.join(target_gdb, r\"NetworkDataset\\NetworkDataset_ND\"))"
   ]
  },
  {
   "cell_type": "code",
   "execution_count": null,
   "metadata": {},
   "outputs": [],
   "source": [
    "arcpy.management.MakeFeatureLayer(\n",
    "    os.path.join(target_gdb, r\"NetworkDataset\\BikePedAuto\"), \n",
    "    \"BPA\"\n",
    ")"
   ]
  },
  {
   "cell_type": "markdown",
   "metadata": {},
   "source": [
    "# Make Edits\n",
    "\n",
    "**Follow the instructions below for the appropriate section to make edits**\n",
    "\n",
    "\n",
    "Project Type | Action \n",
    "---- | ----\n",
    "New construction (line) | Add new line to network and make appropriate connections \n",
    "Widening (line) | Reduce travel time along links to free flow speed (Julie will ask Suzy what the travel time benefit is in the model) \n",
    "Operational (line) | Reduce travel time along links to average of free flow speed and peak hour speed \n",
    "Restripe (when is basically widening) (line) | Reduce travel time along links to free flow speed \n",
    "New interchange (point)  | Add connections in network \n",
    "Grade-separated crossing | Add new line across intersection (no intersection impedance) \n",
    "\n"
   ]
  },
  {
   "cell_type": "markdown",
   "metadata": {
    "heading_collapsed": true
   },
   "source": [
    "## New construction (line)\n",
    "For new construction, new lines and connections are added to the network."
   ]
  },
  {
   "cell_type": "markdown",
   "metadata": {
    "hidden": true
   },
   "source": [
    "Note, when editing lines, take care to use snapping--overlapping verticies need to precisely connect.\n",
    "\n",
    "Connecting the end point of a new line to the mid-point of an existint segment will not work. The existing segment must be split at the connection point.\n",
    "\n",
    "Open the Edit menu bar.\n",
    "\n",
    "1. Add new line to network (or copy existing line from source layer: Edit --> Copy --> Paste Special. Paste into BikePedAuto layer and do NOT include attributes.)\n",
    "2. Edit vertices and ensure that beginning / end points connect to other beginning / end points. \n",
    "5. Update attributes of new feature (hint, use the Transfer Attributes tool to copy attributes from a similar nearby segment)\n",
    "\n",
    "Suggested attribute values: \n",
    "* Oneway = B\n",
    "* Speed (choose an appropriate speed based on functional class, etc. ped = 3 mph, bike = 11 mph)\n",
    "* AutoNetwork = Y (or N for ped/transit only) -- (new transit service shouldn't be added to the BikePedAuto but to Transit Routes)\n",
    "* BikeNetwork = Y\n",
    "* Ped Network = Y\n",
    "* DriveTime = set by script, calculated based on length (note: length is in meters) and speed\n",
    "* hierarchy: 1 = Interstate 2 = Major Arterial 3 = Local\n",
    "3. Select the intersecting road segments and use the Planarize Tool to split the intersecting lines (requires ArcGIS Pro Standard or Advanced). With a ArcGIS Pro License, use the Split tool.\n",
    "6. Select all affected features and update length and speed attributes using cells below"
   ]
  },
  {
   "cell_type": "code",
   "execution_count": null,
   "metadata": {
    "hidden": true
   },
   "outputs": [],
   "source": [
    "# UPDATE LENGTHS FOR SELECTED FEATURES - SELECT ONLY AFFECTED FEATURES TO KEEP RUN TIME REASONABLE\n",
    "# this will likely throw some TypeErrors if the selectio includes non-roadway segments - ignore these!\n",
    "if int(arcpy.management.GetCount(\"BikePedAuto\")[0]) < 100:\n",
    "    arcpy.management.CalculateField(\"BikePedAuto\", \"Length_Miles\", '!shape.length@miles!', \"PYTHON3\", None, \"DOUBLE\")\n",
    "    arcpy.management.CalculateField(\"BikePedAuto\", \"DriveTime\", '!Length_Miles! / (!Speed! / 60)', \"PYTHON3\", None, \"DOUBLE\")\n",
    "    arcpy.management.CalculateField(\"BikePedAuto\", \"PedestrianTime\", '!Length_Miles! / (3 / 60)', \"PYTHON3\", None, \"DOUBLE\")\n",
    "    arcpy.management.CalculateField(\"BikePedAuto\", \"BikeTime\", '!Length_Miles! / (11 / 60)', \"PYTHON3\", None, \"DOUBLE\")\n",
    "else:\n",
    "    print(\"Warning: operation will affect more than 100 features - did you select only the intended target?\")"
   ]
  },
  {
   "cell_type": "markdown",
   "metadata": {},
   "source": [
    "## Widening (line)\n",
    "\n",
    "For capacity expansion projects, the DriveTime attribute is reduced from the Peak Hour speed to the Free Flow speed (or by 20% when travel demand model travel times are not available)."
   ]
  },
  {
   "cell_type": "markdown",
   "metadata": {},
   "source": [
    "Select segments to be modified"
   ]
  },
  {
   "cell_type": "code",
   "execution_count": null,
   "metadata": {},
   "outputs": [],
   "source": [
    "# UPDATE LENGTHS FOR SELECTED FEATURES - SELECT ONLY AFFECTED FEATURES TO KEEP RUN TIME REASONABLE\n",
    "# this will likely throw some TypeErrors if the selectio includes non-roadway segments - ignore these!\n",
    "if int(arcpy.management.GetCount(\"BPA\")[0]) < 100:\n",
    "    arcpy.management.CalculateField(\"BPA\", \n",
    "                                    \"PK_SPD\", '!FF_SPD!', \"PYTHON3\", None, \"DOUBLE\")\n",
    "    arcpy.management.CalculateField(\"BPA\", \n",
    "                                    \"DriveTime_Peak\", '!Length_Miles! / (!FF_SPD! / 60)', \"PYTHON3\", None, \"DOUBLE\")\n",
    "    arcpy.management.CalculateField(\"BPA\", \"DriveTime\", '!DriveTime_Peak!', \"PYTHON3\", None, \"DOUBLE\")\n",
    "else:\n",
    "    print(\"Warning: operation will affect more than 100 features - did you select only the intended target?\")"
   ]
  },
  {
   "cell_type": "markdown",
   "metadata": {
    "heading_collapsed": true
   },
   "source": [
    "## Operational (line)"
   ]
  },
  {
   "cell_type": "markdown",
   "metadata": {
    "heading_collapsed": true
   },
   "source": [
    "## Restripe (when is basically widening) (line) \n",
    "Reduce travel time along links to free flow speed \n"
   ]
  },
  {
   "cell_type": "markdown",
   "metadata": {
    "heading_collapsed": true
   },
   "source": [
    "## New interchange (point) \n",
    "Add connections in network \n",
    "Grade-separated crossing | Add new line across intersection (no intersection impedance) "
   ]
  },
  {
   "cell_type": "code",
   "execution_count": null,
   "metadata": {
    "hidden": true
   },
   "outputs": [],
   "source": []
  },
  {
   "cell_type": "markdown",
   "metadata": {},
   "source": [
    "# Save Edits"
   ]
  },
  {
   "cell_type": "code",
   "execution_count": null,
   "metadata": {},
   "outputs": [],
   "source": [
    "# don't forget to clear the selection before creating the new network d\"ataset\n",
    "arcpy.management.SelectLayerByAttribute(\"BPA\", \"CLEAR_SELECTION\")"
   ]
  },
  {
   "cell_type": "markdown",
   "metadata": {},
   "source": [
    "**save edits!**\n",
    "\n",
    "Save edits to BikePedAuto layer and remove from map. Then run the cells below to create the network dataset and build it."
   ]
  },
  {
   "cell_type": "code",
   "execution_count": null,
   "metadata": {},
   "outputs": [],
   "source": [
    "# create network dataset from template\n",
    "arcpy.na.CreateNetworkDatasetFromTemplate(\n",
    "    os.path.join(base_path, \"template.xml\"),                 \n",
    "    os.path.join(target_gdb, \"NetworkDataset\")\n",
    ")"
   ]
  },
  {
   "cell_type": "markdown",
   "metadata": {},
   "source": [
    "Set up driving mode if necessary."
   ]
  },
  {
   "cell_type": "code",
   "execution_count": null,
   "metadata": {},
   "outputs": [],
   "source": [
    "# finally, build the dataset\n",
    "arcpy.na.BuildNetwork(os.path.join(target_gdb, r\"NetworkDataset\\NetworkDataset_ND\"))"
   ]
  },
  {
   "cell_type": "code",
   "execution_count": null,
   "metadata": {},
   "outputs": [],
   "source": []
  }
 ],
 "metadata": {
  "kernelspec": {
   "display_name": "ArcGISPro",
   "language": "Python",
   "name": "python3"
  },
  "language_info": {
   "file_extension": ".py",
   "name": "python",
   "version": "3"
  }
 },
 "nbformat": 4,
 "nbformat_minor": 2
}
