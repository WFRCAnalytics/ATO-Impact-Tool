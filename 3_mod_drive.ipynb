{
 "cells": [
  {
   "cell_type": "markdown",
   "metadata": {},
   "source": [
    "# Network Modifications - Roadways\n",
    "\n",
    "In this notebook a copy of our baseline NetworkDataset is made to be modified reflecting the candidate improvement for roadway projects."
   ]
  },
  {
   "cell_type": "code",
   "execution_count": null,
   "metadata": {
    "ExecuteTime": {
     "end_time": "2021-10-20T15:37:28.641400Z",
     "start_time": "2021-10-20T15:37:28.639871Z"
    }
   },
   "outputs": [],
   "source": [
    "scenario_name = \"new_2700_west_overpass\""
   ]
  },
  {
   "cell_type": "code",
   "execution_count": null,
   "metadata": {
    "ExecuteTime": {
     "end_time": "2021-10-20T15:38:16.518340Z",
     "start_time": "2021-10-20T15:37:29.605430Z"
    },
    "scrolled": false
   },
   "outputs": [],
   "source": [
    "target_gdb =  os.path.join(base_path, \"scenario\", \"auto\", scenario_name + \".gdb\")\n",
    "\n",
    "# if target gdb exists, delete it\n",
    "if os.path.isdir(target_gdb):\n",
    "    shutil.rmtree(target_gdb)\n",
    "    \n",
    "# copy template\n",
    "shutil.copytree(r\"scenario\\scenario_template.gdb\", target_gdb)\n",
    "\n",
    "arcpy.env.workspace = target_gdb\n",
    "\n",
    "# Add BikePedAuto layer to map for editing\n",
    "arcpy.management.MakeFeatureLayer(\n",
    "    os.path.join(target_gdb, r\"NetworkDataset\\BikePedAuto\"), \n",
    "    \"BPA\"\n",
    ")"
   ]
  },
  {
   "cell_type": "markdown",
   "metadata": {},
   "source": [
    "# Make Edits\n",
    "\n",
    "**Follow the instructions below for the appropriate section to make edits**\n",
    "\n",
    "\n",
    "Project Type | Action \n",
    "---- | ----\n",
    "New construction (line) | Add new line to network and make appropriate connections \n",
    "Widening (line) | Reduce travel time along links to free flow speed (Julie will ask Suzy what the travel time benefit is in the model) \n",
    "Operational (line) | Reduce travel time along links to average of free flow speed and peak hour speed \n",
    "Restripe (when is basically widening) (line) | Reduce travel time along links to free flow speed \n",
    "New interchange (point)  | Add connections in network \n",
    "Grade-separated crossing | Add new line across intersection (no intersection impedance) \n",
    "\n"
   ]
  },
  {
   "cell_type": "markdown",
   "metadata": {
    "heading_collapsed": true
   },
   "source": [
    "## New construction (line)\n",
    "For new construction, new lines and connections are added to the network."
   ]
  },
  {
   "cell_type": "markdown",
   "metadata": {
    "hidden": true
   },
   "source": [
    "Note, when editing lines, take care to use snapping--overlapping verticies need to precisely connect.\n",
    "\n",
    "Connecting the end point of a new line to the mid-point of an existint segment will not work. The existing segment must be split at the connection point.\n",
    "\n",
    "Open the Edit menu bar.\n",
    "\n",
    "1. Add new line to network (or copy existing line from source layer: Edit --> Copy --> Paste Special. Paste into BikePedAuto layer and do NOT include attributes.)\n",
    "2. Edit vertices and ensure that beginning / end points connect to other beginning / end points. \n",
    "3. Update attributes of new feature (hint, use the Transfer Attributes tool to copy attributes from a similar nearby segment)\n",
    "\n",
    "Suggested attribute values:\n",
    "\n",
    "* Oneway = B\n",
    "* Speed (choose an appropriate speed based on functional class, etc. ped = 3 mph, bike = 11 mph)\n",
    "* AutoNetwork = Y (or N for ped/transit only) -- (new transit service shouldn't be added to the BikePedAuto but to Transit Routes)\n",
    "* BikeNetwork = Y\n",
    "* Ped Network = Y\n",
    "* DriveTime = set by script, calculated based on length (note: length is in meters) and speed\n",
    "* hierarchy: 1 = Interstate 2 = Major Arterial 3 = Local\n",
    "\n",
    "\n",
    "3. Select the intersecting road segments and use the Planarize Tool to split the intersecting lines (requires ArcGIS Pro Standard or Advanced). With a ArcGIS Pro Standard License, use the Split tool at each intersection.\n",
    "6. Select all affected features and update length and speed attributes using cells below"
   ]
  },
  {
   "cell_type": "code",
   "execution_count": null,
   "metadata": {
    "ExecuteTime": {
     "end_time": "2021-10-20T15:28:41.702660Z",
     "start_time": "2021-10-20T15:28:39.805834Z"
    },
    "hidden": true,
    "scrolled": false
   },
   "outputs": [],
   "source": [
    "# UPDATE LENGTHS FOR SELECTED FEATURES - SELECT ONLY AFFECTED FEATURES TO KEEP RUN TIME REASONABLE\n",
    "# this will likely throw some TypeErrors if the selectio includes non-roadway segments - ignore these!\n",
    "if int(arcpy.management.GetCount(\"BPA\")[0]) < 100:\n",
    "    arcpy.management.CalculateField(\"BPA\", \"Length_Miles\", '!shape.length@miles!', \"PYTHON3\", None, \"DOUBLE\")\n",
    "    arcpy.management.CalculateField(\"BPA\", \"DriveTime\", '!Length_Miles! / (!Speed! / 60)', \"PYTHON3\", None, \"DOUBLE\")\n",
    "    arcpy.management.CalculateField(\"BPA\", \"PedestrianTime\", '!Length_Miles! / (3 / 60)', \"PYTHON3\", None, \"DOUBLE\")\n",
    "    arcpy.management.CalculateField(\"BPA\", \"BikeTime\", '!Length_Miles! / (11 / 60)', \"PYTHON3\", None, \"DOUBLE\")\n",
    "else:\n",
    "    print(\"Warning: operation will affect more than 100 features - did you select only the intended target?\")"
   ]
  },
  {
   "cell_type": "markdown",
   "metadata": {
    "hidden": true
   },
   "source": [
    "Now, save your edits and clear selection."
   ]
  },
  {
   "cell_type": "markdown",
   "metadata": {
    "heading_collapsed": true
   },
   "source": [
    "## Widening / Restripe (line)"
   ]
  },
  {
   "cell_type": "markdown",
   "metadata": {
    "hidden": true
   },
   "source": [
    "For capacity expansion projects or restriping projects that add a lane, the DriveTime attribute is reduced from the Peak Hour speed to the Free Flow speed (or by 15% when travel demand model travel times are not available).\n",
    "\n",
    "**Instructions:** Select segments to be modified then run the cell below and the \"Save Edits\" cells at the bottom of this notebook."
   ]
  },
  {
   "cell_type": "code",
   "execution_count": null,
   "metadata": {
    "ExecuteTime": {
     "end_time": "2021-10-20T15:38:55.132026Z",
     "start_time": "2021-10-20T15:38:53.395653Z"
    },
    "hidden": true,
    "scrolled": false
   },
   "outputs": [],
   "source": [
    "# UPDATE LENGTHS FOR SELECTED FEATURES - SELECT ONLY AFFECTED FEATURES TO KEEP RUN TIME REASONABLE\n",
    "# this will likely throw some TypeErrors if the selectio includes non-roadway segments - ignore these!\n",
    "if int(arcpy.management.GetCount(\"BPA\")[0]) < 200:\n",
    "    arcpy.management.CalculateField(\n",
    "        \"BPA\", \"PK_SPD\", '!FF_SPD!', \"PYTHON3\", None, \"DOUBLE\"\n",
    "    )\n",
    "    arcpy.management.CalculateField(\n",
    "        \"BPA\", \"DriveTime_Peak\", \n",
    "        '!Length_Miles! / (!FF_SPD! / 60)', \"PYTHON3\", None, \"DOUBLE\"\n",
    "    )\n",
    "    arcpy.management.CalculateField(\n",
    "        \"BPA\", \"DriveTime\", \n",
    "        '!DriveTime_Peak! if !DriveTime_Peak! else DriveTime * 0.85', \n",
    "        \"PYTHON3\", None, \"DOUBLE\"\n",
    "    )\n",
    "else:\n",
    "    print(\"Warning: operation will affect more than 200 features - did you select only the intended target?\")"
   ]
  },
  {
   "cell_type": "markdown",
   "metadata": {
    "heading_collapsed": true
   },
   "source": [
    "## Operational (line)"
   ]
  },
  {
   "cell_type": "markdown",
   "metadata": {
    "hidden": true
   },
   "source": [
    "Operational improvements are assumed to improve user operating speeds during the peak hour, but less so than a capacity expansion project. Reduce travel time along links to average of free flow speed and peak hour speed (or by 10% when travel demand model travel times are not available).\n",
    "\n",
    "**Instructions:** Select segments to be modified then run the cell below and the \"Save Edits\" cells at the bottom of this notebook."
   ]
  },
  {
   "cell_type": "code",
   "execution_count": null,
   "metadata": {
    "hidden": true,
    "scrolled": false
   },
   "outputs": [],
   "source": [
    "# UPDATE LENGTHS FOR SELECTED FEATURES - SELECT ONLY AFFECTED FEATURES TO KEEP RUN TIME REASONABLE\n",
    "# this will likely throw some TypeErrors if the selectio includes non-roadway segments - ignore these!\n",
    "expression = '(!DriveTime_Peak! + !DriveTime_FF!) / 2 if !DriveTime_Peak! else !DriveTime! * 0.9'\n",
    "if int(arcpy.management.GetCount(\"BPA\")[0]) < 100:\n",
    "    arcpy.management.CalculateField(\"BPA\", \"DriveTime\", expression, \"PYTHON3\", None, \"DOUBLE\")\n",
    "else:\n",
    "    print(\"Warning: operation will affect more than 100 features - did you select only the intended target?\")"
   ]
  },
  {
   "cell_type": "markdown",
   "metadata": {
    "heading_collapsed": true
   },
   "source": [
    "## New interchange (point) "
   ]
  },
  {
   "cell_type": "markdown",
   "metadata": {
    "hidden": true
   },
   "source": [
    "Add connections in network.\n",
    "\n",
    "**Instructions:** Select intrsecting segments and run **Planarize** tool."
   ]
  },
  {
   "cell_type": "markdown",
   "metadata": {},
   "source": [
    "## Grade-separated crossing"
   ]
  },
  {
   "cell_type": "markdown",
   "metadata": {},
   "source": [
    "**Instructions** Dissolve the segments of each road or path such that the segments no longer break at the intersection. Add additional connector features as needed, Then run the cell below to update the travel time values."
   ]
  },
  {
   "cell_type": "code",
   "execution_count": null,
   "metadata": {
    "scrolled": false
   },
   "outputs": [],
   "source": [
    "# UPDATE LENGTHS FOR SELECTED FEATURES - SELECT ONLY AFFECTED FEATURES TO KEEP RUN TIME REASONABLE\n",
    "# this will likely throw some TypeErrors if the selectio includes non-roadway segments - ignore these!\n",
    "if int(arcpy.management.GetCount(\"BPA\")[0]) < 100:\n",
    "    arcpy.management.CalculateField(\n",
    "        \"BPA\", \"Length_Miles\", '!shape.length@miles!', \n",
    "        \"PYTHON3\", None, \"DOUBLE\"\n",
    "    )\n",
    "    arcpy.management.CalculateField(\n",
    "        \"BPA\", \"DriveTime\", '!Length_Miles! / (!Speed! / 60)', \n",
    "        \"PYTHON3\", None, \"DOUBLE\"\n",
    "    )\n",
    "    arcpy.management.CalculateField(\n",
    "        \"BPA\", \"PedestrianTime\", '!Length_Miles! / (3 / 60)', \n",
    "        \"PYTHON3\", None, \"DOUBLE\"\n",
    "    )\n",
    "    arcpy.management.CalculateField(\n",
    "        \"BPA\", \"BikeTime\", '!Length_Miles! / (11 / 60)', \n",
    "        \"PYTHON3\", None, \"DOUBLE\"\n",
    "    )\n",
    "else:\n",
    "    print(\"Warning: operation will affect more than 100 \"\n",
    "          \"features - did you select only the intended target?\")"
   ]
  },
  {
   "cell_type": "markdown",
   "metadata": {},
   "source": [
    "# Save Edits"
   ]
  },
  {
   "cell_type": "markdown",
   "metadata": {},
   "source": [
    "**Don't forget to save your edits!**\n",
    "\n",
    "Save edits to BikePedAuto layer and remove from map. Then run the cells below to create the network dataset and build it."
   ]
  },
  {
   "cell_type": "code",
   "execution_count": null,
   "metadata": {
    "ExecuteTime": {
     "end_time": "2021-10-20T15:38:58.485945Z",
     "start_time": "2021-10-20T15:38:58.343476Z"
    }
   },
   "outputs": [],
   "source": [
    "# save edits (if any) to BPA layer using the Edit ribbon - first!\n",
    "\n",
    "# clear the selection before creating the new network dataset\n",
    "arcpy.management.SelectLayerByAttribute(\"BPA\", \"CLEAR_SELECTION\")\n",
    "\n",
    "# remove layer from map\n",
    "aprx = arcpy.mp.ArcGISProject(\"CURRENT\")\n",
    "mp = aprx.listMaps(\"Map\")[0]\n",
    "for layer in mp.listLayers():\n",
    "    if layer.name == \"BPA\":\n",
    "        mp.removeLayer(layer)"
   ]
  },
  {
   "cell_type": "code",
   "execution_count": null,
   "metadata": {
    "ExecuteTime": {
     "end_time": "2021-10-20T15:39:06.963881Z",
     "start_time": "2021-10-20T15:39:01.745311Z"
    },
    "scrolled": true
   },
   "outputs": [],
   "source": [
    "nd = os.path.join(target_gdb, r\"NetworkDataset\\NetworkDataset_ND\")\n",
    "if arcpy.Exists(nd):\n",
    "    arcpy.management.Delete(nd)\n",
    "    \n",
    "# create network dataset from template\n",
    "arcpy.nax.CreateNetworkDatasetFromTemplate(\n",
    "    os.path.join(base_path, \"template.xml\"),                 \n",
    "    os.path.join(target_gdb, \"NetworkDataset\")\n",
    ")"
   ]
  },
  {
   "cell_type": "code",
   "execution_count": null,
   "metadata": {
    "ExecuteTime": {
     "end_time": "2021-10-20T15:39:47.526383Z",
     "start_time": "2021-10-20T15:39:06.964314Z"
    },
    "scrolled": false
   },
   "outputs": [],
   "source": [
    "# finally, build the dataset\n",
    "# [consider moving this to the scoring step - takes 45 seconds]\n",
    "arcpy.nax.BuildNetwork(nd)"
   ]
  },
  {
   "cell_type": "code",
   "execution_count": null,
   "metadata": {
    "scrolled": true
   },
   "outputs": [],
   "source": [
    "test = testing.test_network(nd)"
   ]
  },
  {
   "cell_type": "code",
   "execution_count": null,
   "metadata": {},
   "outputs": [],
   "source": []
  }
 ],
 "metadata": {
  "kernelspec": {
   "display_name": "ArcGISPro",
   "language": "Python",
   "name": "python3"
  },
  "language_info": {
   "file_extension": ".py",
   "name": "python",
   "version": "3"
  }
 },
 "nbformat": 4,
 "nbformat_minor": 2
}
