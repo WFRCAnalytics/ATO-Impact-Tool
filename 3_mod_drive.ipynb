{
 "cells": [
  {
   "cell_type": "markdown",
   "metadata": {},
   "source": [
    "# Network Modifications - Roadways\n",
    "\n",
    "In this notebook a copy of our baseline NetworkDataset is made to be modified reflecting the candidate improvement"
   ]
  },
  {
   "cell_type": "code",
   "execution_count": 1,
   "metadata": {},
   "outputs": [
    {
     "name": "stdout",
     "output_type": "stream",
     "text": [
      "base path must be explicitly set when running in arcgis pro\n"
     ]
    }
   ],
   "source": [
    "import arcpy\n",
    "import os\n",
    "from arcgis.features import SpatialDataFrame\n",
    "import pandas as pd\n",
    "\n",
    "arcpy.CheckOutExtension(\"network\")\n",
    "\n",
    "# set base path - jupyter or arcgis\n",
    "try:\n",
    "    aprx = arcpy.mp.ArcGISProject(\"CURRENT\")\n",
    "    print(\"base path must be explicitly set when running in arcgis pro\")\n",
    "    base_path = r\"c:\\wfrc\\ato\" # update this\n",
    "except OSError:\n",
    "    base_path = \".\"\n",
    "\n",
    "base_gdb = os.path.join(base_path, \"nd.gdb\")\n",
    "\n",
    "target_gdb =  os.path.join(base_path, \"mod_drive.gdb\")\n",
    "if not os.path.isdir(target_gdb):\n",
    "    arcpy.management.CreateFileGDB(base_path, \"mod_drive\")\n",
    "\n",
    "arcpy.env.workspace = target_gdb"
   ]
  },
  {
   "cell_type": "code",
   "execution_count": 2,
   "metadata": {},
   "outputs": [
    {
     "data": {
      "text/html": [
       "<h2>Output</h2>c:\\wfrc\\ato\\mod_drive.gdb\\NetworkDataset<h2>Messages</h2>Start Time: Friday, October 8, 2021 12:14:33 PM<br/>Succeeded at Friday, October 8, 2021 12:15:08 PM (Elapsed Time: 35.63 seconds)<br/><style>.rendered_html td, .rendered_html th {text-align: left;}.rendered_html tbody {border: 1px solid black;}</style>"
      ],
      "text/plain": [
       "<Result 'c:\\\\wfrc\\\\ato\\\\mod_drive.gdb\\\\NetworkDataset'>"
      ]
     },
     "execution_count": 2,
     "metadata": {},
     "output_type": "execute_result"
    }
   ],
   "source": [
    "# Copy our baseline network dataset to our dataset for modification\n",
    "arcpy.management.Copy(\n",
    "    os.path.join(base_gdb, r\"NetworkDataset\"), \n",
    "    os.path.join(target_gdb, \"NetworkDataset\")\n",
    ")"
   ]
  },
  {
   "cell_type": "code",
   "execution_count": 3,
   "metadata": {},
   "outputs": [
    {
     "data": {
      "text/html": [
       "<h2>Output</h2>true<h2>Messages</h2>Start Time: Friday, October 8, 2021 12:15:55 PM<br/>Succeeded at Friday, October 8, 2021 12:15:57 PM (Elapsed Time: 1.83 seconds)<br/><style>.rendered_html td, .rendered_html th {text-align: left;}.rendered_html tbody {border: 1px solid black;}</style>"
      ],
      "text/plain": [
       "<Result 'true'>"
      ]
     },
     "execution_count": 3,
     "metadata": {},
     "output_type": "execute_result"
    }
   ],
   "source": [
    "# delete existing network\n",
    "arcpy.management.Delete(os.path.join(target_gdb, r\"NetworkDataset\\NetworkDataset_ND\"))"
   ]
  },
  {
   "cell_type": "markdown",
   "metadata": {},
   "source": [
    "# Make Edits\n",
    "\n",
    "1. Add BikePedAuto layer to current map\n",
    "2. Follow the instructions below for the appropriate section to make edits\n",
    "\n",
    "\n",
    "Project Type | Action \n",
    "---- | ----\n",
    "New construction (line) | Add new line to network and make appropriate connections \n",
    "Widening (line) | Reduce travel time along links to free flow speed (Julie will ask Suzy what the travel time benefit is in the model) \n",
    "Operational (line) | Reduce travel time along links to average of free flow speed and peak hour speed \n",
    "Restripe (when is basically widening) (line) | Reduce travel time along links to free flow speed \n",
    "New interchange (point)  | Add connections in network \n",
    "Grade-separated crossing | Add new line across intersection (no intersection impedance) \n",
    "\n"
   ]
  },
  {
   "cell_type": "markdown",
   "metadata": {},
   "source": [
    "## New construction (line)\n",
    "\n",
    "Note, when editing lines, take care to use snapping--overlapping verticies need to precisely connect.\n",
    "\n",
    "connecting the end point of a new line to the mid-point of an existint segment will not work. The existing segment must be split at the connection point.\n",
    "\n",
    "1. Add new line to network (or copy existing line from source layer). Edit --> Copy --> \n",
    "2. Edit vertices and ensure that beginning / end points connect to other beginning / end points. \n",
    "3. Select the intersecting road segments and use the Planarize Tool to split the intersecting lines (requires ArcGIS Pro Standard or Advanced)\n",
    "5. Update attributes of new feature (hint, use the Transfer Attributes tool to copy attributes from a similar nearby segment)\n",
    "6. Select all affected features and update length attribute\n",
    "\n",
    "ped = 3 mph\n",
    "bike = 11 mph\n",
    "\n",
    "* Oneway = B\n",
    "* Speed (choose an appropriate speed based on functional class, etc.)\n",
    "* AutoNetwork = Y (or N for ped/transit only) -- actually new transit service shouldn't be added to the BikePedAuto but to Transit Routes\n",
    "* BikeNetwork = Y\n",
    "* Ped Network = Y\n",
    "* DriveTime = calculate based on length (note: length is in meters) and speed\n",
    "* hierarchy: 1 = Interstate 2 = Major Arterial 3 = Local"
   ]
  },
  {
   "cell_type": "code",
   "execution_count": 9,
   "metadata": {},
   "outputs": [
    {
     "name": "stderr",
     "output_type": "stream",
     "text": [
      "Traceback (most recent call last):\n",
      "  File \"<expression>\", line 1, in <module>\n",
      "TypeError: unsupported operand type(s) for /: 'NoneType' and 'int'\n",
      "Traceback (most recent call last):\n",
      "  File \"<expression>\", line 1, in <module>\n",
      "TypeError: unsupported operand type(s) for /: 'NoneType' and 'int'\n"
     ]
    }
   ],
   "source": [
    "# UPDATE LENGTHS FOR SELECTED FEATURES - SELECT ONLY AFFECTED FEATURES TO KEEP RUN TIME REASONABLE\n",
    "# this will likely throw some TypeErrors if the selectio includes non-roadway segments - ignore these!\n",
    "if int(arcpy.management.GetCount(\"BikePedAuto\")[0]) < 100:\n",
    "    arcpy.management.CalculateField(\"BikePedAuto\", \"Length_Miles\", '!shape.length@miles!', \"PYTHON3\", None, \"DOUBLE\")\n",
    "    arcpy.management.CalculateField(\"BikePedAuto\", \"DriveTime\", '!Length_Miles! / (!Speed! / 60)', \"PYTHON3\", None, \"DOUBLE\")\n",
    "    arcpy.management.CalculateField(\"BikePedAuto\", \"PedestrianTime\", '!Length_Miles! / (3 / 60)', \"PYTHON3\", None, \"DOUBLE\")\n",
    "    arcpy.management.CalculateField(\"BikePedAuto\", \"BikeTime\", '!Length_Miles! / (11 / 60)', \"PYTHON3\", None, \"DOUBLE\")\n",
    "else:\n",
    "    print(\"Warning: operation will affect more than 100 features - did you select only the intended target?\")"
   ]
  },
  {
   "cell_type": "code",
   "execution_count": 3,
   "metadata": {},
   "outputs": [
    {
     "data": {
      "text/html": [
       "<h2>Output</h2><table><tr><th>id</th><th>value</th></tr><tr><td>0</td><td>a Layer object</td></tr><tr><td>1</td><td>-1</td></tr></table><h2>Messages</h2>Start Time: Monday, August 30, 2021 7:29:33 PM<br/>Succeeded at Monday, August 30, 2021 7:29:33 PM (Elapsed Time: 0.03 seconds)<br/><style>.rendered_html td, .rendered_html th {text-align: left;}.rendered_html tbody {border: 1px solid black;}</style>"
      ],
      "text/plain": [
       "<Result 'BikePedAuto'>"
      ]
     },
     "execution_count": 3,
     "metadata": {},
     "output_type": "execute_result"
    }
   ],
   "source": [
    "# don't forget to clear the selection before creating the new network d\"ataset\n",
    "arcpy.management.SelectLayerByAttribute(\"BikePedAuto\", \"CLEAR_SELECTION\")"
   ]
  },
  {
   "cell_type": "markdown",
   "metadata": {},
   "source": [
    "# save edits!"
   ]
  },
  {
   "cell_type": "code",
   "execution_count": 16,
   "metadata": {},
   "outputs": [
    {
     "data": {
      "text/html": [
       "<h2>Output</h2>c:\\wfrc\\ato\\mod_drive.gdb\\NetworkDataset\\NetworkDataset_ND<h2>Messages</h2>Start Time: Monday, August 30, 2021 7:41:10 PM<br/>Succeeded at Monday, August 30, 2021 7:41:13 PM (Elapsed Time: 2.54 seconds)<br/><style>.rendered_html td, .rendered_html th {text-align: left;}.rendered_html tbody {border: 1px solid black;}</style>"
      ],
      "text/plain": [
       "<Result 'c:\\\\wfrc\\\\ato\\\\mod_drive.gdb\\\\NetworkDataset\\\\NetworkDataset_ND'>"
      ]
     },
     "execution_count": 16,
     "metadata": {},
     "output_type": "execute_result"
    }
   ],
   "source": [
    "# create network dataset from template\n",
    "arcpy.na.CreateNetworkDatasetFromTemplate(\n",
    "    os.path.join(base_path, \"ND_Template_Aug21.xml\"),                           \n",
    "    os.path.join(target_gdb, \"NetworkDataset\")\n",
    ")"
   ]
  },
  {
   "cell_type": "code",
   "execution_count": 17,
   "metadata": {},
   "outputs": [
    {
     "data": {
      "text/html": [
       "<h2>Output</h2>c:\\wfrc\\ato\\mod_drive.gdb\\NetworkDataset\\NetworkDataset_ND<h2>Messages</h2>Start Time: Monday, August 30, 2021 7:41:17 PM<br/>WARNING 030116: The network was built, but with some errors.  Error details are at \"C:\\Users\\markegge\\AppData\\Local\\Temp\\ArcGISProTemp3144\\BuildErrors.txt\".<br/>Succeeded at Monday, August 30, 2021 7:41:45 PM (Elapsed Time: 28.31 seconds)<br/><style>.rendered_html td, .rendered_html th {text-align: left;}.rendered_html tbody {border: 1px solid black;}</style>"
      ],
      "text/plain": [
       "<Result 'c:\\\\wfrc\\\\ato\\\\mod_drive.gdb\\\\NetworkDataset\\\\NetworkDataset_ND'>"
      ]
     },
     "execution_count": 17,
     "metadata": {},
     "output_type": "execute_result"
    }
   ],
   "source": [
    "# finally, build the dataset\n",
    "arcpy.na.BuildNetwork(os.path.join(target_gdb, r\"NetworkDataset\\NetworkDataset_ND\"))"
   ]
  },
  {
   "cell_type": "markdown",
   "metadata": {},
   "source": [
    "## Widening (line)"
   ]
  },
  {
   "cell_type": "markdown",
   "metadata": {},
   "source": [
    "## Operational (line)"
   ]
  },
  {
   "cell_type": "markdown",
   "metadata": {},
   "source": [
    "## Restripe (when is basically widening) (line) \n",
    "Reduce travel time along links to free flow speed \n"
   ]
  },
  {
   "cell_type": "markdown",
   "metadata": {},
   "source": [
    "## New interchange (point) \n",
    "Add connections in network \n",
    "Grade-separated crossing | Add new line across intersection (no intersection impedance) "
   ]
  },
  {
   "cell_type": "code",
   "execution_count": null,
   "metadata": {},
   "outputs": [],
   "source": []
  },
  {
   "cell_type": "code",
   "execution_count": null,
   "metadata": {},
   "outputs": [],
   "source": []
  },
  {
   "cell_type": "code",
   "execution_count": null,
   "metadata": {},
   "outputs": [],
   "source": []
  }
 ],
 "metadata": {
  "kernelspec": {
   "display_name": "ArcGISPro",
   "language": "Python",
   "name": "python3"
  },
  "language_info": {
   "file_extension": ".py",
   "name": "python",
   "version": "3"
  }
 },
 "nbformat": 4,
 "nbformat_minor": 2
}
