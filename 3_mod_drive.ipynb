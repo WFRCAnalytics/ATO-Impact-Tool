{
 "cells": [
  {
   "cell_type": "markdown",
   "metadata": {},
   "source": [
    "# Network Modifications - Roadways\n",
    "\n",
    "In this notebook a copy of our baseline NetworkDataset is made to be modified reflecting the candidate improvement for roadway projects."
   ]
  },
  {
   "cell_type": "code",
   "execution_count": null,
   "metadata": {},
   "outputs": [],
   "source": [
    "scenario_name = \"widen_12300\""
   ]
  },
  {
   "cell_type": "code",
   "execution_count": null,
   "metadata": {
    "scrolled": false
   },
   "outputs": [],
   "source": [
    "import arcpy\n",
    "import os\n",
    "import shutil\n",
    "from arcgis.features import SpatialDataFrame\n",
    "import pandas as pd\n",
    "\n",
    "arcpy.CheckOutExtension(\"network\")\n",
    "\n",
    "base_path = os.path.abspath(\".\")\n",
    "base_gdb = os.path.join(base_path, \"baseline.gdb\")\n",
    "\n",
    "scenario_name = \"auto_\" + scenario_name\n",
    "target_gdb =  os.path.join(base_path, \"scenario\", scenario_name + \".gdb\")"
   ]
  },
  {
   "cell_type": "code",
   "execution_count": null,
   "metadata": {
    "scrolled": false
   },
   "outputs": [],
   "source": [
    "# if mod_drive.gdb exists, delete it\n",
    "if os.path.isdir(target_gdb):\n",
    "    shutil.rmtree(target_gdb)\n",
    "\n",
    "arcpy.management.CreateFileGDB(os.path.join(base_path, \"scenario\"), scenario_name)\n",
    "\n",
    "arcpy.env.workspace = target_gdb\n",
    "\n",
    "# Copy our baseline network dataset to our dataset for modification\n",
    "arcpy.management.Copy(\n",
    "    os.path.join(base_gdb, r\"NetworkDataset\"), \n",
    "    os.path.join(target_gdb, \"NetworkDataset\")\n",
    ")"
   ]
  },
  {
   "cell_type": "code",
   "execution_count": null,
   "metadata": {},
   "outputs": [],
   "source": [
    "# delete existing network\n",
    "arcpy.management.Delete(os.path.join(target_gdb, r\"NetworkDataset\\NetworkDataset_ND\"))"
   ]
  },
  {
   "cell_type": "code",
   "execution_count": null,
   "metadata": {
    "scrolled": false
   },
   "outputs": [],
   "source": [
    "# if open in ArcGIS Pro, remove all layers\n",
    "try:\n",
    "    aprx = arcpy.mp.ArcGISProject(\"CURRENT\")\n",
    "    mp = aprx.listMaps(\"Map\")[0]\n",
    "    for rmlyr in mp.listLayers():    \n",
    "        if rmlyr.name not in ['World Topographic Map', 'World Hillshade', 'ProjectExamples']:        \n",
    "            mp.removeLayer(rmlyr)\n",
    "except OSError:\n",
    "    pass\n",
    "\n",
    "# Add BikePedAuto layer to map for editing\n",
    "arcpy.management.MakeFeatureLayer(\n",
    "    os.path.join(target_gdb, r\"NetworkDataset\\BikePedAuto\"), \n",
    "    \"BPA\"\n",
    ")"
   ]
  },
  {
   "cell_type": "markdown",
   "metadata": {},
   "source": [
    "# Make Edits\n",
    "\n",
    "**Follow the instructions below for the appropriate section to make edits**\n",
    "\n",
    "\n",
    "Project Type | Action \n",
    "---- | ----\n",
    "New construction (line) | Add new line to network and make appropriate connections \n",
    "Widening (line) | Reduce travel time along links to free flow speed (Julie will ask Suzy what the travel time benefit is in the model) \n",
    "Operational (line) | Reduce travel time along links to average of free flow speed and peak hour speed \n",
    "Restripe (when is basically widening) (line) | Reduce travel time along links to free flow speed \n",
    "New interchange (point)  | Add connections in network \n",
    "Grade-separated crossing | Add new line across intersection (no intersection impedance) \n",
    "\n"
   ]
  },
  {
   "cell_type": "markdown",
   "metadata": {},
   "source": [
    "## New construction (line)\n",
    "For new construction, new lines and connections are added to the network."
   ]
  },
  {
   "cell_type": "markdown",
   "metadata": {},
   "source": [
    "Note, when editing lines, take care to use snapping--overlapping verticies need to precisely connect.\n",
    "\n",
    "Connecting the end point of a new line to the mid-point of an existint segment will not work. The existing segment must be split at the connection point.\n",
    "\n",
    "Open the Edit menu bar.\n",
    "\n",
    "1. Add new line to network (or copy existing line from source layer: Edit --> Copy --> Paste Special. Paste into BikePedAuto layer and do NOT include attributes.)\n",
    "2. Edit vertices and ensure that beginning / end points connect to other beginning / end points. \n",
    "3. Update attributes of new feature (hint, use the Transfer Attributes tool to copy attributes from a similar nearby segment)\n",
    "\n",
    "Suggested attribute values:\n",
    "\n",
    "* Oneway = B\n",
    "* Speed (choose an appropriate speed based on functional class, etc. ped = 3 mph, bike = 11 mph)\n",
    "* AutoNetwork = Y (or N for ped/transit only) -- (new transit service shouldn't be added to the BikePedAuto but to Transit Routes)\n",
    "* BikeNetwork = Y\n",
    "* Ped Network = Y\n",
    "* DriveTime = set by script, calculated based on length (note: length is in meters) and speed\n",
    "* hierarchy: 1 = Interstate 2 = Major Arterial 3 = Local\n",
    "\n",
    "\n",
    "3. Select the intersecting road segments and use the Planarize Tool to split the intersecting lines (requires ArcGIS Pro Standard or Advanced). With a ArcGIS Pro Standard License, use the Split tool and curse Esri.\n",
    "6. Select all affected features and update length and speed attributes using cells below"
   ]
  },
  {
   "cell_type": "code",
   "execution_count": null,
   "metadata": {
    "scrolled": false
   },
   "outputs": [],
   "source": [
    "# UPDATE LENGTHS FOR SELECTED FEATURES - SELECT ONLY AFFECTED FEATURES TO KEEP RUN TIME REASONABLE\n",
    "# this will likely throw some TypeErrors if the selectio includes non-roadway segments - ignore these!\n",
    "if int(arcpy.management.GetCount(\"BPA\")[0]) < 100:\n",
    "    arcpy.management.CalculateField(\"BPA\", \"Length_Miles\", '!shape.length@miles!', \"PYTHON3\", None, \"DOUBLE\")\n",
    "    arcpy.management.CalculateField(\"BPA\", \"DriveTime\", '!Length_Miles! / (!Speed! / 60)', \"PYTHON3\", None, \"DOUBLE\")\n",
    "    arcpy.management.CalculateField(\"BPA\", \"PedestrianTime\", '!Length_Miles! / (3 / 60)', \"PYTHON3\", None, \"DOUBLE\")\n",
    "    arcpy.management.CalculateField(\"BPA\", \"BikeTime\", '!Length_Miles! / (11 / 60)', \"PYTHON3\", None, \"DOUBLE\")\n",
    "else:\n",
    "    print(\"Warning: operation will affect more than 100 features - did you select only the intended target?\")"
   ]
  },
  {
   "cell_type": "markdown",
   "metadata": {
    "heading_collapsed": true
   },
   "source": [
    "## Widening / Restripe (line)"
   ]
  },
  {
   "cell_type": "markdown",
   "metadata": {
    "hidden": true
   },
   "source": [
    "For capacity expansion projects or restriping projects that add a lane, the DriveTime attribute is reduced from the Peak Hour speed to the Free Flow speed (or by 15% when travel demand model travel times are not available).\n",
    "\n",
    "**Instructions:** Select segments to be modified then run the cell below and the \"Save Edits\" cells at the bottom of this notebook."
   ]
  },
  {
   "cell_type": "code",
   "execution_count": null,
   "metadata": {
    "hidden": true,
    "scrolled": false
   },
   "outputs": [],
   "source": [
    "# UPDATE LENGTHS FOR SELECTED FEATURES - SELECT ONLY AFFECTED FEATURES TO KEEP RUN TIME REASONABLE\n",
    "# this will likely throw some TypeErrors if the selectio includes non-roadway segments - ignore these!\n",
    "if int(arcpy.management.GetCount(\"BPA\")[0]) < 100:\n",
    "    arcpy.management.CalculateField(\"BPA\", \n",
    "                                    \"PK_SPD\", '!FF_SPD!', \"PYTHON3\", None, \"DOUBLE\")\n",
    "    arcpy.management.CalculateField(\"BPA\", \n",
    "                                    \"DriveTime_Peak\", '!Length_Miles! / (!FF_SPD! / 60)', \"PYTHON3\", None, \"DOUBLE\")\n",
    "    arcpy.management.CalculateField(\"BPA\", \"DriveTime\", \n",
    "                                    '!DriveTime_Peak! if !DriveTime_Peak! else DriveTime * 0.85', \"PYTHON3\", None, \"DOUBLE\")\n",
    "else:\n",
    "    print(\"Warning: operation will affect more than 100 features - did you select only the intended target?\")"
   ]
  },
  {
   "cell_type": "markdown",
   "metadata": {
    "heading_collapsed": true
   },
   "source": [
    "## Operational (line)"
   ]
  },
  {
   "cell_type": "markdown",
   "metadata": {
    "hidden": true
   },
   "source": [
    "Operational improvements are assumed to improve user operating speeds during the peak hour, but less so than a capacity expansion project. Reduce travel time along links to average of free flow speed and peak hour speed (or by 10% when travel demand model travel times are not available).\n",
    "\n",
    "**Instructions:** Select segments to be modified then run the cell below and the \"Save Edits\" cells at the bottom of this notebook."
   ]
  },
  {
   "cell_type": "code",
   "execution_count": null,
   "metadata": {
    "hidden": true,
    "scrolled": false
   },
   "outputs": [],
   "source": [
    "# UPDATE LENGTHS FOR SELECTED FEATURES - SELECT ONLY AFFECTED FEATURES TO KEEP RUN TIME REASONABLE\n",
    "# this will likely throw some TypeErrors if the selectio includes non-roadway segments - ignore these!\n",
    "expression = '(!DriveTime_Peak! + !DriveTime_FF!) / 2 if !DriveTime_Peak! else !DriveTime! * 0.9'\n",
    "if int(arcpy.management.GetCount(\"BPA\")[0]) < 100:\n",
    "    arcpy.management.CalculateField(\"BPA\", \"DriveTime\", expression, \"PYTHON3\", None, \"DOUBLE\")\n",
    "else:\n",
    "    print(\"Warning: operation will affect more than 100 features - did you select only the intended target?\")"
   ]
  },
  {
   "cell_type": "markdown",
   "metadata": {
    "heading_collapsed": true
   },
   "source": [
    "## New interchange (point) "
   ]
  },
  {
   "cell_type": "markdown",
   "metadata": {
    "hidden": true
   },
   "source": [
    "Add connections in network.\n",
    "\n",
    "**Instructions:** Select intrsecting segments and run **Planarize** tool."
   ]
  },
  {
   "cell_type": "markdown",
   "metadata": {
    "heading_collapsed": true
   },
   "source": [
    "## Grade-separated crossing"
   ]
  },
  {
   "cell_type": "markdown",
   "metadata": {
    "hidden": true
   },
   "source": [
    "**Instructions** Dissolve the segments of each road or path such that the segments no longer break at the intersection. Then run the cell below to update the travel time values."
   ]
  },
  {
   "cell_type": "code",
   "execution_count": null,
   "metadata": {
    "hidden": true,
    "scrolled": false
   },
   "outputs": [],
   "source": [
    "# UPDATE LENGTHS FOR SELECTED FEATURES - SELECT ONLY AFFECTED FEATURES TO KEEP RUN TIME REASONABLE\n",
    "# this will likely throw some TypeErrors if the selectio includes non-roadway segments - ignore these!\n",
    "if int(arcpy.management.GetCount(\"BPA\")[0]) < 100:\n",
    "    arcpy.management.CalculateField(\"BPA\", \"Length_Miles\", '!shape.length@miles!', \"PYTHON3\", None, \"DOUBLE\")\n",
    "    arcpy.management.CalculateField(\"BPA\", \"DriveTime\", '!Length_Miles! / (!Speed! / 60)', \"PYTHON3\", None, \"DOUBLE\")\n",
    "    arcpy.management.CalculateField(\"BPA\", \"PedestrianTime\", '!Length_Miles! / (3 / 60)', \"PYTHON3\", None, \"DOUBLE\")\n",
    "    arcpy.management.CalculateField(\"BPA\", \"BikeTime\", '!Length_Miles! / (11 / 60)', \"PYTHON3\", None, \"DOUBLE\")\n",
    "else:\n",
    "    print(\"Warning: operation will affect more than 100 features - did you select only the intended target?\")"
   ]
  },
  {
   "cell_type": "markdown",
   "metadata": {},
   "source": [
    "# Save Edits"
   ]
  },
  {
   "cell_type": "code",
   "execution_count": null,
   "metadata": {
    "scrolled": false
   },
   "outputs": [],
   "source": [
    "# clear the selection before creating the new network dataset\n",
    "arcpy.management.SelectLayerByAttribute(\"BPA\", \"CLEAR_SELECTION\")"
   ]
  },
  {
   "cell_type": "markdown",
   "metadata": {},
   "source": [
    "**save edits!**\n",
    "\n",
    "Save edits to BikePedAuto layer and remove from map. Then run the cells below to create the network dataset and build it."
   ]
  },
  {
   "cell_type": "code",
   "execution_count": null,
   "metadata": {
    "scrolled": true
   },
   "outputs": [],
   "source": [
    "if arcpy.Exists(os.path.join(target_gdb, r\"NetworkDataset\\NetworkDataset_ND\")):\n",
    "    arcpy.management.Delete(os.path.join(target_gdb, r\"NetworkDataset\\NetworkDataset_ND\"))\n",
    "\n",
    "# create network dataset from template\n",
    "arcpy.nax.CreateNetworkDatasetFromTemplate(\n",
    "    os.path.join(base_path, \"template.xml\"),                 \n",
    "    os.path.join(target_gdb, \"NetworkDataset\")\n",
    ")"
   ]
  },
  {
   "cell_type": "code",
   "execution_count": null,
   "metadata": {
    "scrolled": false
   },
   "outputs": [],
   "source": [
    "# finally, build the dataset\n",
    "arcpy.nax.BuildNetwork(os.path.join(target_gdb, r\"NetworkDataset\\NetworkDataset_ND\"))"
   ]
  },
  {
   "cell_type": "code",
   "execution_count": null,
   "metadata": {},
   "outputs": [],
   "source": [
    "def test_network(nd_path, mode = \"Driving\"):\n",
    "    print(\"Testing integrity of network \" + nd_path)\n",
    "    nd_layer_name = \"tmp_test\"\n",
    "    arcpy.nax.MakeNetworkDatasetLayer(nd_path, nd_layer_name)\n",
    "    centroids = os.path.join(base_path, r\"shp\\taz_wfrc.gdb\\taz_centroids_sample\")\n",
    "    odcm = arcpy.nax.OriginDestinationCostMatrix(nd_layer_name)\n",
    "    odcm.travelMode = mode\n",
    "    odcm.defaultImpedanceCutoff = 60\n",
    "    odcm.lineShapeType = arcpy.nax.LineShapeType.NoLine\n",
    "    odcm.load(arcpy.nax.OriginDestinationCostMatrixInputDataType.Origins, centroids)\n",
    "    odcm.load(arcpy.nax.OriginDestinationCostMatrixInputDataType.Destinations, centroids)\n",
    "    result = odcm.solve()\n",
    "\n",
    "    # Export the results to a feature class\n",
    "    if result.solveSucceeded:\n",
    "        result.export(arcpy.nax.OriginDestinationCostMatrixOutputDataType.Lines, \"memory\\output_lines\")\n",
    "    else:\n",
    "        print(\"Solve failed\")\n",
    "        print(result.solverMessages(arcpy.nax.MessageSeverity.All))\n",
    "\n",
    "    od = pd.DataFrame.spatial.from_featureclass(r\"memory\\output_lines\")\n",
    "    if od['Total_Time'].mean() < 1:\n",
    "        print(\"Network validation: FAIL\")\n",
    "        print(\"Travel Times: \", od['Total_Time'].head())\n",
    "        raise ValueError('Network Travel Times are Zero - Invalid Network')\n",
    "    else:\n",
    "        print(\"Network validation: PASS\")\n",
    "        return"
   ]
  },
  {
   "cell_type": "code",
   "execution_count": null,
   "metadata": {},
   "outputs": [],
   "source": [
    "test_network(os.path.join(target_gdb, r\"NetworkDataset\\NetworkDataset_ND\"))"
   ]
  },
  {
   "cell_type": "code",
   "execution_count": null,
   "metadata": {},
   "outputs": [],
   "source": []
  }
 ],
 "metadata": {
  "kernelspec": {
   "display_name": "ArcGISPro",
   "language": "Python",
   "name": "python3"
  },
  "language_info": {
   "file_extension": ".py",
   "name": "python",
   "version": "3"
  }
 },
 "nbformat": 4,
 "nbformat_minor": 2
}
