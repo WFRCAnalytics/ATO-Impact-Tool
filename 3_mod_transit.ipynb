{
 "cells": [
  {
   "attachments": {
    "transit_speeds.png": {
     "image/png": "[encoded data removed]"
    }
   },
   "cell_type": "markdown",
   "metadata": {},
   "source": [
    "# Network Modifications - Transit\n",
    "\n",
    "In this notebook a copy of our baseline NetworkDataset is made to be modified reflecting the candidate improvement.\n",
    "\n",
    "\n",
    "New service is modelled by adding a new lines (and connections) to the TransitRoutes layer. Note, \"stops\" only exist where explicitly defined.\n",
    "\n",
    "### Assumed Operating Speeds\n",
    "\n",
    "Route Type | Operating Speed\n",
    "---- | ----\n",
    "BRT|30 mph\n",
    "Commuter Rail|30 mph\n",
    "Core route|16 mph\n",
    "Express bus|Exclude, there are only a few of these per day\n",
    "Light rail|20 mph\n",
    "Local route|13 mph\n",
    "Street car|11 mph\n",
    "\n",
    "Average speeds of commuter rail routes are 29 mph.\n",
    "\n",
    "Average speeds of current bus routes:\n",
    "\n",
    "![transit_speeds.png](attachment:transit_speeds.png)\n",
    "\n",
    "### Improvements Table\n",
    "\n",
    "Project Type (new and upgrades)|Action\n",
    "---- | ----\n",
    "Bus rapid transit (line)|Add line (new) or change route type & increase speed (upgrade)\n",
    "Commuter rail (line) - extension|(probably evaluated in regional TDM)\n",
    "Core route (line)|Add line (new)\n",
    "Light rail (line)|Add line (new)\n",
    "Street car (line)|Add line (new)\n",
    "\n",
    "Ignoring for now: Express bus (line), Park & Ride, Infill Station"
   ]
  },
  {
   "cell_type": "code",
   "execution_count": 16,
   "metadata": {},
   "outputs": [],
   "source": [
    "import arcpy\n",
    "import os\n",
    "import shutil\n",
    "from arcgis.features import SpatialDataFrame\n",
    "import pandas as pd\n",
    "\n",
    "arcpy.CheckOutExtension(\"network\")\n",
    "\n",
    "base_path = os.path.abspath(\".\")\n",
    "base_gdb = os.path.join(base_path, \"baseline.gdb\")\n",
    "target_gdb =  os.path.join(base_path, \"mod.gdb\")\n",
    "nd = os.path.join(target_gdb, r\"NetworkDataset\\NetworkDataset_ND\")"
   ]
  },
  {
   "cell_type": "code",
   "execution_count": 17,
   "metadata": {},
   "outputs": [
    {
     "data": {
      "text/html": [
       "<h2>Output</h2>C:\\wfrc\\ato\\mod.gdb\\NetworkDataset<h2>Messages</h2>Start Time: Wednesday, October 20, 2021 9:31:49 AM<br/>Succeeded at Wednesday, October 20, 2021 9:32:33 AM (Elapsed Time: 43.31 seconds)<br/><style>.rendered_html td, .rendered_html th {text-align: left;}.rendered_html tbody {border: 1px solid black;}</style>"
      ],
      "text/plain": [
       "<Result 'C:\\\\wfrc\\\\ato\\\\mod.gdb\\\\NetworkDataset'>"
      ]
     },
     "execution_count": 17,
     "metadata": {},
     "output_type": "execute_result"
    }
   ],
   "source": [
    "# if mod.gdb exists, delete it\n",
    "if os.path.isdir(target_gdb):\n",
    "    shutil.rmtree(target_gdb)\n",
    "\n",
    "arcpy.management.CreateFileGDB(base_path, \"mod\")\n",
    "\n",
    "arcpy.env.workspace = target_gdb\n",
    "\n",
    "# Copy our baseline network dataset to our dataset for modification\n",
    "arcpy.management.Copy(\n",
    "    os.path.join(base_gdb, r\"NetworkDataset\"), \n",
    "    os.path.join(target_gdb, \"NetworkDataset\")\n",
    ")"
   ]
  },
  {
   "cell_type": "markdown",
   "metadata": {},
   "source": [
    "## New Route\n",
    "\n",
    "1. Add new feature to TransitRoutes Layer. \n",
    "2. Create new stops as required. Make sure that vertex points are coincident between a) the BikePedAuto layer; b) the TransitRoutes layer; and c) the TransitStops layer. This layer connectivity (connected by coincident vertices and TransitStop features) is essential for the correct function of Network Analyst.\n",
    "3. Ensure that geometry precisely connects to stops. Zoom way in.\n",
    "4. Select new feature, uncomment the appropriate speed in the cell below, and run to set travel times.\n",
    "\n",
    "## Service Upgrade\n",
    "\n",
    "1. Select affected feature, uncomment the appropriate speed in the cell below, and run"
   ]
  },
  {
   "cell_type": "code",
   "execution_count": null,
   "metadata": {
    "ExecuteTime": {
     "end_time": "2021-10-26T17:08:57.157393Z",
     "start_time": "2021-10-26T17:08:57.089377Z"
    }
   },
   "outputs": [],
   "source": [
    "# UPDATE TransitTime FOR SELECTED FEATURES\n",
    "# SELECT ONLY AFFECTED FEATURES TO KEEP RUN TIME REASONABLE\n",
    "\n",
    "# Uncomment the appropriate speed\n",
    "#speed_mph = 30 # BRT or Commuter Rail\n",
    "speed_mph = 16 # Core Route\n",
    "#speed_mph = 20 # light rail\n",
    "#speed_mph = 13 # local route\n",
    "#speed_mph = 11 # street car\n",
    "\n",
    "expression = '!Length_Miles! * 60 / ' + str(speed_mph)\n",
    "\n",
    "if 0 < int(arcpy.management.GetCount(\"TransitRoutes\")[0]) < 100:\n",
    "    arcpy.management.CalculateField(\"TransitRoutes\", \n",
    "                                    \"Length_Miles\", '!Shape_Length! * 0.000621371', \"PYTHON3\", None, \"DOUBLE\")\n",
    "    arcpy.management.CalculateField(\"TransitRoutes\", \"TransitTime\", \n",
    "                                    expression, \"PYTHON3\", None, \"DOUBLE\")\n",
    "else:\n",
    "    print(\"Warning: operation will affect \" + \n",
    "          arcpy.management.GetCount(\"TransitRoutes\")[0] + \n",
    "          \" features - did you select only the intended target?\")"
   ]
  },
  {
   "cell_type": "markdown",
   "metadata": {},
   "source": [
    "Save edits to layers"
   ]
  },
  {
   "cell_type": "code",
   "execution_count": 19,
   "metadata": {
    "ExecuteTime": {
     "end_time": "2021-10-18T20:42:00.450823Z",
     "start_time": "2021-10-18T20:42:00.17034Z"
    }
   },
   "outputs": [
    {
     "data": {
      "text/html": [
       "<h2>Output</h2>C:\\wfrc\\ato\\mod.gdb\\NetworkDataset\\NetworkDataset_ND<h2>Messages</h2>Start Time: Wednesday, October 20, 2021 9:34:37 AM<br/>WARNING 030116: The network was built, but with some errors.  Error details are at \"C:\\Users\\markegge\\AppData\\Local\\Temp\\ArcGISProTemp10108\\BuildErrors.txt\".<br/>Succeeded at Wednesday, October 20, 2021 9:35:14 AM (Elapsed Time: 37.10 seconds)<br/><style>.rendered_html td, .rendered_html th {text-align: left;}.rendered_html tbody {border: 1px solid black;}</style>"
      ],
      "text/plain": [
       "<Result 'C:\\\\wfrc\\\\ato\\\\mod.gdb\\\\NetworkDataset\\\\NetworkDataset_ND'>"
      ]
     },
     "execution_count": 19,
     "metadata": {},
     "output_type": "execute_result"
    }
   ],
   "source": [
    "# save edits\n",
    "\n",
    "# clear the selection before creating the new network dataset\n",
    "arcpy.management.SelectLayerByAttribute(\"TransitRoutes\", \"CLEAR_SELECTION\")\n",
    "arcpy.management.SelectLayerByAttribute(\"TransitStops\", \"CLEAR_SELECTION\")\n",
    "\n",
    "# delete existing network\n",
    "arcpy.management.Delete(nd)\n",
    "\n",
    "# create network dataset from template\n",
    "arcpy.na.CreateNetworkDatasetFromTemplate(\n",
    "    os.path.join(base_path, \"template.xml\"),                 \n",
    "    os.path.join(target_gdb, \"NetworkDataset\")\n",
    ")\n",
    "# finally, build the dataset\n",
    "arcpy.na.BuildNetwork(nd)"
   ]
  },
  {
   "cell_type": "code",
   "execution_count": 20,
   "metadata": {
    "ExecuteTime": {
     "end_time": "2021-10-18T20:53:44.503240Z",
     "start_time": "2021-10-18T20:53:28.978272Z"
    }
   },
   "outputs": [
    {
     "name": "stdout",
     "output_type": "stream",
     "text": [
      "Testing integrity of network C:\\wfrc\\ato\\mod.gdb\\NetworkDataset\\NetworkDataset_ND\n",
      "Network validation: PASS\n"
     ]
    }
   ],
   "source": [
    "test_network(nd, mode = \"Transit\")"
   ]
  },
  {
   "cell_type": "code",
   "execution_count": null,
   "metadata": {
    "ExecuteTime": {
     "end_time": "2021-10-18T20:46:49.956650Z",
     "start_time": "2021-10-18T20:45:14.510887Z"
    }
   },
   "outputs": [],
   "source": [
    "# delete existing network\n",
    "arcpy.management.Delete(nd)\n",
    "\n",
    "# create network dataset from template\n",
    "arcpy.na.CreateNetworkDatasetFromTemplate(\n",
    "    os.path.join(base_path, \"template.xml\"),                 \n",
    "    os.path.join(target_gdb, \"NetworkDataset\")\n",
    ")\n",
    "# finally, build the dataset\n",
    "arcpy.na.BuildNetwork(nd)"
   ]
  },
  {
   "cell_type": "code",
   "execution_count": null,
   "metadata": {},
   "outputs": [],
   "source": [
    "test_network(nd, mode = \"Transit\")"
   ]
  },
  {
   "cell_type": "code",
   "execution_count": null,
   "metadata": {},
   "outputs": [],
   "source": []
  }
 ],
 "metadata": {
  "kernelspec": {
   "display_name": "ArcGISPro",
   "language": "Python",
   "name": "python3"
  },
  "language_info": {
   "file_extension": ".py",
   "name": "python",
   "version": "3"
  }
 },
 "nbformat": 4,
 "nbformat_minor": 2
}
