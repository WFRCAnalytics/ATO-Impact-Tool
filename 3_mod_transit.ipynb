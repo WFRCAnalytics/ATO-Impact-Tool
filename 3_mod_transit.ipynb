{
 "cells": [
  {
   "cell_type": "markdown",
   "metadata": {},
   "source": [
    "# Network Modifications - Transit\n",
    "\n",
    "In this notebook a copy of our baseline NetworkDataset is made to be modified reflecting the candidate improvement.\n",
    "\n",
    "\n",
    "New service is modelled by adding a new lines (and connections) to the TransitRoutes layer. Note, \"stops\" only exist where explicitly defined.\n",
    "\n",
    "### Assumed Operating Speeds\n",
    "\n",
    "Route Type | Operating Speed\n",
    "---- | ----\n",
    "BRT|45 mph\n",
    "Commuter Rail|45 mph\n",
    "Core route|25 mph\n",
    "Express bus|Exclude, there are only a few of these per day\n",
    "Light rail|30 mph\n",
    "Street car|10 mph\n",
    "Local route|15 mph\n",
    "\n",
    "\n",
    "### Improvements Table\n",
    "\n",
    "Project Type (new and upgrades)|Action\n",
    "---- | ----\n",
    "Bus rapid transit (line)|Add line (new) or change route type & increase speed (upgrade)\n",
    "Commuter rail (line) - extension|(probably evaluated in regional TDM)\n",
    "Core route (line)|Add line (new)\n",
    "Light rail (line)|Add line (new)\n",
    "Street car (line)|Add line (new)\n",
    "\n",
    "Ignoring for now: Express bus (line), Park & Ride, Infill Station"
   ]
  },
  {
   "cell_type": "code",
   "execution_count": 1,
   "metadata": {},
   "outputs": [],
   "source": [
    "import arcpy\n",
    "import os\n",
    "import shutil\n",
    "from arcgis.features import SpatialDataFrame\n",
    "import pandas as pd\n",
    "\n",
    "arcpy.CheckOutExtension(\"network\")\n",
    "\n",
    "base_path = os.path.abspath(\".\")\n",
    "base_gdb = os.path.join(base_path, \"base.gdb\")\n",
    "target_gdb =  os.path.join(base_path, \"mod.gdb\")\n",
    "nd = os.path.join(target_gdb, r\"NetworkDataset\\NetworkDataset_ND\")"
   ]
  },
  {
   "cell_type": "code",
   "execution_count": 2,
   "metadata": {},
   "outputs": [
    {
     "data": {
      "text/html": [
       "<h2>Output</h2>C:\\wfrc\\ato\\mod.gdb\\NetworkDataset<h2>Messages</h2>Start Time: Friday, October 15, 2021 1:09:48 PM<br/>Succeeded at Friday, October 15, 2021 1:10:14 PM (Elapsed Time: 25.40 seconds)<br/><style>.rendered_html td, .rendered_html th {text-align: left;}.rendered_html tbody {border: 1px solid black;}</style>"
      ],
      "text/plain": [
       "<Result 'C:\\\\wfrc\\\\ato\\\\mod.gdb\\\\NetworkDataset'>"
      ]
     },
     "execution_count": 2,
     "metadata": {},
     "output_type": "execute_result"
    }
   ],
   "source": [
    "# if mod.gdb exists, delete it\n",
    "if os.path.isdir(target_gdb):\n",
    "    shutil.rmtree(target_gdb)\n",
    "\n",
    "arcpy.management.CreateFileGDB(base_path, \"mod\")\n",
    "\n",
    "arcpy.env.workspace = target_gdb\n",
    "\n",
    "# Copy our baseline network dataset to our dataset for modification\n",
    "arcpy.management.Copy(\n",
    "    os.path.join(base_gdb, r\"NetworkDataset\"), \n",
    "    os.path.join(target_gdb, \"NetworkDataset\")\n",
    ")"
   ]
  },
  {
   "cell_type": "markdown",
   "metadata": {},
   "source": [
    "## New Route\n",
    "\n",
    "1. Add new feature to TransitRoutes Layer. \n",
    "2. Create new stops as required. Make sure that vertex points are coincident between a) the BikePedAuto layer; b) the TransitRoutes layer; and c) the TransitStops layer. This layer connectivity (connected by coincident vertices and TransitStop features) is essential for the correct function of Network Analyst.\n",
    "3. Ensure that geometry precisely connects to stops. Zoom way in.\n",
    "4. Select new feature, uncomment the appropriate speed in the cell below, and run to set travel times.\n",
    "\n",
    "## Service Upgrade\n",
    "\n",
    "1. Select affected feature, uncomment the appropriate speed in the cell below, and run"
   ]
  },
  {
   "cell_type": "code",
   "execution_count": 3,
   "metadata": {},
   "outputs": [],
   "source": [
    "# UPDATE TransitTime FOR SELECTED FEATURES\n",
    "# SELECT ONLY AFFECTED FEATURES TO KEEP RUN TIME REASONABLE\n",
    "\n",
    "# Uncomment the appropriate speed\n",
    "speed_mph = 45 # BRT or Commuter Rail\n",
    "#speed_mph = 25 # Core Route\n",
    "#speed_mph = 30 # light rail\n",
    "#speed_mph = 15 # local route\n",
    "#speed_mph = 10 # street car\n",
    "\n",
    "expression = '!Length_Miles! * 60 / ' + str(speed_mph)\n",
    "\n",
    "if 0 < int(arcpy.management.GetCount(\"TransitRoutes\")[0]) < 100:\n",
    "    arcpy.management.CalculateField(\"TransitRoutes\", \n",
    "                                    \"Length_Miles\", '!Shape_Length! * 0.000621371', \"PYTHON3\", None, \"DOUBLE\")\n",
    "    arcpy.management.CalculateField(\"TransitRoutes\", \"TransitTime\", \n",
    "                                    expression, \"PYTHON3\", None, \"DOUBLE\")\n",
    "else:\n",
    "    print(\"Warning: operation will affect \" + \n",
    "          arcpy.management.GetCount(\"TransitRoutes\")[0] + \n",
    "          \" features - did you select only the intended target?\")"
   ]
  },
  {
   "cell_type": "markdown",
   "metadata": {},
   "source": [
    "Save edits to layers"
   ]
  },
  {
   "cell_type": "code",
   "execution_count": 5,
   "metadata": {},
   "outputs": [
    {
     "data": {
      "text/html": [
       "<h2>Output</h2>C:\\wfrc\\ato\\mod.gdb\\NetworkDataset\\NetworkDataset_ND<h2>Messages</h2>Start Time: Friday, October 15, 2021 1:26:04 PM<br/>WARNING 030116: The network was built, but with some errors.  Error details are at \"C:\\Users\\markegge\\AppData\\Local\\Temp\\ArcGISProTemp1840\\BuildErrors.txt\".<br/>Succeeded at Friday, October 15, 2021 1:26:53 PM (Elapsed Time: 49.05 seconds)<br/><style>.rendered_html td, .rendered_html th {text-align: left;}.rendered_html tbody {border: 1px solid black;}</style>"
      ],
      "text/plain": [
       "<Result 'C:\\\\wfrc\\\\ato\\\\mod.gdb\\\\NetworkDataset\\\\NetworkDataset_ND'>"
      ]
     },
     "execution_count": 5,
     "metadata": {},
     "output_type": "execute_result"
    }
   ],
   "source": [
    "# save edits\n",
    "\n",
    "# clear the selection before creating the new network dataset\n",
    "arcpy.management.SelectLayerByAttribute(\"TransitRoutes\", \"CLEAR_SELECTION\")\n",
    "arcpy.management.SelectLayerByAttribute(\"TransitStops\", \"CLEAR_SELECTION\")\n",
    "\n",
    "# delete existing network\n",
    "arcpy.management.Delete(nd)\n",
    "\n",
    "# create network dataset from template\n",
    "arcpy.na.CreateNetworkDatasetFromTemplate(\n",
    "    os.path.join(base_path, \"template.xml\"),                 \n",
    "    os.path.join(target_gdb, \"NetworkDataset\")\n",
    ")\n",
    "# finally, build the dataset\n",
    "arcpy.na.BuildNetwork(nd)"
   ]
  },
  {
   "cell_type": "code",
   "execution_count": null,
   "metadata": {},
   "outputs": [],
   "source": []
  }
 ],
 "metadata": {
  "kernelspec": {
   "display_name": "ArcGISPro",
   "language": "Python",
   "name": "python3"
  },
  "language_info": {
   "file_extension": ".py",
   "name": "python",
   "version": "3"
  }
 },
 "nbformat": 4,
 "nbformat_minor": 2
}
