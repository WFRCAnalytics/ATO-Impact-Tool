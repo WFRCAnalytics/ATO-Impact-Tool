{
 "cells": [
  {
   "cell_type": "markdown",
   "metadata": {},
   "source": [
    "# Network Modifications - Transit\n",
    "\n",
    "In this notebook a copy of our baseline NetworkDataset is made to be modified reflecting the candidate improvement.\n",
    "\n",
    "New service is modelled by adding a new lines (and connections) to the TransitRoutes layer. Note, \"stops\" only exist where explicitly defined.\n"
   ]
  },
  {
   "cell_type": "code",
   "execution_count": null,
   "metadata": {},
   "outputs": [],
   "source": [
    "scenario_name = \"ogden_local_bus\"\n",
    "service_type = \"local\" # choose an appropriate value from the speeds dict below"
   ]
  },
  {
   "cell_type": "code",
   "execution_count": null,
   "metadata": {},
   "outputs": [],
   "source": [
    "operating_speeds = {\n",
    "    \"brt\": 30,\n",
    "    \"commuter_rail:\": 30,\n",
    "    \"express\": 20,\n",
    "    \"core\": 16,\n",
    "    \"light_rail\": 20,\n",
    "    \"local\": 13,\n",
    "    \"street_car\": 11\n",
    "}\n",
    "\n",
    "import sys\n",
    "import os\n",
    "import arcpy\n",
    "import shutil\n",
    "\n",
    "base_path = os.path.abspath(\".\")\n",
    "\n",
    "src = os.path.join(base_path, 'src')\n",
    "if src not in sys.path:\n",
    "    sys.path.append(src)\n",
    "    \n",
    "from ato_tools import ato\n",
    "\n",
    "mode = \"Transit\"\n",
    "target_gdb = os.path.join(base_path, \"scenario\", mode, scenario_name + \".gdb\")"
   ]
  },
  {
   "cell_type": "code",
   "execution_count": null,
   "metadata": {},
   "outputs": [],
   "source": [
    "# if target gdb exists, delete it\n",
    "if os.path.isdir(target_gdb):\n",
    "    shutil.rmtree(target_gdb)\n",
    "    \n",
    "# copy template\n",
    "shutil.copytree(r\"scenario\\scenario_template.gdb\", target_gdb)\n",
    "\n",
    "arcpy.env.workspace = target_gdb\n",
    "\n",
    "# Add Transit layers to map for editing\n",
    "arcpy.management.MakeFeatureLayer(\n",
    "    os.path.join(target_gdb, r\"NetworkDataset\\TransitRoutes\"), \n",
    "    \"TransitRoutes\"\n",
    ")\n",
    "arcpy.management.MakeFeatureLayer(\n",
    "    os.path.join(target_gdb, r\"NetworkDataset\\TransitStops\"), \n",
    "    \"TransitStops\"\n",
    ")\n",
    "arcpy.management.MakeFeatureLayer(\n",
    "    os.path.join(target_gdb, r\"NetworkDataset\\ConnectorNetwork\"), \n",
    "    \"ConnectorNetwork\"\n",
    ")\n",
    "\n",
    "if service_type not in operating_speeds.keys():\n",
    "    print(\"Invalid service type.\")\n",
    "    print(\"Valid service types:\")\n",
    "    pprint(operating_speeds.keys())"
   ]
  },
  {
   "cell_type": "markdown",
   "metadata": {},
   "source": [
    "# Make Edits\n",
    "\n",
    "### Improvements Table\n",
    "\n",
    "Project Type (new and upgrades)|Action\n",
    "---- | ----\n",
    "Bus rapid transit (line)|Add line (new) or change route type & increase speed (upgrade)\n",
    "Commuter rail (line) - extension|(probably evaluated in regional TDM)\n",
    "Core route (line)|Add line (new)\n",
    "Light rail (line)|Add line (new)\n",
    "Street car (line)|Add line (new)\n",
    "\n",
    "Ignoring for now: Park & Ride, Infill Station"
   ]
  },
  {
   "cell_type": "markdown",
   "metadata": {},
   "source": [
    "## New Route\n",
    "\n",
    "1. Add new feature to TransitRoutes Layer. \n",
    "2. Create new stops as required. Make sure that vertex points are coincident between a) the BikePedAuto layer; b) the TransitRoutes layer; and c) the TransitStops layer. This layer connectivity (connected by coincident vertices and TransitStop features) is essential for the correct function of Network Analyst.\n",
    "3. Ensure that geometry precisely connects to stops or the ConnectorNetwork. Zoom way in. Move or create vertices as necessary.\n",
    "4. With the new feature selected, run the cell below to set travel times.\n",
    "\n"
   ]
  },
  {
   "cell_type": "markdown",
   "metadata": {},
   "source": [
    "## Service Upgrade\n",
    "\n",
    "1. Select affected feature (ideally by using \"Select by Location\" and select \"within\" segments), uncomment the appropriate speed in the cell below, and run\n",
    "\n",
    "(Alternatively, for service upgrades on new fixed routes, follow the steps above for New Route)"
   ]
  },
  {
   "cell_type": "code",
   "execution_count": null,
   "metadata": {
    "ExecuteTime": {
     "end_time": "2021-10-26T17:08:57.157393Z",
     "start_time": "2021-10-26T17:08:57.089377Z"
    }
   },
   "outputs": [],
   "source": [
    "# UPDATE TransitTime FOR SELECTED FEATURES\n",
    "# SELECT ONLY AFFECTED FEATURES TO KEEP RUN TIME REASONABLE\n",
    "\n",
    "expression = '!Length_Miles! * 60 / ' + str(operating_speeds[service_type])\n",
    "\n",
    "if 0 < int(arcpy.management.GetCount(\"TransitRoutes\")[0]) < 100:\n",
    "    arcpy.management.CalculateField(\n",
    "        \"TransitRoutes\",\n",
    "        \"Length_Miles\", '!Shape_Length! * 0.000621371', \"PYTHON3\", \n",
    "        None, \"DOUBLE\"\n",
    "    )\n",
    "    arcpy.management.CalculateField(\n",
    "        \"TransitRoutes\", \"TransitTime\", expression, \"PYTHON3\", None, \"DOUBLE\"\n",
    "    )\n",
    "else:\n",
    "    print(\"Warning: operation will affect \" + \n",
    "          arcpy.management.GetCount(\"TransitRoutes\")[0] + \n",
    "          \" features - did you select only the intended target?\")"
   ]
  },
  {
   "cell_type": "markdown",
   "metadata": {},
   "source": [
    "# Save Edits"
   ]
  },
  {
   "cell_type": "markdown",
   "metadata": {},
   "source": [
    "**Don't forget to save your edits!**\n",
    "\n",
    "Save edits to transit layers and remove from map. Then run the cells below to create the network dataset and build it."
   ]
  },
  {
   "cell_type": "code",
   "execution_count": null,
   "metadata": {
    "ExecuteTime": {
     "end_time": "2021-10-18T20:42:00.450823Z",
     "start_time": "2021-10-18T20:42:00.17034Z"
    }
   },
   "outputs": [],
   "source": [
    "# save edits - then build the network\n",
    "\n",
    "# clear the selection before creating the new network dataset\n",
    "try:\n",
    "    arcpy.management.SelectLayerByAttribute(\"TransitRoutes\", \"CLEAR_SELECTION\")\n",
    "    arcpy.management.SelectLayerByAttribute(\"TransitStops\", \"CLEAR_SELECTION\")\n",
    "    arcpy.management.SelectLayerByAttribute(\"ConnectorNetwork\", \"CLEAR_SELECTION\")\n",
    "except:\n",
    "    pass\n",
    "\n",
    "nd = os.path.join(target_gdb, r\"NetworkDataset\\NetworkDataset_ND\")\n",
    "\n",
    "# Build the dataset\n",
    "ato.build(nd)"
   ]
  },
  {
   "cell_type": "code",
   "execution_count": null,
   "metadata": {
    "ExecuteTime": {
     "end_time": "2021-10-18T20:53:44.503240Z",
     "start_time": "2021-10-18T20:53:28.978272Z"
    }
   },
   "outputs": [],
   "source": [
    "ato.test(nd, mode = 'Transit')"
   ]
  },
  {
   "cell_type": "code",
   "execution_count": null,
   "metadata": {},
   "outputs": [],
   "source": []
  },
  {
   "attachments": {
    "transit_speeds.png": {
     "image/png": "[encoded data removed]"
    }
   },
   "cell_type": "markdown",
   "metadata": {},
   "source": [
    "# Transit Modeling Assumptions\n",
    "\n",
    "New service is modelled by adding a new lines (and connections) to the TransitRoutes layer. Note, \"stops\" only exist where explicitly defined.\n",
    "\n",
    "### Assumed Operating Speeds\n",
    "\n",
    "Route Type | Operating Speed\n",
    "---- | ----\n",
    "BRT|30 mph\n",
    "Commuter Rail|30 mph\n",
    "Light rail|20 mph\n",
    "Express bus|20 mph\n",
    "Core route|16 mph\n",
    "Local route|13 mph\n",
    "Street car|11 mph\n",
    "\n",
    "Average speeds of commuter rail routes are 29 mph.\n",
    "\n",
    "Average speeds of current bus routes:\n",
    "\n",
    "![transit_speeds.png](attachment:transit_speeds.png)\n"
   ]
  },
  {
   "cell_type": "code",
   "execution_count": null,
   "metadata": {},
   "outputs": [],
   "source": []
  }
 ],
 "metadata": {
  "kernelspec": {
   "display_name": "ArcGISPro",
   "language": "Python",
   "name": "python3"
  },
  "language_info": {
   "file_extension": ".py",
   "name": "python",
   "version": "3"
  }
 },
 "nbformat": 4,
 "nbformat_minor": 2
}
