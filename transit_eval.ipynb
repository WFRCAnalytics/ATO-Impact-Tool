{
 "cells": [
  {
   "cell_type": "markdown",
   "metadata": {},
   "source": [
    "## Transit Speeds\n",
    "\n",
    "For assumed travel speeds for new transit service and upgraded transit service, what speeds should we use? What are speeds for existing routes?\n",
    "\n",
    "The output of this short notebook is used to set the assumed speeds for transit projects."
   ]
  },
  {
   "cell_type": "code",
   "execution_count": 24,
   "metadata": {},
   "outputs": [],
   "source": [
    "import arcpy\n",
    "import os\n",
    "from arcgis.features import SpatialDataFrame\n",
    "import pandas as pd\n",
    "import numpy as np\n",
    "import matplotlib.pyplot as plt"
   ]
  },
  {
   "cell_type": "code",
   "execution_count": 3,
   "metadata": {},
   "outputs": [],
   "source": [
    "tr = pd.DataFrame.spatial.from_featureclass(\"TransitRoutes\")"
   ]
  },
  {
   "cell_type": "code",
   "execution_count": 17,
   "metadata": {},
   "outputs": [
    {
     "data": {
      "text/html": [
       "<div>\n",
       "<style scoped>\n",
       "    .dataframe tbody tr th:only-of-type {\n",
       "        vertical-align: middle;\n",
       "    }\n",
       "\n",
       "    .dataframe tbody tr th {\n",
       "        vertical-align: top;\n",
       "    }\n",
       "\n",
       "    .dataframe thead th {\n",
       "        text-align: right;\n",
       "    }\n",
       "</style>\n",
       "<table border=\"1\" class=\"dataframe\">\n",
       "  <thead>\n",
       "    <tr style=\"text-align: right;\">\n",
       "      <th></th>\n",
       "      <th>OBJECTID</th>\n",
       "      <th>shape_id</th>\n",
       "      <th>trip_id</th>\n",
       "      <th>route_id</th>\n",
       "      <th>Length_Miles</th>\n",
       "      <th>TransitTime</th>\n",
       "      <th>RouteType</th>\n",
       "      <th>StopCount</th>\n",
       "      <th>SHAPE</th>\n",
       "      <th>mph</th>\n",
       "    </tr>\n",
       "  </thead>\n",
       "  <tbody>\n",
       "    <tr>\n",
       "      <th>0</th>\n",
       "      <td>1</td>\n",
       "      <td>168744.0</td>\n",
       "      <td>3522196.0</td>\n",
       "      <td>74606.0</td>\n",
       "      <td>6.977684</td>\n",
       "      <td>36.772844</td>\n",
       "      <td>None</td>\n",
       "      <td>40.0</td>\n",
       "      <td>{\"paths\": [[[429319.6299999999, 4513829.51], [...</td>\n",
       "      <td>11.385061</td>\n",
       "    </tr>\n",
       "    <tr>\n",
       "      <th>1</th>\n",
       "      <td>2</td>\n",
       "      <td>168745.0</td>\n",
       "      <td>3522214.0</td>\n",
       "      <td>74607.0</td>\n",
       "      <td>6.671474</td>\n",
       "      <td>33.885705</td>\n",
       "      <td>None</td>\n",
       "      <td>34.0</td>\n",
       "      <td>{\"paths\": [[[424247.5800000001, 4508583.1], [4...</td>\n",
       "      <td>11.812899</td>\n",
       "    </tr>\n",
       "    <tr>\n",
       "      <th>2</th>\n",
       "      <td>3</td>\n",
       "      <td>168747.0</td>\n",
       "      <td>3522339.0</td>\n",
       "      <td>74608.0</td>\n",
       "      <td>4.470102</td>\n",
       "      <td>22.470184</td>\n",
       "      <td>None</td>\n",
       "      <td>22.0</td>\n",
       "      <td>{\"paths\": [[[423270.7999999998, 4512865.140000...</td>\n",
       "      <td>11.936089</td>\n",
       "    </tr>\n",
       "    <tr>\n",
       "      <th>3</th>\n",
       "      <td>4</td>\n",
       "      <td>168749.0</td>\n",
       "      <td>3522785.0</td>\n",
       "      <td>74609.0</td>\n",
       "      <td>10.438241</td>\n",
       "      <td>52.058845</td>\n",
       "      <td>None</td>\n",
       "      <td>50.0</td>\n",
       "      <td>{\"paths\": [[[423270.7999999998, 4512865.140000...</td>\n",
       "      <td>12.030511</td>\n",
       "    </tr>\n",
       "    <tr>\n",
       "      <th>4</th>\n",
       "      <td>5</td>\n",
       "      <td>168751.0</td>\n",
       "      <td>3523164.0</td>\n",
       "      <td>74610.0</td>\n",
       "      <td>9.905705</td>\n",
       "      <td>48.668182</td>\n",
       "      <td>None</td>\n",
       "      <td>45.0</td>\n",
       "      <td>{\"paths\": [[[424309.0099999998, 4501340.710000...</td>\n",
       "      <td>12.212132</td>\n",
       "    </tr>\n",
       "  </tbody>\n",
       "</table>\n",
       "</div>"
      ],
      "text/plain": [
       "   OBJECTID  ...        mph\n",
       "0         1  ...  11.385061\n",
       "1         2  ...  11.812899\n",
       "2         3  ...  11.936089\n",
       "3         4  ...  12.030511\n",
       "4         5  ...  12.212132\n",
       "\n",
       "[5 rows x 10 columns]"
      ]
     },
     "execution_count": 17,
     "metadata": {},
     "output_type": "execute_result"
    }
   ],
   "source": [
    "tr.head()"
   ]
  },
  {
   "cell_type": "code",
   "execution_count": 5,
   "metadata": {},
   "outputs": [],
   "source": [
    "tr['mph'] = tr['Length_Miles'] / (tr['TransitTime']/60)"
   ]
  },
  {
   "cell_type": "code",
   "execution_count": 18,
   "metadata": {},
   "outputs": [],
   "source": [
    "tr.loc[tr['RouteType'].apply(lambda x: x is None), 'RouteType'] = 'Other'"
   ]
  },
  {
   "cell_type": "code",
   "execution_count": 27,
   "metadata": {},
   "outputs": [
    {
     "data": {
      "image/png": "[encoded data removed]",
      "text/plain": [
       "<Figure size 432x288 with 1 Axes>"
      ]
     },
     "metadata": {},
     "output_type": "display_data"
    }
   ],
   "source": [
    "plt.hist(tr.loc[tr['RouteType']  == 'Other', 'mph'])\n",
    "plt.title('Distribution of Transit Route Speeds')\n",
    "plt.ylabel('MPH')\n",
    "plt.savefig('transit_speeds.png')\n",
    "plt.show()"
   ]
  },
  {
   "cell_type": "code",
   "execution_count": 19,
   "metadata": {},
   "outputs": [
    {
     "data": {
      "text/html": [
       "<div>\n",
       "<style scoped>\n",
       "    .dataframe tbody tr th:only-of-type {\n",
       "        vertical-align: middle;\n",
       "    }\n",
       "\n",
       "    .dataframe tbody tr th {\n",
       "        vertical-align: top;\n",
       "    }\n",
       "\n",
       "    .dataframe thead th {\n",
       "        text-align: right;\n",
       "    }\n",
       "</style>\n",
       "<table border=\"1\" class=\"dataframe\">\n",
       "  <thead>\n",
       "    <tr style=\"text-align: right;\">\n",
       "      <th></th>\n",
       "      <th>median_mph</th>\n",
       "    </tr>\n",
       "    <tr>\n",
       "      <th>RouteType</th>\n",
       "      <th></th>\n",
       "    </tr>\n",
       "  </thead>\n",
       "  <tbody>\n",
       "    <tr>\n",
       "      <th>CommuterRail</th>\n",
       "      <td>29.143941</td>\n",
       "    </tr>\n",
       "    <tr>\n",
       "      <th>Other</th>\n",
       "      <td>12.945353</td>\n",
       "    </tr>\n",
       "  </tbody>\n",
       "</table>\n",
       "</div>"
      ],
      "text/plain": [
       "              median_mph\n",
       "RouteType               \n",
       "CommuterRail   29.143941\n",
       "Other          12.945353"
      ]
     },
     "execution_count": 19,
     "metadata": {},
     "output_type": "execute_result"
    }
   ],
   "source": [
    "tr.groupby('RouteType').agg(\n",
    "    median_mph=pd.NamedAgg(column='mph', aggfunc=np.median))"
   ]
  },
  {
   "cell_type": "code",
   "execution_count": null,
   "metadata": {},
   "outputs": [],
   "source": []
  }
 ],
 "metadata": {
  "kernelspec": {
   "display_name": "ArcGISPro",
   "language": "Python",
   "name": "python3"
  },
  "language_info": {
   "file_extension": ".py",
   "name": "python",
   "version": "3"
  }
 },
 "nbformat": 4,
 "nbformat_minor": 2
}
