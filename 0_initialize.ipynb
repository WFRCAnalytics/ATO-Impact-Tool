{
 "cells": [
  {
   "cell_type": "code",
   "execution_count": 1,
   "metadata": {
    "ExecuteTime": {
     "end_time": "2021-11-22T20:08:20.238502Z",
     "start_time": "2021-11-22T20:08:08.228368Z"
    }
   },
   "outputs": [
    {
     "data": {
      "text/plain": [
       "'CheckedOut'"
      ]
     },
     "execution_count": 1,
     "metadata": {},
     "output_type": "execute_result"
    }
   ],
   "source": [
    "import sys\n",
    "import os\n",
    "import arcpy\n",
    "import shutil\n",
    "\n",
    "import pandas as pd\n",
    "from arcgis.features import SpatialDataFrame\n",
    "\n",
    "src = os.path.join(os.path.abspath(\".\"), 'src')\n",
    "if src not in sys.path:\n",
    "    sys.path.append(src)\n",
    "    \n",
    "from ato_tools import testing\n",
    "from ato_tools import scoring\n",
    "\n",
    "# Set the XYResolution environment to a linear unit\n",
    "arcpy.env.XYResolution = \"0.01 Meters\"\n",
    "arcpy.env.XYTolerance = \"0.1 Meters\"\n",
    "\n",
    "base_path = os.path.abspath(\".\")\n",
    "\n",
    "arcpy.CheckOutExtension(\"network\")"
   ]
  },
  {
   "cell_type": "code",
   "execution_count": 3,
   "metadata": {
    "ExecuteTime": {
     "end_time": "2021-11-22T20:10:39.297293Z",
     "start_time": "2021-11-22T20:10:39.287291Z"
    }
   },
   "outputs": [
    {
     "data": {
      "text/plain": [
       "True"
      ]
     },
     "execution_count": 3,
     "metadata": {},
     "output_type": "execute_result"
    }
   ],
   "source": []
  },
  {
   "cell_type": "code",
   "execution_count": null,
   "metadata": {},
   "outputs": [],
   "source": []
  }
 ],
 "metadata": {
  "kernelspec": {
   "display_name": "Python 3",
   "language": "python",
   "name": "python3"
  },
  "language_info": {
   "codemirror_mode": {
    "name": "ipython",
    "version": 3
   },
   "file_extension": ".py",
   "mimetype": "text/x-python",
   "name": "python",
   "nbconvert_exporter": "python",
   "pygments_lexer": "ipython3",
   "version": "3.7.10"
  }
 },
 "nbformat": 4,
 "nbformat_minor": 2
}
