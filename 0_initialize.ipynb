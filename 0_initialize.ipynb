{
 "cells": [
  {
   "cell_type": "code",
   "execution_count": 1,
   "metadata": {
    "ExecuteTime": {
     "end_time": "2021-11-17T00:22:26.565487Z",
     "start_time": "2021-11-17T00:22:22.85121Z"
    }
   },
   "outputs": [
    {
     "data": {
      "text/plain": [
       "'CheckedOut'"
      ]
     },
     "execution_count": 1,
     "metadata": {},
     "output_type": "execute_result"
    }
   ],
   "source": [
    "import sys\n",
    "import os\n",
    "import arcpy\n",
    "import shutil\n",
    "\n",
    "import pandas as pd\n",
    "from arcgis.features import SpatialDataFrame\n",
    "\n",
    "sys.path.append(os.path.join(os.path.abspath(\".\"), 'src'))\n",
    "from ato_tools import testing\n",
    "from ato_tools import scoring\n",
    "\n",
    "# Set the XYResolution environment to a linear unit\n",
    "arcpy.env.XYResolution = \"0.01 Meters\"\n",
    "arcpy.env.XYTolerance = \"0.1 Meters\"\n",
    "\n",
    "base_path = os.path.abspath(\".\")\n",
    "\n",
    "arcpy.CheckOutExtension(\"network\")"
   ]
  },
  {
   "cell_type": "code",
   "execution_count": null,
   "metadata": {},
   "outputs": [],
   "source": []
  }
 ],
 "metadata": {
  "kernelspec": {
   "display_name": "ArcGISPro",
   "language": "Python",
   "name": "python3"
  },
  "language_info": {
   "file_extension": ".py",
   "name": "python",
   "version": "3"
  }
 },
 "nbformat": 4,
 "nbformat_minor": 2
}
