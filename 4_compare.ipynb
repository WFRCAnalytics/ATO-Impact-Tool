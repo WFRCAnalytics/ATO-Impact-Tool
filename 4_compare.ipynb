{
 "cells": [
  {
   "cell_type": "code",
   "execution_count": null,
   "metadata": {},
   "outputs": [],
   "source": [
    "gdbs = list()\n",
    "for dirpath, dirs, files in os.walk(r'scenario'):\n",
    "    for d in dirs:\n",
    "        dir_name = os.path.join(base_path, dirpath, d)\n",
    "        if os.path.isdir(dir_name) and dir_name.endswith('.gdb'):\n",
    "            if not d == 'scenario_template.gdb':\n",
    "                gdbs.append(os.path.join(dirpath, d))\n",
    "for mode in ['auto', 'bike', 'transit']:\n",
    "    scenario_folder = os.path.join('scenario', mode)\n",
    "    for file in os.listdir(scenario_folder):\n",
    "        d = os.path.join(base_path, scenario_folder, file)\n",
    "        if os.path.isdir(d) and dir_name.endswith('.gdb'):\n",
    "            if arcpy.Exists(os.path.join(d, 'scores')) == False:\n",
    "                scoring.score(gdb, mode = mode)"
   ]
  },
  {
   "cell_type": "code",
   "execution_count": 3,
   "metadata": {},
   "outputs": [
    {
     "ename": "NameError",
     "evalue": "name 'os' is not defined",
     "output_type": "error",
     "traceback": [
      "\u001b[1;31m---------------------------------------------------------------------------\u001b[0m",
      "\u001b[1;31mNameError\u001b[0m                                 Traceback (most recent call last)",
      "\u001b[1;32m<ipython-input-3-31c47116fbdb>\u001b[0m in \u001b[0;36m<module>\u001b[1;34m\u001b[0m\n\u001b[0;32m      1\u001b[0m \u001b[1;32mfor\u001b[0m \u001b[0mmode\u001b[0m \u001b[1;32min\u001b[0m \u001b[1;33m[\u001b[0m\u001b[1;34m'auto'\u001b[0m\u001b[1;33m,\u001b[0m \u001b[1;34m'bike'\u001b[0m\u001b[1;33m,\u001b[0m \u001b[1;34m'transit'\u001b[0m\u001b[1;33m]\u001b[0m\u001b[1;33m:\u001b[0m\u001b[1;33m\u001b[0m\u001b[1;33m\u001b[0m\u001b[0m\n\u001b[1;32m----> 2\u001b[1;33m     \u001b[0mscenario_folder\u001b[0m \u001b[1;33m=\u001b[0m \u001b[0mos\u001b[0m\u001b[1;33m.\u001b[0m\u001b[0mpath\u001b[0m\u001b[1;33m.\u001b[0m\u001b[0mjoin\u001b[0m\u001b[1;33m(\u001b[0m\u001b[1;34m'scenario'\u001b[0m\u001b[1;33m,\u001b[0m \u001b[0mmode\u001b[0m\u001b[1;33m)\u001b[0m\u001b[1;33m\u001b[0m\u001b[1;33m\u001b[0m\u001b[0m\n\u001b[0m\u001b[0;32m      3\u001b[0m     \u001b[1;32mfor\u001b[0m \u001b[0mfile\u001b[0m \u001b[1;32min\u001b[0m \u001b[0mos\u001b[0m\u001b[1;33m.\u001b[0m\u001b[0mlistdir\u001b[0m\u001b[1;33m(\u001b[0m\u001b[0mscenario_folder\u001b[0m\u001b[1;33m)\u001b[0m\u001b[1;33m:\u001b[0m\u001b[1;33m\u001b[0m\u001b[1;33m\u001b[0m\u001b[0m\n\u001b[0;32m      4\u001b[0m         \u001b[0md\u001b[0m \u001b[1;33m=\u001b[0m \u001b[0mos\u001b[0m\u001b[1;33m.\u001b[0m\u001b[0mpath\u001b[0m\u001b[1;33m.\u001b[0m\u001b[0mjoin\u001b[0m\u001b[1;33m(\u001b[0m\u001b[0mbase_path\u001b[0m\u001b[1;33m,\u001b[0m \u001b[0mscenario_folder\u001b[0m\u001b[1;33m,\u001b[0m \u001b[0mfile\u001b[0m\u001b[1;33m)\u001b[0m\u001b[1;33m\u001b[0m\u001b[1;33m\u001b[0m\u001b[0m\n\u001b[0;32m      5\u001b[0m         \u001b[1;32mif\u001b[0m \u001b[0mos\u001b[0m\u001b[1;33m.\u001b[0m\u001b[0mpath\u001b[0m\u001b[1;33m.\u001b[0m\u001b[0misdir\u001b[0m\u001b[1;33m(\u001b[0m\u001b[0md\u001b[0m\u001b[1;33m)\u001b[0m \u001b[1;32mand\u001b[0m \u001b[0mdir_name\u001b[0m\u001b[1;33m.\u001b[0m\u001b[0mendswith\u001b[0m\u001b[1;33m(\u001b[0m\u001b[1;34m'.gdb'\u001b[0m\u001b[1;33m)\u001b[0m\u001b[1;33m:\u001b[0m\u001b[1;33m\u001b[0m\u001b[1;33m\u001b[0m\u001b[0m\n",
      "\u001b[1;31mNameError\u001b[0m: name 'os' is not defined"
     ]
    }
   ],
   "source": [
    "for mode in ['auto', 'bike', 'transit']:\n",
    "    scenario_folder = os.path.join('scenario', mode)\n",
    "    for file in os.listdir(scenario_folder):\n",
    "        d = os.path.join(base_path, scenario_folder, file)\n",
    "        if os.path.isdir(d) and dir_name.endswith('.gdb'):\n",
    "            if arcpy.Exists(os.path.join(d, 'scores')) == False:\n",
    "                print('Scoring {0} for {1}'.format(gdb, mode))"
   ]
  },
  {
   "cell_type": "code",
   "execution_count": null,
   "metadata": {
    "ExecuteTime": {
     "end_time": "2021-10-16T17:30:13.721199Z",
     "start_time": "2021-10-16T17:30:13.641688Z"
    }
   },
   "outputs": [],
   "source": [
    "before = pd.read_csv(\"bus_baseline.csv\")\n",
    "after = pd.read_csv(\"mod.csv\")\n",
    "compare_out_file = mode + \"_mod_compare.csv\""
   ]
  },
  {
   "cell_type": "code",
   "execution_count": null,
   "metadata": {
    "ExecuteTime": {
     "end_time": "2021-10-16T17:30:17.693635Z",
     "start_time": "2021-10-16T17:30:17.677909Z"
    }
   },
   "outputs": [],
   "source": [
    "df = pd.merge(before, \n",
    "              after, \n",
    "              on=['Origin_TAZID', 'Destination_TAZID'], \n",
    "              how=\"inner\", \n",
    "              suffixes=(\"_before\", \"_after\")\n",
    ")"
   ]
  },
  {
   "cell_type": "code",
   "execution_count": null,
   "metadata": {
    "ExecuteTime": {
     "end_time": "2021-10-16T17:30:21.480050Z",
     "start_time": "2021-10-16T17:30:21.42487Z"
    }
   },
   "outputs": [],
   "source": [
    "df['diff_hh'] = df['weighted_hh_after'] - df['weighted_hh_before']\n",
    "df['diff_jobs'] = df['weighted_jobs_after'] - df['weighted_jobs_before']\n",
    "df['diff_ato'] = df['ato_after'] - df['ato_before']"
   ]
  },
  {
   "cell_type": "code",
   "execution_count": null,
   "metadata": {
    "scrolled": true
   },
   "outputs": [],
   "source": [
    "#df.groupby('Origin_CO_TAZID_before')['diff_ato'].sum()"
   ]
  },
  {
   "cell_type": "code",
   "execution_count": null,
   "metadata": {
    "ExecuteTime": {
     "end_time": "2021-10-16T17:30:33.597330Z",
     "start_time": "2021-10-16T17:30:33.24179Z"
    },
    "scrolled": false
   },
   "outputs": [],
   "source": [
    "df.head()"
   ]
  },
  {
   "cell_type": "code",
   "execution_count": null,
   "metadata": {
    "scrolled": true
   },
   "outputs": [],
   "source": [
    "# assert df['diff_ato'].min() >= 0"
   ]
  },
  {
   "cell_type": "code",
   "execution_count": null,
   "metadata": {
    "ExecuteTime": {
     "end_time": "2021-10-16T17:31:11.900898Z",
     "start_time": "2021-10-16T17:31:11.886541Z"
    }
   },
   "outputs": [],
   "source": [
    "summary = df.groupby('Origin_TAZID').agg(\n",
    "    jobs=pd.NamedAgg(column='diff_jobs', aggfunc=sum),\n",
    "    hh=pd.NamedAgg(column='diff_hh', aggfunc=sum),\n",
    "    ato=pd.NamedAgg(column='diff_ato', aggfunc=sum))"
   ]
  },
  {
   "cell_type": "code",
   "execution_count": null,
   "metadata": {
    "ExecuteTime": {
     "end_time": "2021-10-16T17:31:12.737038Z",
     "start_time": "2021-10-16T17:31:12.735022Z"
    }
   },
   "outputs": [],
   "source": [
    "summary['ato'] = summary['jobs'] + summary['hh'] * 1.8"
   ]
  },
  {
   "cell_type": "code",
   "execution_count": null,
   "metadata": {
    "ExecuteTime": {
     "end_time": "2021-10-16T17:31:13.397908Z",
     "start_time": "2021-10-16T17:31:13.394760Z"
    }
   },
   "outputs": [],
   "source": [
    "summary.to_csv(compare_out_file)"
   ]
  },
  {
   "cell_type": "code",
   "execution_count": null,
   "metadata": {
    "ExecuteTime": {
     "end_time": "2021-10-16T17:31:15.873677Z",
     "start_time": "2021-10-16T17:31:15.845312Z"
    }
   },
   "outputs": [],
   "source": [
    "df.agg(\n",
    "    jobs=pd.NamedAgg(column='diff_jobs', aggfunc=sum),\n",
    "    hh=pd.NamedAgg(column='diff_hh', aggfunc=sum),\n",
    "    ato=pd.NamedAgg(column='diff_ato', aggfunc=sum))"
   ]
  },
  {
   "cell_type": "markdown",
   "metadata": {},
   "source": [
    "## Visualize Output"
   ]
  },
  {
   "cell_type": "code",
   "execution_count": 6,
   "metadata": {},
   "outputs": [
    {
     "data": {
      "text/html": [
       "<h2>Output</h2>a Layer object<h2>Messages</h2>Start Time: Tuesday, October 26, 2021 8:44:41 AM<br/>Succeeded at Tuesday, October 26, 2021 8:44:41 AM (Elapsed Time: 0.01 seconds)<br/><style>.rendered_html td, .rendered_html th {text-align: left;}.rendered_html tbody {border: 1px solid black;}</style>"
      ],
      "text/plain": [
       "<Result 'taz_compare'>"
      ]
     },
     "execution_count": 6,
     "metadata": {},
     "output_type": "execute_result"
    }
   ],
   "source": [
    "arcpy.management.MakeFeatureLayer(\n",
    "    os.path.join(base_path, r\"shp\\taz_wfrc.gdb\\ATO\"), \n",
    "    \"taz_compare\"\n",
    ")"
   ]
  },
  {
   "cell_type": "code",
   "execution_count": null,
   "metadata": {},
   "outputs": [],
   "source": [
    "arcpy.conversion.TableToTable(\n",
    "    os.path.join(base_path, compare_out_file), \n",
    "    base_gdb , \n",
    "    \"mod_compare\"\n",
    ")"
   ]
  },
  {
   "cell_type": "code",
   "execution_count": null,
   "metadata": {},
   "outputs": [],
   "source": [
    "arcpy.management.AddJoin(\n",
    "    \"taz_compare\", \n",
    "    \"CO_TAZID\", \n",
    "    \"mod_compare\", \n",
    "    \"Origin_TAZID\", \n",
    "    \"KEEP_ALL\"\n",
    ")"
   ]
  },
  {
   "cell_type": "markdown",
   "metadata": {},
   "source": [
    "Now, manually apply symbology to taz_compare layer (I experimented with creating a layer style and applying programatically), but found it easier just to manually update)\n"
   ]
  },
  {
   "cell_type": "code",
   "execution_count": null,
   "metadata": {},
   "outputs": [],
   "source": []
  }
 ],
 "metadata": {
  "kernelspec": {
   "display_name": "Python 3",
   "language": "python",
   "name": "python3"
  },
  "language_info": {
   "codemirror_mode": {
    "name": "ipython",
    "version": 3
   },
   "file_extension": ".py",
   "mimetype": "text/x-python",
   "name": "python",
   "nbconvert_exporter": "python",
   "pygments_lexer": "ipython3",
   "version": "3.7.10"
  }
 },
 "nbformat": 4,
 "nbformat_minor": 2
}
