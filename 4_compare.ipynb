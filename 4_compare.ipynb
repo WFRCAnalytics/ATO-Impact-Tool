{
 "cells": [
  {
   "cell_type": "code",
   "execution_count": null,
   "metadata": {},
   "outputs": [],
   "source": [
    "import sys\n",
    "import os\n",
    "import arcpy\n",
    "\n",
    "import pandas as pd\n",
    "from arcgis.features import SpatialDataFrame\n",
    "\n",
    "base_path = os.path.abspath(\".\")"
   ]
  },
  {
   "cell_type": "raw",
   "metadata": {},
   "source": [
    "field_list = ['Origin_TAZID', 'Destination_TAZID', 'accessible_jobs', 'accessible_hh']\n",
    "\n",
    "arr = arcpy.da.TableToNumPyArray(r'baseline.gdb\\auto_baseline_summary', field_list)\n",
    "baseline_auto = pd.DataFrame(arr, columns = field_list)\n",
    "\n",
    "arr = arcpy.da.TableToNumPyArray(r'baseline.gdb\\transit_baseline', field_list)\n",
    "baseline_transit = pd.DataFrame(arr, columns = field_list)"
   ]
  },
  {
   "cell_type": "code",
   "execution_count": null,
   "metadata": {},
   "outputs": [],
   "source": [
    "field_list = ['CO_TAZID', 'HH', 'JOB', 'accessible_jobs', 'accessible_hh', 'ato']\n",
    "\n",
    "arr = arcpy.da.TableToNumPyArray(r'baseline.gdb\\auto_baseline_summary', field_list)\n",
    "baseline_auto = pd.DataFrame(arr, columns = field_list)\n",
    "\n",
    "arr = arcpy.da.TableToNumPyArray(r'baseline.gdb\\transit_baseline_summary', field_list)\n",
    "baseline_transit = pd.DataFrame(arr, columns = field_list)"
   ]
  },
  {
   "cell_type": "code",
   "execution_count": null,
   "metadata": {},
   "outputs": [],
   "source": [
    "summary_long = pd.DataFrame(columns = ['Name', 'Mode', 'hh', 'jobs', 'ato'])\n",
    "\n",
    "vals = {\n",
    "    \"Name\":\"Baseline\",\n",
    "    \"Mode\": \"Auto\",\n",
    "    \"hh\": baseline_auto['accessible_hh'].sum(),\n",
    "    \"jobs\": baseline_auto['accessible_jobs'].sum(),\n",
    "    \"ato\": baseline_auto['ato'].sum()\n",
    "}\n",
    "summary_long = summary_long.append(vals, ignore_index=True)\n",
    "\n",
    "vals = {\n",
    "    \"Name\": \"Baseline\",\n",
    "    \"Mode\": \"Transit\",\n",
    "    \"hh\": baseline_transit['accessible_hh'].sum(),\n",
    "    \"jobs\": baseline_transit['accessible_jobs'].sum(),\n",
    "    \"ato\": baseline_transit['ato'].sum()\n",
    "}\n",
    "summary_long = summary_long.append(vals, ignore_index=True)"
   ]
  },
  {
   "cell_type": "code",
   "execution_count": null,
   "metadata": {},
   "outputs": [],
   "source": [
    "summary_long"
   ]
  },
  {
   "cell_type": "code",
   "execution_count": null,
   "metadata": {},
   "outputs": [],
   "source": [
    "scenarios = list()\n",
    "\n",
    "for mode in ['Driving', 'Transit', 'Cycling']:\n",
    "    scenario_folder = os.path.join('scenario', mode)\n",
    "    for file in os.listdir(scenario_folder):\n",
    "        d = os.path.join(scenario_folder, file)\n",
    "        if os.path.isdir(d) and d.endswith('.gdb'):\n",
    "            if arcpy.Exists(os.path.join(d, 'scores')) == True:\n",
    "\n",
    "                scenarios.append({\n",
    "                                \"name\": file[:-4],\n",
    "                                \"mode\": mode,\n",
    "                                \"gdb_path\": d\n",
    "                            })"
   ]
  },
  {
   "cell_type": "code",
   "execution_count": null,
   "metadata": {},
   "outputs": [],
   "source": [
    "scenarios"
   ]
  },
  {
   "cell_type": "code",
   "execution_count": null,
   "metadata": {},
   "outputs": [],
   "source": []
  },
  {
   "cell_type": "code",
   "execution_count": null,
   "metadata": {},
   "outputs": [],
   "source": [
    "# filter to just driving for now\n",
    "#scenarios = [scenario for scenario in scenarios if scenario['mode'] == mode]"
   ]
  },
  {
   "cell_type": "code",
   "execution_count": null,
   "metadata": {},
   "outputs": [],
   "source": [
    "for scenario in scenarios:\n",
    "    arr = arcpy.da.TableToNumPyArray(scenario['gdb_path'] + r'\\scores_summary', field_list)\n",
    "    scores = pd.DataFrame(arr, columns = field_list)\n",
    "    \n",
    "    mode = scenario['mode']\n",
    "    baseline = baseline_auto if mode == 'Driving' else baseline_transit\n",
    "    \n",
    "    df = pd.merge(\n",
    "        baseline, \n",
    "        scores, \n",
    "        on='CO_TAZID', \n",
    "        how=\"inner\",\n",
    "        suffixes=(\"_before\", \"_after\")\n",
    "    )\n",
    "    df['diff_hh'] = df['accessible_hh_after'] - df['accessible_hh_before']\n",
    "    df['diff_jobs'] = df['accessible_jobs_after'] - df['accessible_jobs_before']\n",
    "    df['diff_ato'] = df['ato_after'] - df['ato_before']\n",
    "    vals = {\n",
    "        \"Name\": scenario['name'],\n",
    "        'Mode': mode,\n",
    "        \"hh\": df['diff_hh'].sum(),\n",
    "        \"jobs\": df['diff_jobs'].sum(),\n",
    "        \"ato\": df['diff_hh'].sum()\n",
    "    }\n",
    "    \n",
    "    summary_long = summary_long.append(vals, ignore_index=True)"
   ]
  },
  {
   "cell_type": "code",
   "execution_count": null,
   "metadata": {},
   "outputs": [],
   "source": []
  },
  {
   "cell_type": "code",
   "execution_count": null,
   "metadata": {},
   "outputs": [],
   "source": [
    "\n",
    "summary_long"
   ]
  },
  {
   "cell_type": "code",
   "execution_count": null,
   "metadata": {},
   "outputs": [],
   "source": [
    "summary_long.to_csv(r'scenario\\scenario_scores.csv')"
   ]
  },
  {
   "cell_type": "code",
   "execution_count": null,
   "metadata": {},
   "outputs": [],
   "source": []
  },
  {
   "cell_type": "code",
   "execution_count": null,
   "metadata": {},
   "outputs": [],
   "source": []
  },
  {
   "cell_type": "markdown",
   "metadata": {
    "heading_collapsed": true
   },
   "source": [
    "## Visualize Output"
   ]
  },
  {
   "cell_type": "code",
   "execution_count": null,
   "metadata": {
    "hidden": true
   },
   "outputs": [],
   "source": [
    "arcpy.management.MakeFeatureLayer(\n",
    "    os.path.join(base_path, r\"shp\\taz_wfrc.gdb\\ATO\"), \n",
    "    \"taz_compare\"\n",
    ")"
   ]
  },
  {
   "cell_type": "code",
   "execution_count": null,
   "metadata": {
    "hidden": true
   },
   "outputs": [],
   "source": [
    "arcpy.conversion.TableToTable(\n",
    "    os.path.join(base_path, compare_out_file), \n",
    "    base_gdb , \n",
    "    \"mod_compare\"\n",
    ")"
   ]
  },
  {
   "cell_type": "code",
   "execution_count": null,
   "metadata": {
    "hidden": true
   },
   "outputs": [],
   "source": [
    "arcpy.management.AddJoin(\n",
    "    \"taz_compare\", \n",
    "    \"CO_TAZID\", \n",
    "    \"mod_compare\", \n",
    "    \"Origin_TAZID\", \n",
    "    \"KEEP_ALL\"\n",
    ")"
   ]
  },
  {
   "cell_type": "markdown",
   "metadata": {
    "hidden": true
   },
   "source": [
    "Now, manually apply symbology to taz_compare layer (I experimented with creating a layer style and applying programatically), but found it easier just to manually update)\n"
   ]
  },
  {
   "cell_type": "code",
   "execution_count": null,
   "metadata": {
    "hidden": true
   },
   "outputs": [],
   "source": []
  }
 ],
 "metadata": {
  "kernelspec": {
   "display_name": "ArcGISPro",
   "language": "Python",
   "name": "python3"
  },
  "language_info": {
   "file_extension": ".py",
   "name": "python",
   "version": "3"
  }
 },
 "nbformat": 4,
 "nbformat_minor": 2
}
