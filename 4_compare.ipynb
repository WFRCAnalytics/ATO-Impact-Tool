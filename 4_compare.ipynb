{
 "cells": [
  {
   "cell_type": "code",
   "execution_count": 35,
   "metadata": {},
   "outputs": [],
   "source": [
    "before = pd.read_csv(\"driving_baseline.csv\")\n",
    "after = pd.read_csv(\"driving_mod.csv\")\n",
    "compare_out_file = \"driving_mod_compare.csv\""
   ]
  },
  {
   "cell_type": "code",
   "execution_count": 36,
   "metadata": {},
   "outputs": [],
   "source": [
    "df = pd.merge(before, after, on=\"Name\", suffixes=(\"_before\", \"_after\"))"
   ]
  },
  {
   "cell_type": "code",
   "execution_count": 37,
   "metadata": {},
   "outputs": [],
   "source": [
    "df['diff_hh'] = df['weighted_hh_after'] - df['weighted_hh_before']\n",
    "df['diff_jobs'] = df['weighted_jobs_after'] - df['weighted_jobs_before']\n",
    "df['diff_ato'] = df['ato_after'] - df['ato_before']"
   ]
  },
  {
   "cell_type": "code",
   "execution_count": 38,
   "metadata": {},
   "outputs": [
    {
     "data": {
      "text/plain": [
       "Origin_CO_TAZID_before\n",
       "30001     0.0\n",
       "30002     0.0\n",
       "30003     0.0\n",
       "30004     0.0\n",
       "30005     0.0\n",
       "         ... \n",
       "570416    5.0\n",
       "570417    2.0\n",
       "570418    5.0\n",
       "570419    5.0\n",
       "570420    2.0\n",
       "Name: diff_ato, Length: 2858, dtype: float64"
      ]
     },
     "execution_count": 38,
     "metadata": {},
     "output_type": "execute_result"
    }
   ],
   "source": [
    "df.groupby('Origin_CO_TAZID_before')['diff_ato'].sum()"
   ]
  },
  {
   "cell_type": "code",
   "execution_count": 39,
   "metadata": {
    "scrolled": false
   },
   "outputs": [
    {
     "data": {
      "text/html": [
       "<div>\n",
       "<style scoped>\n",
       "    .dataframe tbody tr th:only-of-type {\n",
       "        vertical-align: middle;\n",
       "    }\n",
       "\n",
       "    .dataframe tbody tr th {\n",
       "        vertical-align: top;\n",
       "    }\n",
       "\n",
       "    .dataframe thead th {\n",
       "        text-align: right;\n",
       "    }\n",
       "</style>\n",
       "<table border=\"1\" class=\"dataframe\">\n",
       "  <thead>\n",
       "    <tr style=\"text-align: right;\">\n",
       "      <th></th>\n",
       "      <th>Unnamed: 0_before</th>\n",
       "      <th>Name</th>\n",
       "      <th>Origin_CO_TAZID_before</th>\n",
       "      <th>Dest_CO_TAZID_before</th>\n",
       "      <th>travel_time_before</th>\n",
       "      <th>survey_weight_before</th>\n",
       "      <th>weighted_jobs_before</th>\n",
       "      <th>weighted_hh_before</th>\n",
       "      <th>ato_before</th>\n",
       "      <th>Unnamed: 0_after</th>\n",
       "      <th>Origin_CO_TAZID_after</th>\n",
       "      <th>Dest_CO_TAZID_after</th>\n",
       "      <th>travel_time_after</th>\n",
       "      <th>survey_weight_after</th>\n",
       "      <th>weighted_jobs_after</th>\n",
       "      <th>weighted_hh_after</th>\n",
       "      <th>ato_after</th>\n",
       "      <th>diff_hh</th>\n",
       "      <th>diff_jobs</th>\n",
       "      <th>diff_ato</th>\n",
       "    </tr>\n",
       "  </thead>\n",
       "  <tbody>\n",
       "    <tr>\n",
       "      <th>0</th>\n",
       "      <td>0</td>\n",
       "      <td>491896 - 491896</td>\n",
       "      <td>491896</td>\n",
       "      <td>491896</td>\n",
       "      <td>0.000000</td>\n",
       "      <td>1.000</td>\n",
       "      <td>287.0</td>\n",
       "      <td>0.0</td>\n",
       "      <td>287.0</td>\n",
       "      <td>0</td>\n",
       "      <td>491896</td>\n",
       "      <td>491896</td>\n",
       "      <td>0.000000</td>\n",
       "      <td>1.000</td>\n",
       "      <td>287.0</td>\n",
       "      <td>0.0</td>\n",
       "      <td>287.0</td>\n",
       "      <td>0.0</td>\n",
       "      <td>0.0</td>\n",
       "      <td>0.0</td>\n",
       "    </tr>\n",
       "    <tr>\n",
       "      <th>1</th>\n",
       "      <td>1</td>\n",
       "      <td>492490 - 491896</td>\n",
       "      <td>492490</td>\n",
       "      <td>491896</td>\n",
       "      <td>34.753781</td>\n",
       "      <td>0.097</td>\n",
       "      <td>28.0</td>\n",
       "      <td>0.0</td>\n",
       "      <td>28.0</td>\n",
       "      <td>1</td>\n",
       "      <td>492490</td>\n",
       "      <td>491896</td>\n",
       "      <td>34.753781</td>\n",
       "      <td>0.097</td>\n",
       "      <td>28.0</td>\n",
       "      <td>0.0</td>\n",
       "      <td>28.0</td>\n",
       "      <td>0.0</td>\n",
       "      <td>0.0</td>\n",
       "      <td>0.0</td>\n",
       "    </tr>\n",
       "    <tr>\n",
       "      <th>2</th>\n",
       "      <td>2</td>\n",
       "      <td>492493 - 491896</td>\n",
       "      <td>492493</td>\n",
       "      <td>491896</td>\n",
       "      <td>36.209782</td>\n",
       "      <td>0.084</td>\n",
       "      <td>24.0</td>\n",
       "      <td>0.0</td>\n",
       "      <td>24.0</td>\n",
       "      <td>2</td>\n",
       "      <td>492493</td>\n",
       "      <td>491896</td>\n",
       "      <td>36.209782</td>\n",
       "      <td>0.084</td>\n",
       "      <td>24.0</td>\n",
       "      <td>0.0</td>\n",
       "      <td>24.0</td>\n",
       "      <td>0.0</td>\n",
       "      <td>0.0</td>\n",
       "      <td>0.0</td>\n",
       "    </tr>\n",
       "    <tr>\n",
       "      <th>3</th>\n",
       "      <td>3</td>\n",
       "      <td>492632 - 491896</td>\n",
       "      <td>492632</td>\n",
       "      <td>491896</td>\n",
       "      <td>35.391817</td>\n",
       "      <td>0.091</td>\n",
       "      <td>26.0</td>\n",
       "      <td>0.0</td>\n",
       "      <td>26.0</td>\n",
       "      <td>3</td>\n",
       "      <td>492632</td>\n",
       "      <td>491896</td>\n",
       "      <td>35.391817</td>\n",
       "      <td>0.091</td>\n",
       "      <td>26.0</td>\n",
       "      <td>0.0</td>\n",
       "      <td>26.0</td>\n",
       "      <td>0.0</td>\n",
       "      <td>0.0</td>\n",
       "      <td>0.0</td>\n",
       "    </tr>\n",
       "    <tr>\n",
       "      <th>4</th>\n",
       "      <td>4</td>\n",
       "      <td>491859 - 491896</td>\n",
       "      <td>491859</td>\n",
       "      <td>491896</td>\n",
       "      <td>9.474881</td>\n",
       "      <td>0.767</td>\n",
       "      <td>220.0</td>\n",
       "      <td>0.0</td>\n",
       "      <td>220.0</td>\n",
       "      <td>4</td>\n",
       "      <td>491859</td>\n",
       "      <td>491896</td>\n",
       "      <td>9.474881</td>\n",
       "      <td>0.767</td>\n",
       "      <td>220.0</td>\n",
       "      <td>0.0</td>\n",
       "      <td>220.0</td>\n",
       "      <td>0.0</td>\n",
       "      <td>0.0</td>\n",
       "      <td>0.0</td>\n",
       "    </tr>\n",
       "  </tbody>\n",
       "</table>\n",
       "</div>"
      ],
      "text/plain": [
       "   Unnamed: 0_before             Name  ...  diff_jobs  diff_ato\n",
       "0                  0  491896 - 491896  ...        0.0       0.0\n",
       "1                  1  492490 - 491896  ...        0.0       0.0\n",
       "2                  2  492493 - 491896  ...        0.0       0.0\n",
       "3                  3  492632 - 491896  ...        0.0       0.0\n",
       "4                  4  491859 - 491896  ...        0.0       0.0\n",
       "\n",
       "[5 rows x 20 columns]"
      ]
     },
     "execution_count": 39,
     "metadata": {},
     "output_type": "execute_result"
    }
   ],
   "source": [
    "df.head()"
   ]
  },
  {
   "cell_type": "code",
   "execution_count": 40,
   "metadata": {},
   "outputs": [
    {
     "ename": "AssertionError",
     "evalue": "",
     "output_type": "error",
     "traceback": [
      "\u001b[0;31m---------------------------------------------------------------------------\u001b[0m\n\u001b[0;31mAssertionError\u001b[0m                            Traceback (most recent call last)",
      "In  \u001b[0;34m[40]\u001b[0m:\nLine \u001b[0;34m1\u001b[0m:     \u001b[34massert\u001b[39;49;00m df[\u001b[33m'\u001b[39;49;00m\u001b[33mdiff_ato\u001b[39;49;00m\u001b[33m'\u001b[39;49;00m].min() >= \u001b[34m0\u001b[39;49;00m\n",
      "\u001b[0;31mAssertionError\u001b[0m: \n\u001b[0;31m---------------------------------------------------------------------------\u001b[0m"
     ]
    }
   ],
   "source": [
    "assert df['diff_ato'].min() >= 0"
   ]
  },
  {
   "cell_type": "code",
   "execution_count": 41,
   "metadata": {},
   "outputs": [],
   "source": [
    "summary = df.groupby('Origin_CO_TAZID_before').agg(\n",
    "    jobs=pd.NamedAgg(column='diff_jobs', aggfunc=sum),\n",
    "    hh=pd.NamedAgg(column='diff_hh', aggfunc=sum),\n",
    "    ato=pd.NamedAgg(column='diff_ato', aggfunc=sum))"
   ]
  },
  {
   "cell_type": "code",
   "execution_count": 42,
   "metadata": {},
   "outputs": [],
   "source": [
    "summary.to_csv(compare_out_file)"
   ]
  },
  {
   "cell_type": "code",
   "execution_count": 43,
   "metadata": {},
   "outputs": [
    {
     "data": {
      "text/html": [
       "<div>\n",
       "<style scoped>\n",
       "    .dataframe tbody tr th:only-of-type {\n",
       "        vertical-align: middle;\n",
       "    }\n",
       "\n",
       "    .dataframe tbody tr th {\n",
       "        vertical-align: top;\n",
       "    }\n",
       "\n",
       "    .dataframe thead th {\n",
       "        text-align: right;\n",
       "    }\n",
       "</style>\n",
       "<table border=\"1\" class=\"dataframe\">\n",
       "  <thead>\n",
       "    <tr style=\"text-align: right;\">\n",
       "      <th></th>\n",
       "      <th>diff_jobs</th>\n",
       "      <th>diff_hh</th>\n",
       "      <th>diff_ato</th>\n",
       "    </tr>\n",
       "  </thead>\n",
       "  <tbody>\n",
       "    <tr>\n",
       "      <th>jobs</th>\n",
       "      <td>202287.0</td>\n",
       "      <td>NaN</td>\n",
       "      <td>NaN</td>\n",
       "    </tr>\n",
       "    <tr>\n",
       "      <th>hh</th>\n",
       "      <td>NaN</td>\n",
       "      <td>154537.0</td>\n",
       "      <td>NaN</td>\n",
       "    </tr>\n",
       "    <tr>\n",
       "      <th>ato</th>\n",
       "      <td>NaN</td>\n",
       "      <td>NaN</td>\n",
       "      <td>356824.0</td>\n",
       "    </tr>\n",
       "  </tbody>\n",
       "</table>\n",
       "</div>"
      ],
      "text/plain": [
       "      diff_jobs   diff_hh  diff_ato\n",
       "jobs   202287.0       NaN       NaN\n",
       "hh          NaN  154537.0       NaN\n",
       "ato         NaN       NaN  356824.0"
      ]
     },
     "execution_count": 43,
     "metadata": {},
     "output_type": "execute_result"
    }
   ],
   "source": [
    "df.agg(\n",
    "    jobs=pd.NamedAgg(column='diff_jobs', aggfunc=sum),\n",
    "    hh=pd.NamedAgg(column='diff_hh', aggfunc=sum),\n",
    "    ato=pd.NamedAgg(column='diff_ato', aggfunc=sum))"
   ]
  },
  {
   "cell_type": "code",
   "execution_count": null,
   "metadata": {},
   "outputs": [],
   "source": []
  }
 ],
 "metadata": {
  "kernelspec": {
   "display_name": "Python 3",
   "language": "python",
   "name": "python3"
  },
  "language_info": {
   "codemirror_mode": {
    "name": "ipython",
    "version": 3
   },
   "file_extension": ".py",
   "mimetype": "text/x-python",
   "name": "python",
   "nbconvert_exporter": "python",
   "pygments_lexer": "ipython3",
   "version": "3.7.10"
  }
 },
 "nbformat": 4,
 "nbformat_minor": 2
}
