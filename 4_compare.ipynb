{
 "cells": [
  {
   "cell_type": "code",
   "execution_count": null,
   "metadata": {},
   "outputs": [],
   "source": [
    "before = pd.read_csv(mode + \"_baseline.csv\")\n",
    "after = pd.read_csv(mode + \"_mod.csv\")\n",
    "compare_out_file = mode + \"_mod_compare.csv\""
   ]
  },
  {
   "cell_type": "code",
   "execution_count": null,
   "metadata": {},
   "outputs": [],
   "source": [
    "df = pd.merge(before, after, on=\"Name\", how=\"inner\", suffixes=(\"_before\", \"_after\"))"
   ]
  },
  {
   "cell_type": "code",
   "execution_count": null,
   "metadata": {},
   "outputs": [],
   "source": [
    "df['diff_hh'] = df['weighted_hh_after'] - df['weighted_hh_before']\n",
    "df['diff_jobs'] = df['weighted_jobs_after'] - df['weighted_jobs_before']\n",
    "df['diff_ato'] = df['ato_after'] - df['ato_before']"
   ]
  },
  {
   "cell_type": "code",
   "execution_count": null,
   "metadata": {
    "scrolled": true
   },
   "outputs": [],
   "source": [
    "df.groupby('Origin_CO_TAZID_before')['diff_ato'].sum()"
   ]
  },
  {
   "cell_type": "code",
   "execution_count": null,
   "metadata": {
    "scrolled": false
   },
   "outputs": [],
   "source": [
    "df.head()"
   ]
  },
  {
   "cell_type": "code",
   "execution_count": null,
   "metadata": {
    "scrolled": true
   },
   "outputs": [],
   "source": [
    "# assert df['diff_ato'].min() >= 0"
   ]
  },
  {
   "cell_type": "code",
   "execution_count": null,
   "metadata": {},
   "outputs": [],
   "source": [
    "summary = df.groupby('Origin_CO_TAZID_before').agg(\n",
    "    jobs=pd.NamedAgg(column='diff_jobs', aggfunc=sum),\n",
    "    hh=pd.NamedAgg(column='diff_hh', aggfunc=sum),\n",
    "    ato=pd.NamedAgg(column='diff_ato', aggfunc=sum))"
   ]
  },
  {
   "cell_type": "code",
   "execution_count": null,
   "metadata": {},
   "outputs": [],
   "source": [
    "summary.to_csv(compare_out_file)"
   ]
  },
  {
   "cell_type": "code",
   "execution_count": null,
   "metadata": {},
   "outputs": [],
   "source": [
    "df.agg(\n",
    "    jobs=pd.NamedAgg(column='diff_jobs', aggfunc=sum),\n",
    "    hh=pd.NamedAgg(column='diff_hh', aggfunc=sum),\n",
    "    ato=pd.NamedAgg(column='diff_ato', aggfunc=sum))"
   ]
  },
  {
   "cell_type": "markdown",
   "metadata": {},
   "source": [
    "## Visualize Output"
   ]
  },
  {
   "cell_type": "code",
   "execution_count": null,
   "metadata": {},
   "outputs": [],
   "source": [
    "arcpy.management.MakeFeatureLayer(\n",
    "    os.path.join(base_path, r\"shp\\taz_wfrc.gdb\\ATO\"), \n",
    "    \"taz_compare\"\n",
    ")"
   ]
  },
  {
   "cell_type": "code",
   "execution_count": null,
   "metadata": {},
   "outputs": [],
   "source": [
    "arcpy.conversion.TableToTable(\n",
    "    os.path.join(base_path, compare_out_file), \n",
    "    base_gdb , \n",
    "    \"mod_compare\"\n",
    ")"
   ]
  },
  {
   "cell_type": "code",
   "execution_count": null,
   "metadata": {},
   "outputs": [],
   "source": [
    "arcpy.management.AddJoin(\n",
    "    \"taz_compare\", \n",
    "    \"CO_TAZID\", \n",
    "    \"mod_compare\", \n",
    "    \"Origin_CO_TAZID_before\", \n",
    "    \"KEEP_ALL\"\n",
    ")"
   ]
  },
  {
   "cell_type": "markdown",
   "metadata": {},
   "source": [
    "Now, manually apply symbology to taz_compare layer (I experimented with creating a layer style and applying programatically), but found it easier just to manually update)\n"
   ]
  },
  {
   "cell_type": "code",
   "execution_count": null,
   "metadata": {},
   "outputs": [],
   "source": []
  }
 ],
 "metadata": {
  "kernelspec": {
   "display_name": "ArcGISPro",
   "language": "Python",
   "name": "python3"
  },
  "language_info": {
   "file_extension": ".py",
   "name": "python",
   "version": "3"
  }
 },
 "nbformat": 4,
 "nbformat_minor": 2
}
