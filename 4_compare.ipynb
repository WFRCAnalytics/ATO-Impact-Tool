{
 "cells": [
  {
   "cell_type": "code",
   "execution_count": 74,
   "metadata": {
    "ExecuteTime": {
     "end_time": "2021-10-16T17:30:13.721199Z",
     "start_time": "2021-10-16T17:30:13.641688Z"
    }
   },
   "outputs": [],
   "source": [
    "before = pd.read_csv(\"auto_baseline.csv\")\n",
    "after = pd.read_csv(\"mod.csv\")\n",
    "compare_out_file = mode + \"_mod_compare.csv\""
   ]
  },
  {
   "cell_type": "code",
   "execution_count": 75,
   "metadata": {
    "ExecuteTime": {
     "end_time": "2021-10-16T17:30:17.693635Z",
     "start_time": "2021-10-16T17:30:17.677909Z"
    }
   },
   "outputs": [],
   "source": [
    "df = pd.merge(before, \n",
    "              after, \n",
    "              on=['Origin_TAZID', 'Destination_TAZID'], \n",
    "              how=\"inner\", \n",
    "              suffixes=(\"_before\", \"_after\")\n",
    ")"
   ]
  },
  {
   "cell_type": "code",
   "execution_count": 76,
   "metadata": {
    "ExecuteTime": {
     "end_time": "2021-10-16T17:30:21.480050Z",
     "start_time": "2021-10-16T17:30:21.42487Z"
    }
   },
   "outputs": [],
   "source": [
    "df['diff_hh'] = df['weighted_hh_after'] - df['weighted_hh_before']\n",
    "df['diff_jobs'] = df['weighted_jobs_after'] - df['weighted_jobs_before']\n",
    "df['diff_ato'] = df['ato_after'] - df['ato_before']"
   ]
  },
  {
   "cell_type": "code",
   "execution_count": 77,
   "metadata": {
    "scrolled": true
   },
   "outputs": [],
   "source": [
    "#df.groupby('Origin_CO_TAZID_before')['diff_ato'].sum()"
   ]
  },
  {
   "cell_type": "code",
   "execution_count": 78,
   "metadata": {
    "ExecuteTime": {
     "end_time": "2021-10-16T17:30:33.597330Z",
     "start_time": "2021-10-16T17:30:33.24179Z"
    },
    "scrolled": false
   },
   "outputs": [
    {
     "data": {
      "text/html": [
       "<div>\n",
       "<style scoped>\n",
       "    .dataframe tbody tr th:only-of-type {\n",
       "        vertical-align: middle;\n",
       "    }\n",
       "\n",
       "    .dataframe tbody tr th {\n",
       "        vertical-align: top;\n",
       "    }\n",
       "\n",
       "    .dataframe thead th {\n",
       "        text-align: right;\n",
       "    }\n",
       "</style>\n",
       "<table border=\"1\" class=\"dataframe\">\n",
       "  <thead>\n",
       "    <tr style=\"text-align: right;\">\n",
       "      <th></th>\n",
       "      <th>Unnamed: 0_before</th>\n",
       "      <th>Origin_TAZID</th>\n",
       "      <th>Destination_TAZID</th>\n",
       "      <th>Total_Time_before</th>\n",
       "      <th>survey_weight_before</th>\n",
       "      <th>weighted_jobs_before</th>\n",
       "      <th>weighted_hh_before</th>\n",
       "      <th>ato_before</th>\n",
       "      <th>Unnamed: 0_after</th>\n",
       "      <th>Total_Time_after</th>\n",
       "      <th>survey_weight_after</th>\n",
       "      <th>weighted_jobs_after</th>\n",
       "      <th>weighted_hh_after</th>\n",
       "      <th>ato_after</th>\n",
       "      <th>diff_hh</th>\n",
       "      <th>diff_jobs</th>\n",
       "      <th>diff_ato</th>\n",
       "    </tr>\n",
       "  </thead>\n",
       "  <tbody>\n",
       "    <tr>\n",
       "      <th>0</th>\n",
       "      <td>0</td>\n",
       "      <td>351496</td>\n",
       "      <td>351496</td>\n",
       "      <td>0.000000</td>\n",
       "      <td>1.000</td>\n",
       "      <td>325.0</td>\n",
       "      <td>279.0</td>\n",
       "      <td>604.0</td>\n",
       "      <td>0</td>\n",
       "      <td>0.000000</td>\n",
       "      <td>1.000</td>\n",
       "      <td>325.0</td>\n",
       "      <td>279.0</td>\n",
       "      <td>604.0</td>\n",
       "      <td>0.0</td>\n",
       "      <td>0.0</td>\n",
       "      <td>0.0</td>\n",
       "    </tr>\n",
       "    <tr>\n",
       "      <th>1</th>\n",
       "      <td>1</td>\n",
       "      <td>351490</td>\n",
       "      <td>351496</td>\n",
       "      <td>2.581873</td>\n",
       "      <td>1.000</td>\n",
       "      <td>325.0</td>\n",
       "      <td>279.0</td>\n",
       "      <td>604.0</td>\n",
       "      <td>1</td>\n",
       "      <td>2.581873</td>\n",
       "      <td>1.000</td>\n",
       "      <td>325.0</td>\n",
       "      <td>279.0</td>\n",
       "      <td>604.0</td>\n",
       "      <td>0.0</td>\n",
       "      <td>0.0</td>\n",
       "      <td>0.0</td>\n",
       "    </tr>\n",
       "    <tr>\n",
       "      <th>2</th>\n",
       "      <td>2</td>\n",
       "      <td>351488</td>\n",
       "      <td>351496</td>\n",
       "      <td>3.876465</td>\n",
       "      <td>0.981</td>\n",
       "      <td>319.0</td>\n",
       "      <td>274.0</td>\n",
       "      <td>593.0</td>\n",
       "      <td>2</td>\n",
       "      <td>3.876465</td>\n",
       "      <td>0.981</td>\n",
       "      <td>319.0</td>\n",
       "      <td>274.0</td>\n",
       "      <td>593.0</td>\n",
       "      <td>0.0</td>\n",
       "      <td>0.0</td>\n",
       "      <td>0.0</td>\n",
       "    </tr>\n",
       "    <tr>\n",
       "      <th>3</th>\n",
       "      <td>3</td>\n",
       "      <td>351494</td>\n",
       "      <td>351496</td>\n",
       "      <td>3.772201</td>\n",
       "      <td>0.985</td>\n",
       "      <td>320.0</td>\n",
       "      <td>275.0</td>\n",
       "      <td>595.0</td>\n",
       "      <td>3</td>\n",
       "      <td>3.772201</td>\n",
       "      <td>0.985</td>\n",
       "      <td>320.0</td>\n",
       "      <td>275.0</td>\n",
       "      <td>595.0</td>\n",
       "      <td>0.0</td>\n",
       "      <td>0.0</td>\n",
       "      <td>0.0</td>\n",
       "    </tr>\n",
       "    <tr>\n",
       "      <th>4</th>\n",
       "      <td>4</td>\n",
       "      <td>351497</td>\n",
       "      <td>351496</td>\n",
       "      <td>2.417536</td>\n",
       "      <td>1.000</td>\n",
       "      <td>325.0</td>\n",
       "      <td>279.0</td>\n",
       "      <td>604.0</td>\n",
       "      <td>4</td>\n",
       "      <td>2.417536</td>\n",
       "      <td>1.000</td>\n",
       "      <td>325.0</td>\n",
       "      <td>279.0</td>\n",
       "      <td>604.0</td>\n",
       "      <td>0.0</td>\n",
       "      <td>0.0</td>\n",
       "      <td>0.0</td>\n",
       "    </tr>\n",
       "  </tbody>\n",
       "</table>\n",
       "</div>"
      ],
      "text/plain": [
       "   Unnamed: 0_before  Origin_TAZID  ...  diff_jobs  diff_ato\n",
       "0                  0        351496  ...        0.0       0.0\n",
       "1                  1        351490  ...        0.0       0.0\n",
       "2                  2        351488  ...        0.0       0.0\n",
       "3                  3        351494  ...        0.0       0.0\n",
       "4                  4        351497  ...        0.0       0.0\n",
       "\n",
       "[5 rows x 17 columns]"
      ]
     },
     "execution_count": 78,
     "metadata": {},
     "output_type": "execute_result"
    }
   ],
   "source": [
    "df.head()"
   ]
  },
  {
   "cell_type": "code",
   "execution_count": 79,
   "metadata": {
    "scrolled": true
   },
   "outputs": [],
   "source": [
    "# assert df['diff_ato'].min() >= 0"
   ]
  },
  {
   "cell_type": "code",
   "execution_count": 80,
   "metadata": {
    "ExecuteTime": {
     "end_time": "2021-10-16T17:31:11.900898Z",
     "start_time": "2021-10-16T17:31:11.886541Z"
    }
   },
   "outputs": [],
   "source": [
    "summary = df.groupby('Origin_TAZID').agg(\n",
    "    jobs=pd.NamedAgg(column='diff_jobs', aggfunc=sum),\n",
    "    hh=pd.NamedAgg(column='diff_hh', aggfunc=sum),\n",
    "    ato=pd.NamedAgg(column='diff_ato', aggfunc=sum))"
   ]
  },
  {
   "cell_type": "code",
   "execution_count": 81,
   "metadata": {
    "ExecuteTime": {
     "end_time": "2021-10-16T17:31:12.737038Z",
     "start_time": "2021-10-16T17:31:12.735022Z"
    }
   },
   "outputs": [],
   "source": [
    "summary['ato'] = summary['jobs'] + summary['hh'] * 1.8"
   ]
  },
  {
   "cell_type": "code",
   "execution_count": 82,
   "metadata": {
    "ExecuteTime": {
     "end_time": "2021-10-16T17:31:13.397908Z",
     "start_time": "2021-10-16T17:31:13.394760Z"
    }
   },
   "outputs": [],
   "source": [
    "summary.to_csv(compare_out_file)"
   ]
  },
  {
   "cell_type": "code",
   "execution_count": 83,
   "metadata": {
    "ExecuteTime": {
     "end_time": "2021-10-16T17:31:15.873677Z",
     "start_time": "2021-10-16T17:31:15.845312Z"
    }
   },
   "outputs": [
    {
     "data": {
      "text/html": [
       "<div>\n",
       "<style scoped>\n",
       "    .dataframe tbody tr th:only-of-type {\n",
       "        vertical-align: middle;\n",
       "    }\n",
       "\n",
       "    .dataframe tbody tr th {\n",
       "        vertical-align: top;\n",
       "    }\n",
       "\n",
       "    .dataframe thead th {\n",
       "        text-align: right;\n",
       "    }\n",
       "</style>\n",
       "<table border=\"1\" class=\"dataframe\">\n",
       "  <thead>\n",
       "    <tr style=\"text-align: right;\">\n",
       "      <th></th>\n",
       "      <th>diff_jobs</th>\n",
       "      <th>diff_hh</th>\n",
       "      <th>diff_ato</th>\n",
       "    </tr>\n",
       "  </thead>\n",
       "  <tbody>\n",
       "    <tr>\n",
       "      <th>jobs</th>\n",
       "      <td>136189.0</td>\n",
       "      <td>NaN</td>\n",
       "      <td>NaN</td>\n",
       "    </tr>\n",
       "    <tr>\n",
       "      <th>hh</th>\n",
       "      <td>NaN</td>\n",
       "      <td>51413.0</td>\n",
       "      <td>NaN</td>\n",
       "    </tr>\n",
       "    <tr>\n",
       "      <th>ato</th>\n",
       "      <td>NaN</td>\n",
       "      <td>NaN</td>\n",
       "      <td>187602.0</td>\n",
       "    </tr>\n",
       "  </tbody>\n",
       "</table>\n",
       "</div>"
      ],
      "text/plain": [
       "      diff_jobs  diff_hh  diff_ato\n",
       "jobs   136189.0      NaN       NaN\n",
       "hh          NaN  51413.0       NaN\n",
       "ato         NaN      NaN  187602.0"
      ]
     },
     "execution_count": 83,
     "metadata": {},
     "output_type": "execute_result"
    }
   ],
   "source": [
    "df.agg(\n",
    "    jobs=pd.NamedAgg(column='diff_jobs', aggfunc=sum),\n",
    "    hh=pd.NamedAgg(column='diff_hh', aggfunc=sum),\n",
    "    ato=pd.NamedAgg(column='diff_ato', aggfunc=sum))"
   ]
  },
  {
   "cell_type": "markdown",
   "metadata": {},
   "source": [
    "## Visualize Output"
   ]
  },
  {
   "cell_type": "code",
   "execution_count": 84,
   "metadata": {},
   "outputs": [
    {
     "data": {
      "text/html": [
       "<h2>Output</h2>a Layer object<h2>Messages</h2>Start Time: Saturday, October 16, 2021 12:51:31 PM<br/>Succeeded at Saturday, October 16, 2021 12:51:31 PM (Elapsed Time: 0.05 seconds)<br/><style>.rendered_html td, .rendered_html th {text-align: left;}.rendered_html tbody {border: 1px solid black;}</style>"
      ],
      "text/plain": [
       "<Result 'taz_compare'>"
      ]
     },
     "execution_count": 84,
     "metadata": {},
     "output_type": "execute_result"
    }
   ],
   "source": [
    "arcpy.management.MakeFeatureLayer(\n",
    "    os.path.join(base_path, r\"shp\\taz_wfrc.gdb\\ATO\"), \n",
    "    \"taz_compare\"\n",
    ")"
   ]
  },
  {
   "cell_type": "code",
   "execution_count": 85,
   "metadata": {},
   "outputs": [
    {
     "data": {
      "text/html": [
       "<h2>Output</h2>C:\\wfrc\\ato\\baseline.gdb\\mod_compare<h2>Messages</h2>Start Time: Saturday, October 16, 2021 12:51:32 PM<br/>Succeeded at Saturday, October 16, 2021 12:51:32 PM (Elapsed Time: 0.32 seconds)<br/><style>.rendered_html td, .rendered_html th {text-align: left;}.rendered_html tbody {border: 1px solid black;}</style>"
      ],
      "text/plain": [
       "<Result 'C:\\\\wfrc\\\\ato\\\\baseline.gdb\\\\mod_compare'>"
      ]
     },
     "execution_count": 85,
     "metadata": {},
     "output_type": "execute_result"
    }
   ],
   "source": [
    "arcpy.conversion.TableToTable(\n",
    "    os.path.join(base_path, compare_out_file), \n",
    "    base_gdb , \n",
    "    \"mod_compare\"\n",
    ")"
   ]
  },
  {
   "cell_type": "code",
   "execution_count": 87,
   "metadata": {},
   "outputs": [
    {
     "data": {
      "text/html": [
       "<h2>Output</h2>a Layer object<h2>Messages</h2>Start Time: Saturday, October 16, 2021 12:52:01 PM<br/>Succeeded at Saturday, October 16, 2021 12:52:01 PM (Elapsed Time: 0.19 seconds)<br/><style>.rendered_html td, .rendered_html th {text-align: left;}.rendered_html tbody {border: 1px solid black;}</style>"
      ],
      "text/plain": [
       "<Result 'taz_compare'>"
      ]
     },
     "execution_count": 87,
     "metadata": {},
     "output_type": "execute_result"
    }
   ],
   "source": [
    "arcpy.management.AddJoin(\n",
    "    \"taz_compare\", \n",
    "    \"CO_TAZID\", \n",
    "    \"mod_compare\", \n",
    "    \"Origin_TAZID\", \n",
    "    \"KEEP_ALL\"\n",
    ")"
   ]
  },
  {
   "cell_type": "markdown",
   "metadata": {},
   "source": [
    "Now, manually apply symbology to taz_compare layer (I experimented with creating a layer style and applying programatically), but found it easier just to manually update)\n"
   ]
  },
  {
   "cell_type": "code",
   "execution_count": null,
   "metadata": {},
   "outputs": [],
   "source": []
  }
 ],
 "metadata": {
  "kernelspec": {
   "display_name": "ArcGISPro",
   "language": "Python",
   "name": "python3"
  },
  "language_info": {
   "file_extension": ".py",
   "name": "python",
   "version": "3"
  }
 },
 "nbformat": 4,
 "nbformat_minor": 2
}
