{
 "cells": [
  {
   "cell_type": "markdown",
   "metadata": {},
   "source": [
    "# Data Preparation and Setup\n",
    "\n",
    "The cells below prepare the TAZ and Network Dataset datasets used for all ATO calculations. \n",
    "\n",
    "Before you get started:\n",
    "\n",
    "1. Download [Wasatch Front TAZs in File Geodatabase format from WFRC](https://data.wfrc.org/datasets/wfrc::access-to-opportunities-work-related-taz-based/about). Extract to `taz.gdb` and place in the `shp` folder\n",
    "4. Update the files and fields in the cell below"
   ]
  },
  {
   "cell_type": "code",
   "execution_count": null,
   "metadata": {
    "ExecuteTime": {
     "end_time": "2021-12-20T18:30:10.280759Z",
     "start_time": "2021-12-20T18:30:10.279804Z"
    }
   },
   "outputs": [],
   "source": [
    "# source files and fields - update this before running!\n",
    "source_taz = r'shp\\taz.gdb\\ATO'\n",
    "hh_source_field = 'HH_19' # field containing TAZ household count\n",
    "job_source_field = 'JOB_19' # field containing TAZ job count"
   ]
  },
  {
   "cell_type": "code",
   "execution_count": null,
   "metadata": {
    "ExecuteTime": {
     "end_time": "2021-12-20T18:30:13.400771Z",
     "start_time": "2021-12-20T18:30:13.388529Z"
    }
   },
   "outputs": [],
   "source": [
    "import sys\n",
    "import os\n",
    "import arcpy\n",
    "import shutil\n",
    "\n",
    "import pandas as pd\n",
    "from arcgis.features import SpatialDataFrame\n",
    "\n",
    "src = os.path.join(os.path.abspath(\".\"), 'src')\n",
    "if src not in sys.path:\n",
    "    sys.path.append(src)\n",
    "    \n",
    "from ato_tools import ato\n",
    "\n",
    "# Set the XYResolution environment to a linear unit\n",
    "arcpy.env.XYResolution = \"0.01 Meters\"\n",
    "arcpy.env.XYTolerance = \"0.1 Meters\"\n",
    "\n",
    "# UTM 12N\n",
    "crs = 'PROJCS[\"NAD_1983_UTM_Zone_12N\",GEOGCS[\"GCS_North_American_1983\",DATUM[\"D_North_American_1983\",SPHEROID[\"GRS_1980\",6378137.0,298.257222101]],PRIMEM[\"Greenwich\",0.0],UNIT[\"Degree\",0.0174532925199433]],PROJECTION[\"Transverse_Mercator\"],PARAMETER[\"False_Easting\",500000.0],PARAMETER[\"False_Northing\",0.0],PARAMETER[\"Central_Meridian\",-111.0],PARAMETER[\"Scale_Factor\",0.9996],PARAMETER[\"Latitude_Of_Origin\",0.0],UNIT[\"Meter\",1.0]]'\n",
    "base_path = os.path.abspath(\".\")\n",
    "\n",
    "base_gdb = os.path.join(base_path, \"baseline.gdb\")\n",
    "\n"
   ]
  },
  {
   "cell_type": "markdown",
   "metadata": {},
   "source": [
    "## TAZ Setup\n",
    "\n",
    "Configure the TAZ table and centroid locations."
   ]
  },
  {
   "cell_type": "code",
   "execution_count": null,
   "metadata": {},
   "outputs": [],
   "source": [
    "# Copy TAZ Polygons to Baseline - keeping only CO_TAZID Field\n",
    "arcpy.conversion.FeatureClassToFeatureClass(\n",
    "    source_taz, \n",
    "    base_gdb, \n",
    "    \"taz\", \n",
    "    '', \n",
    "    r'CO_TAZID \"CO_TAZID\" true true false 4 Long 0 0,First,#,shp\\taz.gdb\\ATO,CO_TAZID,-1,-1', \n",
    "    ''\n",
    ")"
   ]
  },
  {
   "cell_type": "code",
   "execution_count": null,
   "metadata": {},
   "outputs": [],
   "source": [
    "#if not \"square_meters_taz\" in [field.name for field in arcpy.ListFields(\"TAZ\")]:\n",
    "arcpy.management.CalculateGeometryAttributes(\n",
    "    r\"baseline.gdb\\taz\", \"square_meters_taz AREA\", '', \"SQUARE_METERS\"\n",
    ")"
   ]
  },
  {
   "cell_type": "code",
   "execution_count": null,
   "metadata": {},
   "outputs": [],
   "source": [
    "# copy table of CO_TAZID, HH, and JOB to baseline gdb\n",
    "taz_table = pd.DataFrame.spatial.from_featureclass(source_taz)\n",
    "taz_table['HH'] = taz_table[hh_source_field]\n",
    "taz_table['JOB'] = taz_table[job_source_field]\n",
    "taz_table.drop(columns=taz_table.columns.difference(['CO_TAZID', 'HH', 'JOB']), inplace=True)\n",
    "taz_table.spatial.to_table(os.path.join(base_gdb, \"taz_table\"))"
   ]
  },
  {
   "cell_type": "code",
   "execution_count": null,
   "metadata": {
    "scrolled": true
   },
   "outputs": [],
   "source": [
    "# calculate TAZ centroids\n",
    "# (the arcpy \"Feature to Point\" tool makes this easier but requires an advanced license)\n",
    "    \n",
    "arcpy.management.CalculateGeometryAttributes(\n",
    "    os.path.join(base_gdb, \"taz\"), \n",
    "    \"x CENTROID_X;y CENTROID_Y\", \n",
    "    '', '', crs, \"SAME_AS_INPUT\"\n",
    ")\n",
    "\n",
    "arcpy.management.XYTableToPoint(\n",
    "    os.path.join(base_gdb, \"taz\"), \n",
    "    os.path.join(base_gdb, \"taz_centroids\"), \n",
    "    'x', 'y', None, crs\n",
    ")\n",
    "\n",
    "arcpy.management.MakeFeatureLayer(\n",
    "    os.path.join(base_gdb, \"taz_centroids\"), \n",
    "    \"taz_centroids\"\n",
    ")\n",
    "\n",
    "arcpy.management.DeleteField(os.path.join(base_gdb, \"taz\"), ['x','y'])"
   ]
  },
  {
   "cell_type": "markdown",
   "metadata": {},
   "source": [
    "Note, snapping TAZ centroids to the network can introduce some unintended variation in ATO between TAZs if the centroid snaps to a location only accessible via a circuitous route, to a roadway outside of the TAZ boundaries, etc. Also note, centroids are snapped to auto network. Additional snapping happens within the network solver configuration for transit and bicycle routes. None of this should materially affect the estimated change in ATO for a given project."
   ]
  },
  {
   "cell_type": "code",
   "execution_count": null,
   "metadata": {},
   "outputs": [],
   "source": [
    "# snap taz centroids to network\n",
    "# reqires ArcGIS Standard or Advanced\n",
    "# this step can be skipped but is recommended\n",
    "arcpy.management.MakeFeatureLayer(\n",
    "    os.path.join(base_gdb, r\"NetworkDataset\\BikePedAuto\"), \n",
    "    \"bpa_snap\"\n",
    ")\n",
    "arcpy.management.SelectLayerByAttribute(\n",
    "      \"bpa_snap\", \"NEW_SELECTION\", \"AutoNetwork = 'Y' And VERT_LEVEL = '0' And CartoCode NOT IN ('1 Interstates')\"\n",
    ")\n",
    "arcpy.edit.Snap(\"taz_centroids\", \"bpa_snap End '10000 Feet'\")"
   ]
  },
  {
   "cell_type": "code",
   "execution_count": null,
   "metadata": {},
   "outputs": [],
   "source": [
    "# Finally, create a testing layer with 25 randomly selected centroids\n",
    "import random\n",
    "arcpy.management.SelectLayerByAttribute('taz_centroids', \"CLEAR_SELECTION\")\n",
    "\n",
    "feature_count = int(arcpy.management.GetCount('taz_centroids').getOutput(0))\n",
    "rnd_set = set([]) \n",
    "while len(rnd_set) < 25: \n",
    "    rnd_set.add(random.randint(0, feature_count-1))\n",
    "where = 'OBJECTID in ({0})'.format(','.join(map(str,rnd_set)))\n",
    "arcpy.management.SelectLayerByAttribute('taz_centroids', \"NEW_SELECTION\", where)\n",
    "\n",
    "arcpy.conversion.FeatureClassToFeatureClass(\n",
    "    'taz_centroids', \n",
    "    base_gdb, \n",
    "    \"taz_centroids_sample\"\n",
    ")\n",
    "\n",
    "arcpy.management.SelectLayerByAttribute('taz_centroids', \"CLEAR_SELECTION\")"
   ]
  },
  {
   "cell_type": "markdown",
   "metadata": {},
   "source": [
    "## Baseline Scoring\n",
    "\n",
    "Calculate ATO for our baseline modal networks.\n",
    "\n",
    "Finally, we create a copy of the baseline network dataset to use as a template for scenario networks.\n",
    "\n",
    "Note, typical solve times:\n",
    "\n",
    "* Driving: 20 minutes\n",
    "* Transit: 4 - 5 minutes\n",
    "* Cycling: 4 - 5 minutes\n",
    "\n",
    "If solve times deviate signficantly or if the cell below produces a ValueError, rebuild the network dataset using `ato.build(os.path.join(base_gdb, r'NetworkDataset\\NetworkDataset_ND'))` and re-solving. (This is related to the Network Analyst attribute mismatch issue.)"
   ]
  },
  {
   "cell_type": "code",
   "execution_count": null,
   "metadata": {
    "ExecuteTime": {
     "end_time": "2021-11-23T03:45:47.365531Z",
     "start_time": "2021-11-23T03:45:15.960505Z"
    },
    "scrolled": true
   },
   "outputs": [],
   "source": [
    "for mode in ['Driving', 'Transit', 'Cycling']:\n",
    "    ato.skim(\n",
    "        nd = os.path.join(base_gdb, r'NetworkDataset\\NetworkDataset_ND'),\n",
    "        mode = mode,\n",
    "        centroids = os.path.join(base_gdb, 'taz_centroids'),\n",
    "        out_table = os.path.join(base_gdb, 'skim_' + mode.lower())\n",
    "    )"
   ]
  },
  {
   "cell_type": "code",
   "execution_count": null,
   "metadata": {
    "scrolled": true
   },
   "outputs": [],
   "source": [
    "for mode in ['driving', 'transit', 'cycling']:\n",
    "    ato.score(\n",
    "        skim_matrix = os.path.join(base_gdb, 'skim_' + mode),\n",
    "        taz_table = os.path.join(base_gdb, 'taz_table'),\n",
    "        out_table = os.path.join(base_gdb, 'ato_' + mode)\n",
    "    )"
   ]
  },
  {
   "cell_type": "code",
   "execution_count": null,
   "metadata": {
    "ExecuteTime": {
     "end_time": "2021-11-23T03:11:18.794176Z",
     "start_time": "2021-11-23T03:10:29.604460Z"
    }
   },
   "outputs": [],
   "source": [
    "# Create \"template\" to use for mods\n",
    "\n",
    "if os.path.isdir(r\"scenario\\scenario_template.gdb\"):\n",
    "    shutil.rmtree(r\"scenario\\scenario_template.gdb\")\n",
    "\n",
    "arcpy.management.CreateFileGDB(\"scenario\", \"scenario_template\")\n",
    "\n",
    "# Copy our baseline network dataset to our dataset for modification\n",
    "arcpy.management.Copy(\n",
    "    r\"baseline.gdb\\NetworkDataset\", \n",
    "    r\"scenario\\scenario_template.gdb\\NetworkDataset\"\n",
    ")\n",
    "\n",
    "arcpy.management.Copy(\n",
    "    r\"baseline.gdb\\taz_table\", \n",
    "    r\"scenario\\scenario_template.gdb\\taz_table\"\n",
    ")\n",
    "\n",
    "# delete existing network\n",
    "arcpy.management.Delete(r\"scenario\\scenario_template.gdb\\NetworkDataset\\NetworkDataset_ND\")\n",
    "\n",
    "# if open in ArcGIS Pro, remove all layers\n",
    "try:\n",
    "    aprx = arcpy.mp.ArcGISProject(\"CURRENT\")\n",
    "    mp = aprx.listMaps(\"Map\")[0]\n",
    "    for rmlyr in mp.listLayers():    \n",
    "        if rmlyr.name not in ['World Topographic Map', 'World Hillshade']:        \n",
    "            mp.removeLayer(rmlyr)\n",
    "except OSError:\n",
    "    pass"
   ]
  },
  {
   "cell_type": "code",
   "execution_count": null,
   "metadata": {},
   "outputs": [],
   "source": []
  }
 ],
 "metadata": {
  "kernelspec": {
   "display_name": "ArcGISPro",
   "language": "Python",
   "name": "python3"
  },
  "language_info": {
   "file_extension": ".py",
   "name": "python",
   "version": "3"
  }
 },
 "nbformat": 4,
 "nbformat_minor": 2
}
