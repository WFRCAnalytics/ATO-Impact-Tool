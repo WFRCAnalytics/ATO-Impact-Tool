{
 "cells": [
  {
   "cell_type": "markdown",
   "metadata": {},
   "source": [
    "# Land Use Changes\n",
    "\n",
    "Changes in land use that result in increased density of households or jobs increase the number of opportunities accessible within a travel shed of the increase.\n",
    "\n",
    "The land use change must be a single feature (may be a multipart polygon). \n",
    "\n",
    "The cells below increase the number of households and jobs within overlapping TAZs. Increases may be a net change (total change from present day) or a percent increase. HH and Job increases are apportioned based the extent of the overlap."
   ]
  },
  {
   "cell_type": "code",
   "execution_count": null,
   "metadata": {
    "ExecuteTime": {
     "end_time": "2021-12-19T19:54:23.287735Z",
     "start_time": "2021-12-19T19:54:23.286653Z"
    }
   },
   "outputs": [],
   "source": [
    "scenario_name = \"ogden_cbd\"\n",
    "add_hh = 0\n",
    "add_job = 500\n",
    "multiply_hh = 1.1\n",
    "multiply_job = 1"
   ]
  },
  {
   "cell_type": "code",
   "execution_count": null,
   "metadata": {
    "ExecuteTime": {
     "end_time": "2021-12-19T19:54:37.240515Z",
     "start_time": "2021-12-19T19:54:37.238593Z"
    }
   },
   "outputs": [],
   "source": [
    "import sys\n",
    "import os\n",
    "import arcpy\n",
    "import shutil\n",
    "\n",
    "utm_12n = 'PROJCS[\"NAD_1983_UTM_Zone_12N\",GEOGCS[\"GCS_North_American_1983\",DATUM[\"D_North_American_1983\",SPHEROID[\"GRS_1980\",6378137.0,298.257222101]],PRIMEM[\"Greenwich\",0.0],UNIT[\"Degree\",0.0174532925199433]],PROJECTION[\"Transverse_Mercator\"],PARAMETER[\"False_Easting\",500000.0],PARAMETER[\"False_Northing\",0.0],PARAMETER[\"Central_Meridian\",-111.0],PARAMETER[\"Scale_Factor\",0.9996],PARAMETER[\"Latitude_Of_Origin\",0.0],UNIT[\"Meter\",1.0]];-5120900 -9998100 450445547.391054;-100000 10000;-100000 10000;0.001;0.001;0.001;IsHighPrecision'\n",
    "base_path = os.path.abspath(\".\")\n",
    "\n",
    "mode = \"Land_Use\"\n",
    "target_gdb = os.path.join(base_path, \"scenario\", mode, scenario_name + \".gdb\")\n",
    "\n",
    "#if (add_hh + add_job != 0) and (multiply_hh + multiply_job != 2):\n",
    "#    raise Exception('Specify an absolute change or percent change, but not both.')"
   ]
  },
  {
   "cell_type": "code",
   "execution_count": null,
   "metadata": {
    "ExecuteTime": {
     "end_time": "2021-12-19T19:54:53.945271Z",
     "start_time": "2021-12-19T19:54:48.670149Z"
    },
    "scrolled": false
   },
   "outputs": [],
   "source": [
    "# create scenario file geodatabase from template\n",
    "\n",
    "# if target gdb exists, delete it\n",
    "if os.path.isdir(target_gdb):\n",
    "    shutil.rmtree(target_gdb)\n",
    "    \n",
    "# copy template\n",
    "shutil.copytree(r\"scenario\\scenario_template.gdb\", target_gdb)\n",
    "\n",
    "arcpy.env.workspace = target_gdb\n",
    "\n",
    "# Create temporary working layer for editing\n",
    "   \n",
    "arcpy.management.CreateFeatureclass(\n",
    "    target_gdb, \"land_use_src\", \n",
    "    \"POLYGON\", r'shp\\land_use_template.gdb\\land_use_empty', \n",
    "    \"DISABLED\", \"DISABLED\", utm_12n\n",
    ")"
   ]
  },
  {
   "cell_type": "markdown",
   "metadata": {},
   "source": [
    "## Copy Feature\n",
    "\n",
    "Copy the feature representing the land use change geography to the `land_use_src` feature layer (Copy --> Paste Special. Paste into land_use_src layer and do not keep source attribute values). \n",
    "\n",
    "**Save your changes to  `land_use_src`.**\n",
    "\n",
    "(Note, the cell below will fail if the land_use_src layer is still in \"Edit\" mode after pasting in the new feature.)"
   ]
  },
  {
   "cell_type": "code",
   "execution_count": null,
   "metadata": {
    "ExecuteTime": {
     "end_time": "2021-12-19T19:57:58.432320Z",
     "start_time": "2021-12-19T19:57:49.542001Z"
    }
   },
   "outputs": [],
   "source": [
    "#fields = [field.name for field in arcpy.ListFields(\"land_use_src\")]\n",
    "#if not \"square_meters_land_use_polygon\" in fields:\n",
    "arcpy.management.CalculateGeometryAttributes(\n",
    "    \"land_use_src\", \"square_meters_land_use_polygon AREA\", '', \"SQUARE_METERS\"\n",
    ")"
   ]
  },
  {
   "cell_type": "code",
   "execution_count": null,
   "metadata": {
    "ExecuteTime": {
     "end_time": "2021-12-19T19:58:03.325744Z",
     "start_time": "2021-12-19T19:57:58.433218Z"
    }
   },
   "outputs": [],
   "source": [
    "# Add TAZ layer to map for editing\n",
    "arcpy.management.MakeFeatureLayer(\n",
    "    r'baseline.gdb\\taz',\n",
    "    \"TAZ\"\n",
    ")"
   ]
  },
  {
   "cell_type": "code",
   "execution_count": null,
   "metadata": {
    "ExecuteTime": {
     "end_time": "2021-12-19T19:58:05.517119Z",
     "start_time": "2021-12-19T19:58:03.326325Z"
    }
   },
   "outputs": [],
   "source": [
    "arcpy.analysis.Intersect(\n",
    "    \"land_use_src #;TAZ #\", \n",
    "    os.path.join(target_gdb, \"land_use_intersect\"), \n",
    "    \"ALL\", None, \"INPUT\"\n",
    ")"
   ]
  },
  {
   "cell_type": "code",
   "execution_count": null,
   "metadata": {
    "ExecuteTime": {
     "end_time": "2021-12-19T19:59:20.505080Z",
     "start_time": "2021-12-19T19:59:20.10200Z"
    }
   },
   "outputs": [],
   "source": [
    "# remove land_use_src and TAZ layers from map\n",
    "aprx = arcpy.mp.ArcGISProject(\"CURRENT\")\n",
    "mp = aprx.listMaps(\"Map\")[0]\n",
    "for layer in mp.listLayers():\n",
    "    if layer.name in [\"TAZ\", \"land_use_src\"]:\n",
    "        mp.removeLayer(layer)"
   ]
  },
  {
   "cell_type": "code",
   "execution_count": null,
   "metadata": {
    "ExecuteTime": {
     "end_time": "2021-12-19T19:59:26.186462Z",
     "start_time": "2021-12-19T19:59:23.494412Z"
    }
   },
   "outputs": [],
   "source": [
    "# calculate % overlaps\n",
    "arcpy.management.CalculateField(\n",
    "    \"land_use_intersect\", \n",
    "    \"land_use_pct_overlap\", \n",
    "    '!Shape_Area! / !square_meters_land_use_polygon!', \n",
    "    \"PYTHON3\", None, \"DOUBLE\"\n",
    ")\n",
    "arcpy.management.CalculateField(\n",
    "    \"land_use_intersect\", \n",
    "    \"taz_pct_overlap\", \n",
    "    '!Shape_Area! / !square_meters_taz!', \n",
    "    \"PYTHON3\", None, \"DOUBLE\"\n",
    ")"
   ]
  },
  {
   "cell_type": "code",
   "execution_count": null,
   "metadata": {},
   "outputs": [],
   "source": [
    "arcpy.management.JoinField(\n",
    "    \"land_use_intersect\", \n",
    "    \"CO_TAZID\", \n",
    "    \"taz_table\", \n",
    "    \"CO_TAZID\", \n",
    "    \"HH;JOB\"\n",
    ")\n",
    "#arcpy.management.AddJoin(\n",
    "#    \"land_use_intersect\", \n",
    "##    \"CO_TAZID\", \n",
    "#    \"taz_table\", \n",
    "#    \"CO_TAZID\", \n",
    "#    \"KEEP_ALL\"\n",
    "#)"
   ]
  },
  {
   "cell_type": "code",
   "execution_count": null,
   "metadata": {
    "ExecuteTime": {
     "end_time": "2021-12-19T19:59:34.536829Z",
     "start_time": "2021-12-19T19:59:32.158677Z"
    }
   },
   "outputs": [],
   "source": [
    "# update jobs and hh based on scenario input values\n",
    "\n",
    "arcpy.management.CalculateField(\n",
    "    \"land_use_intersect\", \n",
    "    \"HH_new\", \n",
    "    '(({0}-1) * !taz_pct_overlap! * !HH!) + (!land_use_pct_overlap! * {1})'.format(multiply_hh, add_hh), \n",
    "    \"PYTHON3\", None, \"DOUBLE\"\n",
    ")\n",
    "arcpy.management.CalculateField(\n",
    "    \"land_use_intersect\", \n",
    "    \"JOB_new\", \n",
    "    '(({0}-1) * !taz_pct_overlap! * !JOB!) + (!land_use_pct_overlap! * {1})'.format(multiply_job, add_job), \n",
    "    \"PYTHON3\", None, \"DOUBLE\"\n",
    ")"
   ]
  },
  {
   "cell_type": "code",
   "execution_count": null,
   "metadata": {
    "ExecuteTime": {
     "end_time": "2021-12-19T20:00:46.675195Z",
     "start_time": "2021-12-19T20:00:44.461520Z"
    }
   },
   "outputs": [],
   "source": [
    "# copy new HH and JOB back to the taz_table\n",
    "arcpy.management.JoinField(\n",
    "    \"taz_table\", \n",
    "    \"CO_TAZID\", \n",
    "    \"land_use_intersect\", \n",
    "    \"CO_TAZID\", \n",
    "    \"HH_new;JOB_new\"\n",
    ")"
   ]
  },
  {
   "cell_type": "code",
   "execution_count": null,
   "metadata": {
    "ExecuteTime": {
     "end_time": "2021-12-19T21:01:07.736938Z",
     "start_time": "2021-12-19T21:00:58.448319Z"
    }
   },
   "outputs": [],
   "source": [
    "arcpy.management.SelectLayerByAttribute(\n",
    "    \"taz_table\", \n",
    "    \"NEW_SELECTION\", \n",
    "    \"HH_New >= 0\"\n",
    ")\n",
    "\n",
    "arcpy.management.CalculateField(\n",
    "    \"taz_table\", \n",
    "    \"HH\", \n",
    "    'round(!HH! + !HH_new!)', \n",
    "    \"PYTHON3\", None, \"DOUBLE\"\n",
    ")\n",
    "\n",
    "arcpy.management.CalculateField(\n",
    "    \"taz_table\", \n",
    "    \"JOB\", \n",
    "    'round(!JOB! + !JOB_new!)', \n",
    "    \"PYTHON3\", None, \"DOUBLE\"\n",
    ")\n",
    "\n",
    "arcpy.management.SelectLayerByAttribute(\n",
    "    \"taz_table\", \n",
    "    \"CLEAR_SELECTION\"\n",
    ")"
   ]
  },
  {
   "cell_type": "code",
   "execution_count": null,
   "metadata": {},
   "outputs": [],
   "source": [
    "arcpy.management.DeleteField(\"taz_table\", ['HH_new', 'JOB_new'])"
   ]
  },
  {
   "cell_type": "code",
   "execution_count": null,
   "metadata": {},
   "outputs": [],
   "source": []
  }
 ],
 "metadata": {
  "kernelspec": {
   "display_name": "ArcGISPro",
   "language": "Python",
   "name": "python3"
  },
  "language_info": {
   "file_extension": ".py",
   "name": "python",
   "version": "3"
  }
 },
 "nbformat": 4,
 "nbformat_minor": 2
}
