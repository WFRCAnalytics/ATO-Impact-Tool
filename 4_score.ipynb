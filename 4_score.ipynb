{
 "cells": [
  {
   "cell_type": "markdown",
   "metadata": {},
   "source": [
    "# Score Scenarios\n",
    "\n",
    "Run the cells below to score the configured scenarios. Any unscored scenarios will be scored.\n",
    "\n",
    "To re-score a scenario, open its corresponding file geodatabase and delete its `scores` and `scores_summary` table."
   ]
  },
  {
   "cell_type": "code",
   "execution_count": null,
   "metadata": {
    "ExecuteTime": {
     "end_time": "2022-02-03T16:49:15.229301Z",
     "start_time": "2022-02-03T16:49:15.223220Z"
    }
   },
   "outputs": [],
   "source": [
    "import sys\n",
    "import os\n",
    "import arcpy\n",
    "\n",
    "import numpy as np\n",
    "import pandas as pd\n",
    "from arcgis.features import SpatialDataFrame\n",
    "\n",
    "src = os.path.join(os.path.abspath(\".\"), 'src')\n",
    "if src not in sys.path:\n",
    "    sys.path.append(src)\n",
    "    \n",
    "from ato_tools import ato\n",
    "\n",
    "if 'ato_tools' in sys.modules:\n",
    "    import importlib\n",
    "    importlib.reload(ato)\n",
    "\n",
    "base_path = os.path.abspath(\".\")\n",
    "\n",
    "baseline_gdb = \"baseline.gdb\""
   ]
  },
  {
   "cell_type": "code",
   "execution_count": null,
   "metadata": {
    "ExecuteTime": {
     "end_time": "2022-02-03T16:49:18.482151Z",
     "start_time": "2022-02-03T16:49:18.29782Z"
    }
   },
   "outputs": [],
   "source": [
    "scenarios = list()\n",
    "for mode in ['Cycling', 'Driving', 'Transit', 'Land_Use']:\n",
    "    for file in os.listdir(os.path.join('scenario', mode)):\n",
    "        d = os.path.join(base_path, os.path.join('scenario', mode), file)\n",
    "        if os.path.isdir(d) and d.endswith('.gdb'):\n",
    "            scenarios.append({\"name\": file[:-4],\n",
    "                              'gdb': d,\n",
    "                              'mode': mode})\n",
    "            \n",
    "modal_scenarios = [x for x in scenarios if x['mode'] != 'Land_Use']\n",
    "land_use_scenarios = [x for x in scenarios if x['mode'] == 'Land_Use']"
   ]
  },
  {
   "cell_type": "markdown",
   "metadata": {
    "heading_collapsed": true
   },
   "source": [
    "### Calculate skim matrices for new mode scenarios"
   ]
  },
  {
   "cell_type": "markdown",
   "metadata": {
    "hidden": true
   },
   "source": [
    "In the event that the cell below produces a 'Network Travel Times are Zero' error, rebuild the network,\n",
    "e.g. `ato.build(r'scenario\\Transit\\box_elder_express.gdb\\NetworkDataset\\NetworkDataset_ND')`\n",
    "\n",
    "The cell below should take:\n",
    "\n",
    "* ~20 minutes per roadway scenario\n",
    "* ~5 minutes per transit scenario\n",
    "* ~5 minutes per cycling scenario"
   ]
  },
  {
   "cell_type": "code",
   "execution_count": null,
   "metadata": {
    "ExecuteTime": {
     "end_time": "2022-02-03T17:14:30.499812Z",
     "start_time": "2022-02-03T17:10:04.711990Z"
    },
    "hidden": true,
    "scrolled": false
   },
   "outputs": [],
   "source": [
    "# calculate skim matrices for new scenarios\n",
    "for scenario in modal_scenarios:\n",
    "    if not arcpy.Exists(os.path.join(scenario['gdb'], \"skim_matrix\")):\n",
    "        ato.skim(\n",
    "            nd = os.path.join(scenario['gdb'], r'NetworkDataset\\NetworkDataset_ND'),\n",
    "            mode = scenario['mode'],\n",
    "            centroids = r'baseline.gdb\\taz_centroids',\n",
    "            out_table = os.path.join(scenario['gdb'], r\"skim_matrix\")\n",
    "        )"
   ]
  },
  {
   "cell_type": "markdown",
   "metadata": {
    "hidden": true
   },
   "source": [
    "Just to reiterate, if the loop above fails due to an invalid network (this is caused by a bug in Esri's software, not a problem with your network), you can correct the issue by rebuilding the network.\n",
    "\n",
    "Insert a new cell and run `ato.build()` on the full network dataset path, e.g. \n",
    "\n",
    "```python\n",
    "ato.build(r'scenario\\Transit\\ogden_local_bus.gdb\\NetworkDataset\\NetworkDataset_ND')\n",
    "```"
   ]
  },
  {
   "cell_type": "markdown",
   "metadata": {},
   "source": [
    "### Calculate ATO scores"
   ]
  },
  {
   "cell_type": "code",
   "execution_count": null,
   "metadata": {
    "ExecuteTime": {
     "end_time": "2022-02-03T17:14:59.401504Z",
     "start_time": "2022-02-03T17:14:54.42738Z"
    }
   },
   "outputs": [],
   "source": [
    "# score mode projects\n",
    "for scenario in modal_scenarios:\n",
    "    if not arcpy.Exists(os.path.join(scenario['gdb'], \"ato\")):\n",
    "        ato.score(\n",
    "            skim_matrix = os.path.join(scenario['gdb'], r\"skim_matrix\"),\n",
    "            taz_table = r'baseline.gdb\\taz_table',\n",
    "            out_table = os.path.join(scenario['gdb'], r\"ato\")\n",
    "        )\n",
    "for scenario in land_use_scenarios:\n",
    "    # score land use projects using the baseline skim matrix \n",
    "    # since changes in land use do not change travel times\n",
    "    if scenario['mode'] == 'Land_Use' and not arcpy.Exists(os.path.join(scenario['gdb'], \"ato_driving\")):\n",
    "        for mode in ['driving', 'transit', 'cycling']:\n",
    "            ato.score(\n",
    "                skim_matrix = os.path.join(baseline_gdb, \"skim_\" + mode),\n",
    "                taz_table = os.path.join(scenario['gdb'], r\"taz_table\"),\n",
    "                out_table = os.path.join(scenario['gdb'], r\"ato_\" + mode),\n",
    "                job_per_hh = 1.80875\n",
    "            )"
   ]
  },
  {
   "cell_type": "markdown",
   "metadata": {},
   "source": [
    "## Tabulate Scores Across Scenarios\n",
    "\n",
    "The cells below read in the scores from all scored scenarios, calculate weighted average scenario scores, and combine these scores into summary tables:\n",
    "\n",
    "* Transportation Network Changes: `scenario\\scenario_scores.csv`\n",
    "* Land Use Changes: `scenario\\land_use_scenario_scores.csv`\n",
    "\n",
    "Scores for individual projects can be extracted from the `scores_summary` table within each file geodatabase."
   ]
  },
  {
   "cell_type": "markdown",
   "metadata": {},
   "source": [
    "### Tabulate Mode Scenario Scores"
   ]
  },
  {
   "cell_type": "code",
   "execution_count": null,
   "metadata": {
    "ExecuteTime": {
     "end_time": "2022-02-03T17:15:15.162551Z",
     "start_time": "2022-02-03T17:15:12.826857Z"
    }
   },
   "outputs": [],
   "source": [
    "scenario_scores = pd.DataFrame(columns = \n",
    "    ['Name', 'Mode', 'hh_access', 'jobs_access', 'comp_access',\n",
    "     'pov_accessible_jobs', 'minority_accessible_jobs', \n",
    "     'zero_car_accessible_jobs', 'efa_accessible_jobs']\n",
    ")\n",
    "\n",
    "equity_taz = pd.read_csv('equity_taz.csv')\n",
    "equity_taz['SD_efa'] = equity_taz[['SD_Pov', 'SD_Minorit', 'SD_ZeroCar']].max(axis=1)\n",
    "\n",
    "taz_table = pd.DataFrame(arcpy.da.TableToNumPyArray(r'baseline.gdb\\taz_table', '*'))\n",
    "\n",
    "for scenario in modal_scenarios:\n",
    "    \n",
    "    mode = scenario['mode']\n",
    "    \n",
    "    if mode == 'Driving':\n",
    "        baseline = r'baseline.gdb\\ato_driving'\n",
    "    elif mode == 'Transit':\n",
    "        baseline = r'baseline.gdb\\ato_transit'\n",
    "    elif mode == 'Cycling':\n",
    "        baseline = r'baseline.gdb\\ato_cycling'\n",
    "    \n",
    "    scores_table = os.path.join(scenario['gdb'], 'scores')\n",
    "    \n",
    "    if not arcpy.Exists(scores_table):\n",
    "        ato.diff(\n",
    "            baseline = baseline,\n",
    "            scenario = os.path.join(scenario['gdb'], 'ato'),\n",
    "            out_table = scores_table\n",
    "        )\n",
    "    \n",
    "    df = pd.DataFrame(arcpy.da.TableToNumPyArray(scores_table, '*'))\n",
    "\n",
    "    df = pd.merge(\n",
    "        df, \n",
    "        equity_taz, \n",
    "        on='CO_TAZID', \n",
    "        how=\"left\"\n",
    "    )\n",
    "\n",
    "    df = pd.merge(\n",
    "        df, \n",
    "        taz_table, \n",
    "        on='CO_TAZID', \n",
    "        how=\"left\"\n",
    "    )\n",
    "\n",
    "    vals = {\n",
    "        \"Name\": scenario['name'],\n",
    "        'Mode': mode,\n",
    "        \"hh_access\": np.average(df['diff_hh'], weights=df['JOB']),\n",
    "        \"jobs_access\": np.average(df['diff_jobs'], weights=df['HH']),\n",
    "        \"comp_access\": np.average(df['diff_ato'], weights=(df['JOB'] + df['HH'])),\n",
    "        'pov_accessible_jobs': np.average(\n",
    "            df['diff_jobs'] * df['SD_Pov'], \n",
    "            weights=(df['HH'] * df['SD_Pov'])\n",
    "        ),\n",
    "        'minority_accessible_jobs': np.average(\n",
    "            df['diff_jobs'] * df['SD_Minorit'], \n",
    "            weights=(df['HH'] * df['SD_Minorit'])\n",
    "        ),\n",
    "        'zero_car_accessible_jobs': np.average(\n",
    "            df['diff_jobs'] * df['SD_ZeroCar'], \n",
    "            weights=(df['HH'] * df['SD_ZeroCar'])\n",
    "        ),\n",
    "        'efa_accessible_jobs': np.average(\n",
    "            df['diff_jobs'] * df['SD_efa'], \n",
    "            weights=(df['HH'] * df['SD_efa'])\n",
    "        )\n",
    "    }\n",
    "    vals['hh_access'] = round(vals['hh_access'], 1)\n",
    "    vals['jobs_access'] = round(vals['jobs_access'], 1)\n",
    "    vals['comp_access'] = round(vals['comp_access'], 1)\n",
    "    vals['pov_accessible_jobs'] = round(vals['pov_accessible_jobs'], 1)\n",
    "    vals['minority_accessible_jobs'] = round(vals['minority_accessible_jobs'], 1)\n",
    "    vals['zero_car_accessible_jobs'] = round(vals['zero_car_accessible_jobs'], 1)\n",
    "    vals['efa_accessible_jobs'] = round(vals['efa_accessible_jobs'], 1)\n",
    "    \n",
    "    \n",
    "    scenario_scores = scenario_scores.append(vals, ignore_index=True)"
   ]
  },
  {
   "cell_type": "code",
   "execution_count": null,
   "metadata": {
    "ExecuteTime": {
     "end_time": "2022-02-03T17:15:15.255784Z",
     "start_time": "2022-02-03T17:15:15.162886Z"
    },
    "scrolled": false
   },
   "outputs": [],
   "source": [
    "scenario_scores"
   ]
  },
  {
   "cell_type": "markdown",
   "metadata": {},
   "source": [
    "### Tabulate Land Use Scenario Scores"
   ]
  },
  {
   "cell_type": "code",
   "execution_count": null,
   "metadata": {
    "ExecuteTime": {
     "end_time": "2022-02-03T17:15:09.236905Z",
     "start_time": "2022-02-03T17:15:08.352456Z"
    }
   },
   "outputs": [],
   "source": [
    "land_use_scenario_scores = pd.DataFrame(columns = \n",
    "    ['Name', 'driving_comp', 'cycling_comp', 'transit_comp', \n",
    "     'cycling_to_auto', 'transit_to_auto']\n",
    ")\n",
    "\n",
    "for scenario in land_use_scenarios:\n",
    "    scores = {}\n",
    "\n",
    "    for mode in ['driving', 'transit', 'cycling']:\n",
    "        baseline = os.path.join('baseline.gdb', 'ato_' + mode)\n",
    "        scenario_ato_scores = os.path.join(scenario['gdb'], 'ato_' + mode)\n",
    "        \n",
    "        scores_table = os.path.join(scenario['gdb'], 'scores_' + mode)\n",
    "        \n",
    "        # store only new scores tables\n",
    "        if not arcpy.Exists(scores_table):\n",
    "            ato.diff(\n",
    "                baseline, \n",
    "                scenario_ato_scores,\n",
    "                scores_table\n",
    "            )\n",
    "        \n",
    "        df = pd.DataFrame(arcpy.da.TableToNumPyArray(scores_table, '*'))\n",
    "\n",
    "        df = pd.merge(\n",
    "            df, \n",
    "            taz_table, \n",
    "            on='CO_TAZID', \n",
    "            how=\"left\"\n",
    "        )\n",
    "\n",
    "        scores[mode] = np.average(\n",
    "            df['diff_jobs'], \n",
    "            weights=(df['JOB'] + df['HH'])\n",
    "        )\n",
    "    \n",
    "    vals = {\n",
    "        \"Name\": scenario['name'],\n",
    "        'driving_comp': round(scores['driving'], 1),\n",
    "        'cycling_comp': round(scores['cycling'], 1),\n",
    "        'transit_comp': round(scores['transit'], 1), \n",
    "        'cycling_to_auto': round(scores['cycling'] / scores['driving'], 2),\n",
    "        'transit_to_auto': round(scores['transit'] / scores['driving'], 2)\n",
    "    }\n",
    "    \n",
    "    land_use_scenario_scores = land_use_scenario_scores.append(vals, ignore_index=True)"
   ]
  },
  {
   "cell_type": "code",
   "execution_count": null,
   "metadata": {
    "ExecuteTime": {
     "end_time": "2022-02-03T17:15:11.157621Z",
     "start_time": "2022-02-03T17:15:11.142519Z"
    }
   },
   "outputs": [],
   "source": [
    "land_use_scenario_scores"
   ]
  },
  {
   "cell_type": "code",
   "execution_count": null,
   "metadata": {
    "ExecuteTime": {
     "end_time": "2022-02-03T17:15:46.602058Z",
     "start_time": "2022-02-03T17:15:46.588533Z"
    }
   },
   "outputs": [],
   "source": [
    "land_use_scenario_scores.to_csv(r'scenario\\land_use_scenario_scores.csv')\n",
    "scenario_scores.to_csv(r'scenario\\scenario_scores.csv')"
   ]
  },
  {
   "cell_type": "code",
   "execution_count": null,
   "metadata": {},
   "outputs": [],
   "source": []
  }
 ],
 "metadata": {
  "kernelspec": {
   "display_name": "ArcGISPro",
   "language": "Python",
   "name": "python3"
  },
  "language_info": {
   "file_extension": ".py",
   "name": "python",
   "version": "3"
  }
 },
 "nbformat": 4,
 "nbformat_minor": 2
}
