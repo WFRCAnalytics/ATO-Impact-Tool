{
 "cells": [
  {
   "cell_type": "markdown",
   "metadata": {},
   "source": [
    "# Score Scenarios\n",
    "\n",
    "Run the cells below to score the configured scenarios. Any unscored scenarios will be scored.\n",
    "\n",
    "To re-score a scenario, open its corresponding file geodatabase and delete its `scores` and `scores_summary` table."
   ]
  },
  {
   "cell_type": "code",
   "execution_count": 3,
   "metadata": {
    "ExecuteTime": {
     "end_time": "2022-02-03T16:49:15.229301Z",
     "start_time": "2022-02-03T16:49:15.223220Z"
    }
   },
   "outputs": [],
   "source": [
    "import sys\n",
    "import os\n",
    "import arcpy\n",
    "\n",
    "import pandas as pd\n",
    "from arcgis.features import SpatialDataFrame\n",
    "\n",
    "src = os.path.join(os.path.abspath(\".\"), 'src')\n",
    "if src not in sys.path:\n",
    "    sys.path.append(src)\n",
    "    \n",
    "from ato_tools import ato\n",
    "\n",
    "if 'ato_tools' in sys.modules:\n",
    "    import importlib\n",
    "    importlib.reload(ato)\n",
    "\n",
    "base_path = os.path.abspath(\".\")\n",
    "\n",
    "baseline_gdb = \"baseline.gdb\""
   ]
  },
  {
   "cell_type": "code",
   "execution_count": 20,
   "metadata": {
    "ExecuteTime": {
     "end_time": "2022-02-03T16:49:18.482151Z",
     "start_time": "2022-02-03T16:49:18.29782Z"
    }
   },
   "outputs": [],
   "source": [
    "scenarios = list()\n",
    "for mode in ['Cycling', 'Driving', 'Transit', 'Land_Use']:\n",
    "    for file in os.listdir(os.path.join('scenario', mode)):\n",
    "        d = os.path.join(base_path, os.path.join('scenario', mode), file)\n",
    "        if os.path.isdir(d) and d.endswith('.gdb'):\n",
    "            scenarios.append({\"name\": file[:-4],\n",
    "                              'gdb': d,\n",
    "                              'mode': mode})\n",
    "            \n",
    "modal_scenarios = [x for x in scenarios if x['mode'] != 'Land_Use']\n",
    "land_use_scenarios = [x for x in scenarios if x['mode'] == 'Land_Use']"
   ]
  },
  {
   "cell_type": "markdown",
   "metadata": {},
   "source": [
    "### Calculate skim matrices for new mode scenarios"
   ]
  },
  {
   "cell_type": "markdown",
   "metadata": {},
   "source": [
    "In the event that the cell below produces a 'Network Travel Times are Zero' error, rebuild the network,\n",
    "e.g. `ato.build(r'scenario\\Transit\\box_elder_express.gdb\\NetworkDataset\\NetworkDataset_ND')`\n",
    "\n",
    "The cell below should take:\n",
    "\n",
    "* ~20 minutes per roadway scenario\n",
    "* ~5 minutes per transit scenario\n",
    "* ~5 minutes per cycling scenario"
   ]
  },
  {
   "cell_type": "code",
   "execution_count": 8,
   "metadata": {
    "ExecuteTime": {
     "end_time": "2022-02-03T17:14:30.499812Z",
     "start_time": "2022-02-03T17:10:04.711990Z"
    },
    "scrolled": false
   },
   "outputs": [
    {
     "name": "stdout",
     "output_type": "stream",
     "text": [
      "Solving skim using Transit network for C:\\wfrc\\ato\\scenario\\Transit\\redwood_rd_core.gdb\\NetworkDataset\\NetworkDataset_ND .\n",
      "Skim matrix written to C:\\wfrc\\ato\\scenario\\Transit\\redwood_rd_core.gdb\\skim_matrix\n",
      "Skim Matrix Solve Time (mins): 4.84\n"
     ]
    }
   ],
   "source": [
    "# calculate skim matrices for new scenarios\n",
    "for scenario in modal_scenarios:\n",
    "    if not arcpy.Exists(os.path.join(scenario['gdb'], \"skim_matrix\")):\n",
    "        ato.skim(\n",
    "            nd = os.path.join(scenario['gdb'], r'NetworkDataset\\NetworkDataset_ND'),\n",
    "            mode = scenario['mode'],\n",
    "            centroids = r'baseline.gdb\\taz_centroids',\n",
    "            out_table = os.path.join(scenario['gdb'], r\"skim_matrix\")\n",
    "        )"
   ]
  },
  {
   "cell_type": "markdown",
   "metadata": {},
   "source": [
    "Just to reiterate, if the loop above fails due to an invalid network (this is caused by a bug in Esri's software, not a problem with your network), you can correct the issue by rebuilding the network.\n",
    "\n",
    "Insert a new cell and run `ato.build()` on the full network dataset path, e.g. \n",
    "\n",
    "```python\n",
    "ato.build(r'scenario\\Transit\\ogden_local_bus.gdb\\NetworkDataset\\NetworkDataset_ND')\n",
    "```"
   ]
  },
  {
   "cell_type": "markdown",
   "metadata": {},
   "source": [
    "### Calculate ATO scores"
   ]
  },
  {
   "cell_type": "code",
   "execution_count": 15,
   "metadata": {
    "ExecuteTime": {
     "end_time": "2022-02-03T17:14:59.401504Z",
     "start_time": "2022-02-03T17:14:54.42738Z"
    }
   },
   "outputs": [],
   "source": [
    "# score mode projects\n",
    "for scenario in modal_scenarios:\n",
    "    if not arcpy.Exists(os.path.join(scenario['gdb'], \"ato\")):\n",
    "        ato.score(\n",
    "            skim_matrix = os.path.join(scenario['gdb'], r\"skim_matrix\"),\n",
    "            taz_table = r'baseline.gdb\\taz_table',\n",
    "            out_table = os.path.join(scenario['gdb'], r\"ato\")\n",
    "        )\n",
    "for scenario in land_use_scenarios:\n",
    "    # score land use projects using the baseline skim matrix \n",
    "    # since changes in land use do not change travel times\n",
    "    if scenario['mode'] == 'Land_Use' and not arcpy.Exists(os.path.join(scenario['gdb'], \"ato_driving\")):\n",
    "        for mode in ['driving', 'transit', 'cycling']:\n",
    "            ato.score(\n",
    "                skim_matrix = os.path.join(baseline_gdb, \"skim_\" + mode),\n",
    "                taz_table = os.path.join(gdb, r\"taz_table\"),\n",
    "                out_table = os.path.join(gdb, r\"ato_\" + mode),\n",
    "                job_per_hh = 1.808755\n",
    "            )"
   ]
  },
  {
   "cell_type": "markdown",
   "metadata": {},
   "source": [
    "## Tabulate Scores Across Scenarios\n",
    "\n",
    "The cells below read in the scores from all scored scenarios and combined into summary tables:\n",
    "\n",
    "* Transportation Network Changes: `scenario\\scenario_scores.csv`\n",
    "* Land Use Changes: `scenario\\land_use_scenario_scores.csv`\n",
    "\n",
    "Scores for individual projects can be extracted from the `scores_summary` table within each file geodatabase."
   ]
  },
  {
   "cell_type": "markdown",
   "metadata": {},
   "source": [
    "### Tabulate Mode Scenario Scores"
   ]
  },
  {
   "cell_type": "code",
   "execution_count": 26,
   "metadata": {
    "ExecuteTime": {
     "end_time": "2022-02-03T17:15:15.162551Z",
     "start_time": "2022-02-03T17:15:12.826857Z"
    }
   },
   "outputs": [
    {
     "name": "stdout",
     "output_type": "stream",
     "text": [
      "Scenario score: 65906.0\n",
      "Scenario score: 203755.0\n",
      "Scenario score: 201849.0\n"
     ]
    }
   ],
   "source": [
    "scenario_scores = pd.DataFrame(columns = \n",
    "    ['Name', 'Mode', 'hh_access', 'jobs_access', 'comp_access',\n",
    "     'pov_accessible_jobs', 'minority_accessible_jobs', \n",
    "     'zero_car_accessible_jobs', 'efa_accessible_jobs']\n",
    ")\n",
    "\n",
    "equity_taz = pd.read_csv('equity_taz.csv')\n",
    "\n",
    "for scenario in modal_scenarios:\n",
    "    \n",
    "    mode = scenario['mode']\n",
    "    \n",
    "    if mode == 'Driving':\n",
    "        baseline = r'baseline.gdb\\ato_driving'\n",
    "    elif mode == 'Transit':\n",
    "        baseline = r'baseline.gdb\\ato_transit'\n",
    "    elif mode == 'Cycling':\n",
    "        baseline = r'baseline.gdb\\ato_cycling'\n",
    "    \n",
    "    scores_table = os.path.join(scenario['gdb'], 'scores')\n",
    "    \n",
    "    if not arcpy.Exists(scores_table):\n",
    "        ato.diff(\n",
    "            baseline = baseline,\n",
    "            scenario = os.path.join(scenario['gdb'], 'ato'),\n",
    "            out_table = scores_table\n",
    "        )\n",
    "    \n",
    "    df = pd.DataFrame(arcpy.da.TableToNumPyArray(scores_table, '*'))\n",
    "\n",
    "    df = pd.merge(\n",
    "        df, \n",
    "        equity_taz, \n",
    "        on='CO_TAZID', \n",
    "        how=\"left\"\n",
    "    )\n",
    "\n",
    "    vals = {\n",
    "        \"Name\": scenario['name'],\n",
    "        'Mode': mode,\n",
    "        \"hh_access\": df['diff_hh'].sum(),\n",
    "        \"jobs_access\": df['diff_jobs'].sum(),\n",
    "        \"comp_access\": df['diff_ato'].sum(),\n",
    "        'pov_accessible_jobs': (df['diff_jobs'] * df['SD_Pov']).sum(),\n",
    "        'minority_accessible_jobs': (df['diff_jobs'] * df['SD_Minorit']).sum(),\n",
    "        'zero_car_accessible_jobs': (df['diff_jobs'] * df['SD_ZeroCar']).sum(),\n",
    "        'efa_accessible_jobs': (df['diff_jobs'] * df[['SD_Pov', 'SD_Minorit', 'SD_ZeroCar']].max(axis=1)).sum()\n",
    "    }\n",
    "    \n",
    "    scenario_scores = scenario_scores.append(vals, ignore_index=True)"
   ]
  },
  {
   "cell_type": "code",
   "execution_count": 28,
   "metadata": {
    "ExecuteTime": {
     "end_time": "2022-02-03T17:15:15.255784Z",
     "start_time": "2022-02-03T17:15:15.162886Z"
    },
    "scrolled": false
   },
   "outputs": [
    {
     "data": {
      "text/html": [
       "<div>\n",
       "<style scoped>\n",
       "    .dataframe tbody tr th:only-of-type {\n",
       "        vertical-align: middle;\n",
       "    }\n",
       "\n",
       "    .dataframe tbody tr th {\n",
       "        vertical-align: top;\n",
       "    }\n",
       "\n",
       "    .dataframe thead th {\n",
       "        text-align: right;\n",
       "    }\n",
       "</style>\n",
       "<table border=\"1\" class=\"dataframe\">\n",
       "  <thead>\n",
       "    <tr style=\"text-align: right;\">\n",
       "      <th></th>\n",
       "      <th>Name</th>\n",
       "      <th>Mode</th>\n",
       "      <th>hh_access</th>\n",
       "      <th>jobs_access</th>\n",
       "      <th>comp_access</th>\n",
       "      <th>pov_accessible_jobs</th>\n",
       "      <th>minority_accessible_jobs</th>\n",
       "      <th>zero_car_accessible_jobs</th>\n",
       "      <th>efa_accessible_jobs</th>\n",
       "    </tr>\n",
       "  </thead>\n",
       "  <tbody>\n",
       "    <tr>\n",
       "      <th>0</th>\n",
       "      <td>orchard_path</td>\n",
       "      <td>Cycling</td>\n",
       "      <td>45556.0</td>\n",
       "      <td>31371.0</td>\n",
       "      <td>31021.0</td>\n",
       "      <td>4.0</td>\n",
       "      <td>13.0</td>\n",
       "      <td>114.0</td>\n",
       "      <td>127.0</td>\n",
       "    </tr>\n",
       "    <tr>\n",
       "      <th>1</th>\n",
       "      <td>penn_ave_buffered_bike_lane</td>\n",
       "      <td>Cycling</td>\n",
       "      <td>84311.0</td>\n",
       "      <td>105388.0</td>\n",
       "      <td>109255.0</td>\n",
       "      <td>24413.0</td>\n",
       "      <td>19676.0</td>\n",
       "      <td>18285.0</td>\n",
       "      <td>41477.0</td>\n",
       "    </tr>\n",
       "    <tr>\n",
       "      <th>2</th>\n",
       "      <td>1250_west_new_construction</td>\n",
       "      <td>Driving</td>\n",
       "      <td>31151.0</td>\n",
       "      <td>75811.0</td>\n",
       "      <td>65906.0</td>\n",
       "      <td>43.0</td>\n",
       "      <td>38.0</td>\n",
       "      <td>54.0</td>\n",
       "      <td>82.0</td>\n",
       "    </tr>\n",
       "    <tr>\n",
       "      <th>3</th>\n",
       "      <td>highland_drive</td>\n",
       "      <td>Driving</td>\n",
       "      <td>252987.0</td>\n",
       "      <td>176828.0</td>\n",
       "      <td>203755.0</td>\n",
       "      <td>2827.0</td>\n",
       "      <td>1521.0</td>\n",
       "      <td>18399.0</td>\n",
       "      <td>20687.0</td>\n",
       "    </tr>\n",
       "    <tr>\n",
       "      <th>4</th>\n",
       "      <td>new_1200_west</td>\n",
       "      <td>Driving</td>\n",
       "      <td>68.0</td>\n",
       "      <td>231.0</td>\n",
       "      <td>-24.0</td>\n",
       "      <td>0.0</td>\n",
       "      <td>0.0</td>\n",
       "      <td>0.0</td>\n",
       "      <td>0.0</td>\n",
       "    </tr>\n",
       "    <tr>\n",
       "      <th>5</th>\n",
       "      <td>widen_5600_south</td>\n",
       "      <td>Driving</td>\n",
       "      <td>442572.0</td>\n",
       "      <td>328060.0</td>\n",
       "      <td>392566.0</td>\n",
       "      <td>30901.0</td>\n",
       "      <td>29126.0</td>\n",
       "      <td>38657.0</td>\n",
       "      <td>61369.0</td>\n",
       "    </tr>\n",
       "    <tr>\n",
       "      <th>6</th>\n",
       "      <td>box_elder_express</td>\n",
       "      <td>Transit</td>\n",
       "      <td>47922.0</td>\n",
       "      <td>77766.0</td>\n",
       "      <td>65753.0</td>\n",
       "      <td>17708.0</td>\n",
       "      <td>16885.0</td>\n",
       "      <td>22681.0</td>\n",
       "      <td>36075.0</td>\n",
       "    </tr>\n",
       "    <tr>\n",
       "      <th>7</th>\n",
       "      <td>ogden_weber_state_brt</td>\n",
       "      <td>Transit</td>\n",
       "      <td>55839.0</td>\n",
       "      <td>118942.0</td>\n",
       "      <td>92481.0</td>\n",
       "      <td>55146.0</td>\n",
       "      <td>21795.0</td>\n",
       "      <td>45259.0</td>\n",
       "      <td>71833.0</td>\n",
       "    </tr>\n",
       "    <tr>\n",
       "      <th>8</th>\n",
       "      <td>redwood_rd_core</td>\n",
       "      <td>Transit</td>\n",
       "      <td>124200.0</td>\n",
       "      <td>235469.0</td>\n",
       "      <td>201849.0</td>\n",
       "      <td>96204.0</td>\n",
       "      <td>145160.0</td>\n",
       "      <td>86893.0</td>\n",
       "      <td>180129.0</td>\n",
       "    </tr>\n",
       "  </tbody>\n",
       "</table>\n",
       "</div>"
      ],
      "text/plain": [
       "                          Name  ... efa_accessible_jobs\n",
       "0                 orchard_path  ...               127.0\n",
       "1  penn_ave_buffered_bike_lane  ...             41477.0\n",
       "2   1250_west_new_construction  ...                82.0\n",
       "3               highland_drive  ...             20687.0\n",
       "4                new_1200_west  ...                 0.0\n",
       "5             widen_5600_south  ...             61369.0\n",
       "6            box_elder_express  ...             36075.0\n",
       "7        ogden_weber_state_brt  ...             71833.0\n",
       "8              redwood_rd_core  ...            180129.0\n",
       "\n",
       "[9 rows x 9 columns]"
      ]
     },
     "execution_count": 28,
     "metadata": {},
     "output_type": "execute_result"
    }
   ],
   "source": [
    "scenario_scores"
   ]
  },
  {
   "cell_type": "markdown",
   "metadata": {},
   "source": [
    "### Tabulate Land Use Scenario Scores"
   ]
  },
  {
   "cell_type": "code",
   "execution_count": 24,
   "metadata": {
    "ExecuteTime": {
     "end_time": "2022-02-03T17:15:09.236905Z",
     "start_time": "2022-02-03T17:15:08.352456Z"
    }
   },
   "outputs": [
    {
     "name": "stdout",
     "output_type": "stream",
     "text": [
      "Scenario score: 884873.0\n",
      "Scenario score: 45179.0\n",
      "Scenario score: 166668.0\n",
      "Scenario score: 400548.0\n",
      "Scenario score: 22896.0\n",
      "Scenario score: 83891.0\n",
      "Scenario score: 275231.0\n",
      "Scenario score: 46231.0\n",
      "Scenario score: 63101.0\n",
      "Scenario score: 844852.0\n",
      "Scenario score: 88999.0\n",
      "Scenario score: 143695.0\n"
     ]
    }
   ],
   "source": [
    "land_use_scenario_scores = pd.DataFrame(columns = \n",
    "    ['Name', 'driving_comp', 'cycling_comp', 'transit_comp', \n",
    "     'cycling_to_auto', 'transit_to_auto']\n",
    ")\n",
    "\n",
    "for scenario in land_use_scenarios:\n",
    "    scores = {}\n",
    "\n",
    "    for mode in ['driving', 'transit', 'cycling']:\n",
    "        baseline = os.path.join('baseline.gdb', 'ato_' + mode)\n",
    "        scenario_scores = os.path.join(scenario['gdb'], 'ato_' + mode)\n",
    "\n",
    "        scores[mode] = ato.diff(baseline, scenario_scores)\n",
    "\n",
    "    vals = {\n",
    "        \"Name\": scenario['name'],\n",
    "        'driving_comp': scores['driving'],\n",
    "        'cycling_comp': scores['cycling'],\n",
    "        'transit_comp': scores['transit'], \n",
    "        'cycling_to_auto': round(scores['cycling'] / scores['driving'], 2),\n",
    "        'transit_to_auto': round(scores['transit'] / scores['driving'], 2)\n",
    "    }\n",
    "    \n",
    "    land_use_scenario_scores = land_use_scenario_scores.append(vals, ignore_index=True)"
   ]
  },
  {
   "cell_type": "code",
   "execution_count": 25,
   "metadata": {
    "ExecuteTime": {
     "end_time": "2022-02-03T17:15:11.157621Z",
     "start_time": "2022-02-03T17:15:11.142519Z"
    }
   },
   "outputs": [
    {
     "data": {
      "text/html": [
       "<div>\n",
       "<style scoped>\n",
       "    .dataframe tbody tr th:only-of-type {\n",
       "        vertical-align: middle;\n",
       "    }\n",
       "\n",
       "    .dataframe tbody tr th {\n",
       "        vertical-align: top;\n",
       "    }\n",
       "\n",
       "    .dataframe thead th {\n",
       "        text-align: right;\n",
       "    }\n",
       "</style>\n",
       "<table border=\"1\" class=\"dataframe\">\n",
       "  <thead>\n",
       "    <tr style=\"text-align: right;\">\n",
       "      <th></th>\n",
       "      <th>Name</th>\n",
       "      <th>driving_comp</th>\n",
       "      <th>cycling_comp</th>\n",
       "      <th>transit_comp</th>\n",
       "      <th>cycling_to_auto</th>\n",
       "      <th>transit_to_auto</th>\n",
       "    </tr>\n",
       "  </thead>\n",
       "  <tbody>\n",
       "    <tr>\n",
       "      <th>0</th>\n",
       "      <td>daybreak_commercial_1</td>\n",
       "      <td>884873.0</td>\n",
       "      <td>166668.0</td>\n",
       "      <td>45179.0</td>\n",
       "      <td>0.19</td>\n",
       "      <td>0.05</td>\n",
       "    </tr>\n",
       "    <tr>\n",
       "      <th>1</th>\n",
       "      <td>daybreak_commercial_2</td>\n",
       "      <td>400548.0</td>\n",
       "      <td>83891.0</td>\n",
       "      <td>22896.0</td>\n",
       "      <td>0.21</td>\n",
       "      <td>0.06</td>\n",
       "    </tr>\n",
       "    <tr>\n",
       "      <th>2</th>\n",
       "      <td>ogden_cbd</td>\n",
       "      <td>275231.0</td>\n",
       "      <td>63101.0</td>\n",
       "      <td>46231.0</td>\n",
       "      <td>0.23</td>\n",
       "      <td>0.17</td>\n",
       "    </tr>\n",
       "    <tr>\n",
       "      <th>3</th>\n",
       "      <td>slc_powerplant_redevelopment</td>\n",
       "      <td>844852.0</td>\n",
       "      <td>143695.0</td>\n",
       "      <td>88999.0</td>\n",
       "      <td>0.17</td>\n",
       "      <td>0.11</td>\n",
       "    </tr>\n",
       "  </tbody>\n",
       "</table>\n",
       "</div>"
      ],
      "text/plain": [
       "                           Name  driving_comp  ...  cycling_to_auto  transit_to_auto\n",
       "0         daybreak_commercial_1      884873.0  ...             0.19             0.05\n",
       "1         daybreak_commercial_2      400548.0  ...             0.21             0.06\n",
       "2                     ogden_cbd      275231.0  ...             0.23             0.17\n",
       "3  slc_powerplant_redevelopment      844852.0  ...             0.17             0.11\n",
       "\n",
       "[4 rows x 6 columns]"
      ]
     },
     "execution_count": 25,
     "metadata": {},
     "output_type": "execute_result"
    }
   ],
   "source": [
    "land_use_scenario_scores"
   ]
  },
  {
   "cell_type": "code",
   "execution_count": null,
   "metadata": {
    "ExecuteTime": {
     "end_time": "2022-02-03T17:15:46.602058Z",
     "start_time": "2022-02-03T17:15:46.588533Z"
    }
   },
   "outputs": [],
   "source": [
    "land_use_scenario_scores.to_csv(r'scenario\\land_use_scenario_scores.csv')\n",
    "scenario_scores.to_csv(r'scenario\\scenario_scores.csv')"
   ]
  },
  {
   "cell_type": "code",
   "execution_count": null,
   "metadata": {},
   "outputs": [],
   "source": []
  }
 ],
 "metadata": {
  "kernelspec": {
   "display_name": "ArcGISPro",
   "language": "Python",
   "name": "python3"
  },
  "language_info": {
   "file_extension": ".py",
   "name": "python",
   "version": "3"
  }
 },
 "nbformat": 4,
 "nbformat_minor": 2
}
