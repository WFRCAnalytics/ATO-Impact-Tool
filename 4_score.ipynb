{
 "cells": [
  {
   "cell_type": "markdown",
   "metadata": {},
   "source": [
    "# Score Scenarios\n",
    "\n",
    "Run the cells below to score the configured scenarios. Any unscored scenarios will be scored.\n",
    "\n",
    "To re-score a scenario, open its corresponding file geodatabase and delete its `scores` and `scores_summary` table."
   ]
  },
  {
   "cell_type": "code",
   "execution_count": null,
   "metadata": {},
   "outputs": [],
   "source": [
    "import sys\n",
    "import os\n",
    "import arcpy\n",
    "\n",
    "import pandas as pd\n",
    "from arcgis.features import SpatialDataFrame\n",
    "\n",
    "src = os.path.join(os.path.abspath(\".\"), 'src')\n",
    "if src not in sys.path:\n",
    "    sys.path.append(src)\n",
    "    \n",
    "from ato_tools import network\n",
    "from ato_tools import scoring\n",
    "\n",
    "if 'ato_tools' in sys.modules:\n",
    "    import importlib\n",
    "    importlib.reload(scoring)\n",
    "    importlib.reload(network)\n",
    "\n",
    "base_path = os.path.abspath(\".\")"
   ]
  },
  {
   "cell_type": "code",
   "execution_count": null,
   "metadata": {},
   "outputs": [],
   "source": [
    "modes = list()\n",
    "for file in os.listdir(r'scenario'):\n",
    "    d = os.path.join(base_path, r'scenario', file)\n",
    "    if os.path.isdir(d) and not d.endswith('.gdb'):\n",
    "        modes.append(file)\n",
    "\n",
    "to_score = list()\n",
    "for mode in ['Cycling', 'Driving', 'Transit']:\n",
    "    scenario_folder = os.path.join('scenario', mode)\n",
    "    for file in os.listdir(scenario_folder):\n",
    "        d = os.path.join(base_path, scenario_folder, file)\n",
    "        if os.path.isdir(d) and d.endswith('.gdb'):\n",
    "            if arcpy.Exists(os.path.join(d, 'scores')) == False:\n",
    "                print(d)\n",
    "                to_score.append((d, mode))"
   ]
  },
  {
   "cell_type": "code",
   "execution_count": null,
   "metadata": {
    "scrolled": true
   },
   "outputs": [],
   "source": [
    "# score unscored networks\n",
    "arcpy.env.addOutputsToMap = False\n",
    "\n",
    "for scenario in to_score:\n",
    "    gdb, mode = scenario\n",
    "    scoring.score(gdb, mode = mode, test = False)\n",
    "\n",
    "arcpy.env.addOutputsToMap = True"
   ]
  },
  {
   "cell_type": "markdown",
   "metadata": {},
   "source": [
    "If the loop above fails due to an invalid network, you can rebuild the network by running `network.build()` on the full network dataset path, e.g. `network.build(r'scenario\\Transit\\ogden_local_bus.gdb\\NetworkDataset\\NetworkDataset_ND')`"
   ]
  },
  {
   "cell_type": "code",
   "execution_count": null,
   "metadata": {},
   "outputs": [],
   "source": []
  },
  {
   "cell_type": "markdown",
   "metadata": {},
   "source": [
    "## Tabulate Scores Across Scenarios\n",
    "\n",
    "The cells below read in the scores from all scored scenarios and combined into a single summary table (`scenario\\scenario_scores.csv`)\n",
    "\n",
    "Scores for individual projects can be extracted from the `scores_summary` table within each file geodatabase."
   ]
  },
  {
   "cell_type": "code",
   "execution_count": null,
   "metadata": {},
   "outputs": [],
   "source": [
    "field_list = ['CO_TAZID', 'HH', 'JOB', 'accessible_jobs', 'accessible_hh', 'ato']\n",
    "\n",
    "arr = arcpy.da.TableToNumPyArray(r'baseline.gdb\\auto_baseline_summary', field_list)\n",
    "baseline_auto = pd.DataFrame(arr, columns = field_list)\n",
    "\n",
    "arr = arcpy.da.TableToNumPyArray(r'baseline.gdb\\transit_baseline_summary', field_list)\n",
    "baseline_transit = pd.DataFrame(arr, columns = field_list)"
   ]
  },
  {
   "cell_type": "code",
   "execution_count": null,
   "metadata": {},
   "outputs": [],
   "source": [
    "summary_long = pd.DataFrame(columns = ['Name', 'Mode', 'hh', 'jobs', 'ato'])\n",
    "\n",
    "vals = {\n",
    "    \"Name\":\"Baseline\",\n",
    "    \"Mode\": \"Auto\",\n",
    "    \"hh\": baseline_auto['accessible_hh'].sum(),\n",
    "    \"jobs\": baseline_auto['accessible_jobs'].sum(),\n",
    "    \"ato\": baseline_auto['ato'].sum()\n",
    "}\n",
    "summary_long = summary_long.append(vals, ignore_index=True)\n",
    "\n",
    "vals = {\n",
    "    \"Name\": \"Baseline\",\n",
    "    \"Mode\": \"Transit\",\n",
    "    \"hh\": baseline_transit['accessible_hh'].sum(),\n",
    "    \"jobs\": baseline_transit['accessible_jobs'].sum(),\n",
    "    \"ato\": baseline_transit['ato'].sum()\n",
    "}\n",
    "summary_long = summary_long.append(vals, ignore_index=True)"
   ]
  },
  {
   "cell_type": "code",
   "execution_count": null,
   "metadata": {},
   "outputs": [],
   "source": [
    "scenarios = list()\n",
    "\n",
    "for mode in ['Driving', 'Transit', 'Cycling']:\n",
    "    scenario_folder = os.path.join('scenario', mode)\n",
    "    for file in os.listdir(scenario_folder):\n",
    "        d = os.path.join(scenario_folder, file)\n",
    "        if os.path.isdir(d) and d.endswith('.gdb'):\n",
    "            if arcpy.Exists(os.path.join(d, 'scores')) == True:\n",
    "\n",
    "                scenarios.append({\n",
    "                                \"name\": file[:-4],\n",
    "                                \"mode\": mode,\n",
    "                                \"gdb_path\": d\n",
    "                            })"
   ]
  },
  {
   "cell_type": "code",
   "execution_count": null,
   "metadata": {},
   "outputs": [],
   "source": [
    "for scenario in scenarios:\n",
    "    arr = arcpy.da.TableToNumPyArray(scenario['gdb_path'] + r'\\scores_summary', field_list)\n",
    "    scores = pd.DataFrame(arr, columns = field_list)\n",
    "    \n",
    "    mode = scenario['mode']\n",
    "    baseline = baseline_auto if mode == 'Driving' else baseline_transit\n",
    "    \n",
    "    df = pd.merge(\n",
    "        baseline, \n",
    "        scores, \n",
    "        on='CO_TAZID', \n",
    "        how=\"inner\",\n",
    "        suffixes=(\"_before\", \"_after\")\n",
    "    )\n",
    "    df['diff_hh'] = df['accessible_hh_after'] - df['accessible_hh_before']\n",
    "    df['diff_jobs'] = df['accessible_jobs_after'] - df['accessible_jobs_before']\n",
    "    df['diff_ato'] = df['ato_after'] - df['ato_before']\n",
    "    vals = {\n",
    "        \"Name\": scenario['name'],\n",
    "        'Mode': mode,\n",
    "        \"hh\": df['diff_hh'].sum(),\n",
    "        \"jobs\": df['diff_jobs'].sum(),\n",
    "        \"ato\": df['diff_hh'].sum()\n",
    "    }\n",
    "    \n",
    "    summary_long = summary_long.append(vals, ignore_index=True)"
   ]
  },
  {
   "cell_type": "code",
   "execution_count": null,
   "metadata": {},
   "outputs": [],
   "source": [
    "summary_long"
   ]
  },
  {
   "cell_type": "code",
   "execution_count": null,
   "metadata": {},
   "outputs": [],
   "source": [
    "summary_long.to_csv(r'scenario\\scenario_scores.csv')"
   ]
  },
  {
   "cell_type": "code",
   "execution_count": null,
   "metadata": {},
   "outputs": [],
   "source": []
  }
 ],
 "metadata": {
  "kernelspec": {
   "display_name": "ArcGISPro",
   "language": "Python",
   "name": "python3"
  },
  "language_info": {
   "file_extension": ".py",
   "name": "python",
   "version": "3"
  }
 },
 "nbformat": 4,
 "nbformat_minor": 2
}
