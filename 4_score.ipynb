{
 "cells": [
  {
   "cell_type": "markdown",
   "metadata": {},
   "source": [
    "# Score Scenarios\n",
    "\n",
    "Run the cells below to score the configured scenarios. Any unscored scenarios will be scored.\n",
    "\n",
    "To re-score a scenario, open its corresponding file geodatabase and delete its `scores` and `scores_summary` table."
   ]
  },
  {
   "cell_type": "code",
   "execution_count": null,
   "metadata": {
    "ExecuteTime": {
     "end_time": "2021-12-23T22:32:24.449765Z",
     "start_time": "2021-12-23T22:32:24.443433Z"
    }
   },
   "outputs": [],
   "source": [
    "import sys\n",
    "import os\n",
    "import arcpy\n",
    "\n",
    "import pandas as pd\n",
    "from arcgis.features import SpatialDataFrame\n",
    "\n",
    "src = os.path.join(os.path.abspath(\".\"), 'src')\n",
    "if src not in sys.path:\n",
    "    sys.path.append(src)\n",
    "    \n",
    "from ato_tools import ato\n",
    "\n",
    "if 'ato_tools' in sys.modules:\n",
    "    import importlib\n",
    "    importlib.reload(ato)\n",
    "\n",
    "base_path = os.path.abspath(\".\")\n",
    "\n",
    "baseline_gdb = \"baseline.gdb\""
   ]
  },
  {
   "cell_type": "code",
   "execution_count": null,
   "metadata": {
    "ExecuteTime": {
     "end_time": "2021-12-23T22:32:29.411568Z",
     "start_time": "2021-12-23T22:32:28.221085Z"
    }
   },
   "outputs": [],
   "source": [
    "modes = list()\n",
    "for file in os.listdir(r'scenario'):\n",
    "    d = os.path.join(base_path, r'scenario', file)\n",
    "    if os.path.isdir(d) and not d.endswith('.gdb'):\n",
    "        modes.append(file)\n",
    "\n",
    "to_score = list()\n",
    "for mode in ['Cycling', 'Driving', 'Transit']:\n",
    "    scenario_folder = os.path.join('scenario', mode)\n",
    "    for file in os.listdir(scenario_folder):\n",
    "        d = os.path.join(base_path, scenario_folder, file)\n",
    "        if os.path.isdir(d) and d.endswith('.gdb'):\n",
    "            if arcpy.Exists(os.path.join(d, 'ato')) == False:\n",
    "                print(d)\n",
    "                to_score.append((d, mode))"
   ]
  },
  {
   "cell_type": "code",
   "execution_count": null,
   "metadata": {
    "scrolled": false
   },
   "outputs": [],
   "source": [
    "# score unscored networks\n",
    "test = False\n",
    "\n",
    "# if testing, use a subset of centroids\n",
    "if test:\n",
    "    centroids = r\"baseline.gdb\\taz_centroids_sample\"\n",
    "else:\n",
    "    centroids = r'baseline.gdb\\taz_centroids'\n",
    "\n",
    "for scenario in to_score:\n",
    "    gdb, mode = scenario\n",
    "    ato.skim(\n",
    "        gdb = gdb,\n",
    "        mode = mode,\n",
    "        centroids = centroids,\n",
    "        out_table = os.path.join(gdb, r\"skim_matrix\")\n",
    "    )\n",
    "    ato.score(\n",
    "        gdb = gdb,\n",
    "        taz_table = r'baseline.gdb\\taz_table'\n",
    "    )"
   ]
  },
  {
   "cell_type": "markdown",
   "metadata": {},
   "source": [
    "If the loop above fails due to an invalid network, you can rebuild the network by running `ato.build()` on the full network dataset path, e.g. `ato.build(r'scenario\\Transit\\ogden_local_bus.gdb\\NetworkDataset\\NetworkDataset_ND')`"
   ]
  },
  {
   "cell_type": "code",
   "execution_count": null,
   "metadata": {
    "ExecuteTime": {
     "end_time": "2021-12-23T22:17:54.539188Z",
     "start_time": "2021-12-23T22:17:03.326292Z"
    },
    "scrolled": true
   },
   "outputs": [],
   "source": [
    "#score land use projects\n",
    "to_score = list()\n",
    "scenario_folder = os.path.join('scenario', 'land_use')\n",
    "for file in os.listdir(scenario_folder):\n",
    "    d = os.path.join(base_path, scenario_folder, file)\n",
    "    if os.path.isdir(d) and d.endswith('.gdb'):\n",
    "        if arcpy.Exists(os.path.join(d, 'ato')) == False:\n",
    "            \n",
    "            to_score.append(d)\n",
    "\n",
    "for gdb in to_score:\n",
    "    print('Scoring {0}'.format(gdb))\n",
    "    \n",
    "    ato.score(\n",
    "        gdb = gdb,\n",
    "        skim_matrix = os.path.join(baseline_gdb, r\"skim_driving\"), \n",
    "        job_per_hh = 1.808755,\n",
    "        out_table = os.path.join(gdb, r\"ato_driving\")\n",
    "    )\n",
    "    \n",
    "    ato.score(\n",
    "        gdb = gdb,\n",
    "        skim_matrix = os.path.join(baseline_gdb, r\"skim_cycling\"), \n",
    "        job_per_hh = 1.808755,\n",
    "        out_table = os.path.join(gdb, r\"ato_cycling\")\n",
    "    )\n",
    "        \n",
    "    ato.score(\n",
    "        gdb = gdb,\n",
    "        skim_matrix = os.path.join(baseline_gdb, r\"skim_transit\"), \n",
    "        job_per_hh = 1.808755,\n",
    "        out_table = os.path.join(gdb, r\"ato_transit\")\n",
    "    )\n",
    "    \n",
    "    ato.comp(gdb = gdb) # create composite by combining ato scores per mode"
   ]
  },
  {
   "cell_type": "markdown",
   "metadata": {},
   "source": [
    "## Tabulate Scores Across Scenarios\n",
    "\n",
    "The cells below read in the scores from all scored scenarios and combined into a single summary table (`scenario\\scenario_scores.csv`)\n",
    "\n",
    "Scores for individual projects can be extracted from the `scores_summary` table within each file geodatabase."
   ]
  },
  {
   "cell_type": "code",
   "execution_count": null,
   "metadata": {},
   "outputs": [],
   "source": [
    "scenarios = list()\n",
    "\n",
    "for mode in ['Driving', 'Transit', 'Cycling', 'Land_Use']:\n",
    "    scenario_folder = os.path.join('scenario', mode)\n",
    "    for file in os.listdir(scenario_folder):\n",
    "        d = os.path.join(scenario_folder, file)\n",
    "        if os.path.isdir(d) and d.endswith('.gdb'):\n",
    "            if arcpy.Exists(os.path.join(d, 'ato')) == True:\n",
    "                scenarios.append({\n",
    "                                \"name\": file[:-4],\n",
    "                                \"mode\": mode,\n",
    "                                \"gdb_path\": d\n",
    "                            })"
   ]
  },
  {
   "cell_type": "code",
   "execution_count": null,
   "metadata": {},
   "outputs": [],
   "source": [
    "scenario_scores = pd.DataFrame(columns = ['Name', 'Mode', 'hh', 'jobs', 'ato'])\n",
    "\n",
    "for scenario in scenarios:\n",
    "    \n",
    "    mode = scenario['mode']\n",
    "    \n",
    "    if mode == 'Driving':\n",
    "        baseline = r'baseline.gdb\\ato_driving'\n",
    "    elif mode == 'Transit':\n",
    "        baseline = r'baseline.gdb\\ato_transit'\n",
    "    elif mode == 'Cycling':\n",
    "        baseline = r'baseline.gdb\\ato_cycling'\n",
    "    elif mode == 'Land_Use':\n",
    "        baseline = r'baseline.gdb\\ato_comp'\n",
    "    \n",
    "    scores_table = os.path.join(scenario['gdb_path'], 'scores')\n",
    "    \n",
    "    if not arcpy.Exists(scores_table):\n",
    "        ato.diff(\n",
    "            baseline = baseline,\n",
    "            scenario = os.path.join(scenario['gdb_path'], 'ato'),\n",
    "            out_table = scores_table\n",
    "        )\n",
    "    \n",
    "    df = pd.DataFrame(arcpy.da.TableToNumPyArray(scores_table, '*'))\n",
    "    \n",
    "    vals = {\n",
    "        \"Name\": scenario['name'],\n",
    "        'Mode': mode,\n",
    "        \"hh\": df['diff_hh'].sum(),\n",
    "        \"jobs\": df['diff_jobs'].sum(),\n",
    "        \"ato\": df['diff_ato'].sum()\n",
    "    }\n",
    "    \n",
    "    scenario_scores = scenario_scores.append(vals, ignore_index=True)"
   ]
  },
  {
   "cell_type": "code",
   "execution_count": null,
   "metadata": {},
   "outputs": [],
   "source": [
    "scenario_scores"
   ]
  },
  {
   "cell_type": "code",
   "execution_count": null,
   "metadata": {},
   "outputs": [],
   "source": [
    "scenario_scores.to_csv(r'scenario\\scenario_scores.csv')"
   ]
  },
  {
   "cell_type": "code",
   "execution_count": null,
   "metadata": {},
   "outputs": [],
   "source": []
  }
 ],
 "metadata": {
  "kernelspec": {
   "display_name": "ArcGISPro",
   "language": "Python",
   "name": "python3"
  },
  "language_info": {
   "file_extension": ".py",
   "name": "python",
   "version": "3"
  }
 },
 "nbformat": 4,
 "nbformat_minor": 2
}
