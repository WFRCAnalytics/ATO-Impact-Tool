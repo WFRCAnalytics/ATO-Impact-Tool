{
 "cells": [
  {
   "cell_type": "code",
   "execution_count": null,
   "metadata": {},
   "outputs": [],
   "source": []
  },
  {
   "cell_type": "code",
   "execution_count": 124,
   "metadata": {},
   "outputs": [],
   "source": [
    "gdbs = list()\n",
    "for dirpath, dirs, files in os.walk(r'scenario'):\n",
    "    for d in dirs:\n",
    "        dir_name = os.path.join(base_path, dirpath, d)\n",
    "        if os.path.isdir(dir_name) and dir_name.endswith('.gdb'):\n",
    "            if not d == 'scenario_template.gdb':\n",
    "                gdbs.append(os.path.join(dirpath, d))"
   ]
  },
  {
   "cell_type": "raw",
   "metadata": {},
   "source": [
    "gdbs = list()\n",
    "for file in os.listdir(scenario_folder):\n",
    "    d = os.path.join(base_path, scenario_folder, file)\n",
    "    if os.path.isdir(d):\n",
    "        gdbs.append(file)"
   ]
  },
  {
   "cell_type": "code",
   "execution_count": null,
   "metadata": {},
   "outputs": [
    {
     "name": "stdout",
     "output_type": "stream",
     "text": [
      "C:\\wfrc\\ato\\scenario\\auto\\.gitignore\n",
      "C:\\wfrc\\ato\\scenario\\auto\\new_2700_west_overpass.gdb\n",
      "C:\\wfrc\\ato\\scenario\\auto\\new_5600_west.gdb\n",
      "C:\\wfrc\\ato\\scenario\\auto\\new_construction_1250_west.gdb\n",
      "C:\\wfrc\\ato\\scenario\\auto\\new_construct_1200_west.gdb\n",
      "C:\\wfrc\\ato\\scenario\\auto\\new_highland.gdb\n",
      "C:\\wfrc\\ato\\scenario\\auto\\widen_5600_south.gdb\n",
      "C:\\wfrc\\ato\\scenario\\auto\\widen_9000_south.gdb\n",
      "C:\\wfrc\\ato\\scenario\\bike\\.gitignore\n",
      "C:\\wfrc\\ato\\scenario\\transit\\.gitignore\n",
      "C:\\wfrc\\ato\\scenario\\transit\\davis_brt.gdb\n",
      "Solving skim using network scenario\\transit\\davis_brt.gdb\\NetworkDataset\\NetworkDataset_ND\n"
     ]
    }
   ],
   "source": [
    "for mode in ['auto', 'bike', 'transit']:\n",
    "    scenario_folder = os.path.join('scenario', mode)\n",
    "    for file in os.listdir(scenario_folder):\n",
    "        d = os.path.join(base_path, scenario_folder, file)\n",
    "        if os.path.isdir(d) and dir_name.endswith('.gdb'):\n",
    "            if arcpy.Exists(os.path.join(d, 'scores')) == False:\n",
    "                scoring.score(gdb, mode = mode)"
   ]
  },
  {
   "cell_type": "code",
   "execution_count": null,
   "metadata": {},
   "outputs": [],
   "source": []
  },
  {
   "cell_type": "code",
   "execution_count": null,
   "metadata": {},
   "outputs": [],
   "source": []
  },
  {
   "cell_type": "code",
   "execution_count": 115,
   "metadata": {
    "ExecuteTime": {
     "end_time": "2021-11-15T22:50:36.122532Z",
     "start_time": "2021-11-15T22:50:36.118703Z"
    }
   },
   "outputs": [
    {
     "data": {
      "text/plain": [
       "<module 'ato_tools.scoring' from 'C:\\\\wfrc\\\\ato\\\\src\\\\ato_tools\\\\scoring.py'>"
      ]
     },
     "execution_count": 115,
     "metadata": {},
     "output_type": "execute_result"
    }
   ],
   "source": [
    "import importlib\n",
    "importlib.reload(scoring)"
   ]
  },
  {
   "cell_type": "code",
   "execution_count": 111,
   "metadata": {},
   "outputs": [],
   "source": [
    "if 'ato_tools' in sys.modules:\n",
    "    import importlib\n",
    "    importlib.reload(scoring)"
   ]
  },
  {
   "cell_type": "code",
   "execution_count": null,
   "metadata": {},
   "outputs": [],
   "source": []
  }
 ],
 "metadata": {
  "kernelspec": {
   "display_name": "ArcGISPro",
   "language": "Python",
   "name": "python3"
  },
  "language_info": {
   "file_extension": ".py",
   "name": "python",
   "version": "3"
  }
 },
 "nbformat": 4,
 "nbformat_minor": 2
}
