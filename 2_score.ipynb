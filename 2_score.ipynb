{
 "cells": [
  {
   "cell_type": "code",
   "execution_count": 9,
   "metadata": {
    "ExecuteTime": {
     "end_time": "2021-11-06T14:02:10.394247Z",
     "start_time": "2021-11-06T14:02:10.393326Z"
    }
   },
   "outputs": [],
   "source": []
  },
  {
   "cell_type": "code",
   "execution_count": 1,
   "metadata": {
    "ExecuteTime": {
     "end_time": "2021-11-06T14:06:40.162177Z",
     "start_time": "2021-11-06T14:06:40.161168Z"
    }
   },
   "outputs": [],
   "source": [
    "import sys\n",
    "sys.path\n",
    "import os\n",
    "\n",
    "base_path = os.path.abspath(\".\")"
   ]
  },
  {
   "cell_type": "code",
   "execution_count": 2,
   "metadata": {
    "ExecuteTime": {
     "end_time": "2021-11-06T14:02:19.193530Z",
     "start_time": "2021-11-06T14:02:19.18096Z"
    }
   },
   "outputs": [],
   "source": [
    "sys.path.append(os.path.join(base_path, 'src'))"
   ]
  },
  {
   "cell_type": "code",
   "execution_count": 7,
   "metadata": {
    "ExecuteTime": {
     "end_time": "2021-11-06T14:14:40.224717Z",
     "start_time": "2021-11-06T14:14:40.223582Z"
    },
    "scrolled": true
   },
   "outputs": [],
   "source": [
    "import ato_tools"
   ]
  },
  {
   "cell_type": "code",
   "execution_count": 26,
   "metadata": {},
   "outputs": [],
   "source": [
    "if 'ato_tools' in sys.modules:\n",
    "    import importlib\n",
    "    importlib.reload(scoring)"
   ]
  },
  {
   "cell_type": "code",
   "execution_count": 27,
   "metadata": {
    "ExecuteTime": {
     "end_time": "2021-11-06T14:15:50.933295Z",
     "start_time": "2021-11-06T14:15:50.930532Z"
    },
    "scrolled": true
   },
   "outputs": [
    {
     "name": "stdout",
     "output_type": "stream",
     "text": [
      "Scores written to baseline.gdb\\auto_baseline_summary\n",
      "Network ATO: 7453289.0\n"
     ]
    }
   ],
   "source": [
    "ato_tools.scoring.score(\"baseline.gdb\", out_table=\"auto_baseline\", mode = \"Driving\", test = True)"
   ]
  },
  {
   "cell_type": "code",
   "execution_count": null,
   "metadata": {},
   "outputs": [],
   "source": []
  }
 ],
 "metadata": {
  "kernelspec": {
   "display_name": "ArcGISPro",
   "language": "Python",
   "name": "python3"
  },
  "language_info": {
   "file_extension": ".py",
   "name": "python",
   "version": "3"
  }
 },
 "nbformat": 4,
 "nbformat_minor": 2
}
