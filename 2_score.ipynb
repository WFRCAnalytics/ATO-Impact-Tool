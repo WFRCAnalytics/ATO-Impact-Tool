{
 "cells": [
  {
   "cell_type": "code",
   "execution_count": 9,
   "metadata": {
    "ExecuteTime": {
     "end_time": "2021-11-06T14:02:10.394247Z",
     "start_time": "2021-11-06T14:02:10.393326Z"
    }
   },
   "outputs": [],
   "source": []
  },
  {
   "cell_type": "code",
   "execution_count": 1,
   "metadata": {
    "ExecuteTime": {
     "end_time": "2021-11-15T22:30:29.986121Z",
     "start_time": "2021-11-15T22:30:28.846177Z"
    }
   },
   "outputs": [],
   "source": [
    "import sys\n",
    "import os\n",
    "sys.path.append(os.path.join(os.path.abspath(\".\"), 'src'))"
   ]
  },
  {
   "cell_type": "code",
   "execution_count": 2,
   "metadata": {
    "ExecuteTime": {
     "end_time": "2021-11-15T22:30:29.988528Z",
     "start_time": "2021-11-15T22:30:29.986543Z"
    }
   },
   "outputs": [],
   "source": []
  },
  {
   "cell_type": "code",
   "execution_count": 3,
   "metadata": {
    "ExecuteTime": {
     "end_time": "2021-11-15T22:30:34.143612Z",
     "start_time": "2021-11-15T22:30:30.158082Z"
    },
    "scrolled": true
   },
   "outputs": [],
   "source": [
    "from ato_tools import scoring"
   ]
  },
  {
   "cell_type": "code",
   "execution_count": 9,
   "metadata": {
    "ExecuteTime": {
     "end_time": "2021-11-15T22:50:36.122532Z",
     "start_time": "2021-11-15T22:50:36.118703Z"
    }
   },
   "outputs": [
    {
     "data": {
      "text/plain": [
       "<module 'ato_tools.testing' from 'C:\\\\wfrc\\\\ato\\\\src\\\\ato_tools\\\\testing.py'>"
      ]
     },
     "execution_count": 9,
     "metadata": {},
     "output_type": "execute_result"
    }
   ],
   "source": [
    "import importlib\n",
    "importlib.reload(testing)"
   ]
  },
  {
   "cell_type": "code",
   "execution_count": 46,
   "metadata": {},
   "outputs": [],
   "source": [
    "if 'ato_tools' in sys.modules:\n",
    "    import importlib\n",
    "    importlib.reload(scoring)"
   ]
  },
  {
   "cell_type": "code",
   "execution_count": 4,
   "metadata": {
    "ExecuteTime": {
     "end_time": "2021-11-15T22:31:13.648160Z",
     "start_time": "2021-11-15T22:30:36.57476Z"
    },
    "scrolled": true
   },
   "outputs": [
    {
     "name": "stdout",
     "output_type": "stream",
     "text": [
      "Regional Jobs per HH Ratio: 2.211549546877222\n",
      "Scores written to baseline.gdb\\auto_baseline_summary\n",
      "Network ATO: 14820078.0\n"
     ]
    }
   ],
   "source": [
    "scoring.score(\"baseline.gdb\", out_table=\"auto_baseline\", mode = \"Driving\", test = True)"
   ]
  },
  {
   "cell_type": "code",
   "execution_count": 2,
   "metadata": {},
   "outputs": [
    {
     "ename": "ModuleNotFoundError",
     "evalue": "No module named 'scoring'",
     "output_type": "error",
     "traceback": [
      "\u001b[0;31m---------------------------------------------------------------------------\u001b[0m\n\u001b[0;31mModuleNotFoundError\u001b[0m                       Traceback (most recent call last)",
      "In  \u001b[0;34m[2]\u001b[0m:\nLine \u001b[0;34m1\u001b[0m:     \u001b[34mfrom\u001b[39;49;00m \u001b[04m\u001b[36mscoring\u001b[39;49;00m \u001b[34mimport\u001b[39;49;00m score\n",
      "\u001b[0;31mModuleNotFoundError\u001b[0m: No module named 'scoring'\n\u001b[0;31m---------------------------------------------------------------------------\u001b[0m"
     ]
    }
   ],
   "source": [
    "from scoring import score"
   ]
  },
  {
   "cell_type": "code",
   "execution_count": null,
   "metadata": {},
   "outputs": [],
   "source": []
  },
  {
   "cell_type": "code",
   "execution_count": null,
   "metadata": {},
   "outputs": [],
   "source": []
  },
  {
   "cell_type": "code",
   "execution_count": 8,
   "metadata": {},
   "outputs": [],
   "source": [
    "import arcpy\n",
    "import os\n",
    "import errno\n",
    "from arcgis.features import SpatialDataFrame\n",
    "import pandas as pd\n",
    "import math\n",
    "\n",
    "arcpy.CheckOutExtension(\"network\")\n",
    "\n",
    "def survey_weight(t):\n",
    "    if t <= 3:\n",
    "        return 1\n",
    "    elif (t > 3) & (t <= 20):\n",
    "        return -0.0382 * t + 1.1293\n",
    "    elif t > 20:\n",
    "        return 1/(1 + math.exp(0.1092 * t - 1.5604))\n",
    "    else:\n",
    "        return 0"
   ]
  },
  {
   "cell_type": "code",
   "execution_count": 29,
   "metadata": {},
   "outputs": [
    {
     "name": "stdout",
     "output_type": "stream",
     "text": [
      "Regional Jobs per HH Ratio: 1.808754179036092\n"
     ]
    }
   ],
   "source": [
    "\n",
    "nd_gdb = \"baseline.gdb\"\n",
    "out_table=\"auto_baseline\"\n",
    "mode = \"Driving\"\n",
    "test = False\n",
    "nd = r\"NetworkDataset\\NetworkDataset_ND\"\n",
    "\n",
    "base_path = os.path.abspath(\".\")\n",
    "\n",
    "arcpy.env.workspace = os.path.join(base_path, \"ato.gdb\")\n",
    "\n",
    "# location of the file geodatabase with the WFRC TAZ shapes and TAZ centroids    \n",
    "ato_gdb = os.path.join(base_path, r\"shp\\taz_wfrc.gdb\")\n",
    "\n",
    "if test:\n",
    "    centroids = os.path.join(ato_gdb, \"taz_centroids_sample\")\n",
    "else:\n",
    "    centroids = os.path.join(ato_gdb, \"taz_centroids_snapped\")\n",
    "\n",
    "nd_layer_name = \"wfrc_mm\"\n",
    "\n",
    "nd_path = os.path.join(nd_gdb, nd)\n",
    "\n",
    "if arcpy.Exists(nd_path):\n",
    "    arcpy.nax.MakeNetworkDatasetLayer(nd_path, nd_layer_name)\n",
    "else:\n",
    "    raise FileNotFoundError(errno.ENOENT, os.strerror(errno.ENOENT), nd_path)\n",
    "\n",
    "odcm = arcpy.nax.OriginDestinationCostMatrix(nd_layer_name)\n",
    "\n",
    "odcm.travelMode = mode\n",
    "\n",
    "# do not consider travel times beyond 60 minutes\n",
    "odcm.defaultImpedanceCutoff = 60 \n",
    "\n",
    "odcm.lineShapeType = arcpy.nax.LineShapeType.NoLine\n",
    "\n",
    "# Load inputs using field mappings, including the pre-calculated location fields\n",
    "field_mappings_origins = odcm.fieldMappings(arcpy.nax.OriginDestinationCostMatrixInputDataType.Origins, True)\n",
    "\n",
    "# Load origins, mapping the \"CO_TAZID\" field to the \"Name\" property of the Origins class\n",
    "field_mappings_origins[\"Name\"].mappedFieldName = \"CO_TAZID\"\n",
    "odcm.load(arcpy.nax.OriginDestinationCostMatrixInputDataType.Origins, centroids, field_mappings_origins)\n",
    "\n",
    "# Load destinations, mapping the \"CO_TAZID\" field to the \"Name\" property of the Origins class \n",
    "field_mappings_destinations = odcm.fieldMappings(arcpy.nax.OriginDestinationCostMatrixInputDataType.Destinations, True)\n",
    "field_mappings_destinations[\"Name\"].mappedFieldName = \"CO_TAZID\"\n",
    "odcm.load(arcpy.nax.OriginDestinationCostMatrixInputDataType.Destinations, centroids, field_mappings_destinations)\n",
    "\n",
    "\n",
    "# Solve the OD skim matrix\n",
    "result = odcm.solve()\n",
    "\n",
    "# Export the results to a feature class\n",
    "if result.solveSucceeded:\n",
    "    result.export(arcpy.nax.OriginDestinationCostMatrixOutputDataType.Lines, r\"memory\\output_lines\")\n",
    "else:\n",
    "    print(\"Solve failed\")\n",
    "    print(result.solverMessages(arcpy.nax.MessageSeverity.All))\n",
    "\n",
    "od = pd.DataFrame.spatial.from_featureclass(r\"memory\\output_lines\")\n",
    "\n",
    "if od['Total_Time'].mean() < 1:\n",
    "    print(\"Network validation: FAIL\")\n",
    "    print(\"Travel Times: \", od['Total_Time'].head())\n",
    "    raise ValueError('Network Travel Times are Zero - Invalid Network')\n",
    "\n",
    "od['DestinationName'] = od['DestinationName'].astype(int)\n",
    "\n",
    "taz = pd.DataFrame.spatial.from_featureclass(os.path.join(ato_gdb, \"ATO\"))\n",
    "\n",
    "taz.drop(columns=taz.columns.difference(['CO_TAZID', 'HH_19', 'JOB_19']), inplace=True) #, 'JOBAUTO_19', 'HHAUTO_19', 'JOBTRANSIT_19', 'HHTRANSIT_19']]\n",
    "\n",
    "# rename TAZ fields to make this easier to accomodate updates in future years\n",
    "taz.rename(columns={'HH_19': 'HH', 'JOB_19': 'JOB'}, inplace=True)\n",
    "\n",
    "region_job_per_hh = taz['JOB'].sum() / taz['HH'].sum()\n",
    "print(\"Regional Jobs per HH Ratio: {}\".format(region_job_per_hh))\n",
    "\n",
    "df = pd.merge(od, taz, left_on=\"DestinationName\", right_on=\"CO_TAZID\")\n",
    "\n",
    "df.rename(columns={\"OriginName\": \"Origin_TAZID\",\n",
    "                   \"DestinationName\": \"Destination_TAZID\"},\n",
    "          inplace=True)\n",
    "\n",
    "# Weight outputs\n",
    "df['survey_weight'] = df['Total_Time'].apply(lambda x: survey_weight(x)).round(3)\n",
    "\n",
    "df['accessible_jobs'] = round(df['survey_weight'] * df['JOB'])\n",
    "df['accessible_hh'] = round(df['survey_weight'] * df['HH'])\n",
    "\n"
   ]
  },
  {
   "cell_type": "code",
   "execution_count": 30,
   "metadata": {},
   "outputs": [],
   "source": [
    "df = pd.merge(od, taz, left_on=\"DestinationName\", right_on=\"CO_TAZID\")\n",
    "\n",
    "df.rename(columns={\"OriginName\": \"Origin_TAZID\",\n",
    "                   \"DestinationName\": \"Destination_TAZID\"},\n",
    "          inplace=True)\n",
    "\n",
    "# Weight outputs\n",
    "df['survey_weight'] = df['Total_Time'].apply(lambda x: survey_weight(x)).round(3)\n",
    "\n",
    "df['accessible_jobs'] = round(df['survey_weight'] * df['JOB'])\n",
    "df['accessible_hh'] = round(df['survey_weight'] * df['HH'])\n"
   ]
  },
  {
   "cell_type": "code",
   "execution_count": 31,
   "metadata": {},
   "outputs": [],
   "source": [
    "\n",
    "# keep only relevant columns\n",
    "df.drop(columns=df.columns.difference(['Origin_TAZID', 'Destination_TAZID', 'Total_Time', \n",
    "                                       'accessible_jobs', 'accessible_hh']), \n",
    "        inplace=True)\n",
    "\n",
    "df.spatial.to_table(os.path.join(nd_gdb, out_table))\n",
    "\n",
    "# save table to input GDB\n",
    "#arcpy.conversion.TableToTable(r'tmp\\scores.csv', nd_gdb, out_name)\n",
    "\n",
    "df_summary = df.groupby('Origin_TAZID').agg(\n",
    "    accessible_jobs=pd.NamedAgg(column='accessible_jobs', aggfunc=sum),\n",
    "    accessible_hh=pd.NamedAgg(column='accessible_hh', aggfunc=sum)\n",
    ")"
   ]
  },
  {
   "cell_type": "code",
   "execution_count": 32,
   "metadata": {
    "scrolled": true
   },
   "outputs": [
    {
     "data": {
      "text/html": [
       "<div>\n",
       "<style scoped>\n",
       "    .dataframe tbody tr th:only-of-type {\n",
       "        vertical-align: middle;\n",
       "    }\n",
       "\n",
       "    .dataframe tbody tr th {\n",
       "        vertical-align: top;\n",
       "    }\n",
       "\n",
       "    .dataframe thead th {\n",
       "        text-align: right;\n",
       "    }\n",
       "</style>\n",
       "<table border=\"1\" class=\"dataframe\">\n",
       "  <thead>\n",
       "    <tr style=\"text-align: right;\">\n",
       "      <th></th>\n",
       "      <th>accessible_jobs</th>\n",
       "      <th>accessible_hh</th>\n",
       "    </tr>\n",
       "    <tr>\n",
       "      <th>Origin_TAZID</th>\n",
       "      <th></th>\n",
       "      <th></th>\n",
       "    </tr>\n",
       "  </thead>\n",
       "  <tbody>\n",
       "    <tr>\n",
       "      <th>110424</th>\n",
       "      <td>85717.0</td>\n",
       "      <td>61552.0</td>\n",
       "    </tr>\n",
       "    <tr>\n",
       "      <th>110425</th>\n",
       "      <td>119959.0</td>\n",
       "      <td>81117.0</td>\n",
       "    </tr>\n",
       "    <tr>\n",
       "      <th>110426</th>\n",
       "      <td>132554.0</td>\n",
       "      <td>87426.0</td>\n",
       "    </tr>\n",
       "    <tr>\n",
       "      <th>110427</th>\n",
       "      <td>127956.0</td>\n",
       "      <td>83118.0</td>\n",
       "    </tr>\n",
       "    <tr>\n",
       "      <th>110428</th>\n",
       "      <td>124408.0</td>\n",
       "      <td>84669.0</td>\n",
       "    </tr>\n",
       "  </tbody>\n",
       "</table>\n",
       "</div>"
      ],
      "text/plain": [
       "              accessible_jobs  accessible_hh\n",
       "Origin_TAZID                                \n",
       "110424                85717.0        61552.0\n",
       "110425               119959.0        81117.0\n",
       "110426               132554.0        87426.0\n",
       "110427               127956.0        83118.0\n",
       "110428               124408.0        84669.0"
      ]
     },
     "execution_count": 32,
     "metadata": {},
     "output_type": "execute_result"
    }
   ],
   "source": [
    "df_summary.head()"
   ]
  },
  {
   "cell_type": "code",
   "execution_count": 33,
   "metadata": {
    "scrolled": true
   },
   "outputs": [],
   "source": [
    "df_summary['CO_TAZID'] = df_summary.index.astype(int)"
   ]
  },
  {
   "cell_type": "code",
   "execution_count": 34,
   "metadata": {
    "scrolled": true
   },
   "outputs": [
    {
     "data": {
      "text/html": [
       "<div>\n",
       "<style scoped>\n",
       "    .dataframe tbody tr th:only-of-type {\n",
       "        vertical-align: middle;\n",
       "    }\n",
       "\n",
       "    .dataframe tbody tr th {\n",
       "        vertical-align: top;\n",
       "    }\n",
       "\n",
       "    .dataframe thead th {\n",
       "        text-align: right;\n",
       "    }\n",
       "</style>\n",
       "<table border=\"1\" class=\"dataframe\">\n",
       "  <thead>\n",
       "    <tr style=\"text-align: right;\">\n",
       "      <th></th>\n",
       "      <th>accessible_jobs</th>\n",
       "      <th>accessible_hh</th>\n",
       "      <th>CO_TAZID</th>\n",
       "      <th>HH</th>\n",
       "      <th>JOB</th>\n",
       "    </tr>\n",
       "  </thead>\n",
       "  <tbody>\n",
       "    <tr>\n",
       "      <th>0</th>\n",
       "      <td>85717.0</td>\n",
       "      <td>61552.0</td>\n",
       "      <td>110424</td>\n",
       "      <td>70.0</td>\n",
       "      <td>2.0</td>\n",
       "    </tr>\n",
       "    <tr>\n",
       "      <th>1</th>\n",
       "      <td>119959.0</td>\n",
       "      <td>81117.0</td>\n",
       "      <td>110425</td>\n",
       "      <td>61.7</td>\n",
       "      <td>0.0</td>\n",
       "    </tr>\n",
       "    <tr>\n",
       "      <th>2</th>\n",
       "      <td>132554.0</td>\n",
       "      <td>87426.0</td>\n",
       "      <td>110426</td>\n",
       "      <td>626.3</td>\n",
       "      <td>117.5</td>\n",
       "    </tr>\n",
       "    <tr>\n",
       "      <th>3</th>\n",
       "      <td>127956.0</td>\n",
       "      <td>83118.0</td>\n",
       "      <td>110427</td>\n",
       "      <td>1142.7</td>\n",
       "      <td>65.3</td>\n",
       "    </tr>\n",
       "    <tr>\n",
       "      <th>4</th>\n",
       "      <td>124408.0</td>\n",
       "      <td>84669.0</td>\n",
       "      <td>110428</td>\n",
       "      <td>121.7</td>\n",
       "      <td>1.2</td>\n",
       "    </tr>\n",
       "  </tbody>\n",
       "</table>\n",
       "</div>"
      ],
      "text/plain": [
       "   accessible_jobs  accessible_hh  CO_TAZID      HH    JOB\n",
       "0          85717.0        61552.0    110424    70.0    2.0\n",
       "1         119959.0        81117.0    110425    61.7    0.0\n",
       "2         132554.0        87426.0    110426   626.3  117.5\n",
       "3         127956.0        83118.0    110427  1142.7   65.3\n",
       "4         124408.0        84669.0    110428   121.7    1.2"
      ]
     },
     "execution_count": 34,
     "metadata": {},
     "output_type": "execute_result"
    }
   ],
   "source": [
    "# need to preserve left index\n",
    "taz_ato = pd.merge(df_summary, taz, on=\"CO_TAZID\")\n",
    "taz_ato.head()"
   ]
  },
  {
   "cell_type": "code",
   "execution_count": 35,
   "metadata": {},
   "outputs": [
    {
     "name": "stdout",
     "output_type": "stream",
     "text": [
      "Scores written to baseline.gdb\\auto_baseline_summary\n",
      "Network ATO: 624751677.0\n"
     ]
    }
   ],
   "source": [
    "# Apply WFRC TAZ-based ATO formula\n",
    "taz_ato['ato'] = round((taz_ato['accessible_hh'] * taz_ato['JOB'] + taz_ato['accessible_jobs'] * taz_ato['HH'] * region_job_per_hh) / \n",
    "                  (taz_ato['HH'] * region_job_per_hh + taz_ato['JOB']))\n",
    "\n",
    "#taz_summary.to_csv(r'tmp\\scores_summary.csv')\n",
    "taz_ato.spatial.to_table(os.path.join(nd_gdb, out_table + \"_summary\"))\n",
    "\n",
    "# save table to input GDB\n",
    "#arcpy.conversion.TableToTable(r'tmp\\scores_summary.csv', nd_gdb, \"scores_summary\")\n",
    "\n",
    "print(\"Scores written to {}\".format(os.path.join(nd_gdb, out_table + \"_summary\")))\n",
    "\n",
    "print(\"Network ATO: {}\".format(taz_ato['ato'].sum()))"
   ]
  },
  {
   "cell_type": "code",
   "execution_count": null,
   "metadata": {},
   "outputs": [],
   "source": []
  }
 ],
 "metadata": {
  "kernelspec": {
   "display_name": "ArcGISPro",
   "language": "Python",
   "name": "python3"
  },
  "language_info": {
   "file_extension": ".py",
   "name": "python",
   "version": "3"
  }
 },
 "nbformat": 4,
 "nbformat_minor": 2
}
