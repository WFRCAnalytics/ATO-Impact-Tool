{
 "cells": [
  {
   "cell_type": "markdown",
   "metadata": {},
   "source": [
    "## Calculate ATO for TAZ centroid(s)\n",
    "\n",
    "1. Run 1_setup_network.ipynb to create NetworkDataset_MM\n",
    "2. Create OD Cost Matrix Layer\n",
    "3. Add origin(s)\n",
    "4. Add destinations\n",
    "5. Solve\n",
    "6. Join attributes to solved Lines layer\n",
    "7. Weight HH and JOB by time decay\n",
    "8. Sum"
   ]
  },
  {
   "cell_type": "code",
   "execution_count": 1,
   "metadata": {
    "ExecuteTime": {
     "end_time": "2021-10-16T18:09:16.297773Z",
     "start_time": "2021-10-16T18:09:15.337446Z"
    }
   },
   "outputs": [],
   "source": [
    "# Set to True to limit to ~30 TAZs\n",
    "testing = False\n",
    "\n",
    "#input = \"auto_baseline\"\n",
    "input = \"bus_baseline\"\n",
    "#input = r\"scenario\\auto_widen_12300\""
   ]
  },
  {
   "cell_type": "raw",
   "metadata": {
    "ExecuteTime": {
     "end_time": "2021-10-16T18:09:16.300823Z",
     "start_time": "2021-10-16T18:09:16.298409Z"
    }
   },
   "source": [
    "if input == \"auto_baseline\":\n",
    "    mode = \"Driving\"\n",
    "    network = \"baseline.gdb\"\n",
    "    \n",
    "elif input == \"bus_baseline\":\n",
    "    mode = \"Transit\"\n",
    "    network = \"baseline.gdb\"\n",
    "\n",
    "else:\n",
    "    mode = network.split('_')[0]\n",
    "    if mode not in ['Driving', 'Transit', 'Walking']:\n",
    "        print(\"Please prepend network with 'auto', 'bus', or 'ped'\")\n",
    "        raise Exception\n",
    "    network = os.path.join(\"scenario\", input)\n",
    "\n",
    "output_file = input"
   ]
  },
  {
   "cell_type": "code",
   "execution_count": 2,
   "metadata": {},
   "outputs": [],
   "source": [
    "input = \"mod\"\n",
    "mode = \"Transit\"\n",
    "network = r\"scenario\\bus_sandy_circulator.gdb\"\n",
    "output_file = input"
   ]
  },
  {
   "cell_type": "code",
   "execution_count": 3,
   "metadata": {
    "ExecuteTime": {
     "end_time": "2021-10-16T18:10:18.562714Z",
     "start_time": "2021-10-16T18:10:14.211787Z"
    }
   },
   "outputs": [],
   "source": [
    "import arcpy\n",
    "import os\n",
    "\n",
    "arcpy.CheckOutExtension(\"network\")\n",
    "\n",
    "from arcgis.features import SpatialDataFrame\n",
    "import pandas as pd\n",
    "# from arcgis.features import GeoAccessor, GeoSeriesAccessor\n",
    "\n",
    "def survey_weight(t):\n",
    "    if t <= 3:\n",
    "        return 1\n",
    "    elif (t > 3) & (t <= 20):\n",
    "        return -0.0382 * t + 1.1293\n",
    "    elif t > 20:\n",
    "        return 1/(1 + math.exp(0.1092 * t - 1.5604))\n",
    "    else:\n",
    "        return 0\n",
    "\n",
    "base_path = os.path.abspath(\".\")\n",
    "network = os.path.join(base_path, network, r\"NetworkDataset\\NetworkDataset_ND\")\n",
    "\n",
    "arcpy.env.workspace = os.path.join(base_path, \"ato.gdb\")"
   ]
  },
  {
   "cell_type": "code",
   "execution_count": 4,
   "metadata": {
    "scrolled": true
   },
   "outputs": [
    {
     "data": {
      "text/html": [
       "<h2>Output</h2>a Layer object<h2>Messages</h2>Start Time: Monday, October 25, 2021 9:41:01 AM<br/>Succeeded at Monday, October 25, 2021 9:41:02 AM (Elapsed Time: 0.53 seconds)<br/><style>.rendered_html td, .rendered_html th {text-align: left;}.rendered_html tbody {border: 1px solid black;}</style>"
      ],
      "text/plain": [
       "<Result 'wfrc_mm'>"
      ]
     },
     "execution_count": 4,
     "metadata": {},
     "output_type": "execute_result"
    }
   ],
   "source": [
    "nd_path = network\n",
    "nd_layer_name = \"wfrc_mm\"\n",
    "arcpy.nax.MakeNetworkDatasetLayer(nd_path, nd_layer_name)"
   ]
  },
  {
   "cell_type": "code",
   "execution_count": 5,
   "metadata": {
    "scrolled": true
   },
   "outputs": [],
   "source": [
    "if testing:\n",
    "    centroids = os.path.join(base_path, r\"shp\\taz_wfrc.gdb\\taz_centroids_sample\")\n",
    "else:\n",
    "    centroids = os.path.join(base_path, r\"shp\\taz_wfrc.gdb\\taz_centroids_snapped\")"
   ]
  },
  {
   "cell_type": "code",
   "execution_count": 6,
   "metadata": {},
   "outputs": [],
   "source": [
    "odcm = arcpy.nax.OriginDestinationCostMatrix(nd_layer_name)"
   ]
  },
  {
   "cell_type": "code",
   "execution_count": 7,
   "metadata": {},
   "outputs": [],
   "source": [
    "odcm.travelMode = mode\n",
    "odcm.defaultImpedanceCutoff = 60\n",
    "odcm.lineShapeType = arcpy.nax.LineShapeType.NoLine"
   ]
  },
  {
   "cell_type": "code",
   "execution_count": 8,
   "metadata": {},
   "outputs": [],
   "source": [
    "# Load inputs using field mappings, including the pre-calculated location fields\n",
    "field_mappings_origins = odcm.fieldMappings(arcpy.nax.OriginDestinationCostMatrixInputDataType.Origins, True)\n",
    "# Map the \"CO_TAZID\" field in the input data to the \"Name\" property of the Origins class\n",
    "field_mappings_origins[\"Name\"].mappedFieldName = \"CO_TAZID\"\n",
    "odcm.load(arcpy.nax.OriginDestinationCostMatrixInputDataType.Origins, centroids, field_mappings_origins)\n",
    "# Load destinations\n",
    "field_mappings_destinations = odcm.fieldMappings(arcpy.nax.OriginDestinationCostMatrixInputDataType.Destinations, True)\n",
    "field_mappings_destinations[\"Name\"].mappedFieldName = \"CO_TAZID\"\n",
    "odcm.load(arcpy.nax.OriginDestinationCostMatrixInputDataType.Destinations, centroids, field_mappings_destinations)"
   ]
  },
  {
   "cell_type": "code",
   "execution_count": 9,
   "metadata": {},
   "outputs": [
    {
     "name": "stdout",
     "output_type": "stream",
     "text": [
      "Wall time: 2min 45s\n"
     ]
    }
   ],
   "source": [
    "%%time\n",
    "# Solve the analysis\n",
    "result = odcm.solve()\n",
    "\n",
    "# Export the results to a feature class\n",
    "if result.solveSucceeded:\n",
    "    result.export(arcpy.nax.OriginDestinationCostMatrixOutputDataType.Lines, \"memory\\output_lines\")\n",
    "else:\n",
    "    print(\"Solve failed\")\n",
    "    print(result.solverMessages(arcpy.nax.MessageSeverity.All))"
   ]
  },
  {
   "cell_type": "code",
   "execution_count": 10,
   "metadata": {},
   "outputs": [],
   "source": [
    "od = pd.DataFrame.spatial.from_featureclass(r\"memory\\output_lines\")"
   ]
  },
  {
   "cell_type": "code",
   "execution_count": 11,
   "metadata": {
    "scrolled": false
   },
   "outputs": [
    {
     "data": {
      "text/html": [
       "<div>\n",
       "<style scoped>\n",
       "    .dataframe tbody tr th:only-of-type {\n",
       "        vertical-align: middle;\n",
       "    }\n",
       "\n",
       "    .dataframe tbody tr th {\n",
       "        vertical-align: top;\n",
       "    }\n",
       "\n",
       "    .dataframe thead th {\n",
       "        text-align: right;\n",
       "    }\n",
       "</style>\n",
       "<table border=\"1\" class=\"dataframe\">\n",
       "  <thead>\n",
       "    <tr style=\"text-align: right;\">\n",
       "      <th></th>\n",
       "      <th>ObjectID</th>\n",
       "      <th>DestinationRank</th>\n",
       "      <th>Total_Time</th>\n",
       "      <th>Total_Distance</th>\n",
       "      <th>OriginOID</th>\n",
       "      <th>OriginName</th>\n",
       "      <th>DestinationOID</th>\n",
       "      <th>DestinationName</th>\n",
       "      <th>SHAPE</th>\n",
       "    </tr>\n",
       "  </thead>\n",
       "  <tbody>\n",
       "    <tr>\n",
       "      <th>0</th>\n",
       "      <td>1</td>\n",
       "      <td>1</td>\n",
       "      <td>0.000000</td>\n",
       "      <td>0.000000</td>\n",
       "      <td>1</td>\n",
       "      <td>491896</td>\n",
       "      <td>1</td>\n",
       "      <td>491896</td>\n",
       "      <td>None</td>\n",
       "    </tr>\n",
       "    <tr>\n",
       "      <th>1</th>\n",
       "      <td>2</td>\n",
       "      <td>2</td>\n",
       "      <td>10.586381</td>\n",
       "      <td>0.880253</td>\n",
       "      <td>1</td>\n",
       "      <td>491896</td>\n",
       "      <td>2814</td>\n",
       "      <td>491894</td>\n",
       "      <td>None</td>\n",
       "    </tr>\n",
       "    <tr>\n",
       "      <th>2</th>\n",
       "      <td>3</td>\n",
       "      <td>3</td>\n",
       "      <td>11.810232</td>\n",
       "      <td>0.982016</td>\n",
       "      <td>1</td>\n",
       "      <td>491896</td>\n",
       "      <td>2249</td>\n",
       "      <td>491907</td>\n",
       "      <td>None</td>\n",
       "    </tr>\n",
       "    <tr>\n",
       "      <th>3</th>\n",
       "      <td>4</td>\n",
       "      <td>4</td>\n",
       "      <td>12.771676</td>\n",
       "      <td>1.061960</td>\n",
       "      <td>1</td>\n",
       "      <td>491896</td>\n",
       "      <td>1401</td>\n",
       "      <td>491910</td>\n",
       "      <td>None</td>\n",
       "    </tr>\n",
       "    <tr>\n",
       "      <th>4</th>\n",
       "      <td>5</td>\n",
       "      <td>5</td>\n",
       "      <td>16.087382</td>\n",
       "      <td>1.337659</td>\n",
       "      <td>1</td>\n",
       "      <td>491896</td>\n",
       "      <td>1390</td>\n",
       "      <td>491893</td>\n",
       "      <td>None</td>\n",
       "    </tr>\n",
       "  </tbody>\n",
       "</table>\n",
       "</div>"
      ],
      "text/plain": [
       "   ObjectID  DestinationRank  Total_Time  ...  DestinationOID  DestinationName SHAPE\n",
       "0         1                1    0.000000  ...               1           491896  None\n",
       "1         2                2   10.586381  ...            2814           491894  None\n",
       "2         3                3   11.810232  ...            2249           491907  None\n",
       "3         4                4   12.771676  ...            1401           491910  None\n",
       "4         5                5   16.087382  ...            1390           491893  None\n",
       "\n",
       "[5 rows x 9 columns]"
      ]
     },
     "execution_count": 11,
     "metadata": {},
     "output_type": "execute_result"
    }
   ],
   "source": [
    "od.head()"
   ]
  },
  {
   "cell_type": "code",
   "execution_count": 12,
   "metadata": {},
   "outputs": [],
   "source": [
    "if od['Total_Time'].mean() < 1:\n",
    "    print(\"Network validation: FAIL\")\n",
    "    print(\"Travel Times: \", od['Total_Time'].head())\n",
    "    raise ValueError('Network Travel Times are Zero - Invalid Network')"
   ]
  },
  {
   "cell_type": "code",
   "execution_count": 13,
   "metadata": {},
   "outputs": [],
   "source": [
    "taz = pd.DataFrame.spatial.from_featureclass(os.path.join(r\"shp\\taz_wfrc.gdb\", \"ATO\"))"
   ]
  },
  {
   "cell_type": "code",
   "execution_count": 14,
   "metadata": {
    "scrolled": true
   },
   "outputs": [],
   "source": [
    "taz = taz[['CO_TAZID', 'HH_19', 'JOB_19', 'JOBAUTO_19', 'HHAUTO_19', 'JOBTRANSIT_19', 'HHTRANSIT_19']]"
   ]
  },
  {
   "cell_type": "code",
   "execution_count": 15,
   "metadata": {},
   "outputs": [],
   "source": [
    "od['DestinationName'] = od['DestinationName'].astype(int)"
   ]
  },
  {
   "cell_type": "code",
   "execution_count": 16,
   "metadata": {},
   "outputs": [],
   "source": [
    "df = pd.merge(od, taz, left_on=\"DestinationName\", right_on=\"CO_TAZID\", )"
   ]
  },
  {
   "cell_type": "code",
   "execution_count": 17,
   "metadata": {},
   "outputs": [],
   "source": [
    "df.rename(columns={\"OriginName\": \"Origin_TAZID\",\n",
    "                   \"DestinationName\": \"Destination_TAZID\"},\n",
    "          inplace=True)"
   ]
  },
  {
   "cell_type": "code",
   "execution_count": 18,
   "metadata": {},
   "outputs": [],
   "source": [
    "# Weight outputs\n",
    "df['survey_weight'] = df['Total_Time'].apply(lambda x: survey_weight(x)).round(3)\n",
    "\n",
    "\n",
    "df['weighted_jobs'] = df['survey_weight'] * df['JOB_19']\n",
    "df['weighted_hh'] = df['survey_weight'] * df['HH_19']\n",
    "df['weighted_jobs'] = round(df['weighted_jobs'])\n",
    "df['weighted_hh'] = round(df['weighted_hh'])\n",
    "\n",
    "df['ato'] = df['weighted_jobs'] + df['weighted_hh']"
   ]
  },
  {
   "cell_type": "raw",
   "metadata": {},
   "source": [
    "df.head()"
   ]
  },
  {
   "cell_type": "code",
   "execution_count": 19,
   "metadata": {},
   "outputs": [],
   "source": [
    "# write to disk\n",
    "df[['Origin_TAZID', 'Destination_TAZID', 'Total_Time',\n",
    "         'weighted_jobs', 'weighted_hh', 'ato']].to_csv(output_file + '.csv')"
   ]
  },
  {
   "cell_type": "code",
   "execution_count": 20,
   "metadata": {},
   "outputs": [],
   "source": [
    "taz_summary = df.groupby('Origin_TAZID').agg(\n",
    "    jobs=pd.NamedAgg(column='weighted_jobs', aggfunc=sum),\n",
    "    hh=pd.NamedAgg(column='weighted_hh', aggfunc=sum)\n",
    ")\n",
    "taz_summary['ato'] = taz_summary['jobs'] + taz_summary['hh']\n",
    "taz_summary.to_csv(output_file + '_summary.csv')"
   ]
  },
  {
   "cell_type": "code",
   "execution_count": null,
   "metadata": {},
   "outputs": [],
   "source": [
    "# write to FGDB? \n",
    "#with arcpy.EnvManager(scratchWorkspace=r\"C:\\wfrc\\ato\\ato.gdb\", workspace=r\"C:\\wfrc\\ato\\ato.gdb\"):\n",
    "#    arcpy.conversion.TableToTable(\"auto_baseline_summary.csv\", r\"C:\\wfrc\\ato\\baseline.gdb\", \"auto_baseline_summary\")"
   ]
  }
 ],
 "metadata": {
  "kernelspec": {
   "display_name": "ArcGISPro",
   "language": "Python",
   "name": "python3"
  },
  "language_info": {
   "file_extension": ".py",
   "name": "python",
   "version": "3"
  }
 },
 "nbformat": 4,
 "nbformat_minor": 2
}
