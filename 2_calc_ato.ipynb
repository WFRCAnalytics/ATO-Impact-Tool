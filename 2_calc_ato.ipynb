{
 "cells": [
  {
   "cell_type": "markdown",
   "metadata": {},
   "source": [
    "## Calculate ATO for TAZ centroid(s)\n",
    "\n",
    "1. Run 1_setup_network.ipynb to create NetworkDataset_MM\n",
    "2. Create OD Cost Matrix Layer\n",
    "3. Add origin(s)\n",
    "4. Add destinations\n",
    "5. Solve\n",
    "6. Join attributes to solved Lines layer\n",
    "7. Weight HH and JOB by time decay\n",
    "8. Sum"
   ]
  },
  {
   "cell_type": "code",
   "execution_count": 51,
   "metadata": {
    "ExecuteTime": {
     "end_time": "2021-10-16T18:09:16.297773Z",
     "start_time": "2021-10-16T18:09:15.337446Z"
    }
   },
   "outputs": [],
   "source": [
    "# Set to True to limit to ~30 TAZs\n",
    "testing = True\n",
    "\n",
    "input = \"auto_baseline\"\n",
    "#input = \"bus_baseline\"\n",
    "#input = r\"scenario\\auto_widen_12300\""
   ]
  },
  {
   "cell_type": "code",
   "execution_count": 52,
   "metadata": {
    "ExecuteTime": {
     "end_time": "2021-10-16T18:09:16.300823Z",
     "start_time": "2021-10-16T18:09:16.298409Z"
    }
   },
   "outputs": [],
   "source": [
    "if input == \"auto_baseline\":\n",
    "    mode = \"Driving\"\n",
    "    network = \"baseline.gdb\"\n",
    "    \n",
    "elif input == \"bus_baseline\":\n",
    "    mode = \"Transit\"\n",
    "    network = \"baseline.gdb\"\n",
    "\n",
    "else:\n",
    "    mode = network.split('_')[0]\n",
    "    if mode not in ['Driving', 'Transit', 'Walking']:\n",
    "        print(\"Please prepend network with 'auto', 'bus', or 'ped'\")\n",
    "        raise Exception\n",
    "    network = os.path.join(\"scenario\", input)\n",
    "\n",
    "output_file = input"
   ]
  },
  {
   "cell_type": "code",
   "execution_count": 53,
   "metadata": {
    "ExecuteTime": {
     "end_time": "2021-10-16T18:02:45.265268Z",
     "start_time": "2021-10-16T18:02:45.264921Z"
    }
   },
   "outputs": [],
   "source": [
    "\n",
    "# input_network_dataset = os.path.join(network, r\"NetworkDataset\\NetworkDataset_ND\")\n",
    "# elif network == \"mod\":\n",
    "#     # mod\n",
    "#     target_gdb =  os.path.join(base_path, \"mod.gdb\")\n",
    "# #arcpy.env.workspace = target_gdb\n",
    "#     input_network_dataset = os.path.join(target_gdb, r\"NetworkDataset\\NetworkDataset_ND\")\n",
    "# else:\n",
    "#     print(\"Please choose a valid input\")"
   ]
  },
  {
   "cell_type": "code",
   "execution_count": 54,
   "metadata": {},
   "outputs": [],
   "source": [
    "input = \"mod\"\n",
    "network = r\"scenario\\auto_widen_12300.gdb\"\n",
    "output_file = input"
   ]
  },
  {
   "cell_type": "code",
   "execution_count": 55,
   "metadata": {
    "ExecuteTime": {
     "end_time": "2021-10-16T18:10:18.562714Z",
     "start_time": "2021-10-16T18:10:14.211787Z"
    }
   },
   "outputs": [],
   "source": [
    "import arcpy\n",
    "import os\n",
    "\n",
    "arcpy.CheckOutExtension(\"network\")\n",
    "\n",
    "from arcgis.features import SpatialDataFrame\n",
    "import pandas as pd\n",
    "# from arcgis.features import GeoAccessor, GeoSeriesAccessor\n",
    "\n",
    "def survey_weight(t):\n",
    "    if t <= 3:\n",
    "        return 1\n",
    "    elif (t > 3) & (t <= 20):\n",
    "        return -0.0382 * t + 1.1293\n",
    "    elif t > 20:\n",
    "        return 1/(1 + math.exp(0.1092 * t - 1.5604))\n",
    "    else:\n",
    "        return 0\n",
    "\n",
    "base_path = os.path.abspath(\".\")\n",
    "network = os.path.join(base_path, network, r\"NetworkDataset\\NetworkDataset_ND\")\n",
    "\n",
    "arcpy.env.workspace = os.path.join(base_path, \"ato.gdb\")"
   ]
  },
  {
   "cell_type": "code",
   "execution_count": 56,
   "metadata": {},
   "outputs": [
    {
     "data": {
      "text/html": [
       "<h2>Output</h2>a Layer object<h2>Messages</h2>Start Time: Saturday, October 16, 2021 12:50:55 PM<br/>Succeeded at Saturday, October 16, 2021 12:50:55 PM (Elapsed Time: 0.08 seconds)<br/><style>.rendered_html td, .rendered_html th {text-align: left;}.rendered_html tbody {border: 1px solid black;}</style>"
      ],
      "text/plain": [
       "<Result 'wfrc_mm'>"
      ]
     },
     "execution_count": 56,
     "metadata": {},
     "output_type": "execute_result"
    }
   ],
   "source": [
    "nd_path = network\n",
    "nd_layer_name = \"wfrc_mm\"\n",
    "arcpy.nax.MakeNetworkDatasetLayer(nd_path, nd_layer_name)"
   ]
  },
  {
   "cell_type": "code",
   "execution_count": 57,
   "metadata": {
    "scrolled": true
   },
   "outputs": [],
   "source": [
    "if testing:\n",
    "    centroids = os.path.join(base_path, r\"shp\\taz_wfrc.gdb\\taz_centroids_sample\")\n",
    "else:\n",
    "    centroids = os.path.join(base_path, r\"shp\\taz_wfrc.gdb\\taz_centroids_snapped\")\n",
    "\n",
    "# Create OD Cost Matrix Layers\n",
    "# arcpy.na.MakeODCostMatrixAnalysisLayer(\n",
    "#     network_data_source = network, \n",
    "#     layer_name = \"OD Cost Matrix\", \n",
    "#     travel_mode = mode, \n",
    "#     cutoff = 60.0,\n",
    "#     line_shape = \"NO_LINES\"\n",
    "# )"
   ]
  },
  {
   "cell_type": "code",
   "execution_count": 58,
   "metadata": {},
   "outputs": [],
   "source": [
    "odcm = arcpy.nax.OriginDestinationCostMatrix(nd_layer_name)"
   ]
  },
  {
   "cell_type": "code",
   "execution_count": 59,
   "metadata": {},
   "outputs": [],
   "source": [
    "odcm.travelMode = mode\n",
    "odcm.defaultImpedanceCutoff = 60\n",
    "odcm.lineShapeType = arcpy.nax.LineShapeType.NoLine"
   ]
  },
  {
   "cell_type": "code",
   "execution_count": 60,
   "metadata": {},
   "outputs": [],
   "source": [
    "# Load inputs using field mappings, including the pre-calculated location fields\n",
    "field_mappings_origins = odcm.fieldMappings(arcpy.nax.OriginDestinationCostMatrixInputDataType.Origins, True)\n",
    "# Map the \"CO_TAZID\" field in the input data to the \"Name\" property of the Origins class\n",
    "field_mappings_origins[\"Name\"].mappedFieldName = \"CO_TAZID\"\n",
    "odcm.load(arcpy.nax.OriginDestinationCostMatrixInputDataType.Origins, centroids, field_mappings_origins)\n",
    "# Load destinations\n",
    "field_mappings_destinations = odcm.fieldMappings(arcpy.nax.OriginDestinationCostMatrixInputDataType.Destinations, True)\n",
    "field_mappings_destinations[\"Name\"].mappedFieldName = \"CO_TAZID\"\n",
    "odcm.load(arcpy.nax.OriginDestinationCostMatrixInputDataType.Destinations, centroids, field_mappings_destinations)"
   ]
  },
  {
   "cell_type": "raw",
   "metadata": {},
   "source": [
    "# Load inputs\n",
    "odcm.load(\n",
    "    arcpy.nax.OriginDestinationCostMatrixInputDataType.Origins, \n",
    "    centroids, \n",
    "    field_mappings = \"Name CO_TAZID #;TargetDestinationCount # #;CurbApproach # 0;Cutoff_Length # #;Cutoff_Mins_DriveTime # #\" \n",
    ")\n",
    "odcm.load(arcpy.nax.OriginDestinationCostMatrixInputDataType.Destinations, centroids)\n"
   ]
  },
  {
   "cell_type": "code",
   "execution_count": 61,
   "metadata": {},
   "outputs": [],
   "source": [
    "# Solve the analysis\n",
    "result = odcm.solve()\n",
    "\n",
    "# Export the results to a feature class\n",
    "if result.solveSucceeded:\n",
    "    result.export(arcpy.nax.OriginDestinationCostMatrixOutputDataType.Lines, \"memory\\output_lines\")\n",
    "else:\n",
    "    print(\"Solve failed\")\n",
    "    print(result.solverMessages(arcpy.nax.MessageSeverity.All))"
   ]
  },
  {
   "cell_type": "code",
   "execution_count": 62,
   "metadata": {},
   "outputs": [],
   "source": [
    "od = pd.DataFrame.spatial.from_featureclass(r\"memory\\output_lines\")"
   ]
  },
  {
   "cell_type": "code",
   "execution_count": 63,
   "metadata": {
    "scrolled": false
   },
   "outputs": [
    {
     "data": {
      "text/html": [
       "<div>\n",
       "<style scoped>\n",
       "    .dataframe tbody tr th:only-of-type {\n",
       "        vertical-align: middle;\n",
       "    }\n",
       "\n",
       "    .dataframe tbody tr th {\n",
       "        vertical-align: top;\n",
       "    }\n",
       "\n",
       "    .dataframe thead th {\n",
       "        text-align: right;\n",
       "    }\n",
       "</style>\n",
       "<table border=\"1\" class=\"dataframe\">\n",
       "  <thead>\n",
       "    <tr style=\"text-align: right;\">\n",
       "      <th></th>\n",
       "      <th>ObjectID</th>\n",
       "      <th>DestinationRank</th>\n",
       "      <th>Total_Time</th>\n",
       "      <th>Total_Distance</th>\n",
       "      <th>OriginOID</th>\n",
       "      <th>OriginName</th>\n",
       "      <th>DestinationOID</th>\n",
       "      <th>DestinationName</th>\n",
       "      <th>SHAPE</th>\n",
       "    </tr>\n",
       "  </thead>\n",
       "  <tbody>\n",
       "    <tr>\n",
       "      <th>0</th>\n",
       "      <td>1</td>\n",
       "      <td>1</td>\n",
       "      <td>0.000000</td>\n",
       "      <td>0.000000</td>\n",
       "      <td>1</td>\n",
       "      <td>351496</td>\n",
       "      <td>1</td>\n",
       "      <td>351496</td>\n",
       "      <td>None</td>\n",
       "    </tr>\n",
       "    <tr>\n",
       "      <th>1</th>\n",
       "      <td>2</td>\n",
       "      <td>2</td>\n",
       "      <td>1.814034</td>\n",
       "      <td>1.216938</td>\n",
       "      <td>1</td>\n",
       "      <td>351496</td>\n",
       "      <td>12</td>\n",
       "      <td>351498</td>\n",
       "      <td>None</td>\n",
       "    </tr>\n",
       "    <tr>\n",
       "      <th>2</th>\n",
       "      <td>3</td>\n",
       "      <td>3</td>\n",
       "      <td>2.382992</td>\n",
       "      <td>1.608512</td>\n",
       "      <td>1</td>\n",
       "      <td>351496</td>\n",
       "      <td>161</td>\n",
       "      <td>351499</td>\n",
       "      <td>None</td>\n",
       "    </tr>\n",
       "    <tr>\n",
       "      <th>3</th>\n",
       "      <td>4</td>\n",
       "      <td>4</td>\n",
       "      <td>2.417536</td>\n",
       "      <td>1.627814</td>\n",
       "      <td>1</td>\n",
       "      <td>351496</td>\n",
       "      <td>5</td>\n",
       "      <td>351497</td>\n",
       "      <td>None</td>\n",
       "    </tr>\n",
       "    <tr>\n",
       "      <th>4</th>\n",
       "      <td>5</td>\n",
       "      <td>5</td>\n",
       "      <td>2.511729</td>\n",
       "      <td>1.694244</td>\n",
       "      <td>1</td>\n",
       "      <td>351496</td>\n",
       "      <td>7</td>\n",
       "      <td>351495</td>\n",
       "      <td>None</td>\n",
       "    </tr>\n",
       "  </tbody>\n",
       "</table>\n",
       "</div>"
      ],
      "text/plain": [
       "   ObjectID  DestinationRank  Total_Time  ...  DestinationOID  DestinationName SHAPE\n",
       "0         1                1    0.000000  ...               1           351496  None\n",
       "1         2                2    1.814034  ...              12           351498  None\n",
       "2         3                3    2.382992  ...             161           351499  None\n",
       "3         4                4    2.417536  ...               5           351497  None\n",
       "4         5                5    2.511729  ...               7           351495  None\n",
       "\n",
       "[5 rows x 9 columns]"
      ]
     },
     "execution_count": 63,
     "metadata": {},
     "output_type": "execute_result"
    }
   ],
   "source": [
    "od.head()"
   ]
  },
  {
   "cell_type": "raw",
   "metadata": {},
   "source": [
    "# add ODs for simple network\n",
    "arcpy.na.AddLocations(\n",
    "    \"OD Cost Matrix\", \n",
    "    \"Origins\",\n",
    "    centroids, \n",
    "    \"Name CO_TAZID #;TargetDestinationCount # #;CurbApproach # 0;Cutoff_Length # #;Cutoff_Mins_DriveTime # #\", \n",
    "    \"10000 Meters\"\n",
    ")\n",
    "arcpy.na.AddLocations(\n",
    "    \"OD Cost Matrix\", \n",
    "    \"Destinations\", \n",
    "    centroids, \n",
    "    \"Name CO_TAZID #;CurbApproach # 0\", \n",
    "    \"10000 Meters\"\n",
    ")"
   ]
  },
  {
   "cell_type": "raw",
   "metadata": {
    "scrolled": false
   },
   "source": [
    "%%time\n",
    "# Solve\n",
    "arcpy.nax.Solve(\"OD Cost Matrix\", \"SKIP\", \"TERMINATE\", None, '')"
   ]
  },
  {
   "cell_type": "raw",
   "metadata": {
    "scrolled": true
   },
   "source": [
    "%%time\n",
    "od = pd.DataFrame.spatial.from_featureclass(r\"OD Cost Matrix\\Lines\")"
   ]
  },
  {
   "cell_type": "raw",
   "metadata": {
    "scrolled": true
   },
   "source": [
    "od.head()"
   ]
  },
  {
   "cell_type": "raw",
   "metadata": {
    "scrolled": true
   },
   "source": [
    "# if the network is broken this will fail\n",
    "# if fails, try deleting and rebuilding network - this usually fixes things. Esri weirdness!\n",
    "if mode == \"Driving\":\n",
    "    assert od['Total_Mins_DriveOnly'].sum() > 100\n",
    "if mode == \"Transit\": \n",
    "    assert od['Total_Mins_PedTransitOnly'].sum() > 100"
   ]
  },
  {
   "cell_type": "raw",
   "metadata": {
    "scrolled": false
   },
   "source": [
    "%%time\n",
    "od['Origin_CO_TAZID'] = od['Name'].apply(lambda x: int(x.split(' - ')[0]))\n",
    "od['Dest_CO_TAZID'] = od['Name'].apply(lambda x: int(x.split(' - ')[1]))"
   ]
  },
  {
   "cell_type": "code",
   "execution_count": 64,
   "metadata": {},
   "outputs": [],
   "source": [
    "assert od['Total_Time'].sum() > 100"
   ]
  },
  {
   "cell_type": "code",
   "execution_count": 65,
   "metadata": {},
   "outputs": [],
   "source": [
    "taz = pd.DataFrame.spatial.from_featureclass(os.path.join(r\"shp\\taz_wfrc.gdb\", \"ATO\"))"
   ]
  },
  {
   "cell_type": "code",
   "execution_count": 66,
   "metadata": {
    "scrolled": true
   },
   "outputs": [],
   "source": [
    "taz = taz[['CO_TAZID', 'HH_19', 'JOB_19', 'JOBAUTO_19', 'HHAUTO_19', 'JOBTRANSIT_19', 'HHTRANSIT_19']]"
   ]
  },
  {
   "cell_type": "code",
   "execution_count": 67,
   "metadata": {},
   "outputs": [],
   "source": [
    "od['DestinationName'] = od['DestinationName'].astype(int)"
   ]
  },
  {
   "cell_type": "code",
   "execution_count": 68,
   "metadata": {},
   "outputs": [],
   "source": [
    "df = pd.merge(od, taz, left_on=\"DestinationName\", right_on=\"CO_TAZID\", )"
   ]
  },
  {
   "cell_type": "code",
   "execution_count": 69,
   "metadata": {},
   "outputs": [],
   "source": [
    "df.rename(columns={\"OriginName\": \"Origin_TAZID\",\n",
    "                   \"DestinationName\": \"Destination_TAZID\"},\n",
    "          inplace=True)"
   ]
  },
  {
   "cell_type": "code",
   "execution_count": 70,
   "metadata": {},
   "outputs": [],
   "source": [
    "# Weight outputs\n",
    "df['survey_weight'] = df['Total_Time'].apply(lambda x: survey_weight(x)).round(3)\n",
    "\n",
    "\n",
    "df['weighted_jobs'] = df['survey_weight'] * df['JOB_19']\n",
    "df['weighted_hh'] = df['survey_weight'] * df['HH_19']\n",
    "df['weighted_jobs'] = round(df['weighted_jobs'])\n",
    "df['weighted_hh'] = round(df['weighted_hh'])\n",
    "\n",
    "df['ato'] = df['weighted_jobs'] + df['weighted_hh']"
   ]
  },
  {
   "cell_type": "code",
   "execution_count": 71,
   "metadata": {},
   "outputs": [
    {
     "data": {
      "text/html": [
       "<div>\n",
       "<style scoped>\n",
       "    .dataframe tbody tr th:only-of-type {\n",
       "        vertical-align: middle;\n",
       "    }\n",
       "\n",
       "    .dataframe tbody tr th {\n",
       "        vertical-align: top;\n",
       "    }\n",
       "\n",
       "    .dataframe thead th {\n",
       "        text-align: right;\n",
       "    }\n",
       "</style>\n",
       "<table border=\"1\" class=\"dataframe\">\n",
       "  <thead>\n",
       "    <tr style=\"text-align: right;\">\n",
       "      <th></th>\n",
       "      <th>ObjectID</th>\n",
       "      <th>DestinationRank</th>\n",
       "      <th>Total_Time</th>\n",
       "      <th>Total_Distance</th>\n",
       "      <th>OriginOID</th>\n",
       "      <th>Origin_TAZID</th>\n",
       "      <th>DestinationOID</th>\n",
       "      <th>Destination_TAZID</th>\n",
       "      <th>SHAPE</th>\n",
       "      <th>CO_TAZID</th>\n",
       "      <th>HH_19</th>\n",
       "      <th>JOB_19</th>\n",
       "      <th>JOBAUTO_19</th>\n",
       "      <th>HHAUTO_19</th>\n",
       "      <th>JOBTRANSIT_19</th>\n",
       "      <th>HHTRANSIT_19</th>\n",
       "      <th>survey_weight</th>\n",
       "      <th>weighted_jobs</th>\n",
       "      <th>weighted_hh</th>\n",
       "      <th>ato</th>\n",
       "    </tr>\n",
       "  </thead>\n",
       "  <tbody>\n",
       "    <tr>\n",
       "      <th>0</th>\n",
       "      <td>1</td>\n",
       "      <td>1</td>\n",
       "      <td>0.000000</td>\n",
       "      <td>0.000000</td>\n",
       "      <td>1</td>\n",
       "      <td>351496</td>\n",
       "      <td>1</td>\n",
       "      <td>351496</td>\n",
       "      <td>None</td>\n",
       "      <td>351496</td>\n",
       "      <td>279.0</td>\n",
       "      <td>324.7</td>\n",
       "      <td>231437</td>\n",
       "      <td>150510</td>\n",
       "      <td>3038</td>\n",
       "      <td>1525</td>\n",
       "      <td>1.000</td>\n",
       "      <td>325.0</td>\n",
       "      <td>279.0</td>\n",
       "      <td>604.0</td>\n",
       "    </tr>\n",
       "    <tr>\n",
       "      <th>1</th>\n",
       "      <td>187</td>\n",
       "      <td>4</td>\n",
       "      <td>2.581873</td>\n",
       "      <td>1.674189</td>\n",
       "      <td>2</td>\n",
       "      <td>351490</td>\n",
       "      <td>1</td>\n",
       "      <td>351496</td>\n",
       "      <td>None</td>\n",
       "      <td>351496</td>\n",
       "      <td>279.0</td>\n",
       "      <td>324.7</td>\n",
       "      <td>231437</td>\n",
       "      <td>150510</td>\n",
       "      <td>3038</td>\n",
       "      <td>1525</td>\n",
       "      <td>1.000</td>\n",
       "      <td>325.0</td>\n",
       "      <td>279.0</td>\n",
       "      <td>604.0</td>\n",
       "    </tr>\n",
       "    <tr>\n",
       "      <th>2</th>\n",
       "      <td>373</td>\n",
       "      <td>7</td>\n",
       "      <td>3.876465</td>\n",
       "      <td>2.542292</td>\n",
       "      <td>3</td>\n",
       "      <td>351488</td>\n",
       "      <td>1</td>\n",
       "      <td>351496</td>\n",
       "      <td>None</td>\n",
       "      <td>351496</td>\n",
       "      <td>279.0</td>\n",
       "      <td>324.7</td>\n",
       "      <td>231437</td>\n",
       "      <td>150510</td>\n",
       "      <td>3038</td>\n",
       "      <td>1525</td>\n",
       "      <td>0.981</td>\n",
       "      <td>319.0</td>\n",
       "      <td>274.0</td>\n",
       "      <td>593.0</td>\n",
       "    </tr>\n",
       "    <tr>\n",
       "      <th>3</th>\n",
       "      <td>557</td>\n",
       "      <td>8</td>\n",
       "      <td>3.772201</td>\n",
       "      <td>2.565888</td>\n",
       "      <td>4</td>\n",
       "      <td>351494</td>\n",
       "      <td>1</td>\n",
       "      <td>351496</td>\n",
       "      <td>None</td>\n",
       "      <td>351496</td>\n",
       "      <td>279.0</td>\n",
       "      <td>324.7</td>\n",
       "      <td>231437</td>\n",
       "      <td>150510</td>\n",
       "      <td>3038</td>\n",
       "      <td>1525</td>\n",
       "      <td>0.985</td>\n",
       "      <td>320.0</td>\n",
       "      <td>275.0</td>\n",
       "      <td>595.0</td>\n",
       "    </tr>\n",
       "    <tr>\n",
       "      <th>4</th>\n",
       "      <td>736</td>\n",
       "      <td>4</td>\n",
       "      <td>2.417536</td>\n",
       "      <td>1.627814</td>\n",
       "      <td>5</td>\n",
       "      <td>351497</td>\n",
       "      <td>1</td>\n",
       "      <td>351496</td>\n",
       "      <td>None</td>\n",
       "      <td>351496</td>\n",
       "      <td>279.0</td>\n",
       "      <td>324.7</td>\n",
       "      <td>231437</td>\n",
       "      <td>150510</td>\n",
       "      <td>3038</td>\n",
       "      <td>1525</td>\n",
       "      <td>1.000</td>\n",
       "      <td>325.0</td>\n",
       "      <td>279.0</td>\n",
       "      <td>604.0</td>\n",
       "    </tr>\n",
       "  </tbody>\n",
       "</table>\n",
       "</div>"
      ],
      "text/plain": [
       "   ObjectID  DestinationRank  Total_Time  ...  weighted_jobs  weighted_hh    ato\n",
       "0         1                1    0.000000  ...          325.0        279.0  604.0\n",
       "1       187                4    2.581873  ...          325.0        279.0  604.0\n",
       "2       373                7    3.876465  ...          319.0        274.0  593.0\n",
       "3       557                8    3.772201  ...          320.0        275.0  595.0\n",
       "4       736                4    2.417536  ...          325.0        279.0  604.0\n",
       "\n",
       "[5 rows x 20 columns]"
      ]
     },
     "execution_count": 71,
     "metadata": {},
     "output_type": "execute_result"
    }
   ],
   "source": [
    "df.head()"
   ]
  },
  {
   "cell_type": "code",
   "execution_count": 72,
   "metadata": {},
   "outputs": [],
   "source": [
    "# write to disk\n",
    "df[['Origin_TAZID', 'Destination_TAZID', 'Total_Time', 'survey_weight',\n",
    "         'weighted_jobs', 'weighted_hh', 'ato']].to_csv(output_file + '.csv')"
   ]
  },
  {
   "cell_type": "code",
   "execution_count": 73,
   "metadata": {},
   "outputs": [],
   "source": [
    "taz_summary = df.groupby('Origin_TAZID').agg(\n",
    "    jobs=pd.NamedAgg(column='weighted_jobs', aggfunc=sum),\n",
    "    hh=pd.NamedAgg(column='weighted_hh', aggfunc=sum)\n",
    ")\n",
    "taz_summary['ato'] = taz_summary['jobs'] + taz_summary['hh']\n",
    "taz_summary.to_csv(output_file + '_summary.csv')"
   ]
  },
  {
   "cell_type": "code",
   "execution_count": null,
   "metadata": {},
   "outputs": [],
   "source": []
  }
 ],
 "metadata": {
  "kernelspec": {
   "display_name": "ArcGISPro",
   "language": "Python",
   "name": "python3"
  },
  "language_info": {
   "file_extension": ".py",
   "name": "python",
   "version": "3"
  }
 },
 "nbformat": 4,
 "nbformat_minor": 2
}
