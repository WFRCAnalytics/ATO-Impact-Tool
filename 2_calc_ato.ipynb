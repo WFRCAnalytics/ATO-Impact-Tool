{
 "cells": [
  {
   "cell_type": "markdown",
   "metadata": {},
   "source": [
    "## Calculate ATO for TAZ centroid(s)\n",
    "\n",
    "1. Run 1_setup_network.ipynb to create NetworkDataset_MM\n",
    "2. Create OD Cost Matrix Layer\n",
    "3. Add origin(s)\n",
    "4. Add destinations\n",
    "5. Solve\n",
    "6. Join attributes to solved Lines layer\n",
    "7. Weight HH and JOB by time decay\n",
    "8. Sum"
   ]
  },
  {
   "cell_type": "code",
   "execution_count": 1,
   "metadata": {},
   "outputs": [],
   "source": [
    "import arcpy\n",
    "import os\n",
    "\n",
    "arcpy.CheckOutExtension(\"network\")\n",
    "\n",
    "from arcgis.features import SpatialDataFrame\n",
    "import pandas as pd\n",
    "# from arcgis.features import GeoAccessor, GeoSeriesAccessor\n",
    "\n",
    "def survey_weight(t):\n",
    "    if t <= 3:\n",
    "        return 1\n",
    "    elif (t > 3) & (t <= 20):\n",
    "        return -0.0382 * t + 1.1293\n",
    "    elif t > 20:\n",
    "        return 1/(1 + math.exp(0.1092 * t - 1.5604))\n",
    "    else:\n",
    "        return 0\n",
    "\n",
    "# set base path - jupyter or arcgis\n",
    "try:\n",
    "    aprx = arcpy.mp.ArcGISProject(\"CURRENT\")\n",
    "    print(\"base path must be explicitly set when running in arcgis pro\")\n",
    "    base_path = r\"c:\\wfrc\\ato\" # update this\n",
    "except OSError:\n",
    "    base_path = \".\"\n",
    "\n",
    "# Set to True to limit to ~30 TAZs\n",
    "testing = False\n",
    "\n",
    "base_gdb = os.path.join(base_path, \"nd.gdb\")"
   ]
  },
  {
   "cell_type": "code",
   "execution_count": 2,
   "metadata": {},
   "outputs": [],
   "source": [
    "# from 1_setup_network.ipynb\n",
    "\n",
    "if testing:\n",
    "    centroids = os.path.join(base_path, r\"shp\\taz_wfrc.gdb\\taz_centroids_draper\")\n",
    "else:\n",
    "    centroids = os.path.join(base_path, r\"shp\\taz_wfrc.gdb\\taz_centroids_snapped\")\n",
    "\n",
    "# baseline\n",
    "arcpy.env.workspace = base_gdb\n",
    "input_network_dataset = os.path.join(base_gdb, r\"NetworkDataset\\NetworkDataset_ND\")\n",
    "output_file = \"driving_baseline\"\n",
    "\n",
    "\n",
    "# mod\n",
    "#target_gdb =  os.path.join(base_path, \"mod_drive.gdb\")\n",
    "#arcpy.env.workspace = target_gdb\n",
    "#input_network_dataset = os.path.join(target_gdb, r\"NetworkDataset\\NetworkDataset_ND\")\n",
    "#output_file = \"driving_mod\"\n",
    "\n",
    "mode = \"Driving\" # Driving | Transit"
   ]
  },
  {
   "cell_type": "code",
   "execution_count": 3,
   "metadata": {
    "scrolled": true
   },
   "outputs": [
    {
     "data": {
      "text/html": [
       "<h2>Output</h2>a Layer object<h2>Messages</h2>Start Time: Friday, October 8, 2021 12:00:27 PM<br/>New analysis data source feature dataset: c:\\wfrc\\ato\\nd.gdb\\ODCostMatrix14p79rk.<br/>Succeeded at Friday, October 8, 2021 12:00:33 PM (Elapsed Time: 6.31 seconds)<br/><style>.rendered_html td, .rendered_html th {text-align: left;}.rendered_html tbody {border: 1px solid black;}</style>"
      ],
      "text/plain": [
       "<Result 'OD Cost Matrix'>"
      ]
     },
     "execution_count": 3,
     "metadata": {},
     "output_type": "execute_result"
    }
   ],
   "source": [
    "# Create OD Cost Matrix Layers\n",
    "arcpy.na.MakeODCostMatrixAnalysisLayer(\n",
    "    network_data_source = input_network_dataset, \n",
    "    layer_name = \"OD Cost Matrix\", \n",
    "    travel_mode = mode, \n",
    "    cutoff = 60.0,\n",
    "    line_shape = \"NO_LINES\"\n",
    ")"
   ]
  },
  {
   "cell_type": "code",
   "execution_count": 4,
   "metadata": {},
   "outputs": [
    {
     "data": {
      "text/html": [
       "<h2>Output</h2>a Layer object<h2>Messages</h2>Start Time: Friday, October 8, 2021 12:00:51 PM<br/>2858 features located out of 2858.<br/>Succeeded at Friday, October 8, 2021 12:01:02 PM (Elapsed Time: 11.65 seconds)<br/><style>.rendered_html td, .rendered_html th {text-align: left;}.rendered_html tbody {border: 1px solid black;}</style>"
      ],
      "text/plain": [
       "<Result 'OD Cost Matrix'>"
      ]
     },
     "execution_count": 4,
     "metadata": {},
     "output_type": "execute_result"
    }
   ],
   "source": [
    "# add ODs for simple network\n",
    "arcpy.na.AddLocations(\n",
    "    \"OD Cost Matrix\", \n",
    "    \"Origins\",\n",
    "    centroids, \n",
    "    \"Name CO_TAZID #;TargetDestinationCount # #;CurbApproach # 0;Cutoff_Length # #;Cutoff_Mins_DriveTime # #\", \n",
    "    \"10000 Meters\"\n",
    ")\n",
    "arcpy.na.AddLocations(\n",
    "    \"OD Cost Matrix\", \n",
    "    \"Destinations\", \n",
    "    centroids, \n",
    "    \"Name CO_TAZID #;CurbApproach # 0\", \n",
    "    \"10000 Meters\"\n",
    ")"
   ]
  },
  {
   "cell_type": "code",
   "execution_count": 5,
   "metadata": {
    "scrolled": false
   },
   "outputs": [
    {
     "name": "stdout",
     "output_type": "stream",
     "text": [
      "Wall time: 5min 48s\n"
     ]
    },
    {
     "data": {
      "text/html": [
       "<h2>Output</h2><table><tr><th>id</th><th>value</th></tr><tr><td>0</td><td>a Layer object</td></tr><tr><td>1</td><td>true</td></tr></table><h2>Messages</h2>Start Time: Friday, October 8, 2021 12:01:02 PM<br/>Succeeded at Friday, October 8, 2021 12:06:51 PM (Elapsed Time: 5 minutes 48 seconds)<br/><style>.rendered_html td, .rendered_html th {text-align: left;}.rendered_html tbody {border: 1px solid black;}</style>"
      ],
      "text/plain": [
       "<Result 'OD Cost Matrix'>"
      ]
     },
     "execution_count": 5,
     "metadata": {},
     "output_type": "execute_result"
    }
   ],
   "source": [
    "%%time\n",
    "# Solve\n",
    "arcpy.na.Solve(\"OD Cost Matrix\", \"SKIP\", \"TERMINATE\", None, '')"
   ]
  },
  {
   "cell_type": "code",
   "execution_count": 6,
   "metadata": {
    "scrolled": true
   },
   "outputs": [
    {
     "name": "stdout",
     "output_type": "stream",
     "text": [
      "Wall time: 19 s\n"
     ]
    }
   ],
   "source": [
    "%%time\n",
    "od = pd.DataFrame.spatial.from_featureclass(r\"OD Cost Matrix\\Lines\")"
   ]
  },
  {
   "cell_type": "code",
   "execution_count": 7,
   "metadata": {
    "scrolled": true
   },
   "outputs": [
    {
     "data": {
      "text/html": [
       "<div>\n",
       "<style scoped>\n",
       "    .dataframe tbody tr th:only-of-type {\n",
       "        vertical-align: middle;\n",
       "    }\n",
       "\n",
       "    .dataframe tbody tr th {\n",
       "        vertical-align: top;\n",
       "    }\n",
       "\n",
       "    .dataframe thead th {\n",
       "        text-align: right;\n",
       "    }\n",
       "</style>\n",
       "<table border=\"1\" class=\"dataframe\">\n",
       "  <thead>\n",
       "    <tr style=\"text-align: right;\">\n",
       "      <th></th>\n",
       "      <th>ObjectID</th>\n",
       "      <th>Name</th>\n",
       "      <th>OriginID</th>\n",
       "      <th>DestinationID</th>\n",
       "      <th>DestinationRank</th>\n",
       "      <th>Total_Mins_BikeOnly</th>\n",
       "      <th>Total_Mins_BikeTransitOnly</th>\n",
       "      <th>Total_Mins_DriveOnly</th>\n",
       "      <th>Total_Mins_PedOnly</th>\n",
       "      <th>Total_Mins_PedTransitOnly</th>\n",
       "      <th>Total_Mins_TransitOnly</th>\n",
       "      <th>Total_Miles</th>\n",
       "      <th>SHAPE</th>\n",
       "    </tr>\n",
       "  </thead>\n",
       "  <tbody>\n",
       "    <tr>\n",
       "      <th>0</th>\n",
       "      <td>1</td>\n",
       "      <td>491896 - 491896</td>\n",
       "      <td>1</td>\n",
       "      <td>1</td>\n",
       "      <td>1</td>\n",
       "      <td>None</td>\n",
       "      <td>None</td>\n",
       "      <td>0.000000</td>\n",
       "      <td>None</td>\n",
       "      <td>None</td>\n",
       "      <td>None</td>\n",
       "      <td>None</td>\n",
       "      <td>None</td>\n",
       "    </tr>\n",
       "    <tr>\n",
       "      <th>1</th>\n",
       "      <td>2</td>\n",
       "      <td>491896 - 491894</td>\n",
       "      <td>1</td>\n",
       "      <td>2814</td>\n",
       "      <td>2</td>\n",
       "      <td>None</td>\n",
       "      <td>None</td>\n",
       "      <td>0.820445</td>\n",
       "      <td>None</td>\n",
       "      <td>None</td>\n",
       "      <td>None</td>\n",
       "      <td>None</td>\n",
       "      <td>None</td>\n",
       "    </tr>\n",
       "    <tr>\n",
       "      <th>2</th>\n",
       "      <td>3</td>\n",
       "      <td>491896 - 491910</td>\n",
       "      <td>1</td>\n",
       "      <td>1401</td>\n",
       "      <td>3</td>\n",
       "      <td>None</td>\n",
       "      <td>None</td>\n",
       "      <td>0.902399</td>\n",
       "      <td>None</td>\n",
       "      <td>None</td>\n",
       "      <td>None</td>\n",
       "      <td>None</td>\n",
       "      <td>None</td>\n",
       "    </tr>\n",
       "    <tr>\n",
       "      <th>3</th>\n",
       "      <td>4</td>\n",
       "      <td>491896 - 491907</td>\n",
       "      <td>1</td>\n",
       "      <td>2249</td>\n",
       "      <td>4</td>\n",
       "      <td>None</td>\n",
       "      <td>None</td>\n",
       "      <td>1.237324</td>\n",
       "      <td>None</td>\n",
       "      <td>None</td>\n",
       "      <td>None</td>\n",
       "      <td>None</td>\n",
       "      <td>None</td>\n",
       "    </tr>\n",
       "    <tr>\n",
       "      <th>4</th>\n",
       "      <td>5</td>\n",
       "      <td>491896 - 491893</td>\n",
       "      <td>1</td>\n",
       "      <td>1390</td>\n",
       "      <td>5</td>\n",
       "      <td>None</td>\n",
       "      <td>None</td>\n",
       "      <td>1.246772</td>\n",
       "      <td>None</td>\n",
       "      <td>None</td>\n",
       "      <td>None</td>\n",
       "      <td>None</td>\n",
       "      <td>None</td>\n",
       "    </tr>\n",
       "  </tbody>\n",
       "</table>\n",
       "</div>"
      ],
      "text/plain": [
       "   ObjectID             Name  OriginID  DestinationID  DestinationRank  \\\n",
       "0         1  491896 - 491896         1              1                1   \n",
       "1         2  491896 - 491894         1           2814                2   \n",
       "2         3  491896 - 491910         1           1401                3   \n",
       "3         4  491896 - 491907         1           2249                4   \n",
       "4         5  491896 - 491893         1           1390                5   \n",
       "\n",
       "  Total_Mins_BikeOnly Total_Mins_BikeTransitOnly  Total_Mins_DriveOnly  \\\n",
       "0                None                       None              0.000000   \n",
       "1                None                       None              0.820445   \n",
       "2                None                       None              0.902399   \n",
       "3                None                       None              1.237324   \n",
       "4                None                       None              1.246772   \n",
       "\n",
       "  Total_Mins_PedOnly Total_Mins_PedTransitOnly Total_Mins_TransitOnly  \\\n",
       "0               None                      None                   None   \n",
       "1               None                      None                   None   \n",
       "2               None                      None                   None   \n",
       "3               None                      None                   None   \n",
       "4               None                      None                   None   \n",
       "\n",
       "  Total_Miles SHAPE  \n",
       "0        None  None  \n",
       "1        None  None  \n",
       "2        None  None  \n",
       "3        None  None  \n",
       "4        None  None  "
      ]
     },
     "execution_count": 7,
     "metadata": {},
     "output_type": "execute_result"
    }
   ],
   "source": [
    "od.head()"
   ]
  },
  {
   "cell_type": "code",
   "execution_count": 8,
   "metadata": {
    "scrolled": true
   },
   "outputs": [
    {
     "name": "stdout",
     "output_type": "stream",
     "text": [
      "Wall time: 8.98 s\n"
     ]
    }
   ],
   "source": [
    "%%time\n",
    "od['Origin_CO_TAZID'] = od['Name'].apply(lambda x: int(x.split(' - ')[0]))\n",
    "od['Dest_CO_TAZID'] = od['Name'].apply(lambda x: int(x.split(' - ')[1]))"
   ]
  },
  {
   "cell_type": "code",
   "execution_count": 9,
   "metadata": {},
   "outputs": [],
   "source": [
    "taz = pd.DataFrame.spatial.from_featureclass(os.path.join(r\"shp\\taz_wfrc.gdb\", \"ATO\"))"
   ]
  },
  {
   "cell_type": "code",
   "execution_count": 10,
   "metadata": {
    "scrolled": true
   },
   "outputs": [],
   "source": [
    "taz = taz[['CO_TAZID', 'HH_19', 'JOB_19', 'JOBAUTO_19', 'HHAUTO_19', 'JOBTRANSIT_19', 'HHTRANSIT_19']]"
   ]
  },
  {
   "cell_type": "code",
   "execution_count": 11,
   "metadata": {},
   "outputs": [],
   "source": [
    "df = pd.merge(od, taz, left_on=\"Dest_CO_TAZID\", right_on=\"CO_TAZID\", )"
   ]
  },
  {
   "cell_type": "code",
   "execution_count": 12,
   "metadata": {},
   "outputs": [
    {
     "data": {
      "text/html": [
       "<div>\n",
       "<style scoped>\n",
       "    .dataframe tbody tr th:only-of-type {\n",
       "        vertical-align: middle;\n",
       "    }\n",
       "\n",
       "    .dataframe tbody tr th {\n",
       "        vertical-align: top;\n",
       "    }\n",
       "\n",
       "    .dataframe thead th {\n",
       "        text-align: right;\n",
       "    }\n",
       "</style>\n",
       "<table border=\"1\" class=\"dataframe\">\n",
       "  <thead>\n",
       "    <tr style=\"text-align: right;\">\n",
       "      <th></th>\n",
       "      <th>ObjectID</th>\n",
       "      <th>Name</th>\n",
       "      <th>OriginID</th>\n",
       "      <th>DestinationID</th>\n",
       "      <th>DestinationRank</th>\n",
       "      <th>Total_Mins_BikeOnly</th>\n",
       "      <th>Total_Mins_BikeTransitOnly</th>\n",
       "      <th>Total_Mins_DriveOnly</th>\n",
       "      <th>Total_Mins_PedOnly</th>\n",
       "      <th>Total_Mins_PedTransitOnly</th>\n",
       "      <th>...</th>\n",
       "      <th>SHAPE</th>\n",
       "      <th>Origin_CO_TAZID</th>\n",
       "      <th>Dest_CO_TAZID</th>\n",
       "      <th>CO_TAZID</th>\n",
       "      <th>HH_19</th>\n",
       "      <th>JOB_19</th>\n",
       "      <th>JOBAUTO_19</th>\n",
       "      <th>HHAUTO_19</th>\n",
       "      <th>JOBTRANSIT_19</th>\n",
       "      <th>HHTRANSIT_19</th>\n",
       "    </tr>\n",
       "  </thead>\n",
       "  <tbody>\n",
       "    <tr>\n",
       "      <th>0</th>\n",
       "      <td>1</td>\n",
       "      <td>491896 - 491896</td>\n",
       "      <td>1</td>\n",
       "      <td>1</td>\n",
       "      <td>1</td>\n",
       "      <td>None</td>\n",
       "      <td>None</td>\n",
       "      <td>0.000000</td>\n",
       "      <td>None</td>\n",
       "      <td>None</td>\n",
       "      <td>...</td>\n",
       "      <td>None</td>\n",
       "      <td>491896</td>\n",
       "      <td>491896</td>\n",
       "      <td>491896</td>\n",
       "      <td>0.0</td>\n",
       "      <td>286.6</td>\n",
       "      <td>46951</td>\n",
       "      <td>37564</td>\n",
       "      <td>0</td>\n",
       "      <td>0</td>\n",
       "    </tr>\n",
       "    <tr>\n",
       "      <th>1</th>\n",
       "      <td>3406</td>\n",
       "      <td>492490 - 491896</td>\n",
       "      <td>2</td>\n",
       "      <td>1</td>\n",
       "      <td>1108</td>\n",
       "      <td>None</td>\n",
       "      <td>None</td>\n",
       "      <td>38.074487</td>\n",
       "      <td>None</td>\n",
       "      <td>None</td>\n",
       "      <td>...</td>\n",
       "      <td>None</td>\n",
       "      <td>492490</td>\n",
       "      <td>491896</td>\n",
       "      <td>491896</td>\n",
       "      <td>0.0</td>\n",
       "      <td>286.6</td>\n",
       "      <td>46951</td>\n",
       "      <td>37564</td>\n",
       "      <td>0</td>\n",
       "      <td>0</td>\n",
       "    </tr>\n",
       "    <tr>\n",
       "      <th>2</th>\n",
       "      <td>5680</td>\n",
       "      <td>492493 - 491896</td>\n",
       "      <td>3</td>\n",
       "      <td>1</td>\n",
       "      <td>1108</td>\n",
       "      <td>None</td>\n",
       "      <td>None</td>\n",
       "      <td>39.530488</td>\n",
       "      <td>None</td>\n",
       "      <td>None</td>\n",
       "      <td>...</td>\n",
       "      <td>None</td>\n",
       "      <td>492493</td>\n",
       "      <td>491896</td>\n",
       "      <td>491896</td>\n",
       "      <td>0.0</td>\n",
       "      <td>286.6</td>\n",
       "      <td>46951</td>\n",
       "      <td>37564</td>\n",
       "      <td>0</td>\n",
       "      <td>0</td>\n",
       "    </tr>\n",
       "    <tr>\n",
       "      <th>3</th>\n",
       "      <td>7941</td>\n",
       "      <td>492632 - 491896</td>\n",
       "      <td>4</td>\n",
       "      <td>1</td>\n",
       "      <td>1108</td>\n",
       "      <td>None</td>\n",
       "      <td>None</td>\n",
       "      <td>38.741992</td>\n",
       "      <td>None</td>\n",
       "      <td>None</td>\n",
       "      <td>...</td>\n",
       "      <td>None</td>\n",
       "      <td>492632</td>\n",
       "      <td>491896</td>\n",
       "      <td>491896</td>\n",
       "      <td>0.0</td>\n",
       "      <td>286.6</td>\n",
       "      <td>46951</td>\n",
       "      <td>37564</td>\n",
       "      <td>0</td>\n",
       "      <td>0</td>\n",
       "    </tr>\n",
       "    <tr>\n",
       "      <th>4</th>\n",
       "      <td>9130</td>\n",
       "      <td>491859 - 491896</td>\n",
       "      <td>5</td>\n",
       "      <td>1</td>\n",
       "      <td>31</td>\n",
       "      <td>None</td>\n",
       "      <td>None</td>\n",
       "      <td>8.572034</td>\n",
       "      <td>None</td>\n",
       "      <td>None</td>\n",
       "      <td>...</td>\n",
       "      <td>None</td>\n",
       "      <td>491859</td>\n",
       "      <td>491896</td>\n",
       "      <td>491896</td>\n",
       "      <td>0.0</td>\n",
       "      <td>286.6</td>\n",
       "      <td>46951</td>\n",
       "      <td>37564</td>\n",
       "      <td>0</td>\n",
       "      <td>0</td>\n",
       "    </tr>\n",
       "  </tbody>\n",
       "</table>\n",
       "<p>5 rows × 22 columns</p>\n",
       "</div>"
      ],
      "text/plain": [
       "   ObjectID             Name  OriginID  DestinationID  DestinationRank  \\\n",
       "0         1  491896 - 491896         1              1                1   \n",
       "1      3406  492490 - 491896         2              1             1108   \n",
       "2      5680  492493 - 491896         3              1             1108   \n",
       "3      7941  492632 - 491896         4              1             1108   \n",
       "4      9130  491859 - 491896         5              1               31   \n",
       "\n",
       "  Total_Mins_BikeOnly Total_Mins_BikeTransitOnly  Total_Mins_DriveOnly  \\\n",
       "0                None                       None              0.000000   \n",
       "1                None                       None             38.074487   \n",
       "2                None                       None             39.530488   \n",
       "3                None                       None             38.741992   \n",
       "4                None                       None              8.572034   \n",
       "\n",
       "  Total_Mins_PedOnly Total_Mins_PedTransitOnly  ... SHAPE Origin_CO_TAZID  \\\n",
       "0               None                      None  ...  None          491896   \n",
       "1               None                      None  ...  None          492490   \n",
       "2               None                      None  ...  None          492493   \n",
       "3               None                      None  ...  None          492632   \n",
       "4               None                      None  ...  None          491859   \n",
       "\n",
       "  Dest_CO_TAZID  CO_TAZID  HH_19  JOB_19  JOBAUTO_19  HHAUTO_19  \\\n",
       "0        491896    491896    0.0   286.6       46951      37564   \n",
       "1        491896    491896    0.0   286.6       46951      37564   \n",
       "2        491896    491896    0.0   286.6       46951      37564   \n",
       "3        491896    491896    0.0   286.6       46951      37564   \n",
       "4        491896    491896    0.0   286.6       46951      37564   \n",
       "\n",
       "   JOBTRANSIT_19  HHTRANSIT_19  \n",
       "0              0             0  \n",
       "1              0             0  \n",
       "2              0             0  \n",
       "3              0             0  \n",
       "4              0             0  \n",
       "\n",
       "[5 rows x 22 columns]"
      ]
     },
     "execution_count": 12,
     "metadata": {},
     "output_type": "execute_result"
    }
   ],
   "source": [
    "df.head()"
   ]
  },
  {
   "cell_type": "code",
   "execution_count": 13,
   "metadata": {},
   "outputs": [],
   "source": [
    "# Weight outputs\n",
    "\n",
    "if mode == 'Driving':\n",
    "    df['travel_time'] = df['Total_Mins_DriveOnly']\n",
    "elif mode == 'Transit':\n",
    "    df['travel_time'] = df['Total_Mins_PedTransitOnly']\n",
    "\n",
    "df['survey_weight'] = df['travel_time'].apply(lambda x: survey_weight(x))\n",
    "df['survey_weight'] = df['survey_weight'].round(3)\n",
    "\n",
    "df['weighted_jobs'] = df['survey_weight'] * df['JOB_19']\n",
    "df['weighted_hh'] = df['survey_weight'] * df['HH_19']\n",
    "df['weighted_jobs'] = round(df['weighted_jobs'])\n",
    "df['weighted_hh'] = round(df['weighted_hh'])\n",
    "\n",
    "df['ato'] = df['weighted_jobs'] + df['weighted_hh']"
   ]
  },
  {
   "cell_type": "code",
   "execution_count": 14,
   "metadata": {},
   "outputs": [],
   "source": [
    "# write to disk\n",
    "df[['Name', 'Origin_CO_TAZID', 'Dest_CO_TAZID', 'travel_time', 'survey_weight',\n",
    "         'weighted_jobs', 'weighted_hh', 'ato']].to_csv(output_file + '.csv')"
   ]
  },
  {
   "cell_type": "code",
   "execution_count": 15,
   "metadata": {},
   "outputs": [],
   "source": [
    "taz_summary = df.groupby('Origin_CO_TAZID').agg(\n",
    "    jobs=pd.NamedAgg(column='weighted_jobs', aggfunc=sum),\n",
    "    hh=pd.NamedAgg(column='weighted_hh', aggfunc=sum)\n",
    ")\n",
    "taz_summary['ato'] = taz_summary['jobs'] + taz_summary['hh']\n",
    "taz_summary.to_csv(output_file + '_summary.csv')"
   ]
  },
  {
   "cell_type": "code",
   "execution_count": null,
   "metadata": {},
   "outputs": [],
   "source": []
  },
  {
   "cell_type": "raw",
   "metadata": {
    "scrolled": false
   },
   "source": [
    "# Add Origins\n",
    "origin_options = \"Name CO_TAZID #;TargetDestinationCount # #;CurbApproach # 0;Cutoff_Mins_BikeOnly # #;Cutoff_Mins_BikeTransitOnly # #;Cutoff_Mins_DriveOnly # #;Cutoff_Mins_PedOnly # #;Cutoff_Mins_PedTransitOnly # #;Cutoff_Mins_TransitOnly # #;Cutoff_Miles # #\"\n",
    "\n",
    "arcpy.na.AddLocations(\n",
    "    in_network_analysis_layer = \"OD Cost Matrix\",\n",
    "    sub_layer = \"Origins\", \n",
    "    in_table = centroids, \n",
    "    field_mappings = origin_options, \n",
    "    search_tolerance = \"10000 Meters\",\n",
    "    search_criteria = [[\"BikePedAuto\",\"SHAPE\"],\n",
    "                        [\"ConnectorNetwork\",\"NONE\"],\n",
    "                        [\"NetworkDataset_ND_Junctions\",\"NONE\"],\n",
    "                        [\"TransitRoutes\",\"NONE\"],\n",
    "                        [\"TransitStops\",\"NONE\"]], \n",
    "    match_type = \"Priority\",\n",
    "    snap_to_position_along_network = \"NO_SNAP\", # input points are already snapped\n",
    "    snap_offset = \"0 Meters\",\n",
    "    exclude_restricted_elements = \"EXCLUDE\"\n",
    ")"
   ]
  },
  {
   "cell_type": "raw",
   "metadata": {
    "scrolled": false
   },
   "source": [
    "# Add Destinations\n",
    "arcpy.na.AddLocations(\n",
    "    in_network_analysis_layer = \"OD Cost Matrix\",\n",
    "    sub_layer = \"Destinations\", \n",
    "    in_table = centroids, \n",
    "    field_mappings = \"Name CO_TAZID #;CurbApproach # 0\", \n",
    "    search_tolerance = \"10000 Meters\", \n",
    "    search_criteria  = [[\"BikePedAuto\",\"SHAPE\"],\n",
    "                        [\"ConnectorNetwork\",\"NONE\"],\n",
    "                       [\"NetworkDataset_ND_Junctions\",\"NONE\"],\n",
    "                       [\"TransitRoutes\",\"NONE\"],\n",
    "                       [\"TransitStops\",\"NONE\"]], \n",
    "    match_type = \"Priority\",\n",
    "    snap_to_position_along_network = \"NO_SNAP\",\n",
    "    snap_offset = \"0 Meters\",\n",
    "    exclude_restricted_elements = \"EXCLUDE\"\n",
    ")"
   ]
  }
 ],
 "metadata": {
  "kernelspec": {
   "display_name": "ArcGISPro",
   "language": "Python",
   "name": "python3"
  },
  "language_info": {
   "file_extension": ".py",
   "name": "python",
   "version": "3"
  }
 },
 "nbformat": 4,
 "nbformat_minor": 2
}
