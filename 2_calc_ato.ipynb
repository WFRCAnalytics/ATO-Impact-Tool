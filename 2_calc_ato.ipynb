{
 "cells": [
  {
   "cell_type": "markdown",
   "metadata": {},
   "source": [
    "## Calculate ATO for TAZ centroid(s)\n",
    "\n",
    "1. Run 1_setup_network.ipynb to create NetworkDataset_MM\n",
    "2. Create OD Cost Matrix Layer\n",
    "3. Add origin(s)\n",
    "4. Add destinations\n",
    "5. Solve\n",
    "6. Join attributes to solved Lines layer\n",
    "7. Weight HH and JOB by time decay\n",
    "8. Sum"
   ]
  },
  {
   "cell_type": "code",
   "execution_count": 68,
   "metadata": {},
   "outputs": [],
   "source": [
    "from arcgis.gis import GIS\n",
    "import arcpy\n",
    "import os\n",
    "\n",
    "from arcgis.features import SpatialDataFrame\n",
    "import pandas as pd\n",
    "# from arcgis.features import GeoAccessor, GeoSeriesAccessor\n",
    "\n",
    "def survey_weight(t):\n",
    "    if t <= 3:\n",
    "        return 1\n",
    "    elif (t > 3) & (t <= 20):\n",
    "        return -0.0382 * t + 1.1293\n",
    "    elif t > 20:\n",
    "        return 1/(1 + math.exp(0.1092 * t - 1.5604))\n",
    "    else:\n",
    "        return 0\n",
    "\n",
    "# Update this\n",
    "base_path = r\"c:\\wfrc\\ato\"\n",
    "\n",
    "base_gdb = os.path.join(base_path, \"ato.gdb\")"
   ]
  },
  {
   "cell_type": "code",
   "execution_count": 69,
   "metadata": {},
   "outputs": [],
   "source": [
    "# from 1_setup_network.ipynb\n",
    "\n",
    "# baseline\n",
    "arcpy.env.workspace = base_gdb\n",
    "input_network_dataset = os.path.join(base_gdb, r\"NetworkDataset\\NetworkDataset_ND\")\n",
    "output_file = \"driving_baseline\"\n",
    "\n",
    "\n",
    "# mod\n",
    "#target_gdb =  os.path.join(base_path, \"mod_drive.gdb\")\n",
    "#arcpy.env.workspace = target_gdb\n",
    "#input_network_dataset = os.path.join(target_gdb, r\"NetworkDataset\\NetworkDataset_ND\")\n",
    "#output_file = \"driving_mod\"\n",
    "\n",
    "mode = \"Driving\" # Driving | Transit"
   ]
  },
  {
   "cell_type": "code",
   "execution_count": 73,
   "metadata": {
    "scrolled": false
   },
   "outputs": [
    {
     "data": {
      "text/html": [
       "<h2>Output</h2>a Layer object<h2>Messages</h2>Start Time: Wednesday, September 1, 2021 9:38:09 PM<br/>New analysis data source feature dataset: C:\\wfrc\\ato\\ato.gdb\\ODCostMatrixw78e7w.<br/>Succeeded at Wednesday, September 1, 2021 9:38:12 PM (Elapsed Time: 3.73 seconds)<br/><style>.rendered_html td, .rendered_html th {text-align: left;}.rendered_html tbody {border: 1px solid black;}</style>"
      ],
      "text/plain": [
       "<Result 'OD Cost Matrix'>"
      ]
     },
     "execution_count": 73,
     "metadata": {},
     "output_type": "execute_result"
    }
   ],
   "source": [
    "# Create OD Cost Matrix Layers\n",
    "arcpy.na.MakeODCostMatrixAnalysisLayer(\n",
    "    network_data_source = input_network_dataset, \n",
    "    layer_name = \"OD Cost Matrix\", \n",
    "    travel_mode = mode, \n",
    "    cutoff = 60.0,\n",
    "    line_shape = \"NO_LINES\"\n",
    ")"
   ]
  },
  {
   "cell_type": "code",
   "execution_count": 75,
   "metadata": {
    "scrolled": false
   },
   "outputs": [
    {
     "data": {
      "text/html": [
       "<h2>Output</h2>a Layer object<h2>Messages</h2>Start Time: Wednesday, September 1, 2021 9:38:52 PM<br/>2858 features located out of 2858.<br/>Succeeded at Wednesday, September 1, 2021 9:38:55 PM (Elapsed Time: 3.74 seconds)<br/><style>.rendered_html td, .rendered_html th {text-align: left;}.rendered_html tbody {border: 1px solid black;}</style>"
      ],
      "text/plain": [
       "<Result 'OD Cost Matrix'>"
      ]
     },
     "execution_count": 75,
     "metadata": {},
     "output_type": "execute_result"
    }
   ],
   "source": [
    "# Add Origins\n",
    "origin_options = \"Name CO_TAZID #;TargetDestinationCount # #;CurbApproach # 0;Cutoff_Mins_BikeOnly # #;Cutoff_Mins_BikeTransitOnly # #;Cutoff_Mins_DriveOnly # #;Cutoff_Mins_PedOnly # #;Cutoff_Mins_PedTransitOnly # #;Cutoff_Mins_TransitOnly # #;Cutoff_Miles # #\"\n",
    "\n",
    "arcpy.na.AddLocations(\n",
    "    in_network_analysis_layer = \"OD Cost Matrix\",\n",
    "    sub_layer = \"Origins\", \n",
    "    in_table = os.path.join(base_path, r\"shp\\taz_wfrc.gdb\\taz_centroids_snapped\"), \n",
    "    field_mappings = origin_options, \n",
    "    search_tolerance = \"10000 Meters\", \n",
    "    search_criteria  = [[\"BikePedAuto\",\"SHAPE\"],\n",
    "                        [\"ConnectorNetwork\",\"NONE\"],\n",
    "                       [\"NetworkDataset_ND_Junctions\",\"NONE\"],\n",
    "                       [\"TransitRoutes\",\"NONE\"],\n",
    "                       [\"TransitStops\",\"NONE\"]], \n",
    "    match_type = \"Priority\",\n",
    "    snap_to_position_along_network = \"NO_SNAP\", # input points are already snapped\n",
    "    snap_offset = \"0 Meters\",\n",
    "    exclude_restricted_elements = \"EXCLUDE\"\n",
    ")"
   ]
  },
  {
   "cell_type": "code",
   "execution_count": 76,
   "metadata": {
    "scrolled": false
   },
   "outputs": [
    {
     "data": {
      "text/html": [
       "<h2>Output</h2>a Layer object<h2>Messages</h2>Start Time: Wednesday, September 1, 2021 9:38:59 PM<br/>2858 features located out of 2858.<br/>Succeeded at Wednesday, September 1, 2021 9:39:03 PM (Elapsed Time: 3.91 seconds)<br/><style>.rendered_html td, .rendered_html th {text-align: left;}.rendered_html tbody {border: 1px solid black;}</style>"
      ],
      "text/plain": [
       "<Result 'OD Cost Matrix'>"
      ]
     },
     "execution_count": 76,
     "metadata": {},
     "output_type": "execute_result"
    }
   ],
   "source": [
    "# Add Destinations\n",
    "arcpy.na.AddLocations(\n",
    "    in_network_analysis_layer = \"OD Cost Matrix\",\n",
    "    sub_layer = \"Destinations\", \n",
    "    in_table = os.path.join(base_path, r\"shp\\taz_wfrc.gdb\\taz_centroids_snapped\"), \n",
    "    field_mappings = \"Name CO_TAZID #;CurbApproach # 0\", \n",
    "    search_tolerance = \"10000 Meters\", \n",
    "    search_criteria  = [[\"BikePedAuto\",\"SHAPE\"],\n",
    "                        [\"ConnectorNetwork\",\"NONE\"],\n",
    "                       [\"NetworkDataset_ND_Junctions\",\"NONE\"],\n",
    "                       [\"TransitRoutes\",\"NONE\"],\n",
    "                       [\"TransitStops\",\"NONE\"]], \n",
    "    match_type = \"Priority\",\n",
    "    snap_to_position_along_network = \"NO_SNAP\",\n",
    "    snap_offset = \"0 Meters\",\n",
    "    exclude_restricted_elements = \"EXCLUDE\"\n",
    ")"
   ]
  },
  {
   "cell_type": "code",
   "execution_count": 77,
   "metadata": {
    "scrolled": false
   },
   "outputs": [
    {
     "name": "stdout",
     "output_type": "stream",
     "text": [
      "Wall time: 6min 21s\n"
     ]
    },
    {
     "data": {
      "text/html": [
       "<h2>Output</h2><table><tr><th>id</th><th>value</th></tr><tr><td>0</td><td>a Layer object</td></tr><tr><td>1</td><td>true</td></tr></table><h2>Messages</h2>Start Time: Wednesday, September 1, 2021 9:39:05 PM<br/>Succeeded at Wednesday, September 1, 2021 9:45:23 PM (Elapsed Time: 6 minutes 18 seconds)<br/><style>.rendered_html td, .rendered_html th {text-align: left;}.rendered_html tbody {border: 1px solid black;}</style>"
      ],
      "text/plain": [
       "<Result 'OD Cost Matrix'>"
      ]
     },
     "execution_count": 77,
     "metadata": {},
     "output_type": "execute_result"
    }
   ],
   "source": [
    "%%time\n",
    "# Solve\n",
    "arcpy.na.Solve(\"OD Cost Matrix\", \"SKIP\", \"TERMINATE\", None, '')"
   ]
  },
  {
   "cell_type": "code",
   "execution_count": 78,
   "metadata": {
    "scrolled": true
   },
   "outputs": [
    {
     "name": "stdout",
     "output_type": "stream",
     "text": [
      "Wall time: 20.7 s\n"
     ]
    }
   ],
   "source": [
    "%%time\n",
    "od = pd.DataFrame.spatial.from_featureclass(r\"OD Cost Matrix\\Lines\")"
   ]
  },
  {
   "cell_type": "code",
   "execution_count": 79,
   "metadata": {},
   "outputs": [
    {
     "data": {
      "text/html": [
       "<div>\n",
       "<style scoped>\n",
       "    .dataframe tbody tr th:only-of-type {\n",
       "        vertical-align: middle;\n",
       "    }\n",
       "\n",
       "    .dataframe tbody tr th {\n",
       "        vertical-align: top;\n",
       "    }\n",
       "\n",
       "    .dataframe thead th {\n",
       "        text-align: right;\n",
       "    }\n",
       "</style>\n",
       "<table border=\"1\" class=\"dataframe\">\n",
       "  <thead>\n",
       "    <tr style=\"text-align: right;\">\n",
       "      <th></th>\n",
       "      <th>ObjectID</th>\n",
       "      <th>Name</th>\n",
       "      <th>OriginID</th>\n",
       "      <th>DestinationID</th>\n",
       "      <th>DestinationRank</th>\n",
       "      <th>Total_Mins_BikeOnly</th>\n",
       "      <th>Total_Mins_BikeTransitOnly</th>\n",
       "      <th>Total_Mins_DriveOnly</th>\n",
       "      <th>Total_Mins_PedOnly</th>\n",
       "      <th>Total_Mins_PedTransitOnly</th>\n",
       "      <th>Total_Mins_TransitOnly</th>\n",
       "      <th>Total_Miles</th>\n",
       "      <th>SHAPE</th>\n",
       "    </tr>\n",
       "  </thead>\n",
       "  <tbody>\n",
       "    <tr>\n",
       "      <th>5889350</th>\n",
       "      <td>5889351</td>\n",
       "      <td>491801 - 350980</td>\n",
       "      <td>2858</td>\n",
       "      <td>756</td>\n",
       "      <td>1579</td>\n",
       "      <td>None</td>\n",
       "      <td>None</td>\n",
       "      <td>59.980180</td>\n",
       "      <td>None</td>\n",
       "      <td>None</td>\n",
       "      <td>None</td>\n",
       "      <td>None</td>\n",
       "      <td>None</td>\n",
       "    </tr>\n",
       "    <tr>\n",
       "      <th>5889351</th>\n",
       "      <td>5889352</td>\n",
       "      <td>491801 - 350768</td>\n",
       "      <td>2858</td>\n",
       "      <td>598</td>\n",
       "      <td>1580</td>\n",
       "      <td>None</td>\n",
       "      <td>None</td>\n",
       "      <td>59.980286</td>\n",
       "      <td>None</td>\n",
       "      <td>None</td>\n",
       "      <td>None</td>\n",
       "      <td>None</td>\n",
       "      <td>None</td>\n",
       "    </tr>\n",
       "    <tr>\n",
       "      <th>5889352</th>\n",
       "      <td>5889353</td>\n",
       "      <td>491801 - 351008</td>\n",
       "      <td>2858</td>\n",
       "      <td>784</td>\n",
       "      <td>1581</td>\n",
       "      <td>None</td>\n",
       "      <td>None</td>\n",
       "      <td>59.980945</td>\n",
       "      <td>None</td>\n",
       "      <td>None</td>\n",
       "      <td>None</td>\n",
       "      <td>None</td>\n",
       "      <td>None</td>\n",
       "    </tr>\n",
       "    <tr>\n",
       "      <th>5889353</th>\n",
       "      <td>5889354</td>\n",
       "      <td>491801 - 351276</td>\n",
       "      <td>2858</td>\n",
       "      <td>1004</td>\n",
       "      <td>1582</td>\n",
       "      <td>None</td>\n",
       "      <td>None</td>\n",
       "      <td>59.985345</td>\n",
       "      <td>None</td>\n",
       "      <td>None</td>\n",
       "      <td>None</td>\n",
       "      <td>None</td>\n",
       "      <td>None</td>\n",
       "    </tr>\n",
       "    <tr>\n",
       "      <th>5889354</th>\n",
       "      <td>5889355</td>\n",
       "      <td>491801 - 492562</td>\n",
       "      <td>2858</td>\n",
       "      <td>1874</td>\n",
       "      <td>1583</td>\n",
       "      <td>None</td>\n",
       "      <td>None</td>\n",
       "      <td>59.992509</td>\n",
       "      <td>None</td>\n",
       "      <td>None</td>\n",
       "      <td>None</td>\n",
       "      <td>None</td>\n",
       "      <td>None</td>\n",
       "    </tr>\n",
       "  </tbody>\n",
       "</table>\n",
       "</div>"
      ],
      "text/plain": [
       "         ObjectID             Name  ...  Total_Miles  SHAPE\n",
       "5889350   5889351  491801 - 350980  ...         None   None\n",
       "5889351   5889352  491801 - 350768  ...         None   None\n",
       "5889352   5889353  491801 - 351008  ...         None   None\n",
       "5889353   5889354  491801 - 351276  ...         None   None\n",
       "5889354   5889355  491801 - 492562  ...         None   None\n",
       "\n",
       "[5 rows x 13 columns]"
      ]
     },
     "execution_count": 79,
     "metadata": {},
     "output_type": "execute_result"
    }
   ],
   "source": [
    "od.tail()"
   ]
  },
  {
   "cell_type": "code",
   "execution_count": 80,
   "metadata": {
    "scrolled": true
   },
   "outputs": [
    {
     "name": "stdout",
     "output_type": "stream",
     "text": [
      "Wall time: 7.85 s\n"
     ]
    }
   ],
   "source": [
    "%%time\n",
    "od['Origin_CO_TAZID'] = od['Name'].apply(lambda x: int(x.split(' - ')[0]))\n",
    "od['Dest_CO_TAZID'] = od['Name'].apply(lambda x: int(x.split(' - ')[1]))"
   ]
  },
  {
   "cell_type": "code",
   "execution_count": 81,
   "metadata": {},
   "outputs": [],
   "source": [
    "taz = pd.DataFrame.spatial.from_featureclass(os.path.join(base_gdb, \"taz_ato\"))"
   ]
  },
  {
   "cell_type": "code",
   "execution_count": 82,
   "metadata": {
    "scrolled": true
   },
   "outputs": [],
   "source": [
    "taz = taz[['CO_TAZID', 'HH_19', 'JOB_19', 'JOBAUTO_19', 'HHAUTO_19', 'JOBTRANSIT_19', 'HHTRANSIT_19']]"
   ]
  },
  {
   "cell_type": "code",
   "execution_count": 83,
   "metadata": {},
   "outputs": [],
   "source": [
    "df = pd.merge(od, taz, left_on=\"Dest_CO_TAZID\", right_on=\"CO_TAZID\", )"
   ]
  },
  {
   "cell_type": "code",
   "execution_count": 84,
   "metadata": {},
   "outputs": [
    {
     "data": {
      "text/html": [
       "<div>\n",
       "<style scoped>\n",
       "    .dataframe tbody tr th:only-of-type {\n",
       "        vertical-align: middle;\n",
       "    }\n",
       "\n",
       "    .dataframe tbody tr th {\n",
       "        vertical-align: top;\n",
       "    }\n",
       "\n",
       "    .dataframe thead th {\n",
       "        text-align: right;\n",
       "    }\n",
       "</style>\n",
       "<table border=\"1\" class=\"dataframe\">\n",
       "  <thead>\n",
       "    <tr style=\"text-align: right;\">\n",
       "      <th></th>\n",
       "      <th>ObjectID</th>\n",
       "      <th>Name</th>\n",
       "      <th>OriginID</th>\n",
       "      <th>DestinationID</th>\n",
       "      <th>DestinationRank</th>\n",
       "      <th>Total_Mins_BikeOnly</th>\n",
       "      <th>Total_Mins_BikeTransitOnly</th>\n",
       "      <th>Total_Mins_DriveOnly</th>\n",
       "      <th>Total_Mins_PedOnly</th>\n",
       "      <th>Total_Mins_PedTransitOnly</th>\n",
       "      <th>Total_Mins_TransitOnly</th>\n",
       "      <th>Total_Miles</th>\n",
       "      <th>SHAPE</th>\n",
       "      <th>Origin_CO_TAZID</th>\n",
       "      <th>Dest_CO_TAZID</th>\n",
       "      <th>CO_TAZID</th>\n",
       "      <th>HH_19</th>\n",
       "      <th>JOB_19</th>\n",
       "      <th>JOBAUTO_19</th>\n",
       "      <th>HHAUTO_19</th>\n",
       "      <th>JOBTRANSIT_19</th>\n",
       "      <th>HHTRANSIT_19</th>\n",
       "    </tr>\n",
       "  </thead>\n",
       "  <tbody>\n",
       "    <tr>\n",
       "      <th>0</th>\n",
       "      <td>1</td>\n",
       "      <td>491896 - 491896</td>\n",
       "      <td>1</td>\n",
       "      <td>1</td>\n",
       "      <td>1</td>\n",
       "      <td>None</td>\n",
       "      <td>None</td>\n",
       "      <td>0.000000</td>\n",
       "      <td>None</td>\n",
       "      <td>None</td>\n",
       "      <td>None</td>\n",
       "      <td>None</td>\n",
       "      <td>None</td>\n",
       "      <td>491896</td>\n",
       "      <td>491896</td>\n",
       "      <td>491896</td>\n",
       "      <td>0.0</td>\n",
       "      <td>286.6</td>\n",
       "      <td>46951</td>\n",
       "      <td>37564</td>\n",
       "      <td>0</td>\n",
       "      <td>0</td>\n",
       "    </tr>\n",
       "    <tr>\n",
       "      <th>1</th>\n",
       "      <td>3417</td>\n",
       "      <td>492490 - 491896</td>\n",
       "      <td>2</td>\n",
       "      <td>1</td>\n",
       "      <td>1127</td>\n",
       "      <td>None</td>\n",
       "      <td>None</td>\n",
       "      <td>38.997650</td>\n",
       "      <td>None</td>\n",
       "      <td>None</td>\n",
       "      <td>None</td>\n",
       "      <td>None</td>\n",
       "      <td>None</td>\n",
       "      <td>492490</td>\n",
       "      <td>491896</td>\n",
       "      <td>491896</td>\n",
       "      <td>0.0</td>\n",
       "      <td>286.6</td>\n",
       "      <td>46951</td>\n",
       "      <td>37564</td>\n",
       "      <td>0</td>\n",
       "      <td>0</td>\n",
       "    </tr>\n",
       "    <tr>\n",
       "      <th>2</th>\n",
       "      <td>5687</td>\n",
       "      <td>492493 - 491896</td>\n",
       "      <td>3</td>\n",
       "      <td>1</td>\n",
       "      <td>1127</td>\n",
       "      <td>None</td>\n",
       "      <td>None</td>\n",
       "      <td>40.453651</td>\n",
       "      <td>None</td>\n",
       "      <td>None</td>\n",
       "      <td>None</td>\n",
       "      <td>None</td>\n",
       "      <td>None</td>\n",
       "      <td>492493</td>\n",
       "      <td>491896</td>\n",
       "      <td>491896</td>\n",
       "      <td>0.0</td>\n",
       "      <td>286.6</td>\n",
       "      <td>46951</td>\n",
       "      <td>37564</td>\n",
       "      <td>0</td>\n",
       "      <td>0</td>\n",
       "    </tr>\n",
       "    <tr>\n",
       "      <th>3</th>\n",
       "      <td>7943</td>\n",
       "      <td>492632 - 491896</td>\n",
       "      <td>4</td>\n",
       "      <td>1</td>\n",
       "      <td>1127</td>\n",
       "      <td>None</td>\n",
       "      <td>None</td>\n",
       "      <td>39.740380</td>\n",
       "      <td>None</td>\n",
       "      <td>None</td>\n",
       "      <td>None</td>\n",
       "      <td>None</td>\n",
       "      <td>None</td>\n",
       "      <td>492632</td>\n",
       "      <td>491896</td>\n",
       "      <td>491896</td>\n",
       "      <td>0.0</td>\n",
       "      <td>286.6</td>\n",
       "      <td>46951</td>\n",
       "      <td>37564</td>\n",
       "      <td>0</td>\n",
       "      <td>0</td>\n",
       "    </tr>\n",
       "    <tr>\n",
       "      <th>4</th>\n",
       "      <td>9111</td>\n",
       "      <td>491859 - 491896</td>\n",
       "      <td>5</td>\n",
       "      <td>1</td>\n",
       "      <td>32</td>\n",
       "      <td>None</td>\n",
       "      <td>None</td>\n",
       "      <td>8.768959</td>\n",
       "      <td>None</td>\n",
       "      <td>None</td>\n",
       "      <td>None</td>\n",
       "      <td>None</td>\n",
       "      <td>None</td>\n",
       "      <td>491859</td>\n",
       "      <td>491896</td>\n",
       "      <td>491896</td>\n",
       "      <td>0.0</td>\n",
       "      <td>286.6</td>\n",
       "      <td>46951</td>\n",
       "      <td>37564</td>\n",
       "      <td>0</td>\n",
       "      <td>0</td>\n",
       "    </tr>\n",
       "  </tbody>\n",
       "</table>\n",
       "</div>"
      ],
      "text/plain": [
       "   ObjectID             Name  OriginID  ...  HHAUTO_19  JOBTRANSIT_19 HHTRANSIT_19\n",
       "0         1  491896 - 491896         1  ...      37564              0            0\n",
       "1      3417  492490 - 491896         2  ...      37564              0            0\n",
       "2      5687  492493 - 491896         3  ...      37564              0            0\n",
       "3      7943  492632 - 491896         4  ...      37564              0            0\n",
       "4      9111  491859 - 491896         5  ...      37564              0            0\n",
       "\n",
       "[5 rows x 22 columns]"
      ]
     },
     "execution_count": 84,
     "metadata": {},
     "output_type": "execute_result"
    }
   ],
   "source": [
    "df.head()"
   ]
  },
  {
   "cell_type": "code",
   "execution_count": 85,
   "metadata": {},
   "outputs": [],
   "source": [
    "# Weight outputs\n",
    "\n",
    "if mode == 'Driving':\n",
    "    df['travel_time'] = df['Total_Mins_DriveOnly']\n",
    "elif mode == 'Transit':\n",
    "    df['travel_time'] = df['Total_Mins_PedTransitOnly']\n",
    "\n",
    "df['survey_weight'] = df['travel_time'].apply(lambda x: survey_weight(x))\n",
    "df['survey_weight'] = df['survey_weight'].round(3)\n",
    "\n",
    "df['weighted_jobs'] = df['survey_weight'] * df['JOB_19']\n",
    "df['weighted_hh'] = df['survey_weight'] * df['HH_19']\n",
    "df['weighted_jobs'] = round(df['weighted_jobs'])\n",
    "df['weighted_hh'] = round(df['weighted_hh'])\n",
    "\n",
    "df['ato'] = df['weighted_jobs'] + df['weighted_hh']"
   ]
  },
  {
   "cell_type": "code",
   "execution_count": 86,
   "metadata": {},
   "outputs": [],
   "source": [
    "# write to disk\n",
    "df[['Name', 'Origin_CO_TAZID', 'Dest_CO_TAZID', 'travel_time', 'survey_weight',\n",
    "         'weighted_jobs', 'weighted_hh', 'ato']].to_csv(output_file + '.csv')"
   ]
  },
  {
   "cell_type": "code",
   "execution_count": 87,
   "metadata": {},
   "outputs": [],
   "source": [
    "taz_summary = df.groupby('Origin_CO_TAZID').agg(\n",
    "    jobs=pd.NamedAgg(column='weighted_jobs', aggfunc=sum),\n",
    "    hh=pd.NamedAgg(column='weighted_hh', aggfunc=sum)\n",
    ")\n",
    "taz_summary['ato'] = taz_summary['jobs'] + taz_summary['hh']\n",
    "taz_summary.to_csv(output_file + '_summary.csv')"
   ]
  },
  {
   "cell_type": "code",
   "execution_count": null,
   "metadata": {},
   "outputs": [],
   "source": []
  }
 ],
 "metadata": {
  "kernelspec": {
   "display_name": "ArcGISPro",
   "language": "Python",
   "name": "python3"
  },
  "language_info": {
   "file_extension": ".py",
   "name": "python",
   "version": "3"
  }
 },
 "nbformat": 4,
 "nbformat_minor": 2
}
