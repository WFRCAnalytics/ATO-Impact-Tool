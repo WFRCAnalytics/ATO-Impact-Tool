{
 "cells": [
  {
   "cell_type": "markdown",
   "metadata": {},
   "source": [
    "## Calculate ATO for TAZ centroid(s)\n",
    "\n",
    "1. Run 1_setup_network.ipynb to create NetworkDataset_MM\n",
    "2. Create OD Cost Matrix Layer\n",
    "3. Add origin(s)\n",
    "4. Add destinations\n",
    "5. Solve\n",
    "6. Join attributes to solved Lines layer\n",
    "7. Weight HH and JOB by time decay\n",
    "8. Sum"
   ]
  },
  {
   "cell_type": "code",
   "execution_count": null,
   "metadata": {},
   "outputs": [],
   "source": [
    "import arcpy\n",
    "import os\n",
    "\n",
    "arcpy.CheckOutExtension(\"network\")\n",
    "\n",
    "from arcgis.features import SpatialDataFrame\n",
    "import pandas as pd\n",
    "# from arcgis.features import GeoAccessor, GeoSeriesAccessor\n",
    "\n",
    "def survey_weight(t):\n",
    "    if t <= 3:\n",
    "        return 1\n",
    "    elif (t > 3) & (t <= 20):\n",
    "        return -0.0382 * t + 1.1293\n",
    "    elif t > 20:\n",
    "        return 1/(1 + math.exp(0.1092 * t - 1.5604))\n",
    "    else:\n",
    "        return 0\n",
    "\n",
    "base_path = os.path.abspath(\".\")\n",
    "base_gdb = os.path.join(base_path, \"base.gdb\")\n",
    "\n",
    "arcpy.env.workspace = base_gdb\n",
    "\n",
    "# Set to True to limit to ~30 TAZs\n",
    "testing = True\n",
    "\n",
    "# Set to \"scenario_auto\" to evaluate the mod_drive network\n",
    "network = \"baseline\"\n",
    "#network = \"mod\"\n",
    "\n",
    "#mode = \"Driving\" \n",
    "mode = \"Transit\""
   ]
  },
  {
   "cell_type": "code",
   "execution_count": null,
   "metadata": {},
   "outputs": [],
   "source": [
    "if testing:\n",
    "    centroids = os.path.join(base_path, r\"shp\\taz_wfrc.gdb\\taz_centroids_sample\")\n",
    "else:\n",
    "    centroids = os.path.join(base_path, r\"shp\\taz_wfrc.gdb\\taz_centroids_snapped\")\n",
    "\n",
    "output_file = mode + '_' + network\n",
    "if network == \"baseline\":\n",
    "    # baseline\n",
    "    input_network_dataset = os.path.join(base_gdb, r\"NetworkDataset\\NetworkDataset_ND\")\n",
    "elif network == \"mod\":\n",
    "    # mod\n",
    "    target_gdb =  os.path.join(base_path, \"mod.gdb\")\n",
    "    arcpy.env.workspace = target_gdb\n",
    "    input_network_dataset = os.path.join(target_gdb, r\"NetworkDataset\\NetworkDataset_ND\")\n",
    "else:\n",
    "    print(\"Please choose a valid input\")"
   ]
  },
  {
   "cell_type": "code",
   "execution_count": null,
   "metadata": {
    "scrolled": true
   },
   "outputs": [],
   "source": [
    "# Create OD Cost Matrix Layers\n",
    "arcpy.na.MakeODCostMatrixAnalysisLayer(\n",
    "    network_data_source = input_network_dataset, \n",
    "    layer_name = \"OD Cost Matrix\", \n",
    "    travel_mode = mode, \n",
    "    cutoff = 60.0,\n",
    "    line_shape = \"NO_LINES\"\n",
    ")"
   ]
  },
  {
   "cell_type": "code",
   "execution_count": null,
   "metadata": {},
   "outputs": [],
   "source": [
    "# add ODs for simple network\n",
    "arcpy.na.AddLocations(\n",
    "    \"OD Cost Matrix\", \n",
    "    \"Origins\",\n",
    "    centroids, \n",
    "    \"Name CO_TAZID #;TargetDestinationCount # #;CurbApproach # 0;Cutoff_Length # #;Cutoff_Mins_DriveTime # #\", \n",
    "    \"10000 Meters\"\n",
    ")\n",
    "arcpy.na.AddLocations(\n",
    "    \"OD Cost Matrix\", \n",
    "    \"Destinations\", \n",
    "    centroids, \n",
    "    \"Name CO_TAZID #;CurbApproach # 0\", \n",
    "    \"10000 Meters\"\n",
    ")"
   ]
  },
  {
   "cell_type": "code",
   "execution_count": null,
   "metadata": {
    "scrolled": false
   },
   "outputs": [],
   "source": [
    "%%time\n",
    "# Solve\n",
    "arcpy.na.Solve(\"OD Cost Matrix\", \"SKIP\", \"TERMINATE\", None, '')"
   ]
  },
  {
   "cell_type": "code",
   "execution_count": null,
   "metadata": {
    "scrolled": true
   },
   "outputs": [],
   "source": [
    "%%time\n",
    "od = pd.DataFrame.spatial.from_featureclass(r\"OD Cost Matrix\\Lines\")"
   ]
  },
  {
   "cell_type": "code",
   "execution_count": null,
   "metadata": {
    "scrolled": true
   },
   "outputs": [],
   "source": [
    "od.head()"
   ]
  },
  {
   "cell_type": "code",
   "execution_count": null,
   "metadata": {
    "scrolled": true
   },
   "outputs": [],
   "source": [
    "# if the network is broken this will fail\n",
    "# if fails, try deleting and rebuilding network - this usually fixes things. Esri weirdness!\n",
    "assert od['Total_Mins_DriveOnly'].sum() > 100 or od['Total_Mins_PedTransitOnly'].sum() > 100"
   ]
  },
  {
   "cell_type": "code",
   "execution_count": null,
   "metadata": {
    "scrolled": false
   },
   "outputs": [],
   "source": [
    "%%time\n",
    "od['Origin_CO_TAZID'] = od['Name'].apply(lambda x: int(x.split(' - ')[0]))\n",
    "od['Dest_CO_TAZID'] = od['Name'].apply(lambda x: int(x.split(' - ')[1]))"
   ]
  },
  {
   "cell_type": "code",
   "execution_count": null,
   "metadata": {},
   "outputs": [],
   "source": [
    "taz = pd.DataFrame.spatial.from_featureclass(os.path.join(r\"shp\\taz_wfrc.gdb\", \"ATO\"))"
   ]
  },
  {
   "cell_type": "code",
   "execution_count": null,
   "metadata": {
    "scrolled": true
   },
   "outputs": [],
   "source": [
    "taz = taz[['CO_TAZID', 'HH_19', 'JOB_19', 'JOBAUTO_19', 'HHAUTO_19', 'JOBTRANSIT_19', 'HHTRANSIT_19']]"
   ]
  },
  {
   "cell_type": "code",
   "execution_count": null,
   "metadata": {},
   "outputs": [],
   "source": [
    "df = pd.merge(od, taz, left_on=\"Dest_CO_TAZID\", right_on=\"CO_TAZID\", )"
   ]
  },
  {
   "cell_type": "code",
   "execution_count": null,
   "metadata": {},
   "outputs": [],
   "source": [
    "# Weight outputs\n",
    "\n",
    "if mode == 'Driving':\n",
    "    df['travel_time'] = df['Total_Mins_DriveOnly']\n",
    "elif mode == 'Transit':\n",
    "    df['travel_time'] = df['Total_Mins_PedTransitOnly']\n",
    "\n",
    "df['survey_weight'] = df['travel_time'].apply(lambda x: survey_weight(x))\n",
    "df['survey_weight'] = df['survey_weight'].round(3)\n",
    "\n",
    "df['weighted_jobs'] = df['survey_weight'] * df['JOB_19']\n",
    "df['weighted_hh'] = df['survey_weight'] * df['HH_19']\n",
    "df['weighted_jobs'] = round(df['weighted_jobs'])\n",
    "df['weighted_hh'] = round(df['weighted_hh'])\n",
    "\n",
    "df['ato'] = df['weighted_jobs'] + df['weighted_hh']"
   ]
  },
  {
   "cell_type": "code",
   "execution_count": null,
   "metadata": {},
   "outputs": [],
   "source": [
    "# write to disk\n",
    "df[['Name', 'Origin_CO_TAZID', 'Dest_CO_TAZID', 'travel_time', 'survey_weight',\n",
    "         'weighted_jobs', 'weighted_hh', 'ato']].to_csv(output_file + '.csv')"
   ]
  },
  {
   "cell_type": "code",
   "execution_count": null,
   "metadata": {},
   "outputs": [],
   "source": [
    "taz_summary = df.groupby('Origin_CO_TAZID').agg(\n",
    "    jobs=pd.NamedAgg(column='weighted_jobs', aggfunc=sum),\n",
    "    hh=pd.NamedAgg(column='weighted_hh', aggfunc=sum)\n",
    ")\n",
    "taz_summary['ato'] = taz_summary['jobs'] + taz_summary['hh']\n",
    "taz_summary.to_csv(output_file + '_summary.csv')"
   ]
  },
  {
   "cell_type": "code",
   "execution_count": null,
   "metadata": {},
   "outputs": [],
   "source": []
  }
 ],
 "metadata": {
  "kernelspec": {
   "display_name": "ArcGISPro",
   "language": "Python",
   "name": "python3"
  },
  "language_info": {
   "file_extension": ".py",
   "name": "python",
   "version": "3"
  }
 },
 "nbformat": 4,
 "nbformat_minor": 2
}
