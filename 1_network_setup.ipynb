{
 "cells": [
  {
   "cell_type": "markdown",
   "metadata": {},
   "source": [
    "## Network Setup\n",
    "\n",
    "1. Download Multimodal network dataset from [https://gis.utah.gov/data/transportation/street-network-analysis/]\n",
    "2. Download Wasatch Front TAZs from WFRC [https://data.wfrc.org/datasets/access-to-opportunities-work-related-taz-based/] (https://data.wfrc.org/datasets/access-to-opportunities-work-related-taz-based/)\n",
    "2. Copy the Multimodal network dataset and delete the layers that will be replaced with clipped versions\n",
    "3. Clip the NetworkDataset>BikePedAuto and NetworkDataset>Network_Dataset_ND_Junctions layers using 15 mile buffer around the Wasatch Front TAZ layer\n",
    "4. Create and fill RoadClass attribute to a usable hierarchy value\n",
    "5. Join the TDM data for speeds\n",
    "\n",
    "\n",
    "** Note: sometimes sequential execution of the cells below will produce a \"Cannot acquire a lock\" error. If this happens, just re-run the cell. Esri weirdness! **\n",
    "\n",
    "\n",
    "## TAZ Centroids\n",
    "\n",
    "Calculate a centroid point for each TAZ from the TAZ shapefile. If you have an \"Advanced\" license of ArcGIS Pro you can do this with the \"Feature to Point\" tool. Otherwise, just fire up QGIS, open the TAZ layer, Go to the menu -> Vector -> Geometry tools -> polygon centroid and create a centroid point layer."
   ]
  },
  {
   "cell_type": "markdown",
   "metadata": {},
   "source": [
    "# Network Setup\n",
    "\n",
    "Vertical Elevation - the current dataset does not contain the necessary attributes to establish vertical connectivity. Elevation is not used.\n",
    "\n",
    "Hierarchy - oddly, adding a heirarchy for routing seems to worsen performance. Hierarchy is not used."
   ]
  },
  {
   "cell_type": "code",
   "execution_count": 42,
   "metadata": {},
   "outputs": [],
   "source": [
    "import arcpy\n",
    "import os\n",
    "\n",
    "# Update this\n",
    "base_path = r\"c:\\wfrc\\ato\"\n",
    "\n",
    "source_mm_network_dataset = os.path.join(base_path, r\"shp\\MM_NetworkDataset_08052021.gdb\\NetworkDataset\")\n",
    "tdm_shp_path = os.path.join(base_path, r\"shp\\Master_Segs_withFactors_20200504_BY2019SegSummary\\Master_Segs_withFactors_20200504_BY2019SegSummary.shp\")\n",
    "\n",
    "base_gdb = os.path.join(base_path, \"ato.gdb\")\n",
    "if not os.path.isdir(base_gdb):\n",
    "    arcpy.management.CreateFileGDB(base_path, \"ato\")\n",
    "\n",
    "arcpy.env.workspace = base_gdb"
   ]
  },
  {
   "cell_type": "raw",
   "metadata": {},
   "source": [
    "# copy TAZ polygons\n",
    "arcpy.management.Copy(\n",
    "    os.path.join(base_path, r\"shp\\taz_wfrc.gdb\\ATO\"), \n",
    "    os.path.join(base_gdb, \"taz_ato\")\n",
    ")\n",
    "# copy TAZ centroids\n",
    "# centroids created then snapped to BikePedAuto where AutoNetwork = 'Y' using QGIS\n",
    "# note, snapped centroids may not be within their original taz\n",
    "arcpy.management.Copy(\n",
    "    os.path.join(base_path, r\"shp\\taz_wfrc.gdb\\taz_centroids_snapped\"), \n",
    "    os.path.join(base_gdb, \"taz_centroids\")\n",
    ")\n",
    "# copy Draper TAZ centroids for testing\n",
    "#arcpy.management.Copy(\n",
    "#    os.path.join(base_path, r\"shp\\taz_wfrc.gdb\\taz_centroids_draper\"), \n",
    "#    os.path.join(base_gdb, \"taz_centroids_draper\")\n",
    "#)"
   ]
  },
  {
   "cell_type": "code",
   "execution_count": 43,
   "metadata": {
    "scrolled": false
   },
   "outputs": [
    {
     "data": {
      "text/html": [
       "<h2>Output</h2>c:\\wfrc\\ato\\ato.gdb\\NetworkDataset<h2>Messages</h2>Start Time: Friday, September 3, 2021 3:15:44 PM<br/>Succeeded at Friday, September 3, 2021 3:16:55 PM (Elapsed Time: 1 minutes 10 seconds)<br/><style>.rendered_html td, .rendered_html th {text-align: left;}.rendered_html tbody {border: 1px solid black;}</style>"
      ],
      "text/plain": [
       "<Result 'c:\\\\wfrc\\\\ato\\\\ato.gdb\\\\NetworkDataset'>"
      ]
     },
     "execution_count": 43,
     "metadata": {},
     "output_type": "execute_result"
    }
   ],
   "source": [
    "# Copy NetworkDataset to our working GDB\n",
    "arcpy.management.Copy(\n",
    "    source_mm_network_dataset, \n",
    "    os.path.join(base_gdb, \"NetworkDataset\")\n",
    ")"
   ]
  },
  {
   "cell_type": "code",
   "execution_count": 44,
   "metadata": {
    "scrolled": true
   },
   "outputs": [
    {
     "data": {
      "text/html": [
       "<h2>Output</h2>true<h2>Messages</h2>Start Time: Friday, September 3, 2021 3:16:58 PM<br/>Succeeded at Friday, September 3, 2021 3:17:00 PM (Elapsed Time: 1.83 seconds)<br/><style>.rendered_html td, .rendered_html th {text-align: left;}.rendered_html tbody {border: 1px solid black;}</style>"
      ],
      "text/plain": [
       "<Result 'true'>"
      ]
     },
     "execution_count": 44,
     "metadata": {},
     "output_type": "execute_result"
    }
   ],
   "source": [
    "# delete existing network\n",
    "arcpy.management.Delete(os.path.join(base_gdb, r\"NetworkDataset\\NetworkDataset_ND\"))"
   ]
  },
  {
   "cell_type": "code",
   "execution_count": 45,
   "metadata": {},
   "outputs": [
    {
     "data": {
      "text/html": [
       "<h2>Output</h2>C:\\wfrc\\ato\\ato.gdb\\NetworkDataset\\BikePedAuto<h2>Messages</h2>Start Time: Friday, September 3, 2021 3:17:02 PM<br/>WARNING 000012: hierarchy already exists<br/>Succeeded at Friday, September 3, 2021 3:17:02 PM (Elapsed Time: 0.15 seconds)<br/><style>.rendered_html td, .rendered_html th {text-align: left;}.rendered_html tbody {border: 1px solid black;}</style>"
      ],
      "text/plain": [
       "<Result 'C:\\\\wfrc\\\\ato\\\\ato.gdb\\\\NetworkDataset\\\\BikePedAuto'>"
      ]
     },
     "execution_count": 45,
     "metadata": {},
     "output_type": "execute_result"
    }
   ],
   "source": [
    "# add hierarchy to clipped BikePedAuto\n",
    "arcpy.AddField_management(r\"NetworkDataset\\BikePedAuto\", \"hierarchy\", \"SHORT\")"
   ]
  },
  {
   "cell_type": "code",
   "execution_count": 46,
   "metadata": {
    "scrolled": true
   },
   "outputs": [
    {
     "data": {
      "text/html": [
       "<h2>Output</h2>C:\\wfrc\\ato\\ato.gdb\\NetworkDataset\\BikePedAuto<h2>Messages</h2>Start Time: Friday, September 3, 2021 3:17:08 PM<br/>Succeeded at Friday, September 3, 2021 3:17:44 PM (Elapsed Time: 36.46 seconds)<br/><style>.rendered_html td, .rendered_html th {text-align: left;}.rendered_html tbody {border: 1px solid black;}</style>"
      ],
      "text/plain": [
       "<Result 'C:\\\\wfrc\\\\ato\\\\ato.gdb\\\\NetworkDataset\\\\BikePedAuto'>"
      ]
     },
     "execution_count": 46,
     "metadata": {},
     "output_type": "execute_result"
    }
   ],
   "source": [
    "# if this fails due to a \"lock\" error try running again\n",
    "# Set local variables\n",
    "inTable = r\"NetworkDataset\\BikePedAuto\"\n",
    "fieldName = \"hierarchy\"\n",
    "# note, this field was previously RoadClass and is now CartoCode\n",
    "expression = \"getClass(!CartoCode!)\"\n",
    "\n",
    "codeblock = \"\"\"\n",
    "hierarchy = {\n",
    "\t'1 Interstates': 1,\n",
    "\t'2 US Highways, Separated': 1,\n",
    "\t'3 - Paved Shared Use': 3,\n",
    "\t'3 US Highways, Unseparated': 1,\n",
    "\t'4 Major State Highways, Separated': 1,\n",
    "\t'5 Major State Highways, Unseparated': 1,\n",
    "\t'6 Other State Highways (Institutional)': 1,\n",
    "\t'7 Ramps, Collectors': 2,\n",
    "\t'8 - Bridge, Tunnel': 2,\n",
    "\t'8 Major Local Roads, Paved': 2,\n",
    "\t'9 - Link': 3,\n",
    "\t'9 Major Local Roads, Not Paved': 3,\n",
    "\t'10 Other Federal Aid Eligible Local Roads': 2,\n",
    "\t'11 Other Local, Neighborhood, Rural Roads': 3,\n",
    "\t'12 Other': 3,\n",
    "\t'13 Non-road feature': None,\n",
    "\t'14 Driveway': None,\n",
    "\t'15 Proposed': None,\n",
    "\t'17 Service Access Roads': None,\n",
    "\t'99 - UDOT FAE Calibration (Non-Road Feature)': None\n",
    "}\n",
    "def getClass(rc):\n",
    "    return 3 if rc is None else hierarchy[rc]\n",
    "\"\"\"\n",
    "\n",
    "# Execute CalculateField \n",
    "arcpy.CalculateField_management(inTable, fieldName, expression, \"PYTHON3\", codeblock)"
   ]
  },
  {
   "cell_type": "markdown",
   "metadata": {},
   "source": [
    "## manual intervention required\n",
    "\n",
    "* I'm not sure why, but it is now necessary to remove and add the BikePedAuto layer from the map before running the cells below"
   ]
  },
  {
   "cell_type": "code",
   "execution_count": 51,
   "metadata": {},
   "outputs": [
    {
     "data": {
      "text/html": [
       "<h2>Output</h2><table><tr><th>id</th><th>value</th></tr><tr><td>0</td><td>a Layer object</td></tr><tr><td>1</td><td>869</td></tr></table><h2>Messages</h2>Start Time: Friday, September 3, 2021 3:18:53 PM<br/>Succeeded at Friday, September 3, 2021 3:18:53 PM (Elapsed Time: 0.07 seconds)<br/><style>.rendered_html td, .rendered_html th {text-align: left;}.rendered_html tbody {border: 1px solid black;}</style>"
      ],
      "text/plain": [
       "<Result 'BikePedAuto'>"
      ]
     },
     "execution_count": 51,
     "metadata": {},
     "output_type": "execute_result"
    }
   ],
   "source": [
    "# Select non-road features\n",
    "arcpy.management.SelectLayerByAttribute(\n",
    "    \"BikePedAuto\", \n",
    "    \"NEW_SELECTION\", \n",
    "    \"hierarchy IS NULL\"\n",
    ")"
   ]
  },
  {
   "cell_type": "code",
   "execution_count": 48,
   "metadata": {},
   "outputs": [
    {
     "data": {
      "text/html": [
       "<h2>Output</h2>c:\\wfrc\\ato\\ato.gdb\\taz_buffer<h2>Messages</h2>Start Time: Friday, September 3, 2021 3:18:15 PM<br/>Succeeded at Friday, September 3, 2021 3:18:17 PM (Elapsed Time: 1.70 seconds)<br/><style>.rendered_html td, .rendered_html th {text-align: left;}.rendered_html tbody {border: 1px solid black;}</style>"
      ],
      "text/plain": [
       "<Result 'c:\\\\wfrc\\\\ato\\\\ato.gdb\\\\taz_buffer'>"
      ]
     },
     "execution_count": 48,
     "metadata": {},
     "output_type": "execute_result"
    }
   ],
   "source": [
    "# Create a 5 mile buffer\n",
    "arcpy.analysis.Buffer(\n",
    "    in_features = os.path.join(base_path, r\"shp\\taz_wfrc.gdb\\ATO\"),\n",
    "    out_feature_class = os.path.join(base_gdb, \"taz_buffer\"),\n",
    "    buffer_distance_or_field = \"5 Miles\",\n",
    "    dissolve_option = \"ALL\"\n",
    ")"
   ]
  },
  {
   "cell_type": "code",
   "execution_count": 52,
   "metadata": {},
   "outputs": [
    {
     "data": {
      "text/html": [
       "<h2>Output</h2><table><tr><th>id</th><th>value</th></tr><tr><td>0</td><td>a Layer object</td></tr><tr><td>1</td><td>BikePedAuto</td></tr><tr><td>2</td><td>11863</td></tr></table><h2>Messages</h2>Start Time: Friday, September 3, 2021 3:18:56 PM<br/>Succeeded at Friday, September 3, 2021 3:18:56 PM (Elapsed Time: 0.80 seconds)<br/><style>.rendered_html td, .rendered_html th {text-align: left;}.rendered_html tbody {border: 1px solid black;}</style>"
      ],
      "text/plain": [
       "<Result 'BikePedAuto'>"
      ]
     },
     "execution_count": 52,
     "metadata": {},
     "output_type": "execute_result"
    }
   ],
   "source": [
    "# Select all segments outside buffer\n",
    "arcpy.management.SelectLayerByLocation(\n",
    "    in_layer = \"BikePedAuto\",\n",
    "    overlap_type = 'INTERSECT', \n",
    "    select_features = os.path.join(base_gdb, \"taz_buffer\"),\n",
    "    selection_type = 'ADD_TO_SELECTION',\n",
    "    invert_spatial_relationship = True\n",
    ")"
   ]
  },
  {
   "cell_type": "code",
   "execution_count": 53,
   "metadata": {
    "scrolled": false
   },
   "outputs": [
    {
     "data": {
      "text/html": [
       "<h2>Output</h2>a Layer object<h2>Messages</h2>Start Time: Friday, September 3, 2021 3:18:58 PM<br/>Succeeded at Friday, September 3, 2021 3:18:59 PM (Elapsed Time: 0.58 seconds)<br/><style>.rendered_html td, .rendered_html th {text-align: left;}.rendered_html tbody {border: 1px solid black;}</style>"
      ],
      "text/plain": [
       "<Result 'BikePedAuto'>"
      ]
     },
     "execution_count": 53,
     "metadata": {},
     "output_type": "execute_result"
    }
   ],
   "source": [
    "arcpy.management.DeleteFeatures(\"BikePedAuto\")\n",
    "# sometimes this fails - removing from map and adding again seems to help"
   ]
  },
  {
   "cell_type": "code",
   "execution_count": 54,
   "metadata": {},
   "outputs": [
    {
     "data": {
      "text/html": [
       "<h2>Output</h2>true<h2>Messages</h2>Start Time: Friday, September 3, 2021 3:19:03 PM<br/>Succeeded at Friday, September 3, 2021 3:19:04 PM (Elapsed Time: 0.11 seconds)<br/><style>.rendered_html td, .rendered_html th {text-align: left;}.rendered_html tbody {border: 1px solid black;}</style>"
      ],
      "text/plain": [
       "<Result 'true'>"
      ]
     },
     "execution_count": 54,
     "metadata": {},
     "output_type": "execute_result"
    }
   ],
   "source": [
    "arcpy.management.Delete(os.path.join(base_gdb, \"taz_buffer\"))"
   ]
  },
  {
   "cell_type": "markdown",
   "metadata": {},
   "source": [
    "# Integrate\n",
    "\n",
    "To fix some issues where lines don't connect, highlight all features where AutoRoute == Y and then use the Pairwise Integrate tool on BikePedAuto. This will create a vertex (connection) at all line intersections. To avoid connecting overpasses, we unselect "
   ]
  },
  {
   "cell_type": "code",
   "execution_count": 55,
   "metadata": {},
   "outputs": [
    {
     "data": {
      "text/html": [
       "<h2>Output</h2>BikePedAuto<h2>Messages</h2>Start Time: Friday, September 3, 2021 3:19:06 PM<br/>Features were updated 2138 times.<br/>Succeeded at Friday, September 3, 2021 3:19:14 PM (Elapsed Time: 7.64 seconds)<br/><style>.rendered_html td, .rendered_html th {text-align: left;}.rendered_html tbody {border: 1px solid black;}</style>"
      ],
      "text/plain": [
       "<Result 'BikePedAuto'>"
      ]
     },
     "execution_count": 55,
     "metadata": {},
     "output_type": "execute_result"
    }
   ],
   "source": [
    "# Select non-road features\n",
    "arcpy.management.SelectLayerByAttribute(\n",
    "    \"BikePedAuto\", \n",
    "    \"NEW_SELECTION\", \n",
    "    \"AutoNetwork = 'Y' AND VERT_LEVEL = '0'\"\n",
    ")\n",
    "# pairwise integrate\n",
    "arcpy.analysis.PairwiseIntegrate(\"BikePedAuto\", None)"
   ]
  },
  {
   "cell_type": "code",
   "execution_count": 56,
   "metadata": {},
   "outputs": [
    {
     "data": {
      "text/html": [
       "<h2>Output</h2><table><tr><th>id</th><th>value</th></tr><tr><td>0</td><td>a Layer object</td></tr><tr><td>1</td><td>-1</td></tr></table><h2>Messages</h2>Start Time: Friday, September 3, 2021 3:19:17 PM<br/>Succeeded at Friday, September 3, 2021 3:19:17 PM (Elapsed Time: 0.03 seconds)<br/><style>.rendered_html td, .rendered_html th {text-align: left;}.rendered_html tbody {border: 1px solid black;}</style>"
      ],
      "text/plain": [
       "<Result 'BikePedAuto'>"
      ]
     },
     "execution_count": 56,
     "metadata": {},
     "output_type": "execute_result"
    }
   ],
   "source": [
    "arcpy.management.SelectLayerByAttribute(\n",
    "    \"BikePedAuto\", \n",
    "    \"CLEAR_SELECTION\",\n",
    ")"
   ]
  },
  {
   "cell_type": "markdown",
   "metadata": {},
   "source": [
    "### Join in Speed Data\n",
    "WFRC has provided free flow and peak hour speed data from their TDM. We will join this to the network dataset for later use when roughly estimating the short-term improvement in automobile mobility associated with roadway widening."
   ]
  },
  {
   "cell_type": "code",
   "execution_count": 57,
   "metadata": {},
   "outputs": [
    {
     "data": {
      "text/html": [
       "<h2>Output</h2>c:\\wfrc\\ato\\ato.gdb\\TDM<h2>Messages</h2>Start Time: Friday, September 3, 2021 3:19:17 PM<br/>Succeeded at Friday, September 3, 2021 3:19:19 PM (Elapsed Time: 1.23 seconds)<br/><style>.rendered_html td, .rendered_html th {text-align: left;}.rendered_html tbody {border: 1px solid black;}</style>"
      ],
      "text/plain": [
       "<Result 'c:\\\\wfrc\\\\ato\\\\ato.gdb\\\\TDM'>"
      ]
     },
     "execution_count": 57,
     "metadata": {},
     "output_type": "execute_result"
    }
   ],
   "source": [
    "arcpy.conversion.FeatureClassToFeatureClass(\n",
    "    tdm_shp_path,\n",
    "    base_gdb,\n",
    "    \"TDM\"\n",
    ")"
   ]
  },
  {
   "cell_type": "code",
   "execution_count": 58,
   "metadata": {},
   "outputs": [
    {
     "data": {
      "text/html": [
       "<h2>Output</h2>a Layer object<h2>Messages</h2>Start Time: Friday, September 3, 2021 3:19:19 PM<br/>Adding PK_SPD to TDM...<br/>Succeeded at Friday, September 3, 2021 3:19:20 PM (Elapsed Time: 0.48 seconds)<br/><style>.rendered_html td, .rendered_html th {text-align: left;}.rendered_html tbody {border: 1px solid black;}</style>"
      ],
      "text/plain": [
       "<Result 'TDM'>"
      ]
     },
     "execution_count": 58,
     "metadata": {},
     "output_type": "execute_result"
    }
   ],
   "source": [
    "# Create and calculate PK_SPD field based on minimum (peak time) speed\n",
    "arcpy.management.CalculateField(\n",
    "    \"TDM\", \n",
    "    \"PK_SPD\", \n",
    "    \"min(!AM_SPD!,!MD_SPD!,!PM_SPD!,!EV_SPD!)\", \n",
    "    \"PYTHON3\", '', \"DOUBLE\"\n",
    ")"
   ]
  },
  {
   "cell_type": "code",
   "execution_count": 59,
   "metadata": {},
   "outputs": [
    {
     "data": {
      "text/html": [
       "<h2>Output</h2>c:\\wfrc\\ato\\ato.gdb\\TDM_SpatialJoin<h2>Messages</h2>Start Time: Friday, September 3, 2021 3:19:20 PM<br/>Succeeded at Friday, September 3, 2021 3:19:34 PM (Elapsed Time: 14.09 seconds)<br/><style>.rendered_html td, .rendered_html th {text-align: left;}.rendered_html tbody {border: 1px solid black;}</style>"
      ],
      "text/plain": [
       "<Result 'c:\\\\wfrc\\\\ato\\\\ato.gdb\\\\TDM_SpatialJoin'>"
      ]
     },
     "execution_count": 59,
     "metadata": {},
     "output_type": "execute_result"
    }
   ],
   "source": [
    "# Spatially join TDM travel times to MM network:\n",
    "field_spec = \"\"\"Name \"Name\" true true false 50 Text 0 0,First,#,BikePedAuto,Name,0,50;\n",
    "Oneway \"Oneway\" true true false 2 Text 0 0,First,#,BikePedAuto,Oneway,0,2;\n",
    "Speed \"Speed\" true true false 2 Short 0 0,First,#,BikePedAuto,Speed,-1,-1;\n",
    "AutoNetwork \"AutoNetork\" true true false 1 Text 0 0,First,#,BikePedAuto,AutoNetwork,0,1;\n",
    "BikeNetwork \"BikeNetwork\" true true false 1 Text 0 0,First,#,BikePedAuto,BikeNetwork,0,1;\n",
    "PedNetwork \"PedNetwork\" true true false 1 Text 0 0,First,#,BikePedAuto,PedNetwork,0,1;\n",
    "SourceData \"SourceData\" true true false 15 Text 0 0,First,#,BikePedAuto,SourceData,0,15;\n",
    "DriveTime \"DriveTime\" true true false 8 Double 0 0,First,#,BikePedAuto,DriveTime,-1,-1;\n",
    "BikeTime \"BikeTime\" true true false 8 Double 0 0,First,#,BikePedAuto,BikeTime,-1,-1;\n",
    "PedestrianTime \"PedestrianTime\" true true false 8 Double 0 0,First,#,BikePedAuto,PedestrianTime,-1,-1;\n",
    "Length_Miles \"Length_Miles\" true true false 8 Double 0 0,First,#,BikePedAuto,Length_Miles,-1,-1;\n",
    "ConnectorNetwork \"ConnectorNetwork\" true true false 1 Text 0 0,First,#,BikePedAuto,ConnectorNetwork,0,1;\n",
    "CartoCode \"CartoCode\" true true false 50 Text 0 0,First,#,BikePedAuto,CartoCode,0,50;\n",
    "AADT \"AADT\" true true false 4 Long 0 0,First,#,BikePedAuto,AADT,-1,-1;\n",
    "AADT_YR \"AADT_YR\" true true false 4 Text 0 0,First,#,BikePedAuto,AADT_YR,0,4;\n",
    "BIKE_L \"BIKE_L\" true true false 4 Text 0 0,First,#,BikePedAuto,BIKE_L,0,4;\n",
    "BIKE_R \"BIKE_R\" true true false 4 Text 0 0,First,#,BikePedAuto,BIKE_R,0,4;\n",
    "VERT_LEVEL \"VERT_LEVEL\" true true false 25 Text 0 0,First,#,BikePedAuto,VERT_LEVEL,0,25;\n",
    "hierarchy \"hierarchy\" true true false 2 Short 0 0,First,#,BikePedAuto,hierarchy,-1,-1;\n",
    "FF_SPD \"FF_SPD\" true true false 8 Double 0 0,First,#,TDM,FF_SPD,-1,-1;\n",
    "PK_SPD \"PK_SPD\" true true false 8 Double 0 0,First,#,TDM,PK_SPD,-1,-1\"\"\"\n",
    "\n",
    "arcpy.analysis.SpatialJoin(\n",
    "    \"BikePedAuto\", \n",
    "    \"TDM\", \n",
    "    os.path.join(base_gdb, \"TDM_SpatialJoin\"), \n",
    "    \"JOIN_ONE_TO_ONE\", \n",
    "    \"KEEP_ALL\", \n",
    "    field_spec, \n",
    "    \"SHARE_A_LINE_SEGMENT_WITH\"\n",
    ")"
   ]
  },
  {
   "cell_type": "code",
   "execution_count": 60,
   "metadata": {},
   "outputs": [
    {
     "data": {
      "text/html": [
       "<h2>Output</h2>a Layer object<h2>Messages</h2>Start Time: Friday, September 3, 2021 3:19:54 PM<br/>Adding DriveTime_FF to TDM_SpatialJoin...<br/>Succeeded at Friday, September 3, 2021 3:20:13 PM (Elapsed Time: 19.20 seconds)<br/><style>.rendered_html td, .rendered_html th {text-align: left;}.rendered_html tbody {border: 1px solid black;}</style>"
      ],
      "text/plain": [
       "<Result 'TDM_SpatialJoin'>"
      ]
     },
     "execution_count": 60,
     "metadata": {},
     "output_type": "execute_result"
    }
   ],
   "source": [
    "# Calculate drive times based on peak hour TDM speeds\n",
    "codeblock = \"\"\"\n",
    "def getSpeed(spd, len):\n",
    "    return None if spd is None else float(60*len/spd)\n",
    "\"\"\"\n",
    "\n",
    "arcpy.management.CalculateField(\n",
    "    \"TDM_SpatialJoin\", \n",
    "    \"DriveTime_Peak\", \n",
    "    \"getSpeed(!PK_SPD!, !Length_Miles!)\", \n",
    "    \"PYTHON3\", codeblock, \"DOUBLE\"\n",
    ")\n",
    "arcpy.management.CalculateField(\n",
    "    \"TDM_SpatialJoin\", \n",
    "    \"DriveTime_FF\", \n",
    "    \"getSpeed(!FF_SPD!, !Length_Miles!)\", \n",
    "    \"PYTHON3\", codeblock, \"DOUBLE\"\n",
    ")"
   ]
  },
  {
   "cell_type": "code",
   "execution_count": 62,
   "metadata": {
    "scrolled": true
   },
   "outputs": [
    {
     "data": {
      "text/html": [
       "<h2>Output</h2>a Layer object<h2>Messages</h2>Start Time: Friday, September 3, 2021 3:20:26 PM<br/>Succeeded at Friday, September 3, 2021 3:20:34 PM (Elapsed Time: 7.86 seconds)<br/><style>.rendered_html td, .rendered_html th {text-align: left;}.rendered_html tbody {border: 1px solid black;}</style>"
      ],
      "text/plain": [
       "<Result 'TDM_SpatialJoin'>"
      ]
     },
     "execution_count": 62,
     "metadata": {},
     "output_type": "execute_result"
    }
   ],
   "source": [
    "# Update Drive Time based on TDM peak value when set/exists\n",
    "expression = \"!DriveTime! if !DriveTime_Peak! is None else !DriveTime_Peak!\"\n",
    "\n",
    "arcpy.CalculateField_management(\n",
    "    \"TDM_SpatialJoin\", \n",
    "    \"DriveTime\", \n",
    "    expression, \n",
    "    \"PYTHON3\", None, \"DOUBLE\")"
   ]
  },
  {
   "cell_type": "code",
   "execution_count": 63,
   "metadata": {},
   "outputs": [
    {
     "data": {
      "text/html": [
       "<h2>Output</h2>true<h2>Messages</h2>Start Time: Friday, September 3, 2021 3:20:44 PM<br/>Succeeded at Friday, September 3, 2021 3:20:44 PM (Elapsed Time: 0.22 seconds)<br/><style>.rendered_html td, .rendered_html th {text-align: left;}.rendered_html tbody {border: 1px solid black;}</style>"
      ],
      "text/plain": [
       "<Result 'true'>"
      ]
     },
     "execution_count": 63,
     "metadata": {},
     "output_type": "execute_result"
    }
   ],
   "source": [
    "# delete existing BikePedAuto layer\n",
    "arcpy.management.Delete(os.path.join(base_gdb, r\"NetworkDataset\\BikePedAuto\"))"
   ]
  },
  {
   "cell_type": "code",
   "execution_count": 64,
   "metadata": {},
   "outputs": [
    {
     "data": {
      "text/html": [
       "<h2>Output</h2>c:\\wfrc\\ato\\ato.gdb\\NetworkDataset\\BikePedAuto<h2>Messages</h2>Start Time: Friday, September 3, 2021 3:20:47 PM<br/>Succeeded at Friday, September 3, 2021 3:20:55 PM (Elapsed Time: 8.35 seconds)<br/><style>.rendered_html td, .rendered_html th {text-align: left;}.rendered_html tbody {border: 1px solid black;}</style>"
      ],
      "text/plain": [
       "<Result 'c:\\\\wfrc\\\\ato\\\\ato.gdb\\\\NetworkDataset\\\\BikePedAuto'>"
      ]
     },
     "execution_count": 64,
     "metadata": {},
     "output_type": "execute_result"
    }
   ],
   "source": [
    "arcpy.conversion.FeatureClassToFeatureClass(\n",
    "    \"TDM_SpatialJoin\", \n",
    "    os.path.join(base_gdb, r\"NetworkDataset\"), \n",
    "    \"BikePedAuto\"\n",
    ")"
   ]
  },
  {
   "cell_type": "code",
   "execution_count": 65,
   "metadata": {},
   "outputs": [
    {
     "data": {
      "text/html": [
       "<h2>Output</h2>c:\\wfrc\\ato\\ato.gdb\\NetworkDataset\\NetworkDataset_ND<h2>Messages</h2>Start Time: Friday, September 3, 2021 3:20:57 PM<br/>Succeeded at Friday, September 3, 2021 3:20:59 PM (Elapsed Time: 2.53 seconds)<br/><style>.rendered_html td, .rendered_html th {text-align: left;}.rendered_html tbody {border: 1px solid black;}</style>"
      ],
      "text/plain": [
       "<Result 'c:\\\\wfrc\\\\ato\\\\ato.gdb\\\\NetworkDataset\\\\NetworkDataset_ND'>"
      ]
     },
     "execution_count": 65,
     "metadata": {},
     "output_type": "execute_result"
    }
   ],
   "source": [
    "# create network dataset from template\n",
    "arcpy.na.CreateNetworkDatasetFromTemplate(\n",
    "    os.path.join(base_path, \"ND_Template_Aug21.xml\"),                           \n",
    "    os.path.join(base_gdb, \"NetworkDataset\")\n",
    ")"
   ]
  },
  {
   "cell_type": "code",
   "execution_count": 66,
   "metadata": {},
   "outputs": [
    {
     "data": {
      "text/html": [
       "<h2>Output</h2>c:\\wfrc\\ato\\ato.gdb\\NetworkDataset\\NetworkDataset_ND<h2>Messages</h2>Start Time: Friday, September 3, 2021 3:21:02 PM<br/>WARNING 030116: The network was built, but with some errors.  Error details are at \"C:\\Users\\markegge\\AppData\\Local\\Temp\\ArcGISProTemp7444\\BuildErrors.txt\".<br/>Succeeded at Friday, September 3, 2021 3:22:11 PM (Elapsed Time: 1 minutes 9 seconds)<br/><style>.rendered_html td, .rendered_html th {text-align: left;}.rendered_html tbody {border: 1px solid black;}</style>"
      ],
      "text/plain": [
       "<Result 'c:\\\\wfrc\\\\ato\\\\ato.gdb\\\\NetworkDataset\\\\NetworkDataset_ND'>"
      ]
     },
     "execution_count": 66,
     "metadata": {},
     "output_type": "execute_result"
    }
   ],
   "source": [
    "# finally, build the dataset\n",
    "arcpy.na.BuildNetwork(os.path.join(base_gdb, r\"NetworkDataset\\NetworkDataset_ND\"))"
   ]
  },
  {
   "cell_type": "code",
   "execution_count": null,
   "metadata": {},
   "outputs": [],
   "source": []
  }
 ],
 "metadata": {
  "kernelspec": {
   "display_name": "ArcGISPro",
   "language": "Python",
   "name": "python3"
  },
  "language_info": {
   "file_extension": ".py",
   "name": "python",
   "version": "3"
  }
 },
 "nbformat": 4,
 "nbformat_minor": 2
}
