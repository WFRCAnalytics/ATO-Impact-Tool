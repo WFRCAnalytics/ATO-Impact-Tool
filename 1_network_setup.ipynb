{
 "cells": [
  {
   "cell_type": "markdown",
   "metadata": {},
   "source": [
    "## Network Setup\n",
    "\n",
    "1. Download Multimodal network dataset from [https://gis.utah.gov/data/transportation/street-network-analysis/]\n",
    "2. Download Wasatch Front TAZs from WFRC [https://data.wfrc.org/datasets/access-to-opportunities-work-related-taz-based/] (https://data.wfrc.org/datasets/access-to-opportunities-work-related-taz-based/)\n",
    "2. Copy the Multimodal network dataset and delete the layers that will be replaced with clipped versions\n",
    "3. Clip the NetworkDataset>BikePedAuto and NetworkDataset>Network_Dataset_ND_Junctions layers using 15 mile buffer around the Wasatch Front TAZ layer\n",
    "4. Create and fill RoadClass attribute to a usable hierarchy value\n",
    "5. Join the TDM data for speeds\n",
    "\n",
    "\n",
    "** Note: sometimes sequential execution of the cells below will produce a \"Cannot acquire a lock\" error. If this happens, just re-run the cell. Esri weirdness! **\n",
    "\n",
    "\n",
    "## TAZ Centroids\n",
    "\n",
    "Calculate a centroid point for each TAZ from the TAZ shapefile. If you have an \"Advanced\" license of ArcGIS Pro you can do this with the \"Feature to Point\" tool. Otherwise, just fire up QGIS, open the TAZ layer, Go to the menu -> Vector -> Geometry tools -> polygon centroid and create a centroid point layer."
   ]
  },
  {
   "cell_type": "markdown",
   "metadata": {},
   "source": [
    "# Network Setup\n",
    "\n",
    "Vertical Elevation - the current dataset does not contain the necessary attributes to establish vertical connectivity. Elevation is not used.\n",
    "\n",
    "Hierarchy - oddly, adding a heirarchy for routing seems to worsen performance. Hierarchy is not used."
   ]
  },
  {
   "cell_type": "code",
   "execution_count": null,
   "metadata": {},
   "outputs": [],
   "source": [
    "from arcgis.gis import GIS\n",
    "import arcpy\n",
    "import os\n",
    "\n",
    "\n",
    "# Update this\n",
    "base_path = r\"c:\\wfrc\\ato\"\n",
    "\n",
    "source_mm_network_dataset = r\"c:\\wfrc\\ato\\shp\\MM_NetworkDataset_08052021.gdb\\NetworkDataset\"\n",
    "tdm_shp_path = r\"c:\\wfrc\\ato\\shp\\Master_Segs_withFactors_20200504_BY2019SegSummary\\Master_Segs_withFactors_20200504_BY2019SegSummary.shp\"\n",
    "\n",
    "base_gdb = os.path.join(base_path, \"ato.gdb\")\n",
    "if not os.path.isdir(base_gdb):\n",
    "    arcpy.management.CreateFileGDB(base_path, \"ato\")\n",
    "\n",
    "arcpy.env.workspace = base_gdb"
   ]
  },
  {
   "cell_type": "code",
   "execution_count": null,
   "metadata": {},
   "outputs": [],
   "source": [
    "# copy TAZ polygons\n",
    "arcpy.management.Copy(\n",
    "    os.path.join(base_path, r\"shp\\taz_wfrc.gdb\\ATO\"), \n",
    "    os.path.join(base_gdb, \"taz_ato\")\n",
    ")"
   ]
  },
  {
   "cell_type": "code",
   "execution_count": null,
   "metadata": {},
   "outputs": [],
   "source": [
    "# copy TAZ centroids\n",
    "arcpy.management.Copy(\n",
    "    os.path.join(base_path, r\"shp\\taz_wfrc.gdb\\taz_centroids\"), \n",
    "    os.path.join(base_gdb, \"taz_centroids\")\n",
    ")"
   ]
  },
  {
   "cell_type": "code",
   "execution_count": null,
   "metadata": {},
   "outputs": [],
   "source": [
    "# copy Draper TAZ centroids for testing\n",
    "arcpy.management.Copy(\n",
    "    os.path.join(base_path, r\"shp\\taz_wfrc.gdb\\taz_centroids_draper\"), \n",
    "    os.path.join(base_gdb, \"taz_centroids_draper\")\n",
    ")"
   ]
  },
  {
   "cell_type": "code",
   "execution_count": null,
   "metadata": {
    "scrolled": false
   },
   "outputs": [],
   "source": [
    "# Copy NetworkDataset to our working GDB\n",
    "arcpy.management.Copy(\n",
    "    source_mm_network_dataset, \n",
    "    os.path.join(base_gdb, \"NetworkDataset\")\n",
    ")"
   ]
  },
  {
   "cell_type": "code",
   "execution_count": null,
   "metadata": {
    "scrolled": true
   },
   "outputs": [],
   "source": [
    "# delete existing network\n",
    "arcpy.management.Delete(os.path.join(base_gdb, r\"NetworkDataset\\NetworkDataset_ND\"))"
   ]
  },
  {
   "cell_type": "code",
   "execution_count": null,
   "metadata": {},
   "outputs": [],
   "source": [
    "# add hierarchy to clipped BikePedAuto\n",
    "arcpy.AddField_management(r\"NetworkDataset\\BikePedAuto\", \"hierarchy\", \"SHORT\")"
   ]
  },
  {
   "cell_type": "code",
   "execution_count": null,
   "metadata": {
    "scrolled": true
   },
   "outputs": [],
   "source": [
    "# if this fails due to a \"lock\" error try running again\n",
    "# Set local variables\n",
    "inTable = r\"NetworkDataset\\BikePedAuto\"\n",
    "fieldName = \"hierarchy\"\n",
    "# note, this field was previously RoadClass and is now CartoCode\n",
    "expression = \"getClass(!CartoCode!)\"\n",
    "\n",
    "codeblock = \"\"\"\n",
    "hierarchy = {\n",
    "\t'1 Interstates': 1,\n",
    "\t'2 US Highways, Separated': 1,\n",
    "\t'3 - Paved Shared Use': 3,\n",
    "\t'3 US Highways, Unseparated': 1,\n",
    "\t'4 Major State Highways, Separated': 1,\n",
    "\t'5 Major State Highways, Unseparated': 1,\n",
    "\t'6 Other State Highways (Institutional)': 1,\n",
    "\t'7 Ramps, Collectors': 2,\n",
    "\t'8 - Bridge, Tunnel': 2,\n",
    "\t'8 Major Local Roads, Paved': 2,\n",
    "\t'9 - Link': 3,\n",
    "\t'9 Major Local Roads, Not Paved': 3,\n",
    "\t'10 Other Federal Aid Eligible Local Roads': 2,\n",
    "\t'11 Other Local, Neighborhood, Rural Roads': 3,\n",
    "\t'12 Other': 3,\n",
    "\t'13 Non-road feature': None,\n",
    "\t'14 Driveway': None,\n",
    "\t'15 Proposed': None,\n",
    "\t'17 Service Access Roads': None,\n",
    "\t'99 - UDOT FAE Calibration (Non-Road Feature)': None\n",
    "}\n",
    "def getClass(rc):\n",
    "    return 3 if rc is None else hierarchy[rc]\n",
    "\"\"\"\n",
    "\n",
    "# Execute CalculateField \n",
    "arcpy.CalculateField_management(inTable, fieldName, expression, \"PYTHON3\", codeblock)"
   ]
  },
  {
   "cell_type": "markdown",
   "metadata": {},
   "source": [
    "## manual intervention required\n",
    "\n",
    "* I'm not sure why, but it is now necessary to remove and add the BikePedAuto layer from the map before running the cells below"
   ]
  },
  {
   "cell_type": "code",
   "execution_count": null,
   "metadata": {},
   "outputs": [],
   "source": [
    "# Select non-road features\n",
    "arcpy.management.SelectLayerByAttribute(\n",
    "    \"BikePedAuto\", \n",
    "    \"NEW_SELECTION\", \n",
    "    \"hierarchy IS NULL\"\n",
    ")"
   ]
  },
  {
   "cell_type": "code",
   "execution_count": null,
   "metadata": {},
   "outputs": [],
   "source": [
    "# Create a 5 mile buffer\n",
    "arcpy.analysis.Buffer(\n",
    "    in_features = os.path.join(base_gdb, \"taz_ato\"),\n",
    "    out_feature_class = os.path.join(base_gdb, \"taz_buffer\"),\n",
    "    buffer_distance_or_field = \"5 Miles\",\n",
    "    dissolve_option = \"ALL\"\n",
    ")"
   ]
  },
  {
   "cell_type": "code",
   "execution_count": null,
   "metadata": {},
   "outputs": [],
   "source": [
    "# Select all segments outside buffer\n",
    "arcpy.management.SelectLayerByLocation(\n",
    "    in_layer = \"BikePedAuto\",\n",
    "    overlap_type = 'INTERSECT', \n",
    "    select_features = os.path.join(base_gdb, \"taz_buffer\"),\n",
    "    selection_type = 'ADD_TO_SELECTION',\n",
    "    invert_spatial_relationship = True\n",
    ")"
   ]
  },
  {
   "cell_type": "code",
   "execution_count": null,
   "metadata": {
    "scrolled": false
   },
   "outputs": [],
   "source": [
    "arcpy.management.DeleteFeatures(\"BikePedAuto\")\n",
    "# sometimes this fails - removing from map and adding again seems to help"
   ]
  },
  {
   "cell_type": "code",
   "execution_count": null,
   "metadata": {},
   "outputs": [],
   "source": [
    "arcpy.management.Delete(os.path.join(base_gdb, \"taz_buffer\"))"
   ]
  },
  {
   "cell_type": "markdown",
   "metadata": {},
   "source": [
    "# Integrate\n",
    "\n",
    "To fix some issues where lines don't connect, highlight all features where AutoRoute == Y and then use the Pairwise Integrate tool on BikePedAuto"
   ]
  },
  {
   "cell_type": "code",
   "execution_count": null,
   "metadata": {},
   "outputs": [],
   "source": [
    "# Select non-road features\n",
    "arcpy.management.SelectLayerByAttribute(\n",
    "    \"BikePedAuto\", \n",
    "    \"NEW_SELECTION\", \n",
    "    \"AutoNetwork = 'Y'\"\n",
    ")\n",
    "# pairwise integrate\n",
    "arcpy.analysis.PairwiseIntegrate(\"BikePedAuto\", None)"
   ]
  },
  {
   "cell_type": "code",
   "execution_count": null,
   "metadata": {},
   "outputs": [],
   "source": [
    "arcpy.management.SelectLayerByAttribute(\n",
    "    \"BikePedAuto\", \n",
    "    \"CLEAR_SELECTION\",\n",
    ")"
   ]
  },
  {
   "cell_type": "markdown",
   "metadata": {},
   "source": [
    "### Join in Speed Data\n",
    "WFRC has provided free flow and peak hour speed data from their TDM. We will join this to the network dataset for later use when roughly estimating the short-term improvement in automobile mobility associated with roadway widening."
   ]
  },
  {
   "cell_type": "code",
   "execution_count": null,
   "metadata": {},
   "outputs": [],
   "source": [
    "arcpy.conversion.FeatureClassToFeatureClass(\n",
    "    tdm_shp_path,\n",
    "    base_gdb,\n",
    "    \"TDM\"\n",
    ")"
   ]
  },
  {
   "cell_type": "code",
   "execution_count": null,
   "metadata": {},
   "outputs": [],
   "source": [
    "# Create and calculate PK_SPD field based on minimum (peak time) speed\n",
    "arcpy.management.CalculateField(\n",
    "    \"TDM\", \n",
    "    \"PK_SPD\", \n",
    "    \"min(!AM_SPD!,!MD_SPD!,!PM_SPD!,!EV_SPD!)\", \n",
    "    \"PYTHON3\", '', \"DOUBLE\"\n",
    ")"
   ]
  },
  {
   "cell_type": "code",
   "execution_count": null,
   "metadata": {},
   "outputs": [],
   "source": [
    "# Spatially join TDM travel times to MM network:\n",
    "arcpy.analysis.SpatialJoin(\n",
    "    \"BikePedAuto\", \n",
    "    \"TDM\", \n",
    "    os.path.join(base_gdb, \"TDM_SpatialJoin\"), \n",
    "    \"JOIN_ONE_TO_ONE\", \n",
    "    \"KEEP_ALL\", \n",
    "    None, \n",
    "    \"SHARE_A_LINE_SEGMENT_WITH\"\n",
    ")"
   ]
  },
  {
   "cell_type": "code",
   "execution_count": null,
   "metadata": {},
   "outputs": [],
   "source": [
    "# Calculate drive times based on peak hour TDM speeds\n",
    "codeblock = \"\"\"\n",
    "def getSpeed(spd, len):\n",
    "    return None if spd is None else float(60*len/spd)\n",
    "\"\"\"\n",
    "\n",
    "arcpy.CalculateField_management(\n",
    "    \"TDM_SpatialJoin\", \n",
    "    \"DriveTime_Peak\", \n",
    "    \"getSpeed(!PK_SPD!, !Length_Miles!)\", \n",
    "    \"PYTHON3\", codeblock, \"DOUBLE\"\n",
    ")\n",
    "arcpy.CalculateField_management(\n",
    "    \"TDM_SpatialJoin\", \n",
    "    \"DriveTime_FF\", \n",
    "    \"getSpeed(!FF_SPD!, !Length_Miles!)\", \n",
    "    \"PYTHON3\", codeblock, \"DOUBLE\"\n",
    ")"
   ]
  },
  {
   "cell_type": "code",
   "execution_count": null,
   "metadata": {},
   "outputs": [],
   "source": [
    "# Update Drive Time based on TDM peak value when set/exists\n",
    "expression = \"!DriveTime! if !DriveTime_Peak! is None else !DriveTime_Peak!\"\n",
    "\n",
    "arcpy.CalculateField_management(\n",
    "    \"TDM_SpatialJoin\", \n",
    "    \"DriveTime\", \n",
    "    expression, \n",
    "    \"PYTHON3\", None, \"DOUBLE\")"
   ]
  },
  {
   "cell_type": "code",
   "execution_count": null,
   "metadata": {},
   "outputs": [],
   "source": [
    "# create network dataset from template\n",
    "arcpy.na.CreateNetworkDatasetFromTemplate(\n",
    "    os.path.join(base_path, \"ND_Template_Aug21.xml\"),                           \n",
    "    os.path.join(base_gdb, \"NetworkDataset\")\n",
    ")"
   ]
  },
  {
   "cell_type": "markdown",
   "metadata": {},
   "source": [
    "# Modify Template\n",
    "\n",
    "If any further changes need to be made to the NetworkDataset configuration, make them before running BuildNetwork below"
   ]
  },
  {
   "cell_type": "code",
   "execution_count": null,
   "metadata": {},
   "outputs": [],
   "source": [
    "# finally, build the dataset\n",
    "arcpy.na.BuildNetwork(os.path.join(base_gdb, r\"NetworkDataset\\NetworkDataset_ND\"))"
   ]
  },
  {
   "cell_type": "code",
   "execution_count": null,
   "metadata": {},
   "outputs": [],
   "source": []
  }
 ],
 "metadata": {
  "kernelspec": {
   "display_name": "ArcGISPro",
   "language": "Python",
   "name": "python3"
  },
  "language_info": {
   "file_extension": ".py",
   "name": "python",
   "version": "3"
  }
 },
 "nbformat": 4,
 "nbformat_minor": 2
}
