{
 "cells": [
  {
   "cell_type": "markdown",
   "metadata": {},
   "source": [
    "## Network Setup\n",
    "\n",
    "1. Download Multimodal network dataset from [https://gis.utah.gov/data/transportation/street-network-analysis/]\n",
    "2. Download Wasatch Front TAZs from WFRC [https://data.wfrc.org/datasets/access-to-opportunities-work-related-taz-based/] (https://data.wfrc.org/datasets/access-to-opportunities-work-related-taz-based/)\n",
    "2. Copy the Multimodal network dataset and delete the layers that will be replaced with clipped versions\n",
    "3. Clip the NetworkDataset>BikePedAuto and NetworkDataset>Network_Dataset_ND_Junctions layers using 15 mile buffer around the Wasatch Front TAZ layer\n",
    "4. Create and fill RoadClass attribute to a usable hierarchy value\n",
    "5. Join the TDM data for speeds\n",
    "\n",
    "\n",
    "** Note: sometimes sequential execution of the cells below will produce a \"Cannot acquire a lock\" error. If this happens, just re-run the cell. Esri weirdness! **\n",
    "\n",
    "\n",
    "## TAZ Centroids\n",
    "\n",
    "Calculate a centroid point for each TAZ from the TAZ shapefile. If you have an \"Advanced\" license of ArcGIS Pro you can do this with the \"Feature to Point\" tool. Otherwise, just fire up QGIS, open the TAZ layer, Go to the menu -> Vector -> Geometry tools -> polygon centroid and create a centroid point layer."
   ]
  },
  {
   "cell_type": "markdown",
   "metadata": {},
   "source": [
    "# Network Setup\n",
    "\n",
    "Vertical Elevation - the current dataset does not contain the necessary attributes to establish vertical connectivity. Elevation is not used.\n",
    "\n",
    "Hierarchy - oddly, adding a heirarchy for routing seems to worsen performance. Hierarchy is not used."
   ]
  },
  {
   "cell_type": "code",
   "execution_count": 1,
   "metadata": {},
   "outputs": [],
   "source": [
    "import arcpy\n",
    "import os\n",
    "\n",
    "# Set the XYResolution environment to a linear unit\n",
    "arcpy.env.XYResolution = \"0.01 Meters\"\n",
    "arcpy.env.XYTolerance = \"0.1 Meters\"\n",
    "\n",
    "# set base path - jupyter or arcgis\n",
    "try:\n",
    "    aprx = arcpy.mp.ArcGISProject(\"CURRENT\")\n",
    "    print(\"base path must be explicitly set when running in arcgis pro\")\n",
    "    base_path = r\"c:\\wfrc\\ato\" # update this\n",
    "except OSError:\n",
    "    base_path = \".\"\n",
    "    \n",
    "arcpy.CheckOutExtension(\"network\")\n",
    "\n",
    "source_mm_network_dataset = os.path.join(base_path, r\"shp\\MM_NetworkDataset_09022021.gdb\\NetworkDataset\")\n",
    "tdm_shp_path = os.path.join(base_path, r\"shp\\Master_Segs_withFactors_20200504_BY2019SegSummary\\Master_Segs_withFactors_20200504_BY2019SegSummary.shp\")\n",
    "\n",
    "base_gdb = os.path.join(base_path, \"nd.gdb\")\n",
    "if not os.path.isdir(base_gdb):\n",
    "    arcpy.management.CreateFileGDB(base_path, \"nd\")\n",
    "\n",
    "arcpy.env.workspace = base_gdb"
   ]
  },
  {
   "cell_type": "code",
   "execution_count": 2,
   "metadata": {
    "scrolled": false
   },
   "outputs": [
    {
     "data": {
      "text/html": [
       "<h2>Output</h2>.\\nd.gdb\\NetworkDataset<h2>Messages</h2>Start Time: Friday, October 8, 2021 11:53:07 AM<br/>Succeeded at Friday, October 8, 2021 11:54:08 AM (Elapsed Time: 1 minutes 1 seconds)<br/><style>.rendered_html td, .rendered_html th {text-align: left;}.rendered_html tbody {border: 1px solid black;}</style>"
      ],
      "text/plain": [
       "<Result '.\\\\nd.gdb\\\\NetworkDataset'>"
      ]
     },
     "execution_count": 2,
     "metadata": {},
     "output_type": "execute_result"
    }
   ],
   "source": [
    "# Copy NetworkDataset to our working GDB\n",
    "arcpy.management.Copy(\n",
    "    source_mm_network_dataset, \n",
    "    os.path.join(base_gdb, \"NetworkDataset\")\n",
    ")"
   ]
  },
  {
   "cell_type": "code",
   "execution_count": 3,
   "metadata": {
    "scrolled": true
   },
   "outputs": [
    {
     "data": {
      "text/html": [
       "<h2>Output</h2>true<h2>Messages</h2>Start Time: Friday, October 8, 2021 11:54:10 AM<br/>Succeeded at Friday, October 8, 2021 11:54:12 AM (Elapsed Time: 2.43 seconds)<br/><style>.rendered_html td, .rendered_html th {text-align: left;}.rendered_html tbody {border: 1px solid black;}</style>"
      ],
      "text/plain": [
       "<Result 'true'>"
      ]
     },
     "execution_count": 3,
     "metadata": {},
     "output_type": "execute_result"
    }
   ],
   "source": [
    "# delete existing network\n",
    "arcpy.management.Delete(os.path.join(base_gdb, r\"NetworkDataset\\NetworkDataset_ND\"))"
   ]
  },
  {
   "cell_type": "code",
   "execution_count": 4,
   "metadata": {},
   "outputs": [
    {
     "data": {
      "text/html": [
       "<h2>Output</h2>a Layer object<h2>Messages</h2>Start Time: Friday, October 8, 2021 11:54:12 AM<br/>Succeeded at Friday, October 8, 2021 11:54:12 AM (Elapsed Time: 0.09 seconds)<br/><style>.rendered_html td, .rendered_html th {text-align: left;}.rendered_html tbody {border: 1px solid black;}</style>"
      ],
      "text/plain": [
       "<Result 'BPA'>"
      ]
     },
     "execution_count": 4,
     "metadata": {},
     "output_type": "execute_result"
    }
   ],
   "source": [
    "arcpy.management.MakeFeatureLayer(\n",
    "    os.path.join(base_gdb, r\"NetworkDataset\\BikePedAuto\"), \n",
    "    \"BPA\"\n",
    ")"
   ]
  },
  {
   "cell_type": "code",
   "execution_count": 5,
   "metadata": {},
   "outputs": [
    {
     "data": {
      "text/html": [
       "<h2>Output</h2>a Layer object<h2>Messages</h2>Start Time: Friday, October 8, 2021 11:54:12 AM<br/>WARNING 000012: hierarchy already exists<br/>Succeeded at Friday, October 8, 2021 11:54:13 AM (Elapsed Time: 0.04 seconds)<br/><style>.rendered_html td, .rendered_html th {text-align: left;}.rendered_html tbody {border: 1px solid black;}</style>"
      ],
      "text/plain": [
       "<Result 'BPA'>"
      ]
     },
     "execution_count": 5,
     "metadata": {},
     "output_type": "execute_result"
    }
   ],
   "source": [
    "# add hierarchy to clipped BikePedAuto\n",
    "arcpy.management.AddField(\n",
    "    \"BPA\", \n",
    "    \"hierarchy\", \n",
    "    \"SHORT\"\n",
    ")"
   ]
  },
  {
   "cell_type": "code",
   "execution_count": 6,
   "metadata": {
    "scrolled": true
   },
   "outputs": [
    {
     "data": {
      "text/html": [
       "<h2>Output</h2>a Layer object<h2>Messages</h2>Start Time: Friday, October 8, 2021 11:54:13 AM<br/>Succeeded at Friday, October 8, 2021 11:54:19 AM (Elapsed Time: 6.48 seconds)<br/><style>.rendered_html td, .rendered_html th {text-align: left;}.rendered_html tbody {border: 1px solid black;}</style>"
      ],
      "text/plain": [
       "<Result 'BPA'>"
      ]
     },
     "execution_count": 6,
     "metadata": {},
     "output_type": "execute_result"
    }
   ],
   "source": [
    "# if this fails due to a \"lock\" error try running again\n",
    "# note, this field was previously RoadClass and is now CartoCode\n",
    "expression = \"getClass(!CartoCode!)\"\n",
    "\n",
    "codeblock = \"\"\"\n",
    "hierarchy = {\n",
    "\t'1 Interstates': 1,\n",
    "\t'2 US Highways, Separated': 1,\n",
    "\t'3 - Paved Shared Use': 3,\n",
    "\t'3 US Highways, Unseparated': 1,\n",
    "\t'4 Major State Highways, Separated': 1,\n",
    "\t'5 Major State Highways, Unseparated': 1,\n",
    "\t'6 Other State Highways (Institutional)': 1,\n",
    "\t'7 Ramps, Collectors': 2,\n",
    "\t'8 - Bridge, Tunnel': 2,\n",
    "\t'8 Major Local Roads, Paved': 2,\n",
    "\t'9 - Link': 3,\n",
    "\t'9 Major Local Roads, Not Paved': 3,\n",
    "\t'10 Other Federal Aid Eligible Local Roads': 2,\n",
    "\t'11 Other Local, Neighborhood, Rural Roads': 3,\n",
    "\t'12 Other': 3,\n",
    "\t'13 Non-road feature': None,\n",
    "\t'14 Driveway': None,\n",
    "\t'15 Proposed': None,\n",
    "\t'17 Service Access Roads': None,\n",
    "\t'99 - UDOT FAE Calibration (Non-Road Feature)': None\n",
    "}\n",
    "def getClass(rc):\n",
    "    return 3 if rc is None else hierarchy[rc]\n",
    "\"\"\"\n",
    "\n",
    "# Execute CalculateField \n",
    "arcpy.management.CalculateField(\"BPA\", \"hierarchy\", expression, \"PYTHON3\", codeblock)"
   ]
  },
  {
   "cell_type": "code",
   "execution_count": 7,
   "metadata": {
    "scrolled": true
   },
   "outputs": [
    {
     "data": {
      "text/html": [
       "<h2>Output</h2><table><tr><th>id</th><th>value</th></tr><tr><td>0</td><td>a Layer object</td></tr><tr><td>1</td><td>869</td></tr></table><h2>Messages</h2>Start Time: Friday, October 8, 2021 11:54:19 AM<br/>Succeeded at Friday, October 8, 2021 11:54:19 AM (Elapsed Time: 0.05 seconds)<br/><style>.rendered_html td, .rendered_html th {text-align: left;}.rendered_html tbody {border: 1px solid black;}</style>"
      ],
      "text/plain": [
       "<Result 'BPA'>"
      ]
     },
     "execution_count": 7,
     "metadata": {},
     "output_type": "execute_result"
    }
   ],
   "source": [
    "# Select non-road features\n",
    "arcpy.management.SelectLayerByAttribute(\n",
    "    \"BPA\", \n",
    "    \"NEW_SELECTION\", \n",
    "    \"hierarchy IS NULL\"\n",
    ")"
   ]
  },
  {
   "cell_type": "code",
   "execution_count": 8,
   "metadata": {},
   "outputs": [
    {
     "data": {
      "text/html": [
       "<h2>Output</h2>.\\nd.gdb\\taz_buffer<h2>Messages</h2>Start Time: Friday, October 8, 2021 11:54:19 AM<br/>Succeeded at Friday, October 8, 2021 11:54:21 AM (Elapsed Time: 1.52 seconds)<br/><style>.rendered_html td, .rendered_html th {text-align: left;}.rendered_html tbody {border: 1px solid black;}</style>"
      ],
      "text/plain": [
       "<Result '.\\\\nd.gdb\\\\taz_buffer'>"
      ]
     },
     "execution_count": 8,
     "metadata": {},
     "output_type": "execute_result"
    }
   ],
   "source": [
    "# Create a 5 mile buffer\n",
    "arcpy.analysis.Buffer(\n",
    "    in_features = os.path.join(base_path, r\"shp\\taz_wfrc.gdb\\ATO\"),\n",
    "    out_feature_class = os.path.join(base_gdb, \"taz_buffer\"),\n",
    "    buffer_distance_or_field = \"5 Miles\",\n",
    "    dissolve_option = \"ALL\"\n",
    ")"
   ]
  },
  {
   "cell_type": "raw",
   "metadata": {},
   "source": [
    "# Select all segments outside buffer\n",
    "arcpy.management.SelectLayerByLocation(\n",
    "    in_layer = \"BPA\",\n",
    "    overlap_type = 'INTERSECT', \n",
    "    select_features = os.path.join(base_gdb, \"taz_buffer\"),\n",
    "    selection_type = 'ADD_TO_SELECTION',\n",
    "    invert_spatial_relationship = True\n",
    ")"
   ]
  },
  {
   "cell_type": "code",
   "execution_count": 9,
   "metadata": {
    "scrolled": false
   },
   "outputs": [
    {
     "data": {
      "text/html": [
       "<h2>Output</h2>a Layer object<h2>Messages</h2>Start Time: Friday, October 8, 2021 11:54:21 AM<br/>Succeeded at Friday, October 8, 2021 11:54:21 AM (Elapsed Time: 0.11 seconds)<br/><style>.rendered_html td, .rendered_html th {text-align: left;}.rendered_html tbody {border: 1px solid black;}</style>"
      ],
      "text/plain": [
       "<Result 'BPA'>"
      ]
     },
     "execution_count": 9,
     "metadata": {},
     "output_type": "execute_result"
    }
   ],
   "source": [
    "arcpy.management.DeleteFeatures(\"BPA\")\n",
    "# sometimes this fails - removing from map and adding again seems to help"
   ]
  },
  {
   "cell_type": "code",
   "execution_count": 10,
   "metadata": {},
   "outputs": [
    {
     "data": {
      "text/html": [
       "<h2>Output</h2>true<h2>Messages</h2>Start Time: Friday, October 8, 2021 11:54:21 AM<br/>Succeeded at Friday, October 8, 2021 11:54:21 AM (Elapsed Time: 0.14 seconds)<br/><style>.rendered_html td, .rendered_html th {text-align: left;}.rendered_html tbody {border: 1px solid black;}</style>"
      ],
      "text/plain": [
       "<Result 'true'>"
      ]
     },
     "execution_count": 10,
     "metadata": {},
     "output_type": "execute_result"
    }
   ],
   "source": [
    "arcpy.management.Delete(os.path.join(base_gdb, \"taz_buffer\"))"
   ]
  },
  {
   "cell_type": "markdown",
   "metadata": {},
   "source": [
    "# Integrate\n",
    "\n",
    "To fix some issues where lines don't connect, highlight all features where AutoRoute == Y and then use the Pairwise Integrate tool on BikePedAuto. This will create a vertex (connection) at all line intersections. To avoid connecting overpasses, we unselect "
   ]
  },
  {
   "cell_type": "code",
   "execution_count": 11,
   "metadata": {},
   "outputs": [
    {
     "data": {
      "text/html": [
       "<h2>Output</h2>.\\nd.gdb\\BikePedAuto<h2>Messages</h2>Start Time: Friday, October 8, 2021 11:54:22 AM<br/>Features were updated 4788 times.<br/>Succeeded at Friday, October 8, 2021 11:54:39 AM (Elapsed Time: 16.94 seconds)<br/><style>.rendered_html td, .rendered_html th {text-align: left;}.rendered_html tbody {border: 1px solid black;}</style>"
      ],
      "text/plain": [
       "<Result '.\\\\nd.gdb\\\\BikePedAuto'>"
      ]
     },
     "execution_count": 11,
     "metadata": {},
     "output_type": "execute_result"
    }
   ],
   "source": [
    "# Select non-road features\n",
    "arcpy.management.SelectLayerByAttribute(\n",
    "    \"BPA\", \n",
    "    \"NEW_SELECTION\", \n",
    "    \"AutoNetwork = 'Y' AND VERT_LEVEL = '0'\"\n",
    "    # remove bridges and tunnels\n",
    ")\n",
    "# pairwise integrate\n",
    "arcpy.analysis.PairwiseIntegrate(\"BikePedAuto\", None)"
   ]
  },
  {
   "cell_type": "code",
   "execution_count": 12,
   "metadata": {},
   "outputs": [
    {
     "data": {
      "text/html": [
       "<h2>Output</h2><table><tr><th>id</th><th>value</th></tr><tr><td>0</td><td>a Layer object</td></tr><tr><td>1</td><td>-1</td></tr></table><h2>Messages</h2>Start Time: Friday, October 8, 2021 11:54:39 AM<br/>Succeeded at Friday, October 8, 2021 11:54:39 AM (Elapsed Time: 0.01 seconds)<br/><style>.rendered_html td, .rendered_html th {text-align: left;}.rendered_html tbody {border: 1px solid black;}</style>"
      ],
      "text/plain": [
       "<Result 'BPA'>"
      ]
     },
     "execution_count": 12,
     "metadata": {},
     "output_type": "execute_result"
    }
   ],
   "source": [
    "arcpy.management.SelectLayerByAttribute(\"BPA\", \"CLEAR_SELECTION\")"
   ]
  },
  {
   "cell_type": "markdown",
   "metadata": {},
   "source": [
    "### Join in Speed Data\n",
    "WFRC has provided free flow and peak hour speed data from their TDM. We will join this to the network dataset for later use when roughly estimating the short-term improvement in automobile mobility associated with roadway widening."
   ]
  },
  {
   "cell_type": "code",
   "execution_count": 13,
   "metadata": {
    "scrolled": true
   },
   "outputs": [
    {
     "data": {
      "text/html": [
       "<h2>Output</h2>.\\nd.gdb\\TDM<h2>Messages</h2>Start Time: Friday, October 8, 2021 11:54:39 AM<br/>Succeeded at Friday, October 8, 2021 11:54:40 AM (Elapsed Time: 1.19 seconds)<br/><style>.rendered_html td, .rendered_html th {text-align: left;}.rendered_html tbody {border: 1px solid black;}</style>"
      ],
      "text/plain": [
       "<Result '.\\\\nd.gdb\\\\TDM'>"
      ]
     },
     "execution_count": 13,
     "metadata": {},
     "output_type": "execute_result"
    }
   ],
   "source": [
    "arcpy.conversion.FeatureClassToFeatureClass(\n",
    "    tdm_shp_path,\n",
    "    base_gdb,\n",
    "    \"TDM\"\n",
    ")"
   ]
  },
  {
   "cell_type": "code",
   "execution_count": 14,
   "metadata": {},
   "outputs": [
    {
     "data": {
      "text/html": [
       "<h2>Output</h2>.\\nd.gdb\\TDM<h2>Messages</h2>Start Time: Friday, October 8, 2021 11:54:40 AM<br/>Adding PK_SPD to TDM...<br/>Succeeded at Friday, October 8, 2021 11:54:40 AM (Elapsed Time: 0.39 seconds)<br/><style>.rendered_html td, .rendered_html th {text-align: left;}.rendered_html tbody {border: 1px solid black;}</style>"
      ],
      "text/plain": [
       "<Result '.\\\\nd.gdb\\\\TDM'>"
      ]
     },
     "execution_count": 14,
     "metadata": {},
     "output_type": "execute_result"
    }
   ],
   "source": [
    "# Create and calculate PK_SPD field based on minimum (peak time) speed\n",
    "arcpy.management.CalculateField(\n",
    "    \"TDM\", \n",
    "    \"PK_SPD\", \n",
    "    \"min(!AM_SPD!,!MD_SPD!,!PM_SPD!,!EV_SPD!)\", \n",
    "    \"PYTHON3\", '', \"DOUBLE\"\n",
    ")"
   ]
  },
  {
   "cell_type": "code",
   "execution_count": 15,
   "metadata": {},
   "outputs": [
    {
     "data": {
      "text/html": [
       "<h2>Output</h2>.\\nd.gdb\\TDM_SpatialJoin<h2>Messages</h2>Start Time: Friday, October 8, 2021 11:54:41 AM<br/>Succeeded at Friday, October 8, 2021 11:54:51 AM (Elapsed Time: 9.74 seconds)<br/><style>.rendered_html td, .rendered_html th {text-align: left;}.rendered_html tbody {border: 1px solid black;}</style>"
      ],
      "text/plain": [
       "<Result '.\\\\nd.gdb\\\\TDM_SpatialJoin'>"
      ]
     },
     "execution_count": 15,
     "metadata": {},
     "output_type": "execute_result"
    }
   ],
   "source": [
    "# Spatially join TDM travel times to MM network:\n",
    "field_spec = \"\"\"Name \"Name\" true true false 50 Text 0 0,First,#,BikePedAuto,Name,0,50;\n",
    "Oneway \"Oneway\" true true false 2 Text 0 0,First,#,BikePedAuto,Oneway,0,2;\n",
    "Speed \"Speed\" true true false 2 Short 0 0,First,#,BikePedAuto,Speed,-1,-1;\n",
    "AutoNetwork \"AutoNetork\" true true false 1 Text 0 0,First,#,BikePedAuto,AutoNetwork,0,1;\n",
    "BikeNetwork \"BikeNetwork\" true true false 1 Text 0 0,First,#,BikePedAuto,BikeNetwork,0,1;\n",
    "PedNetwork \"PedNetwork\" true true false 1 Text 0 0,First,#,BikePedAuto,PedNetwork,0,1;\n",
    "SourceData \"SourceData\" true true false 15 Text 0 0,First,#,BikePedAuto,SourceData,0,15;\n",
    "DriveTime \"DriveTime\" true true false 8 Double 0 0,First,#,BikePedAuto,DriveTime,-1,-1;\n",
    "BikeTime \"BikeTime\" true true false 8 Double 0 0,First,#,BikePedAuto,BikeTime,-1,-1;\n",
    "PedestrianTime \"PedestrianTime\" true true false 8 Double 0 0,First,#,BikePedAuto,PedestrianTime,-1,-1;\n",
    "Length_Miles \"Length_Miles\" true true false 8 Double 0 0,First,#,BikePedAuto,Length_Miles,-1,-1;\n",
    "ConnectorNetwork \"ConnectorNetwork\" true true false 1 Text 0 0,First,#,BikePedAuto,ConnectorNetwork,0,1;\n",
    "CartoCode \"CartoCode\" true true false 50 Text 0 0,First,#,BikePedAuto,CartoCode,0,50;\n",
    "AADT \"AADT\" true true false 4 Long 0 0,First,#,BikePedAuto,AADT,-1,-1;\n",
    "AADT_YR \"AADT_YR\" true true false 4 Text 0 0,First,#,BikePedAuto,AADT_YR,0,4;\n",
    "BIKE_L \"BIKE_L\" true true false 4 Text 0 0,First,#,BikePedAuto,BIKE_L,0,4;\n",
    "BIKE_R \"BIKE_R\" true true false 4 Text 0 0,First,#,BikePedAuto,BIKE_R,0,4;\n",
    "VERT_LEVEL \"VERT_LEVEL\" true true false 25 Text 0 0,First,#,BikePedAuto,VERT_LEVEL,0,25;\n",
    "hierarchy \"hierarchy\" true true false 2 Short 0 0,First,#,BikePedAuto,hierarchy,-1,-1;\n",
    "FF_SPD \"FF_SPD\" true true false 8 Double 0 0,First,#,TDM,FF_SPD,-1,-1;\n",
    "PK_SPD \"PK_SPD\" true true false 8 Double 0 0,First,#,TDM,PK_SPD,-1,-1\"\"\"\n",
    "\n",
    "arcpy.analysis.SpatialJoin(\n",
    "    \"BPA\", \n",
    "    \"TDM\", \n",
    "    os.path.join(base_gdb, \"TDM_SpatialJoin\"), \n",
    "    \"JOIN_ONE_TO_ONE\", \n",
    "    \"KEEP_ALL\", \n",
    "    field_spec, \n",
    "    \"HAVE_THEIR_CENTER_IN\", # \"SHARE_A_LINE_SEGMENT_WITH\"\n",
    ")"
   ]
  },
  {
   "cell_type": "code",
   "execution_count": 16,
   "metadata": {},
   "outputs": [
    {
     "data": {
      "text/html": [
       "<h2>Output</h2>a Layer object<h2>Messages</h2>Start Time: Friday, October 8, 2021 11:54:51 AM<br/>Succeeded at Friday, October 8, 2021 11:54:58 AM (Elapsed Time: 7.45 seconds)<br/><style>.rendered_html td, .rendered_html th {text-align: left;}.rendered_html tbody {border: 1px solid black;}</style>"
      ],
      "text/plain": [
       "<Result 'BPA'>"
      ]
     },
     "execution_count": 16,
     "metadata": {},
     "output_type": "execute_result"
    }
   ],
   "source": [
    "# copy attributes back to the BikePedAuto\n",
    "arcpy.management.JoinField(\n",
    "    \"BPA\", \n",
    "    \"OBJECTID\", \n",
    "    \"TDM_SpatialJoin\", \n",
    "    \"TARGET_FID\", \n",
    "    \"FF_SPD;PK_SPD\"\n",
    ")"
   ]
  },
  {
   "cell_type": "code",
   "execution_count": 17,
   "metadata": {},
   "outputs": [
    {
     "data": {
      "text/html": [
       "<h2>Output</h2>a Layer object<h2>Messages</h2>Start Time: Friday, October 8, 2021 11:55:06 AM<br/>Adding DriveTime_FF to BikePedAuto...<br/>Succeeded at Friday, October 8, 2021 11:55:16 AM (Elapsed Time: 10.09 seconds)<br/><style>.rendered_html td, .rendered_html th {text-align: left;}.rendered_html tbody {border: 1px solid black;}</style>"
      ],
      "text/plain": [
       "<Result 'BPA'>"
      ]
     },
     "execution_count": 17,
     "metadata": {},
     "output_type": "execute_result"
    }
   ],
   "source": [
    "# Calculate drive times based on peak hour TDM speeds\n",
    "codeblock = \"\"\"\n",
    "def getSpeed(spd, len):\n",
    "    return None if spd is None else float(60*len/spd)\n",
    "\"\"\"\n",
    "\n",
    "arcpy.management.CalculateField(\n",
    "    \"BPA\", \n",
    "    \"DriveTime_Peak\", \n",
    "    \"getSpeed(!PK_SPD!, !Length_Miles!)\", \n",
    "    \"PYTHON3\", codeblock, \"DOUBLE\"\n",
    ")\n",
    "arcpy.management.CalculateField(\n",
    "    \"BPA\", \n",
    "    \"DriveTime_FF\", \n",
    "    \"getSpeed(!FF_SPD!, !Length_Miles!)\", \n",
    "    \"PYTHON3\", codeblock, \"DOUBLE\"\n",
    ")"
   ]
  },
  {
   "cell_type": "code",
   "execution_count": 18,
   "metadata": {
    "scrolled": true
   },
   "outputs": [
    {
     "data": {
      "text/html": [
       "<h2>Output</h2>a Layer object<h2>Messages</h2>Start Time: Friday, October 8, 2021 11:55:16 AM<br/>Succeeded at Friday, October 8, 2021 11:55:23 AM (Elapsed Time: 7.22 seconds)<br/><style>.rendered_html td, .rendered_html th {text-align: left;}.rendered_html tbody {border: 1px solid black;}</style>"
      ],
      "text/plain": [
       "<Result 'BPA'>"
      ]
     },
     "execution_count": 18,
     "metadata": {},
     "output_type": "execute_result"
    }
   ],
   "source": [
    "# Update Drive Time based on TDM peak value when set/exists\n",
    "arcpy.CalculateField_management(\n",
    "    \"BPA\", \n",
    "    \"DriveTime\", \n",
    "    \"!DriveTime! if !DriveTime_Peak! is None else !DriveTime_Peak!\", \n",
    "    \"PYTHON3\", None, \"DOUBLE\")"
   ]
  },
  {
   "cell_type": "code",
   "execution_count": 19,
   "metadata": {},
   "outputs": [
    {
     "data": {
      "text/html": [
       "<h2>Output</h2>true<h2>Messages</h2>Start Time: Friday, October 8, 2021 11:55:24 AM<br/>Succeeded at Friday, October 8, 2021 11:55:24 AM (Elapsed Time: 0.15 seconds)<br/><style>.rendered_html td, .rendered_html th {text-align: left;}.rendered_html tbody {border: 1px solid black;}</style>"
      ],
      "text/plain": [
       "<Result 'true'>"
      ]
     },
     "execution_count": 19,
     "metadata": {},
     "output_type": "execute_result"
    }
   ],
   "source": [
    "# delete existing BikePedAuto layer\n",
    "arcpy.management.Delete(\"TDM_SpatialJoin\")\n",
    "arcpy.management.Delete(\"TDM\")"
   ]
  },
  {
   "cell_type": "code",
   "execution_count": 21,
   "metadata": {},
   "outputs": [
    {
     "data": {
      "text/html": [
       "<h2>Output</h2>.\\template.xml<h2>Messages</h2>Start Time: Friday, October 8, 2021 11:55:56 AM<br/>Succeeded at Friday, October 8, 2021 11:55:56 AM (Elapsed Time: 0.51 seconds)<br/><style>.rendered_html td, .rendered_html th {text-align: left;}.rendered_html tbody {border: 1px solid black;}</style>"
      ],
      "text/plain": [
       "<Result '.\\\\template.xml'>"
      ]
     },
     "execution_count": 21,
     "metadata": {},
     "output_type": "execute_result"
    }
   ],
   "source": [
    "# create template from MM network\n",
    "arcpy.na.CreateTemplateFromNetworkDataset(\n",
    "    os.path.join(source_mm_network_dataset, \"NetworkDataset_ND\"),\n",
    "    os.path.join(base_path, \"template.xml\")\n",
    ")"
   ]
  },
  {
   "cell_type": "code",
   "execution_count": 22,
   "metadata": {
    "scrolled": true
   },
   "outputs": [
    {
     "data": {
      "text/html": [
       "<h2>Output</h2>.\\nd.gdb\\NetworkDataset\\NetworkDataset_ND<h2>Messages</h2>Start Time: Friday, October 8, 2021 11:56:00 AM<br/>Succeeded at Friday, October 8, 2021 11:56:03 AM (Elapsed Time: 3.32 seconds)<br/><style>.rendered_html td, .rendered_html th {text-align: left;}.rendered_html tbody {border: 1px solid black;}</style>"
      ],
      "text/plain": [
       "<Result '.\\\\nd.gdb\\\\NetworkDataset\\\\NetworkDataset_ND'>"
      ]
     },
     "execution_count": 22,
     "metadata": {},
     "output_type": "execute_result"
    }
   ],
   "source": [
    "# create network dataset from template\n",
    "arcpy.na.CreateNetworkDatasetFromTemplate(\n",
    "    os.path.join(base_path, \"template.xml\"),                           \n",
    "    os.path.join(base_gdb, \"NetworkDataset\")\n",
    ")"
   ]
  },
  {
   "cell_type": "code",
   "execution_count": 1,
   "metadata": {},
   "outputs": [
    {
     "ename": "NameError",
     "evalue": "name 'os' is not defined",
     "output_type": "error",
     "traceback": [
      "\u001b[0;31m---------------------------------------------------------------------------\u001b[0m\n\u001b[0;31mNameError\u001b[0m                                 Traceback (most recent call last)",
      "In  \u001b[0;34m[1]\u001b[0m:\nLine \u001b[0;34m2\u001b[0m:     arcpy.na.BuildNetwork(os.path.join(base_gdb, \u001b[33mr\u001b[39;49;00m\u001b[33m\"\u001b[39;49;00m\u001b[33mNetworkDataset\u001b[39;49;00m\u001b[33m\\\u001b[39;49;00m\u001b[33mNetworkDataset_ND\u001b[39;49;00m\u001b[33m\"\u001b[39;49;00m))\n",
      "\u001b[0;31mNameError\u001b[0m: name 'os' is not defined\n\u001b[0;31m---------------------------------------------------------------------------\u001b[0m"
     ]
    }
   ],
   "source": [
    "# finally, build the dataset\n",
    "arcpy.na.BuildNetwork(os.path.join(base_gdb, r\"NetworkDataset\\NetworkDataset_ND\"))"
   ]
  },
  {
   "cell_type": "code",
   "execution_count": null,
   "metadata": {},
   "outputs": [],
   "source": [
    "# now open arcgis pro and define a \"driving\" mode"
   ]
  }
 ],
 "metadata": {
  "kernelspec": {
   "display_name": "Python 3",
   "language": "python",
   "name": "python3"
  },
  "language_info": {
   "codemirror_mode": {
    "name": "ipython",
    "version": 3
   },
   "file_extension": ".py",
   "mimetype": "text/x-python",
   "name": "python",
   "nbconvert_exporter": "python",
   "pygments_lexer": "ipython3",
   "version": "3.7.10"
  }
 },
 "nbformat": 4,
 "nbformat_minor": 2
}
