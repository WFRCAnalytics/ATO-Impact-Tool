{
 "cells": [
  {
   "cell_type": "markdown",
   "metadata": {},
   "source": [
    "# Data Preparation and Setup\n",
    "\n",
    "The cells below prepare the TAZ and Network Dataset datasets used for all ATO calculations. \n",
    "\n",
    "Before you get started:\n",
    "\n",
    "1. Download [Wasatch Front TAZs in File Geodatabase format from WFRC](https://wfrc.maps.arcgis.com/home/item.html?id=d485928e777740c7963a5b68a37db116). Extract to `taz.gdb` and place in the `shp` folder\n",
    "4. Update the files and fields in the cell below"
   ]
  },
  {
   "cell_type": "code",
   "execution_count": 11,
   "metadata": {
    "ExecuteTime": {
     "end_time": "2021-12-20T18:30:10.280759Z",
     "start_time": "2021-12-20T18:30:10.279804Z"
    }
   },
   "outputs": [],
   "source": [
    "# source files and fields - update this before running!\n",
    "source_taz = r'shp\\taz.gdb\\ATO'\n",
    "hh_source_field = 'HH_19' # field containing TAZ household count\n",
    "job_source_field = 'JOB_19' # field containing TAZ job count\n",
    "tazid_source_field = 'CO_TAZID'"
   ]
  },
  {
   "cell_type": "code",
   "execution_count": 12,
   "metadata": {},
   "outputs": [],
   "source": [
    "# delete this later\n",
    "if 'ato_tools' in sys.modules:\n",
    "    import importlib\n",
    "    importlib.reload(ato)"
   ]
  },
  {
   "cell_type": "code",
   "execution_count": 13,
   "metadata": {
    "ExecuteTime": {
     "end_time": "2021-12-20T18:30:13.400771Z",
     "start_time": "2021-12-20T18:30:13.388529Z"
    }
   },
   "outputs": [],
   "source": [
    "import sys\n",
    "import os\n",
    "import arcpy\n",
    "import shutil\n",
    "\n",
    "import pandas as pd\n",
    "\n",
    "src = os.path.join(os.path.abspath(\".\"), 'src')\n",
    "if src not in sys.path:\n",
    "    sys.path.append(src)\n",
    "    \n",
    "from ato_tools import ato\n",
    "\n",
    "crs = arcpy.SpatialReference(26912)\n",
    "\n",
    "# Set the XYResolution environment to a linear unit\n",
    "arcpy.env.XYResolution = \"0.01 Meters\"\n",
    "arcpy.env.XYTolerance = \"0.1 Meters\"\n",
    "\n",
    "base_path = os.path.abspath(\".\")\n",
    "\n",
    "base_gdb = os.path.join(base_path, \"baseline.gdb\")"
   ]
  },
  {
   "cell_type": "markdown",
   "metadata": {},
   "source": [
    "## TAZ Setup\n",
    "\n",
    "Configure the TAZ table and centroid locations."
   ]
  },
  {
   "cell_type": "code",
   "execution_count": 14,
   "metadata": {
    "scrolled": true
   },
   "outputs": [],
   "source": [
    "# Copy TAZ Polygons to Baseline - keeping only CO_TAZID Field\n",
    "arcpy.conversion.FeatureClassToFeatureClass(\n",
    "    source_taz, \n",
    "    base_gdb, \n",
    "    \"taz\", \n",
    "    '', \n",
    "    r'taz_id \"taz_id\" true true false 4 Long 0 0,First,#,shp\\taz.gdb\\ATO,CO_TAZID,-1,-1'\n",
    ")\n",
    "\n",
    "taz_fc = os.path.join(base_gdb, \"taz\")"
   ]
  },
  {
   "cell_type": "code",
   "execution_count": 15,
   "metadata": {},
   "outputs": [
    {
     "data": {
      "text/html": [
       "<div class='gpresult'><h2 class='msg-title'>Messages</h2><div id='messages'>Start Time: Tuesday, February 4, 2025 4:43:36 PM<br>Succeeded at Tuesday, February 4, 2025 4:43:39 PM (Elapsed Time: 2.73 seconds)<br></div><div id = 'default' /></div></div>"
      ],
      "text/plain": [
       "<Result 'E:\\\\Projects\\\\ATO-Impact-Tool\\\\baseline.gdb\\\\taz'>"
      ]
     },
     "execution_count": 15,
     "metadata": {},
     "output_type": "execute_result"
    }
   ],
   "source": [
    "# calculate area\n",
    "arcpy.management.CalculateGeometryAttributes(\n",
    "    taz_fc, \"square_meters_taz AREA\", '', \"SQUARE_METERS\"\n",
    ")"
   ]
  },
  {
   "cell_type": "raw",
   "metadata": {},
   "source": [
    "# convert field names to lower case\n",
    "for field in arcpy.ListFields(taz_fc):\n",
    "    fclc_name = field.name.lower()\n",
    "    if fclc_name in ['objectid', 'shape', 'shape_length', 'shape_area']:\n",
    "        continue\n",
    "    arcpy.management.AlterField(taz_fc, field.name, 'TEMPNAME')\n",
    "    arcpy.management.AlterField(taz_fc, 'TEMPNAME', fclc_name)"
   ]
  },
  {
   "cell_type": "code",
   "execution_count": 16,
   "metadata": {},
   "outputs": [
    {
     "data": {
      "text/plain": [
       "'E:\\\\Projects\\\\ATO-Impact-Tool\\\\baseline.gdb\\\\taz_table'"
      ]
     },
     "execution_count": 16,
     "metadata": {},
     "output_type": "execute_result"
    }
   ],
   "source": [
    "# copy table of taz_id, hh, and job to baseline gdb\n",
    "taz_table = pd.DataFrame.spatial.from_featureclass(source_taz)\n",
    "taz_table['hh'] = taz_table[hh_source_field]\n",
    "taz_table['job'] = taz_table[job_source_field]\n",
    "taz_table['taz_id'] = taz_table[tazid_source_field]\n",
    "taz_table.drop(columns=taz_table.columns.difference(['taz_id', 'hh', 'job']), inplace=True)\n",
    "taz_table.spatial.to_table(os.path.join(base_gdb, \"taz_table\"))"
   ]
  },
  {
   "cell_type": "code",
   "execution_count": 17,
   "metadata": {
    "scrolled": true
   },
   "outputs": [
    {
     "data": {
      "text/html": [
       "<div class='gpresult'><h2 class='msg-title'>Messages</h2><div id='messages'>Start Time: Tuesday, February 4, 2025 4:43:55 PM<br>Succeeded at Tuesday, February 4, 2025 4:43:58 PM (Elapsed Time: 2.91 seconds)<br></div><div id = 'default' /></div></div>"
      ],
      "text/plain": [
       "<Result 'E:\\\\Projects\\\\ATO-Impact-Tool\\\\baseline.gdb\\\\taz'>"
      ]
     },
     "execution_count": 17,
     "metadata": {},
     "output_type": "execute_result"
    }
   ],
   "source": [
    "# calculate TAZ centroids\n",
    "# (the arcpy \"Feature to Point\" tool makes this easier but requires an advanced license)\n",
    "    \n",
    "arcpy.management.CalculateGeometryAttributes(\n",
    "    os.path.join(base_gdb, \"taz\"), \n",
    "    \"x CENTROID_X;y CENTROID_Y\", \n",
    "    '', '', crs, \"SAME_AS_INPUT\"\n",
    ")\n",
    "\n",
    "arcpy.management.XYTableToPoint(\n",
    "    os.path.join(base_gdb, \"taz\"), \n",
    "    os.path.join(base_gdb, \"taz_centroids\"), \n",
    "    'x', 'y', None, crs\n",
    ")\n",
    "\n",
    "arcpy.management.MakeFeatureLayer(\n",
    "    os.path.join(base_gdb, \"taz_centroids\"), \n",
    "    \"taz_centroids\"\n",
    ")\n",
    "\n",
    "arcpy.management.DeleteField(os.path.join(base_gdb, \"taz\"), ['x','y'])"
   ]
  },
  {
   "cell_type": "markdown",
   "metadata": {},
   "source": [
    "Note, snapping TAZ centroids to the network can introduce some unintended variation in ATO between TAZs if the centroid snaps to a location only accessible via a circuitous route, to a roadway outside of the TAZ boundaries, etc. Also note, centroids are snapped to auto network. Additional snapping happens within the network solver configuration for transit and bicycle routes. None of this should materially affect the estimated change in ATO for a given project."
   ]
  },
  {
   "cell_type": "code",
   "execution_count": 18,
   "metadata": {},
   "outputs": [
    {
     "data": {
      "text/html": [
       "<div class='gpresult'><h2 class='msg-title'>Messages</h2><div id='messages'>Start Time: Tuesday, February 4, 2025 4:44:00 PM<br>Succeeded at Tuesday, February 4, 2025 4:44:21 PM (Elapsed Time: 20.55 seconds)<br></div><div id = 'default' /></div></div>"
      ],
      "text/plain": [
       "<Result 'taz_centroids'>"
      ]
     },
     "execution_count": 18,
     "metadata": {},
     "output_type": "execute_result"
    }
   ],
   "source": [
    "# snap taz centroids to network\n",
    "# reqires ArcGIS Standard or Advanced\n",
    "# this step can be skipped but is recommended\n",
    "arcpy.management.MakeFeatureLayer(\n",
    "    os.path.join(base_gdb, r\"NetworkDataset\\BikePedAuto\"), \n",
    "    \"bpa_snap\"\n",
    ")\n",
    "arcpy.management.SelectLayerByAttribute(\n",
    "      \"bpa_snap\", \"NEW_SELECTION\", \"AutoNetwork = 'Y' And VERT_LEVEL = '0' And CartoCode NOT IN ('1 Interstates')\"\n",
    ")\n",
    "arcpy.edit.Snap(\"taz_centroids\", \"bpa_snap End '10000 Feet'\")"
   ]
  },
  {
   "cell_type": "code",
   "execution_count": 19,
   "metadata": {},
   "outputs": [
    {
     "data": {
      "text/html": [
       "<div class='gpresult'><h2 class='msg-title'>Messages</h2><div id='messages'>Start Time: Tuesday, February 4, 2025 4:44:22 PM<br>Succeeded at Tuesday, February 4, 2025 4:44:22 PM (Elapsed Time: 0.10 seconds)<br></div><div id = 'default' /></div></div>"
      ],
      "text/plain": [
       "<Result 'taz_centroids'>"
      ]
     },
     "execution_count": 19,
     "metadata": {},
     "output_type": "execute_result"
    }
   ],
   "source": [
    "# Finally, create a testing layer with 25 randomly selected centroids\n",
    "import random\n",
    "arcpy.management.SelectLayerByAttribute('taz_centroids', \"CLEAR_SELECTION\")\n",
    "\n",
    "feature_count = int(arcpy.management.GetCount('taz_centroids').getOutput(0))\n",
    "rnd_set = set([]) \n",
    "while len(rnd_set) < 25: \n",
    "    rnd_set.add(random.randint(0, feature_count-1))\n",
    "where = 'OBJECTID in ({0})'.format(','.join(map(str,rnd_set)))\n",
    "arcpy.management.SelectLayerByAttribute('taz_centroids', \"NEW_SELECTION\", where)\n",
    "\n",
    "arcpy.conversion.FeatureClassToFeatureClass(\n",
    "    'taz_centroids', \n",
    "    base_gdb, \n",
    "    \"taz_centroids_sample\"\n",
    ")\n",
    "\n",
    "arcpy.management.SelectLayerByAttribute('taz_centroids', \"CLEAR_SELECTION\")"
   ]
  },
  {
   "cell_type": "markdown",
   "metadata": {},
   "source": [
    "## Baseline Scoring\n",
    "\n",
    "Calculate ATO for our baseline modal networks.\n",
    "\n",
    "Finally, we create a copy of the baseline network dataset to use as a template for scenario networks.\n",
    "\n",
    "Note, typical solve times:\n",
    "\n",
    "* Driving: 20 minutes\n",
    "* Transit: 4 - 5 minutes\n",
    "* Cycling: 4 - 5 minutes\n",
    "\n",
    "If solve times deviate signficantly or if the cell below produces a ValueError, rebuild the network dataset using `ato.build(os.path.join(base_gdb, r'NetworkDataset\\NetworkDataset_ND'))` and re-solving. (This is related to the Network Analyst attribute mismatch issue.)"
   ]
  },
  {
   "cell_type": "code",
   "execution_count": 20,
   "metadata": {
    "ExecuteTime": {
     "end_time": "2021-11-23T03:45:47.365531Z",
     "start_time": "2021-11-23T03:45:15.960505Z"
    },
    "scrolled": true
   },
   "outputs": [
    {
     "name": "stdout",
     "output_type": "stream",
     "text": [
      "Solving skim using Driving network for E:\\Projects\\ATO-Impact-Tool\\baseline.gdb\\NetworkDataset\\NetworkDataset_ND .\n",
      "Network validation: FAIL\n"
     ]
    },
    {
     "ename": "<class 'KeyError'>",
     "evalue": "'total_time'",
     "output_type": "error",
     "traceback": [
      "\u001b[1;31m---------------------------------------------------------------------------\u001b[0m",
      "\u001b[1;31mKeyError\u001b[0m                                  Traceback (most recent call last)",
      "File \u001b[1;32mC:\\Program Files\\ArcGIS\\Pro\\bin\\Python\\envs\\arcgispro-py3\\Lib\\site-packages\\pandas\\core\\indexes\\base.py:3652\u001b[0m, in \u001b[0;36mIndex.get_loc\u001b[1;34m(self, key)\u001b[0m\n\u001b[0;32m   3651\u001b[0m \u001b[38;5;28;01mtry\u001b[39;00m:\n\u001b[1;32m-> 3652\u001b[0m     \u001b[38;5;28;01mreturn\u001b[39;00m \u001b[38;5;28mself\u001b[39m\u001b[38;5;241m.\u001b[39m_engine\u001b[38;5;241m.\u001b[39mget_loc(casted_key)\n\u001b[0;32m   3653\u001b[0m \u001b[38;5;28;01mexcept\u001b[39;00m \u001b[38;5;167;01mKeyError\u001b[39;00m \u001b[38;5;28;01mas\u001b[39;00m err:\n",
      "File \u001b[1;32mC:\\Program Files\\ArcGIS\\Pro\\bin\\Python\\envs\\arcgispro-py3\\Lib\\site-packages\\pandas\\_libs\\index.pyx:147\u001b[0m, in \u001b[0;36mpandas._libs.index.IndexEngine.get_loc\u001b[1;34m()\u001b[0m\n",
      "File \u001b[1;32mC:\\Program Files\\ArcGIS\\Pro\\bin\\Python\\envs\\arcgispro-py3\\Lib\\site-packages\\pandas\\_libs\\index.pyx:176\u001b[0m, in \u001b[0;36mpandas._libs.index.IndexEngine.get_loc\u001b[1;34m()\u001b[0m\n",
      "File \u001b[1;32mpandas\\_libs\\hashtable_class_helper.pxi:7080\u001b[0m, in \u001b[0;36mpandas._libs.hashtable.PyObjectHashTable.get_item\u001b[1;34m()\u001b[0m\n",
      "File \u001b[1;32mpandas\\_libs\\hashtable_class_helper.pxi:7088\u001b[0m, in \u001b[0;36mpandas._libs.hashtable.PyObjectHashTable.get_item\u001b[1;34m()\u001b[0m\n",
      "\u001b[1;31mKeyError\u001b[0m: 'total_time'",
      "\nThe above exception was the direct cause of the following exception:\n",
      "\u001b[1;31mKeyError\u001b[0m                                  Traceback (most recent call last)",
      "Cell \u001b[1;32mIn[20], line 2\u001b[0m\n\u001b[0;32m      1\u001b[0m \u001b[38;5;28;01mfor\u001b[39;00m mode \u001b[38;5;129;01min\u001b[39;00m [\u001b[38;5;124m'\u001b[39m\u001b[38;5;124mDriving\u001b[39m\u001b[38;5;124m'\u001b[39m, \u001b[38;5;124m'\u001b[39m\u001b[38;5;124mTransit\u001b[39m\u001b[38;5;124m'\u001b[39m, \u001b[38;5;124m'\u001b[39m\u001b[38;5;124mCycling\u001b[39m\u001b[38;5;124m'\u001b[39m]:\n\u001b[1;32m----> 2\u001b[0m     ato\u001b[38;5;241m.\u001b[39mskim(\n\u001b[0;32m      3\u001b[0m         nd \u001b[38;5;241m=\u001b[39m os\u001b[38;5;241m.\u001b[39mpath\u001b[38;5;241m.\u001b[39mjoin(base_gdb, \u001b[38;5;124mr\u001b[39m\u001b[38;5;124m'\u001b[39m\u001b[38;5;124mNetworkDataset\u001b[39m\u001b[38;5;124m\\\u001b[39m\u001b[38;5;124mNetworkDataset_ND\u001b[39m\u001b[38;5;124m'\u001b[39m),\n\u001b[0;32m      4\u001b[0m         mode \u001b[38;5;241m=\u001b[39m mode,\n\u001b[0;32m      5\u001b[0m         centroids \u001b[38;5;241m=\u001b[39m os\u001b[38;5;241m.\u001b[39mpath\u001b[38;5;241m.\u001b[39mjoin(base_gdb, \u001b[38;5;124m'\u001b[39m\u001b[38;5;124mtaz_centroids\u001b[39m\u001b[38;5;124m'\u001b[39m),\n\u001b[0;32m      6\u001b[0m         out_table \u001b[38;5;241m=\u001b[39m os\u001b[38;5;241m.\u001b[39mpath\u001b[38;5;241m.\u001b[39mjoin(base_gdb, \u001b[38;5;124m'\u001b[39m\u001b[38;5;124mskim_\u001b[39m\u001b[38;5;124m'\u001b[39m \u001b[38;5;241m+\u001b[39m mode\u001b[38;5;241m.\u001b[39mlower())\n\u001b[0;32m      7\u001b[0m     )\n",
      "File \u001b[1;32mE:\\Projects\\ATO-Impact-Tool\\src\\ato_tools\\ato.py:213\u001b[0m, in \u001b[0;36mskim\u001b[1;34m(nd, mode, centroids, out_table)\u001b[0m\n\u001b[0;32m    211\u001b[0m \u001b[38;5;28;01mif\u001b[39;00m od[\u001b[38;5;124m'\u001b[39m\u001b[38;5;124mTotal_Time\u001b[39m\u001b[38;5;124m'\u001b[39m]\u001b[38;5;241m.\u001b[39mmean() \u001b[38;5;241m<\u001b[39m \u001b[38;5;241m1\u001b[39m:\n\u001b[0;32m    212\u001b[0m     \u001b[38;5;28mprint\u001b[39m(\u001b[38;5;124m\"\u001b[39m\u001b[38;5;124mNetwork validation: FAIL\u001b[39m\u001b[38;5;124m\"\u001b[39m)\n\u001b[1;32m--> 213\u001b[0m     \u001b[38;5;28mprint\u001b[39m(\u001b[38;5;124m\"\u001b[39m\u001b[38;5;124mTravel Times: \u001b[39m\u001b[38;5;124m\"\u001b[39m, od[\u001b[38;5;124m'\u001b[39m\u001b[38;5;124mtotal_time\u001b[39m\u001b[38;5;124m'\u001b[39m]\u001b[38;5;241m.\u001b[39mhead())\n\u001b[0;32m    214\u001b[0m     \u001b[38;5;28;01mraise\u001b[39;00m \u001b[38;5;167;01mValueError\u001b[39;00m(\u001b[38;5;124m'\u001b[39m\u001b[38;5;124mNetwork Travel Times are Zero - Invalid Network\u001b[39m\u001b[38;5;124m'\u001b[39m)\n\u001b[0;32m    216\u001b[0m \u001b[38;5;66;03m# save table to input GDB\u001b[39;00m\n",
      "File \u001b[1;32mC:\\Program Files\\ArcGIS\\Pro\\bin\\Python\\envs\\arcgispro-py3\\Lib\\site-packages\\pandas\\core\\frame.py:3761\u001b[0m, in \u001b[0;36mDataFrame.__getitem__\u001b[1;34m(self, key)\u001b[0m\n\u001b[0;32m   3759\u001b[0m \u001b[38;5;28;01mif\u001b[39;00m \u001b[38;5;28mself\u001b[39m\u001b[38;5;241m.\u001b[39mcolumns\u001b[38;5;241m.\u001b[39mnlevels \u001b[38;5;241m>\u001b[39m \u001b[38;5;241m1\u001b[39m:\n\u001b[0;32m   3760\u001b[0m     \u001b[38;5;28;01mreturn\u001b[39;00m \u001b[38;5;28mself\u001b[39m\u001b[38;5;241m.\u001b[39m_getitem_multilevel(key)\n\u001b[1;32m-> 3761\u001b[0m indexer \u001b[38;5;241m=\u001b[39m \u001b[38;5;28mself\u001b[39m\u001b[38;5;241m.\u001b[39mcolumns\u001b[38;5;241m.\u001b[39mget_loc(key)\n\u001b[0;32m   3762\u001b[0m \u001b[38;5;28;01mif\u001b[39;00m is_integer(indexer):\n\u001b[0;32m   3763\u001b[0m     indexer \u001b[38;5;241m=\u001b[39m [indexer]\n",
      "File \u001b[1;32mC:\\Program Files\\ArcGIS\\Pro\\bin\\Python\\envs\\arcgispro-py3\\Lib\\site-packages\\pandas\\core\\indexes\\base.py:3654\u001b[0m, in \u001b[0;36mIndex.get_loc\u001b[1;34m(self, key)\u001b[0m\n\u001b[0;32m   3652\u001b[0m     \u001b[38;5;28;01mreturn\u001b[39;00m \u001b[38;5;28mself\u001b[39m\u001b[38;5;241m.\u001b[39m_engine\u001b[38;5;241m.\u001b[39mget_loc(casted_key)\n\u001b[0;32m   3653\u001b[0m \u001b[38;5;28;01mexcept\u001b[39;00m \u001b[38;5;167;01mKeyError\u001b[39;00m \u001b[38;5;28;01mas\u001b[39;00m err:\n\u001b[1;32m-> 3654\u001b[0m     \u001b[38;5;28;01mraise\u001b[39;00m \u001b[38;5;167;01mKeyError\u001b[39;00m(key) \u001b[38;5;28;01mfrom\u001b[39;00m \u001b[38;5;21;01merr\u001b[39;00m\n\u001b[0;32m   3655\u001b[0m \u001b[38;5;28;01mexcept\u001b[39;00m \u001b[38;5;167;01mTypeError\u001b[39;00m:\n\u001b[0;32m   3656\u001b[0m     \u001b[38;5;66;03m# If we have a listlike key, _check_indexing_error will raise\u001b[39;00m\n\u001b[0;32m   3657\u001b[0m     \u001b[38;5;66;03m#  InvalidIndexError. Otherwise we fall through and re-raise\u001b[39;00m\n\u001b[0;32m   3658\u001b[0m     \u001b[38;5;66;03m#  the TypeError.\u001b[39;00m\n\u001b[0;32m   3659\u001b[0m     \u001b[38;5;28mself\u001b[39m\u001b[38;5;241m.\u001b[39m_check_indexing_error(key)\n",
      "\u001b[1;31mKeyError\u001b[0m: 'total_time'"
     ]
    }
   ],
   "source": [
    "for mode in ['Driving', 'Transit', 'Cycling']:\n",
    "    ato.skim(\n",
    "        nd = os.path.join(base_gdb, r'NetworkDataset\\NetworkDataset_ND'),\n",
    "        mode = mode,\n",
    "        centroids = os.path.join(base_gdb, 'taz_centroids'),\n",
    "        out_table = os.path.join(base_gdb, 'skim_' + mode.lower())\n",
    "    )"
   ]
  },
  {
   "cell_type": "code",
   "execution_count": null,
   "metadata": {
    "scrolled": true
   },
   "outputs": [],
   "source": [
    "for mode in ['driving', 'transit', 'cycling']:\n",
    "    ato.score(\n",
    "        skim_matrix = os.path.join(base_gdb, 'skim_' + mode),\n",
    "        taz_table = os.path.join(base_gdb, 'taz_table'),\n",
    "        out_table = os.path.join(base_gdb, 'ato_' + mode)\n",
    "    )"
   ]
  },
  {
   "cell_type": "code",
   "execution_count": null,
   "metadata": {
    "ExecuteTime": {
     "end_time": "2021-11-23T03:11:18.794176Z",
     "start_time": "2021-11-23T03:10:29.604460Z"
    }
   },
   "outputs": [],
   "source": [
    "# Create \"template\" to use for mods\n",
    "# Note: if this fails, try starting ArcGIS Pro.\n",
    "\n",
    "if os.path.isdir(r\"scenario\\scenario_template.gdb\"):\n",
    "    shutil.rmtree(r\"scenario\\scenario_template.gdb\")\n",
    "\n",
    "arcpy.management.CreateFileGDB(\"scenario\", \"scenario_template\")\n",
    "\n",
    "# Copy our baseline network dataset to our dataset for modification\n",
    "arcpy.management.Copy(\n",
    "    r\"baseline.gdb\\NetworkDataset\", \n",
    "    r\"scenario\\scenario_template.gdb\\NetworkDataset\"\n",
    ")\n",
    "\n",
    "arcpy.management.Copy(\n",
    "    r\"baseline.gdb\\taz_table\", \n",
    "    r\"scenario\\scenario_template.gdb\\taz_table\"\n",
    ")\n",
    "\n",
    "# delete existing network\n",
    "arcpy.management.Delete(r\"scenario\\scenario_template.gdb\\NetworkDataset\\NetworkDataset_ND\")\n",
    "\n",
    "# if open in ArcGIS Pro, remove all layers\n",
    "try:\n",
    "    aprx = arcpy.mp.ArcGISProject(\"CURRENT\")\n",
    "    mp = aprx.listMaps(\"Map\")[0]\n",
    "    for rmlyr in mp.listLayers():    \n",
    "        if rmlyr.name not in ['World Topographic Map', 'World Hillshade']:        \n",
    "            mp.removeLayer(rmlyr)\n",
    "except OSError:\n",
    "    pass"
   ]
  },
  {
   "cell_type": "code",
   "execution_count": null,
   "metadata": {},
   "outputs": [],
   "source": []
  }
 ],
 "metadata": {
  "kernelspec": {
   "display_name": "ArcGISPro",
   "language": "python",
   "name": "python3"
  },
  "language_info": {
   "file_extension": ".py",
   "mimetype": "text/x-python",
   "name": "python",
   "version": "3.11.10"
  }
 },
 "nbformat": 4,
 "nbformat_minor": 4
}
